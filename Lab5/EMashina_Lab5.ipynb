{
  "nbformat": 4,
  "nbformat_minor": 0,
  "metadata": {
    "kernelspec": {
      "display_name": "Python 3",
      "language": "python",
      "name": "python3"
    },
    "language_info": {
      "codemirror_mode": {
        "name": "ipython",
        "version": 3
      },
      "file_extension": ".py",
      "mimetype": "text/x-python",
      "name": "python",
      "nbconvert_exporter": "python",
      "pygments_lexer": "ipython3",
      "version": "3.7.3"
    },
    "colab": {
      "name": "Task5 (2).ipynb",
      "provenance": []
    }
  },
  "cells": [
    {
      "cell_type": "code",
      "metadata": {
        "id": "sD-SVQA6EPn1"
      },
      "source": [
        "!pip install --upgrade pip\n",
        "!pip install --upgrade scikit-learn==0.23.0"
      ],
      "execution_count": null,
      "outputs": []
    },
    {
      "cell_type": "code",
      "metadata": {
        "id": "zEEz7ElGEPn5"
      },
      "source": [
        "import numpy as np\n",
        "import matplotlib\n",
        "import matplotlib.pyplot as plt\n",
        "%matplotlib inline\n",
        "from sklearn.metrics import classification_report"
      ],
      "execution_count": 2,
      "outputs": []
    },
    {
      "cell_type": "markdown",
      "metadata": {
        "id": "cETMCHzNEPn5"
      },
      "source": [
        "MNIST - датасет образцов рукописного написания цифр, является стандартом, предложенным Национальным институтом стандартов и технологий США с целью калибрации и сопоставления методов распознавания изображений с помощью машинного обучения. Образцы из набора NIST были нормализированы, прошли сглаживание и приведены к серому полутоновому изображению размером 28x28 пикселей. "
      ]
    },
    {
      "cell_type": "code",
      "metadata": {
        "id": "ht1q0kKzEPn5",
        "colab": {
          "base_uri": "https://localhost:8080/"
        },
        "outputId": "65717cac-3368-4f6b-8bff-67660d7411e0"
      },
      "source": [
        "from keras.datasets import mnist\n",
        "(X_train, y_train), (X_pred, y_pred) = mnist.load_data()"
      ],
      "execution_count": 3,
      "outputs": [
        {
          "output_type": "stream",
          "text": [
            "Downloading data from https://storage.googleapis.com/tensorflow/tf-keras-datasets/mnist.npz\n",
            "11493376/11490434 [==============================] - 0s 0us/step\n"
          ],
          "name": "stdout"
        }
      ]
    },
    {
      "cell_type": "markdown",
      "metadata": {
        "id": "rbCVM_GSEPn5"
      },
      "source": [
        "Первый элемент"
      ]
    },
    {
      "cell_type": "code",
      "metadata": {
        "colab": {
          "base_uri": "https://localhost:8080/",
          "height": 298
        },
        "id": "yTI2vqZaEPn5",
        "outputId": "c2e97278-1169-4d8c-a4ed-81a8cbf3fd6a"
      },
      "source": [
        "plt.title(\"Нулевой объект из тренировочного набора:\")\n",
        "plt.imshow(X_train[0], cmap=\"gray\")"
      ],
      "execution_count": 4,
      "outputs": [
        {
          "output_type": "execute_result",
          "data": {
            "text/plain": [
              "<matplotlib.image.AxesImage at 0x7fcc3c676198>"
            ]
          },
          "metadata": {
            "tags": []
          },
          "execution_count": 4
        },
        {
          "output_type": "display_data",
          "data": {
            "image/png": "[encoded data removed]",
            "text/plain": [
              "<Figure size 432x288 with 1 Axes>"
            ]
          },
          "metadata": {
            "tags": [],
            "needs_background": "light"
          }
        }
      ]
    },
    {
      "cell_type": "markdown",
      "metadata": {
        "id": "vSdOHtozEPn5"
      },
      "source": [
        "И его отклик"
      ]
    },
    {
      "cell_type": "code",
      "metadata": {
        "colab": {
          "base_uri": "https://localhost:8080/"
        },
        "id": "GkzJveiMEPn5",
        "outputId": "88ef15fb-7e6f-405d-b15a-6073de1deed9"
      },
      "source": [
        "y_train[0]"
      ],
      "execution_count": 5,
      "outputs": [
        {
          "output_type": "execute_result",
          "data": {
            "text/plain": [
              "5"
            ]
          },
          "metadata": {
            "tags": []
          },
          "execution_count": 5
        }
      ]
    },
    {
      "cell_type": "markdown",
      "metadata": {
        "id": "gEN5l0tNEPn6"
      },
      "source": [
        "Для разделения данных используем функцию train_test_split из библиотеки sklearn. Следующий код разделяет исходные данные в отношении 70/30."
      ]
    },
    {
      "cell_type": "code",
      "metadata": {
        "id": "MgR5AHdsEPn6"
      },
      "source": [
        "from sklearn.model_selection import train_test_split\n",
        "\n",
        "X_train, X_test, y_train, y_test = train_test_split(X_train, y_train, test_size=0.3, random_state=2020)\n"
      ],
      "execution_count": 6,
      "outputs": []
    },
    {
      "cell_type": "markdown",
      "metadata": {
        "id": "41amEIiTEPn6"
      },
      "source": [
        "Преобразуем данные"
      ]
    },
    {
      "cell_type": "code",
      "metadata": {
        "id": "pKP3oO01EPn6"
      },
      "source": [
        "dim = 784 # 28*28 \n",
        "X_train = X_train.reshape(len(X_train), dim)\n",
        "X_test = X_test.reshape(len(X_test), dim)"
      ],
      "execution_count": 7,
      "outputs": []
    },
    {
      "cell_type": "markdown",
      "metadata": {
        "id": "xzFNaByuEPn6"
      },
      "source": [
        "Уменьшим размерность тестовых данных"
      ]
    },
    {
      "cell_type": "code",
      "metadata": {
        "id": "L5K6pDieEPn6"
      },
      "source": [
        "from sklearn.decomposition import PCA\n",
        "\n",
        "pca = PCA(n_components=46, svd_solver='full')\n",
        "modelPCA = pca.fit(X_train) \n",
        "\n",
        "X_train = modelPCA.transform(X_train)\n",
        "\n"
      ],
      "execution_count": 8,
      "outputs": []
    },
    {
      "cell_type": "markdown",
      "metadata": {
        "id": "7kHBt5bvEPn6"
      },
      "source": [
        "Найдем долю объясненной дисперсии в зависимости от количества используемых ГК"
      ]
    },
    {
      "cell_type": "code",
      "metadata": {
        "colab": {
          "base_uri": "https://localhost:8080/"
        },
        "id": "G8w1YmjbEPn6",
        "outputId": "f7fa9fbe-b5bd-481e-fe61-2e305c343c98"
      },
      "source": [
        "explained_variance = np.round(np.cumsum(pca.explained_variance_ratio_),3)\n",
        "explained_variance\n"
      ],
      "execution_count": 9,
      "outputs": [
        {
          "output_type": "execute_result",
          "data": {
            "text/plain": [
              "array([0.098, 0.168, 0.23 , 0.284, 0.333, 0.375, 0.408, 0.437, 0.464,\n",
              "       0.488, 0.509, 0.53 , 0.547, 0.564, 0.579, 0.594, 0.608, 0.62 ,\n",
              "       0.632, 0.644, 0.654, 0.664, 0.674, 0.683, 0.692, 0.7  , 0.708,\n",
              "       0.716, 0.724, 0.731, 0.737, 0.744, 0.75 , 0.756, 0.761, 0.767,\n",
              "       0.772, 0.777, 0.781, 0.786, 0.791, 0.795, 0.799, 0.803, 0.807,\n",
              "       0.811])"
            ]
          },
          "metadata": {
            "tags": []
          },
          "execution_count": 9
        }
      ]
    },
    {
      "cell_type": "code",
      "metadata": {
        "colab": {
          "base_uri": "https://localhost:8080/",
          "height": 282
        },
        "id": "ualPhEaoEPn6",
        "outputId": "365c62ae-b913-4c8a-e1e7-48e8f47fbe7b"
      },
      "source": [
        "plt.plot(np.arange(46), explained_variance, ls = '-')"
      ],
      "execution_count": 10,
      "outputs": [
        {
          "output_type": "execute_result",
          "data": {
            "text/plain": [
              "[<matplotlib.lines.Line2D at 0x7fcc37aeeb00>]"
            ]
          },
          "metadata": {
            "tags": []
          },
          "execution_count": 10
        },
        {
          "output_type": "display_data",
          "data": {
            "image/png": "[encoded data removed]",
            "text/plain": [
              "<Figure size 432x288 with 1 Axes>"
            ]
          },
          "metadata": {
            "tags": [],
            "needs_background": "light"
          }
        }
      ]
    },
    {
      "cell_type": "markdown",
      "metadata": {
        "id": "lQUMAx_yEPn6"
      },
      "source": [
        "Подключаем библиотеку для обучения многоклассового классификатора методом One-vs-All и дерево принятия решений"
      ]
    },
    {
      "cell_type": "code",
      "metadata": {
        "id": "moIvvnUyEPn6"
      },
      "source": [
        "from sklearn.multiclass import OneVsRestClassifier\n",
        "from sklearn.tree import DecisionTreeClassifier\n",
        "from sklearn.ensemble import RandomForestClassifier"
      ],
      "execution_count": 11,
      "outputs": []
    },
    {
      "cell_type": "code",
      "metadata": {
        "id": "XAKPQcuOEPn6"
      },
      "source": [
        "tree = RandomForestClassifier(criterion='gini', min_samples_leaf=10, max_depth=20, n_estimators=10, random_state=2020)\n",
        "clf = OneVsRestClassifier(tree).fit(X_train, y_train)"
      ],
      "execution_count": 12,
      "outputs": []
    },
    {
      "cell_type": "markdown",
      "metadata": {
        "id": "tWTPfLLREPn6"
      },
      "source": [
        "Примените полученное ранее преобразование метода главных компонент к тестовым данным"
      ]
    },
    {
      "cell_type": "code",
      "metadata": {
        "colab": {
          "base_uri": "https://localhost:8080/"
        },
        "id": "wN7sjtJIEPn6",
        "outputId": "819f75f3-fb93-4c46-934a-8738a5e62aad"
      },
      "source": [
        "len(X_test[0])"
      ],
      "execution_count": 13,
      "outputs": [
        {
          "output_type": "execute_result",
          "data": {
            "text/plain": [
              "784"
            ]
          },
          "metadata": {
            "tags": []
          },
          "execution_count": 13
        }
      ]
    },
    {
      "cell_type": "code",
      "metadata": {
        "id": "Hgz6YbXjEPn6"
      },
      "source": [
        "modelPCA = pca.fit(X_test) \n",
        "X_test = modelPCA.transform(X_test)"
      ],
      "execution_count": 14,
      "outputs": []
    },
    {
      "cell_type": "code",
      "metadata": {
        "id": "vE8sv_mZEPn6"
      },
      "source": [
        "y_pred = clf.predict(X_test)"
      ],
      "execution_count": 15,
      "outputs": []
    },
    {
      "cell_type": "code",
      "metadata": {
        "id": "dW-yLYaEEPn6"
      },
      "source": [
        "from sklearn.metrics import confusion_matrix\n",
        "CM = confusion_matrix(y_test, y_pred)"
      ],
      "execution_count": 16,
      "outputs": []
    },
    {
      "cell_type": "code",
      "metadata": {
        "colab": {
          "base_uri": "https://localhost:8080/"
        },
        "id": "gaQoLjiEEPn6",
        "outputId": "5112889a-b954-42b0-f5f6-86076094c4f5"
      },
      "source": [
        "CM"
      ],
      "execution_count": 17,
      "outputs": [
        {
          "output_type": "execute_result",
          "data": {
            "text/plain": [
              "array([[1376,    0,  100,   59,    2,   50,   42,   24,   37,    3],\n",
              "       [   0, 1836,   32,   10,    8,    8,   50,  121,    8,    2],\n",
              "       [  63,   11,  867,   77,   68,   81,  434,   11,  136,   15],\n",
              "       [  23,    6,   65, 1493,   17,  103,   10,   19,  106,   31],\n",
              "       [  13,   12,   87,    7, 1325,   17,   50,   39,   68,  138],\n",
              "       [  91,    9,  175,  213,   55,  699,   11,   38,  267,   33],\n",
              "       [  40,   24,  727,   29,   41,   32,  684,   23,  135,   31],\n",
              "       [  55,   57,   22,   18,   59,   34,  167, 1282,   32,  160],\n",
              "       [  46,   46,  134,  286,   64,  433,   43,   28,  589,  104],\n",
              "       [  21,   15,   39,   63,  349,   43,   34,  148,  214,  898]])"
            ]
          },
          "metadata": {
            "tags": []
          },
          "execution_count": 17
        }
      ]
    },
    {
      "cell_type": "markdown",
      "metadata": {
        "id": "HL9n88cpEPn6"
      },
      "source": [
        "Число верно классифицирвоанных объектов класс 0"
      ]
    },
    {
      "cell_type": "code",
      "metadata": {
        "colab": {
          "base_uri": "https://localhost:8080/"
        },
        "id": "AiqTvpIaEPn6",
        "outputId": "b2bc9f3d-2e8f-46b1-b87e-c53d25c8db3c"
      },
      "source": [
        "CM[0][0]"
      ],
      "execution_count": 18,
      "outputs": [
        {
          "output_type": "execute_result",
          "data": {
            "text/plain": [
              "1376"
            ]
          },
          "metadata": {
            "tags": []
          },
          "execution_count": 18
        }
      ]
    },
    {
      "cell_type": "markdown",
      "metadata": {
        "id": "JhP45aVxAOdp"
      },
      "source": [
        "Определение Accuracy, Precision, Recall и F1 для обученной модели"
      ]
    },
    {
      "cell_type": "code",
      "metadata": {
        "id": "1lCbncQPQ6uU"
      },
      "source": [
        "target_names = ['class 0', 'class 1','class 2','class 3','class 4','class 5','class 6','class 7','class 8','class 9']"
      ],
      "execution_count": 19,
      "outputs": []
    },
    {
      "cell_type": "code",
      "metadata": {
        "colab": {
          "base_uri": "https://localhost:8080/"
        },
        "id": "gVvIi3awQ67-",
        "outputId": "4d1bc732-2fe9-4534-8998-7d98989acd97"
      },
      "source": [
        "print(classification_report(y_test, y_pred, target_names=target_names))"
      ],
      "execution_count": 20,
      "outputs": [
        {
          "output_type": "stream",
          "text": [
            "              precision    recall  f1-score   support\n",
            "\n",
            "     class 0       0.80      0.81      0.80      1693\n",
            "     class 1       0.91      0.88      0.90      2075\n",
            "     class 2       0.39      0.49      0.43      1763\n",
            "     class 3       0.66      0.80      0.72      1873\n",
            "     class 4       0.67      0.75      0.71      1756\n",
            "     class 5       0.47      0.44      0.45      1591\n",
            "     class 6       0.45      0.39      0.42      1766\n",
            "     class 7       0.74      0.68      0.71      1886\n",
            "     class 8       0.37      0.33      0.35      1773\n",
            "     class 9       0.63      0.49      0.55      1824\n",
            "\n",
            "    accuracy                           0.61     18000\n",
            "   macro avg       0.61      0.61      0.60     18000\n",
            "weighted avg       0.62      0.61      0.61     18000\n",
            "\n"
          ],
          "name": "stdout"
        }
      ]
    },
    {
      "cell_type": "markdown",
      "metadata": {
        "id": "Rv9GMMxeEPn6"
      },
      "source": [
        "Вероятность отнесения 5 любых изображений из тестового набора к назначенному классу"
      ]
    },
    {
      "cell_type": "code",
      "metadata": {
        "colab": {
          "base_uri": "https://localhost:8080/"
        },
        "id": "BKJWu2JJEPn6",
        "outputId": "fee8fcc7-b5c6-4b35-c10f-cf7844be183e"
      },
      "source": [
        "print(clf.predict_proba(X_train) [1] [y_pred[1]])\n",
        "print(clf.predict_proba(X_train) [2] [y_pred[2]])\n",
        "print(clf.predict_proba(X_train) [3] [y_pred[4]])\n",
        "print(clf.predict_proba(X_train) [5] [y_pred[8]])\n",
        "print(clf.predict_proba(X_train) [8] [y_pred[16]])"
      ],
      "execution_count": 22,
      "outputs": [
        {
          "output_type": "stream",
          "text": [
            "0.005362299133610811\n",
            "0.0\n",
            "0.37295649732297886\n",
            "0.7424020787957045\n",
            "0.0850018506010037\n"
          ],
          "name": "stdout"
        }
      ]
    },
    {
      "cell_type": "markdown",
      "metadata": {
        "id": "o0py_yZyAkr6"
      },
      "source": [
        "Число объектов класса 2 отнесенных к классу 8"
      ]
    },
    {
      "cell_type": "code",
      "metadata": {
        "colab": {
          "base_uri": "https://localhost:8080/"
        },
        "id": "lE7g2U2iAxkG",
        "outputId": "13b8e6f5-a099-4803-eac9-f8cc1a39fb07"
      },
      "source": [
        "CM[2][8]"
      ],
      "execution_count": 23,
      "outputs": [
        {
          "output_type": "execute_result",
          "data": {
            "text/plain": [
              "136"
            ]
          },
          "metadata": {
            "tags": []
          },
          "execution_count": 23
        }
      ]
    }
  ]
}