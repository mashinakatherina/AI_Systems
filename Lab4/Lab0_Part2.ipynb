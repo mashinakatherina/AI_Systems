{
  "nbformat": 4,
  "nbformat_minor": 0,
  "metadata": {
    "kernelspec": {
      "display_name": "Python 3",
      "language": "python",
      "name": "python3"
    },
    "language_info": {
      "codemirror_mode": {
        "name": "ipython",
        "version": 3
      },
      "file_extension": ".py",
      "mimetype": "text/x-python",
      "name": "python",
      "nbconvert_exporter": "python",
      "pygments_lexer": "ipython3",
      "version": "3.7.0"
    },
    "colab": {
      "name": "Lab0_Part2.ipynb",
      "provenance": []
    },
    "widgets": {
      "application/vnd.jupyter.widget-state+json": {
        "6af086ec52eb43048d98c0cb39c5e361": {
          "model_module": "@jupyter-widgets/controls",
          "model_name": "VBoxModel",
          "state": {
            "_view_name": "VBoxView",
            "_dom_classes": [
              "widget-interact"
            ],
            "_model_name": "VBoxModel",
            "_view_module": "@jupyter-widgets/controls",
            "_model_module_version": "1.5.0",
            "_view_count": null,
            "_view_module_version": "1.5.0",
            "box_style": "",
            "layout": "IPY_MODEL_8b553c8c5d3d48e0ac9c21c3731119e8",
            "_model_module": "@jupyter-widgets/controls",
            "children": [
              "IPY_MODEL_a6ab05562d564b03a91966b1c21653d6",
              "IPY_MODEL_89fc76122c7b4439aeadf641f436a281",
              "IPY_MODEL_d809caade3a94ae5999661733ea3569d",
              "IPY_MODEL_d43597a9792d43f1a2b9da04dcda0049",
              "IPY_MODEL_d604fb68013441bebbadd4bc3ee6ed01",
              "IPY_MODEL_629f7ddf7d8d411687c7344825222bcc",
              "IPY_MODEL_d104699b3e82459193d7e91004b5d6e3",
              "IPY_MODEL_44347656e6bb4f6f8a429e8d67cc1a79",
              "IPY_MODEL_2dd535ad1c324edabf000737e79f5bc4",
              "IPY_MODEL_95f8058e28e34a0cbdaf6c2b6e947f16",
              "IPY_MODEL_debbb4b1fda24cba9bc852d2bfc0c6b5",
              "IPY_MODEL_71ca4742f8d743d89d707841db4d706f",
              "IPY_MODEL_f30e380edc8141d98dbc3450f4f1f916",
              "IPY_MODEL_ed8bff10a38a4b1ba958ea738780c095",
              "IPY_MODEL_68d3325edd1948b1b4848c713f01fbec"
            ]
          }
        },
        "8b553c8c5d3d48e0ac9c21c3731119e8": {
          "model_module": "@jupyter-widgets/base",
          "model_name": "LayoutModel",
          "state": {
            "_view_name": "LayoutView",
            "grid_template_rows": null,
            "right": null,
            "justify_content": null,
            "_view_module": "@jupyter-widgets/base",
            "overflow": null,
            "_model_module_version": "1.2.0",
            "_view_count": null,
            "flex_flow": null,
            "width": null,
            "min_width": null,
            "border": null,
            "align_items": null,
            "bottom": null,
            "_model_module": "@jupyter-widgets/base",
            "top": null,
            "grid_column": null,
            "overflow_y": null,
            "overflow_x": null,
            "grid_auto_flow": null,
            "grid_area": null,
            "grid_template_columns": null,
            "flex": null,
            "_model_name": "LayoutModel",
            "justify_items": null,
            "grid_row": null,
            "max_height": null,
            "align_content": null,
            "visibility": null,
            "align_self": null,
            "height": null,
            "min_height": null,
            "padding": null,
            "grid_auto_rows": null,
            "grid_gap": null,
            "max_width": null,
            "order": null,
            "_view_module_version": "1.2.0",
            "grid_template_areas": null,
            "object_position": null,
            "object_fit": null,
            "grid_auto_columns": null,
            "margin": null,
            "display": null,
            "left": null
          }
        },
        "a6ab05562d564b03a91966b1c21653d6": {
          "model_module": "@jupyter-widgets/controls",
          "model_name": "IntSliderModel",
          "state": {
            "_view_name": "IntSliderView",
            "style": "IPY_MODEL_0d7e2283cf4546be92fc801b81fe16da",
            "_dom_classes": [],
            "description": "Layers: ",
            "step": 1,
            "_model_name": "IntSliderModel",
            "orientation": "horizontal",
            "max": 4,
            "_view_module": "@jupyter-widgets/controls",
            "_model_module_version": "1.5.0",
            "value": 2,
            "_view_count": null,
            "disabled": false,
            "_view_module_version": "1.5.0",
            "min": 0,
            "continuous_update": true,
            "readout_format": "d",
            "description_tooltip": null,
            "readout": true,
            "_model_module": "@jupyter-widgets/controls",
            "layout": "IPY_MODEL_77600b51cd0a4274a3f5c623f94a4af5"
          }
        },
        "89fc76122c7b4439aeadf641f436a281": {
          "model_module": "@jupyter-widgets/controls",
          "model_name": "DropdownModel",
          "state": {
            "_options_labels": [
              "Standard deviation",
              "Mean absolute deviation",
              "Binary crossentropy",
              "Categorical crossentropy"
            ],
            "_view_name": "DropdownView",
            "style": "IPY_MODEL_968e6990d0af49e484e7cb642e6da1c1",
            "_dom_classes": [],
            "description": "Loss function: ",
            "_model_name": "DropdownModel",
            "index": 3,
            "_view_module": "@jupyter-widgets/controls",
            "_model_module_version": "1.5.0",
            "_view_count": null,
            "disabled": false,
            "_view_module_version": "1.5.0",
            "description_tooltip": null,
            "_model_module": "@jupyter-widgets/controls",
            "layout": "IPY_MODEL_cd2c481a6b394037b02666344c706007"
          }
        },
        "d809caade3a94ae5999661733ea3569d": {
          "model_module": "@jupyter-widgets/controls",
          "model_name": "BoundedIntTextModel",
          "state": {
            "_view_name": "IntTextView",
            "style": "IPY_MODEL_af87aadccdb4452c88a27be3a28e95c4",
            "_dom_classes": [],
            "description": "Batch size: ",
            "_model_name": "BoundedIntTextModel",
            "max": 60000,
            "_view_module": "@jupyter-widgets/controls",
            "_model_module_version": "1.5.0",
            "value": 100,
            "_view_count": null,
            "disabled": false,
            "_view_module_version": "1.5.0",
            "min": 0,
            "continuous_update": false,
            "step": 1,
            "description_tooltip": null,
            "_model_module": "@jupyter-widgets/controls",
            "layout": "IPY_MODEL_509dab2595bf4b76bb193e1783055fd6"
          }
        },
        "d43597a9792d43f1a2b9da04dcda0049": {
          "model_module": "@jupyter-widgets/controls",
          "model_name": "ToggleButtonsModel",
          "state": {
            "_options_labels": [
              "-0.1",
              "0",
              "0.001",
              "0.01",
              "0.05",
              "0.1",
              "0.5",
              "1",
              "5"
            ],
            "_view_name": "ToggleButtonsView",
            "style": "IPY_MODEL_3b186883583244e0917d6b622fd1c90f",
            "_dom_classes": [],
            "description": "Learn rate: ",
            "_model_name": "ToggleButtonsModel",
            "tooltips": [],
            "index": 3,
            "button_style": "",
            "_view_module": "@jupyter-widgets/controls",
            "_model_module_version": "1.5.0",
            "_view_count": null,
            "disabled": false,
            "_view_module_version": "1.5.0",
            "icons": [],
            "description_tooltip": null,
            "_model_module": "@jupyter-widgets/controls",
            "layout": "IPY_MODEL_bb0c154e83454e2b8bf1e4067b4bed8a"
          }
        },
        "d604fb68013441bebbadd4bc3ee6ed01": {
          "model_module": "@jupyter-widgets/controls",
          "model_name": "ToggleButtonsModel",
          "state": {
            "_options_labels": [
              "-0.1",
              "0",
              "0.0001",
              "0.0005",
              "0.001",
              "0.005",
              "0.01",
              "0.05",
              "0.1"
            ],
            "_view_name": "ToggleButtonsView",
            "style": "IPY_MODEL_8fe5626dbdc3409da67f0f06c9819d6b",
            "_dom_classes": [],
            "description": "Regularization  L1: ",
            "_model_name": "ToggleButtonsModel",
            "tooltips": [],
            "index": 2,
            "button_style": "",
            "_view_module": "@jupyter-widgets/controls",
            "_model_module_version": "1.5.0",
            "_view_count": null,
            "disabled": false,
            "_view_module_version": "1.5.0",
            "icons": [],
            "description_tooltip": null,
            "_model_module": "@jupyter-widgets/controls",
            "layout": "IPY_MODEL_d7d9a3618ded4ca091a8d86909eff864"
          }
        },
        "629f7ddf7d8d411687c7344825222bcc": {
          "model_module": "@jupyter-widgets/controls",
          "model_name": "ToggleButtonsModel",
          "state": {
            "_options_labels": [
              "-0.1",
              "0",
              "0.0001",
              "0.0005",
              "0.001",
              "0.005",
              "0.01",
              "0.05",
              "0.1"
            ],
            "_view_name": "ToggleButtonsView",
            "style": "IPY_MODEL_1ca9f30e67b942118b34a9dbb85665b7",
            "_dom_classes": [],
            "description": "Regularization  L2: ",
            "_model_name": "ToggleButtonsModel",
            "tooltips": [],
            "index": 2,
            "button_style": "",
            "_view_module": "@jupyter-widgets/controls",
            "_model_module_version": "1.5.0",
            "_view_count": null,
            "disabled": false,
            "_view_module_version": "1.5.0",
            "icons": [],
            "description_tooltip": null,
            "_model_module": "@jupyter-widgets/controls",
            "layout": "IPY_MODEL_5f8c341cb1a3486fb24c041a3968de61"
          }
        },
        "d104699b3e82459193d7e91004b5d6e3": {
          "model_module": "@jupyter-widgets/controls",
          "model_name": "DropdownModel",
          "state": {
            "_options_labels": [
              "softmax",
              "relu",
              "tanh",
              "sigmoid",
              "linear"
            ],
            "_view_name": "DropdownView",
            "style": "IPY_MODEL_a10177589e1c4367aa212d6e007c9fd4",
            "_dom_classes": [],
            "description": "Output layer activation type: ",
            "_model_name": "DropdownModel",
            "index": 3,
            "_view_module": "@jupyter-widgets/controls",
            "_model_module_version": "1.5.0",
            "_view_count": null,
            "disabled": false,
            "_view_module_version": "1.5.0",
            "description_tooltip": null,
            "_model_module": "@jupyter-widgets/controls",
            "layout": "IPY_MODEL_8801ea0c948f45c6acc4b6f8bfb36434"
          }
        },
        "44347656e6bb4f6f8a429e8d67cc1a79": {
          "model_module": "@jupyter-widgets/controls",
          "model_name": "IntSliderModel",
          "state": {
            "_view_name": "IntSliderView",
            "style": "IPY_MODEL_994c5cddb1754b6aa1c02dd3efc30a4f",
            "_dom_classes": [],
            "description": "Epoch count: ",
            "step": 10,
            "_model_name": "IntSliderModel",
            "orientation": "horizontal",
            "max": 100,
            "_view_module": "@jupyter-widgets/controls",
            "_model_module_version": "1.5.0",
            "value": 30,
            "_view_count": null,
            "disabled": false,
            "_view_module_version": "1.5.0",
            "min": 10,
            "continuous_update": true,
            "readout_format": "d",
            "description_tooltip": null,
            "readout": true,
            "_model_module": "@jupyter-widgets/controls",
            "layout": "IPY_MODEL_9873e4fb5fae464ca588b8846e54279c"
          }
        },
        "2dd535ad1c324edabf000737e79f5bc4": {
          "model_module": "@jupyter-widgets/controls",
          "model_name": "IntSliderModel",
          "state": {
            "_view_name": "IntSliderView",
            "style": "IPY_MODEL_d6de61dd792046599cb2e1baf0a189ac",
            "_dom_classes": [],
            "description": "Neurons per layer: ",
            "step": 1,
            "_model_name": "IntSliderModel",
            "orientation": "horizontal",
            "max": 20,
            "_view_module": "@jupyter-widgets/controls",
            "_model_module_version": "1.5.0",
            "value": 6,
            "_view_count": null,
            "disabled": false,
            "_view_module_version": "1.5.0",
            "min": 0,
            "continuous_update": true,
            "readout_format": "d",
            "description_tooltip": null,
            "readout": true,
            "_model_module": "@jupyter-widgets/controls",
            "layout": "IPY_MODEL_3c24ea4d9981468eb06e39dad2e7b489"
          }
        },
        "95f8058e28e34a0cbdaf6c2b6e947f16": {
          "model_module": "@jupyter-widgets/controls",
          "model_name": "DropdownModel",
          "state": {
            "_options_labels": [
              "softmax",
              "relu",
              "tanh",
              "sigmoid",
              "linear"
            ],
            "_view_name": "DropdownView",
            "style": "IPY_MODEL_710af11fc9ff4861803e625854c8d7e3",
            "_dom_classes": [],
            "description": "Layer 1 activation type: ",
            "_model_name": "DropdownModel",
            "index": 4,
            "_view_module": "@jupyter-widgets/controls",
            "_model_module_version": "1.5.0",
            "_view_count": null,
            "disabled": false,
            "_view_module_version": "1.5.0",
            "description_tooltip": null,
            "_model_module": "@jupyter-widgets/controls",
            "layout": "IPY_MODEL_4f8cfd48d63f4f8a88a58f0737039e7d"
          }
        },
        "debbb4b1fda24cba9bc852d2bfc0c6b5": {
          "model_module": "@jupyter-widgets/controls",
          "model_name": "DropdownModel",
          "state": {
            "_options_labels": [
              "softmax",
              "relu",
              "tanh",
              "sigmoid",
              "linear"
            ],
            "_view_name": "DropdownView",
            "style": "IPY_MODEL_8bdaf82fd3314604931c0507b0557f45",
            "_dom_classes": [],
            "description": "Layer 2 activation type ",
            "_model_name": "DropdownModel",
            "index": 3,
            "_view_module": "@jupyter-widgets/controls",
            "_model_module_version": "1.5.0",
            "_view_count": null,
            "disabled": false,
            "_view_module_version": "1.5.0",
            "description_tooltip": null,
            "_model_module": "@jupyter-widgets/controls",
            "layout": "IPY_MODEL_68c115f94bc94c1287c8937a20f90c7f"
          }
        },
        "71ca4742f8d743d89d707841db4d706f": {
          "model_module": "@jupyter-widgets/controls",
          "model_name": "DropdownModel",
          "state": {
            "_options_labels": [
              "softmax",
              "relu",
              "tanh",
              "sigmoid",
              "linear"
            ],
            "_view_name": "DropdownView",
            "style": "IPY_MODEL_715bea3d1ccd4134ae34dea76ae47144",
            "_dom_classes": [],
            "description": "Layer 3 activation type: ",
            "_model_name": "DropdownModel",
            "index": 1,
            "_view_module": "@jupyter-widgets/controls",
            "_model_module_version": "1.5.0",
            "_view_count": null,
            "disabled": false,
            "_view_module_version": "1.5.0",
            "description_tooltip": null,
            "_model_module": "@jupyter-widgets/controls",
            "layout": "IPY_MODEL_0704868a106c4566bf4c76d68af393c8"
          }
        },
        "f30e380edc8141d98dbc3450f4f1f916": {
          "model_module": "@jupyter-widgets/controls",
          "model_name": "DropdownModel",
          "state": {
            "_options_labels": [
              "softmax",
              "relu",
              "tanh",
              "sigmoid",
              "linear"
            ],
            "_view_name": "DropdownView",
            "style": "IPY_MODEL_1cc591e613474f5ca6e5a2c1f3374b22",
            "_dom_classes": [],
            "description": "Layer 4 activation type: ",
            "_model_name": "DropdownModel",
            "index": 1,
            "_view_module": "@jupyter-widgets/controls",
            "_model_module_version": "1.5.0",
            "_view_count": null,
            "disabled": false,
            "_view_module_version": "1.5.0",
            "description_tooltip": null,
            "_model_module": "@jupyter-widgets/controls",
            "layout": "IPY_MODEL_13125c890b574465a7345be89642f3c5"
          }
        },
        "ed8bff10a38a4b1ba958ea738780c095": {
          "model_module": "@jupyter-widgets/controls",
          "model_name": "ButtonModel",
          "state": {
            "_view_name": "ButtonView",
            "style": "IPY_MODEL_79e2885bd7f246258bcb04f84831a38c",
            "_dom_classes": [],
            "description": "Run Interact",
            "_model_name": "ButtonModel",
            "button_style": "",
            "_view_module": "@jupyter-widgets/controls",
            "_model_module_version": "1.5.0",
            "tooltip": "",
            "_view_count": null,
            "disabled": false,
            "_view_module_version": "1.5.0",
            "layout": "IPY_MODEL_8571c9c28a6a4e86be6924e65c0d4e62",
            "_model_module": "@jupyter-widgets/controls",
            "icon": ""
          }
        },
        "68d3325edd1948b1b4848c713f01fbec": {
          "model_module": "@jupyter-widgets/output",
          "model_name": "OutputModel",
          "state": {
            "_view_name": "OutputView",
            "msg_id": "",
            "_dom_classes": [],
            "_model_name": "OutputModel",
            "outputs": [
              {
                "output_type": "stream",
                "metadata": {
                  "tags": []
                },
                "text": "Epoch 1/30\n",
                "stream": "stdout"
              },
              {
                "output_type": "stream",
                "metadata": {
                  "tags": []
                },
                "text": "\r  1/600 [..............................] - ETA: 0s - loss: 2.3286 - acc: 0.1100",
                "stream": "stdout"
              },
              {
                "output_type": "stream",
                "metadata": {
                  "tags": []
                },
                "text": "\b\b\b\b\b\b\b\b\b\b\b\b\b\b\b\b\b\b\b\b\b\b\b\b\b\b\b\b\b\b\b\b\b\b\b\b\b\b\b\b\b\b\b\b\b\b\b\b\b\b\b\b\b\b\b\b\b\b\b\b\b\b\b\b\b\b\b\b\b\b\b\b\b\b\b\b\b\b\b\r 34/600 [>.............................] - ETA: 0s - loss: 2.3173 - acc: 0.1556",
                "stream": "stdout"
              },
              {
                "output_type": "stream",
                "metadata": {
                  "tags": []
                },
                "text": "\b\b\b\b\b\b\b\b\b\b\b\b\b\b\b\b\b\b\b\b\b\b\b\b\b\b\b\b\b\b\b\b\b\b\b\b\b\b\b\b\b\b\b\b\b\b\b\b\b\b\b\b\b\b\b\b\b\b\b\b\b\b\b\b\b\b\b\b\b\b\b\b\b\b\b\b\b\b\b\r 68/600 [==>...........................] - ETA: 0s - loss: 2.2962 - acc: 0.1669",
                "stream": "stdout"
              },
              {
                "output_type": "stream",
                "metadata": {
                  "tags": []
                },
                "text": "\b\b\b\b\b\b\b\b\b\b\b\b\b\b\b\b\b\b\b\b\b\b\b\b\b\b\b\b\b\b\b\b\b\b\b\b\b\b\b\b\b\b\b\b\b\b\b\b\b\b\b\b\b\b\b\b\b\b\b\b\b\b\b\b\b\b\b\b\b\b\b\b\b\b\b\b\b\b\b\r 98/600 [===>..........................] - ETA: 0s - loss: 2.2814 - acc: 0.1760",
                "stream": "stdout"
              },
              {
                "output_type": "stream",
                "metadata": {
                  "tags": []
                },
                "text": "\b\b\b\b\b\b\b\b\b\b\b\b\b\b\b\b\b\b\b\b\b\b\b\b\b\b\b\b\b\b\b\b\b\b\b\b\b\b\b\b\b\b\b\b\b\b\b\b\b\b\b\b\b\b\b\b\b\b\b\b\b\b\b\b\b\b\b\b\b\b\b\b\b\b\b\b\b\b\b\r128/600 [=====>........................] - ETA: 0s - loss: 2.2695 - acc: 0.1816",
                "stream": "stdout"
              },
              {
                "output_type": "stream",
                "metadata": {
                  "tags": []
                },
                "text": "\b\b\b\b\b\b\b\b\b\b\b\b\b\b\b\b\b\b\b\b\b\b\b\b\b\b\b\b\b\b\b\b\b\b\b\b\b\b\b\b\b\b\b\b\b\b\b\b\b\b\b\b\b\b\b\b\b\b\b\b\b\b\b\b\b\b\b\b\b\b\b\b\b\b\b\b\b\b\b\r149/600 [======>.......................] - ETA: 0s - loss: 2.2627 - acc: 0.1867",
                "stream": "stdout"
              },
              {
                "output_type": "stream",
                "metadata": {
                  "tags": []
                },
                "text": "\b\b\b\b\b\b\b\b\b\b\b\b\b\b\b\b\b\b\b\b\b\b\b\b\b\b\b\b\b\b\b\b\b\b\b\b\b\b\b\b\b\b\b\b\b\b\b\b\b\b\b\b\b\b\b\b\b\b\b\b\b\b\b\b\b\b\b\b\b\b\b\b\b\b\b\b\b\b\b\r178/600 [=======>......................] - ETA: 0s - loss: 2.2530 - acc: 0.1910",
                "stream": "stdout"
              },
              {
                "output_type": "stream",
                "metadata": {
                  "tags": []
                },
                "text": "\b\b\b\b\b\b\b\b\b\b\b\b\b\b\b\b\b\b\b\b\b\b\b\b\b\b\b\b\b\b\b\b\b\b\b\b\b\b\b\b\b\b\b\b\b\b\b\b\b\b\b\b\b\b\b\b\b\b\b\b\b\b\b\b\b\b\b\b\b\b\b\b\b\b\b\b\b\b\b\r209/600 [=========>....................] - ETA: 0s - loss: 2.2455 - acc: 0.1996",
                "stream": "stdout"
              },
              {
                "output_type": "stream",
                "metadata": {
                  "tags": []
                },
                "text": "\b\b\b\b\b\b\b\b\b\b\b\b\b\b\b\b\b\b\b\b\b\b\b\b\b\b\b\b\b\b\b\b\b\b\b\b\b\b\b\b\b\b\b\b\b\b\b\b\b\b\b\b\b\b\b\b\b\b\b\b\b\b\b\b\b\b\b\b\b\b\b\b\b\b\b\b\b\b\b\r239/600 [==========>...................] - ETA: 0s - loss: 2.2376 - acc: 0.2172",
                "stream": "stdout"
              },
              {
                "output_type": "stream",
                "metadata": {
                  "tags": []
                },
                "text": "\b\b\b\b\b\b\b\b\b\b\b\b\b\b\b\b\b\b\b\b\b\b\b\b\b\b\b\b\b\b\b\b\b\b\b\b\b\b\b\b\b\b\b\b\b\b\b\b\b\b\b\b\b\b\b\b\b\b\b\b\b\b\b\b\b\b\b\b\b\b\b\b\b\b\b\b\b\b\b\r272/600 [============>.................] - ETA: 0s - loss: 2.2296 - acc: 0.2335",
                "stream": "stdout"
              },
              {
                "output_type": "stream",
                "metadata": {
                  "tags": []
                },
                "text": "\b\b\b\b\b\b\b\b\b\b\b\b\b\b\b\b\b\b\b\b\b\b\b\b\b\b\b\b\b\b\b\b\b\b\b\b\b\b\b\b\b\b\b\b\b\b\b\b\b\b\b\b\b\b\b\b\b\b\b\b\b\b\b\b\b\b\b\b\b\b\b\b\b\b\b\b\b\b\b\r302/600 [==============>...............] - ETA: 0s - loss: 2.2241 - acc: 0.2477",
                "stream": "stdout"
              },
              {
                "output_type": "stream",
                "metadata": {
                  "tags": []
                },
                "text": "\b\b\b\b\b\b\b\b\b\b\b\b\b\b\b\b\b\b\b\b\b\b\b\b\b\b\b\b\b\b\b\b\b\b\b\b\b\b\b\b\b\b\b\b\b\b\b\b\b\b\b\b\b\b\b\b\b\b\b\b\b\b\b\b\b\b\b\b\b\b\b\b\b\b\b\b\b\b\b\r334/600 [===============>..............] - ETA: 0s - loss: 2.2185 - acc: 0.2603",
                "stream": "stdout"
              },
              {
                "output_type": "stream",
                "metadata": {
                  "tags": []
                },
                "text": "\b\b\b\b\b\b\b\b\b\b\b\b\b\b\b\b\b\b\b\b\b\b\b\b\b\b\b\b\b\b\b\b\b\b\b\b\b\b\b\b\b\b\b\b\b\b\b\b\b\b\b\b\b\b\b\b\b\b\b\b\b\b\b\b\b\b\b\b\b\b\b\b\b\b\b\b\b\b\b\r367/600 [=================>............] - ETA: 0s - loss: 2.2128 - acc: 0.2729",
                "stream": "stdout"
              },
              {
                "output_type": "stream",
                "metadata": {
                  "tags": []
                },
                "text": "\b\b\b\b\b\b\b\b\b\b\b\b\b\b\b\b\b\b\b\b\b\b\b\b\b\b\b\b\b\b\b\b\b\b\b\b\b\b\b\b\b\b\b\b\b\b\b\b\b\b\b\b\b\b\b\b\b\b\b\b\b\b\b\b\b\b\b\b\b\b\b\b\b\b\b\b\b\b\b\r399/600 [==================>...........] - ETA: 0s - loss: 2.2074 - acc: 0.2847",
                "stream": "stdout"
              },
              {
                "output_type": "stream",
                "metadata": {
                  "tags": []
                },
                "text": "\b\b\b\b\b\b\b\b\b\b\b\b\b\b\b\b\b\b\b\b\b\b\b\b\b\b\b\b\b\b\b\b\b\b\b\b\b\b\b\b\b\b\b\b\b\b\b\b\b\b\b\b\b\b\b\b\b\b\b\b\b\b\b\b\b\b\b\b\b\b\b\b\b\b\b\b\b\b\b\r428/600 [====================>.........] - ETA: 0s - loss: 2.2029 - acc: 0.2951",
                "stream": "stdout"
              },
              {
                "output_type": "stream",
                "metadata": {
                  "tags": []
                },
                "text": "\b\b\b\b\b\b\b\b\b\b\b\b\b\b\b\b\b\b\b\b\b\b\b\b\b\b\b\b\b\b\b\b\b\b\b\b\b\b\b\b\b\b\b\b\b\b\b\b\b\b\b\b\b\b\b\b\b\b\b\b\b\b\b\b\b\b\b\b\b\b\b\b\b\b\b\b\b\b\b\r462/600 [======================>.......] - ETA: 0s - loss: 2.1985 - acc: 0.3040",
                "stream": "stdout"
              },
              {
                "output_type": "stream",
                "metadata": {
                  "tags": []
                },
                "text": "\b\b\b\b\b\b\b\b\b\b\b\b\b\b\b\b\b\b\b\b\b\b\b\b\b\b\b\b\b\b\b\b\b\b\b\b\b\b\b\b\b\b\b\b\b\b\b\b\b\b\b\b\b\b\b\b\b\b\b\b\b\b\b\b\b\b\b\b\b\b\b\b\b\b\b\b\b\b\b\r496/600 [=======================>......] - ETA: 0s - loss: 2.1941 - acc: 0.3128",
                "stream": "stdout"
              },
              {
                "output_type": "stream",
                "metadata": {
                  "tags": []
                },
                "text": "\b\b\b\b\b\b\b\b\b\b\b\b\b\b\b\b\b\b\b\b\b\b\b\b\b\b\b\b\b\b\b\b\b\b\b\b\b\b\b\b\b\b\b\b\b\b\b\b\b\b\b\b\b\b\b\b\b\b\b\b\b\b\b\b\b\b\b\b\b\b\b\b\b\b\b\b\b\b\b\r530/600 [=========================>....] - ETA: 0s - loss: 2.1899 - acc: 0.3195",
                "stream": "stdout"
              },
              {
                "output_type": "stream",
                "metadata": {
                  "tags": []
                },
                "text": "\b\b\b\b\b\b\b\b\b\b\b\b\b\b\b\b\b\b\b\b\b\b\b\b\b\b\b\b\b\b\b\b\b\b\b\b\b\b\b\b\b\b\b\b\b\b\b\b\b\b\b\b\b\b\b\b\b\b\b\b\b\b\b\b\b\b\b\b\b\b\b\b\b\b\b\b\b\b\b\r564/600 [===========================>..] - ETA: 0s - loss: 2.1860 - acc: 0.3268",
                "stream": "stdout"
              },
              {
                "output_type": "stream",
                "metadata": {
                  "tags": []
                },
                "text": "\b\b\b\b\b\b\b\b\b\b\b\b\b\b\b\b\b\b\b\b\b\b\b\b\b\b\b\b\b\b\b\b\b\b\b\b\b\b\b\b\b\b\b\b\b\b\b\b\b\b\b\b\b\b\b\b\b\b\b\b\b\b\b\b\b\b\b\b\b\b\b\b\b\b\b\b\b\b\b\r593/600 [============================>.] - ETA: 0s - loss: 2.1828 - acc: 0.3326",
                "stream": "stdout"
              },
              {
                "output_type": "stream",
                "metadata": {
                  "tags": []
                },
                "text": "\b\b\b\b\b\b\b\b\b\b\b\b\b\b\b\b\b\b\b\b\b\b\b\b\b\b\b\b\b\b\b\b\b\b\b\b\b\b\b\b\b\b\b\b\b\b\b\b\b\b\b\b\b\b\b\b\b\b\b\b\b\b\b\b\b\b\b\b\b\b\b\b\b\b\b\b\b\b\b\r600/600 [==============================] - 1s 2ms/step - loss: 2.1819 - acc: 0.3339 - val_loss: 2.1141 - val_acc: 0.4679\n",
                "stream": "stdout"
              },
              {
                "output_type": "stream",
                "metadata": {
                  "tags": []
                },
                "text": "Epoch 2/30\n\r  1/600 [..............................] - ETA: 0s - loss: 2.1302 - acc: 0.4300",
                "stream": "stdout"
              },
              {
                "output_type": "stream",
                "metadata": {
                  "tags": []
                },
                "text": "\b\b\b\b\b\b\b\b\b\b\b\b\b\b\b\b\b\b\b\b\b\b\b\b\b\b\b\b\b\b\b\b\b\b\b\b\b\b\b\b\b\b\b\b\b\b\b\b\b\b\b\b\b\b\b\b\b\b\b\b\b\b\b\b\b\b\b\b\b\b\b\b\b\b\b\b\b\b\b\r 31/600 [>.............................] - ETA: 0s - loss: 2.1105 - acc: 0.4929",
                "stream": "stdout"
              },
              {
                "output_type": "stream",
                "metadata": {
                  "tags": []
                },
                "text": "\b\b\b\b\b\b\b\b\b\b\b\b\b\b\b\b\b\b\b\b\b\b\b\b\b\b\b\b\b\b\b\b\b\b\b\b\b\b\b\b\b\b\b\b\b\b\b\b\b\b\b\b\b\b\b\b\b\b\b\b\b\b\b\b\b\b\b\b\b\b\b\b\b\b\b\b\b\b\b\r 64/600 [==>...........................] - ETA: 0s - loss: 2.1119 - acc: 0.4766",
                "stream": "stdout"
              },
              {
                "output_type": "stream",
                "metadata": {
                  "tags": []
                },
                "text": "\b\b\b\b\b\b\b\b\b\b\b\b\b\b\b\b\b\b\b\b\b\b\b\b\b\b\b\b\b\b\b\b\b\b\b\b\b\b\b\b\b\b\b\b\b\b\b\b\b\b\b\b\b\b\b\b\b\b\b\b\b\b\b\b\b\b\b\b\b\b\b\b\b\b\b\b\b\b\b\r 95/600 [===>..........................] - ETA: 0s - loss: 2.1088 - acc: 0.4735",
                "stream": "stdout"
              },
              {
                "output_type": "stream",
                "metadata": {
                  "tags": []
                },
                "text": "\b\b\b\b\b\b\b\b\b\b\b\b\b\b\b\b\b\b\b\b\b\b\b\b\b\b\b\b\b\b\b\b\b\b\b\b\b\b\b\b\b\b\b\b\b\b\b\b\b\b\b\b\b\b\b\b\b\b\b\b\b\b\b\b\b\b\b\b\b\b\b\b\b\b\b\b\b\b\b\r130/600 [=====>........................] - ETA: 0s - loss: 2.1045 - acc: 0.4712",
                "stream": "stdout"
              },
              {
                "output_type": "stream",
                "metadata": {
                  "tags": []
                },
                "text": "\b\b\b\b\b\b\b\b\b\b\b\b\b\b\b\b\b\b\b\b\b\b\b\b\b\b\b\b\b\b\b\b\b\b\b\b\b\b\b\b\b\b\b\b\b\b\b\b\b\b\b\b\b\b\b\b\b\b\b\b\b\b\b\b\b\b\b\b\b\b\b\b\b\b\b\b\b\b\b\r165/600 [=======>......................] - ETA: 0s - loss: 2.1018 - acc: 0.4730",
                "stream": "stdout"
              },
              {
                "output_type": "stream",
                "metadata": {
                  "tags": []
                },
                "text": "\b\b\b\b\b\b\b\b\b\b\b\b\b\b\b\b\b\b\b\b\b\b\b\b\b\b\b\b\b\b\b\b\b\b\b\b\b\b\b\b\b\b\b\b\b\b\b\b\b\b\b\b\b\b\b\b\b\b\b\b\b\b\b\b\b\b\b\b\b\b\b\b\b\b\b\b\b\b\b\r198/600 [========>.....................] - ETA: 0s - loss: 2.0998 - acc: 0.4733",
                "stream": "stdout"
              },
              {
                "output_type": "stream",
                "metadata": {
                  "tags": []
                },
                "text": "\b\b\b\b\b\b\b\b\b\b\b\b\b\b\b\b\b\b\b\b\b\b\b\b\b\b\b\b\b\b\b\b\b\b\b\b\b\b\b\b\b\b\b\b\b\b\b\b\b\b\b\b\b\b\b\b\b\b\b\b\b\b\b\b\b\b\b\b\b\b\b\b\b\b\b\b\b\b\b\r230/600 [==========>...................] - ETA: 0s - loss: 2.0978 - acc: 0.4747",
                "stream": "stdout"
              },
              {
                "output_type": "stream",
                "metadata": {
                  "tags": []
                },
                "text": "\b\b\b\b\b\b\b\b\b\b\b\b\b\b\b\b\b\b\b\b\b\b\b\b\b\b\b\b\b\b\b\b\b\b\b\b\b\b\b\b\b\b\b\b\b\b\b\b\b\b\b\b\b\b\b\b\b\b\b\b\b\b\b\b\b\b\b\b\b\b\b\b\b\b\b\b\b\b\b\r262/600 [============>.................] - ETA: 0s - loss: 2.0957 - acc: 0.4749",
                "stream": "stdout"
              },
              {
                "output_type": "stream",
                "metadata": {
                  "tags": []
                },
                "text": "\b\b\b\b\b\b\b\b\b\b\b\b\b\b\b\b\b\b\b\b\b\b\b\b\b\b\b\b\b\b\b\b\b\b\b\b\b\b\b\b\b\b\b\b\b\b\b\b\b\b\b\b\b\b\b\b\b\b\b\b\b\b\b\b\b\b\b\b\b\b\b\b\b\b\b\b\b\b\b\r297/600 [=============>................] - ETA: 0s - loss: 2.0932 - acc: 0.4748",
                "stream": "stdout"
              },
              {
                "output_type": "stream",
                "metadata": {
                  "tags": []
                },
                "text": "\b\b\b\b\b\b\b\b\b\b\b\b\b\b\b\b\b\b\b\b\b\b\b\b\b\b\b\b\b\b\b\b\b\b\b\b\b\b\b\b\b\b\b\b\b\b\b\b\b\b\b\b\b\b\b\b\b\b\b\b\b\b\b\b\b\b\b\b\b\b\b\b\b\b\b\b\b\b\b\r331/600 [===============>..............] - ETA: 0s - loss: 2.0911 - acc: 0.4768",
                "stream": "stdout"
              },
              {
                "output_type": "stream",
                "metadata": {
                  "tags": []
                },
                "text": "\b\b\b\b\b\b\b\b\b\b\b\b\b\b\b\b\b\b\b\b\b\b\b\b\b\b\b\b\b\b\b\b\b\b\b\b\b\b\b\b\b\b\b\b\b\b\b\b\b\b\b\b\b\b\b\b\b\b\b\b\b\b\b\b\b\b\b\b\b\b\b\b\b\b\b\b\b\b\b\r365/600 [=================>............] - ETA: 0s - loss: 2.0889 - acc: 0.4792",
                "stream": "stdout"
              },
              {
                "output_type": "stream",
                "metadata": {
                  "tags": []
                },
                "text": "\b\b\b\b\b\b\b\b\b\b\b\b\b\b\b\b\b\b\b\b\b\b\b\b\b\b\b\b\b\b\b\b\b\b\b\b\b\b\b\b\b\b\b\b\b\b\b\b\b\b\b\b\b\b\b\b\b\b\b\b\b\b\b\b\b\b\b\b\b\b\b\b\b\b\b\b\b\b\b\r401/600 [===================>..........] - ETA: 0s - loss: 2.0859 - acc: 0.4827",
                "stream": "stdout"
              },
              {
                "output_type": "stream",
                "metadata": {
                  "tags": []
                },
                "text": "\b\b\b\b\b\b\b\b\b\b\b\b\b\b\b\b\b\b\b\b\b\b\b\b\b\b\b\b\b\b\b\b\b\b\b\b\b\b\b\b\b\b\b\b\b\b\b\b\b\b\b\b\b\b\b\b\b\b\b\b\b\b\b\b\b\b\b\b\b\b\b\b\b\b\b\b\b\b\b\r437/600 [====================>.........] - ETA: 0s - loss: 2.0828 - acc: 0.4884",
                "stream": "stdout"
              },
              {
                "output_type": "stream",
                "metadata": {
                  "tags": []
                },
                "text": "\b\b\b\b\b\b\b\b\b\b\b\b\b\b\b\b\b\b\b\b\b\b\b\b\b\b\b\b\b\b\b\b\b\b\b\b\b\b\b\b\b\b\b\b\b\b\b\b\b\b\b\b\b\b\b\b\b\b\b\b\b\b\b\b\b\b\b\b\b\b\b\b\b\b\b\b\b\b\b\r471/600 [======================>.......] - ETA: 0s - loss: 2.0807 - acc: 0.4910",
                "stream": "stdout"
              },
              {
                "output_type": "stream",
                "metadata": {
                  "tags": []
                },
                "text": "\b\b\b\b\b\b\b\b\b\b\b\b\b\b\b\b\b\b\b\b\b\b\b\b\b\b\b\b\b\b\b\b\b\b\b\b\b\b\b\b\b\b\b\b\b\b\b\b\b\b\b\b\b\b\b\b\b\b\b\b\b\b\b\b\b\b\b\b\b\b\b\b\b\b\b\b\b\b\b\r501/600 [========================>.....] - ETA: 0s - loss: 2.0785 - acc: 0.4935",
                "stream": "stdout"
              },
              {
                "output_type": "stream",
                "metadata": {
                  "tags": []
                },
                "text": "\b\b\b\b\b\b\b\b\b\b\b\b\b\b\b\b\b\b\b\b\b\b\b\b\b\b\b\b\b\b\b\b\b\b\b\b\b\b\b\b\b\b\b\b\b\b\b\b\b\b\b\b\b\b\b\b\b\b\b\b\b\b\b\b\b\b\b\b\b\b\b\b\b\b\b\b\b\b\b\r527/600 [=========================>....] - ETA: 0s - loss: 2.0769 - acc: 0.4950",
                "stream": "stdout"
              },
              {
                "output_type": "stream",
                "metadata": {
                  "tags": []
                },
                "text": "\b\b\b\b\b\b\b\b\b\b\b\b\b\b\b\b\b\b\b\b\b\b\b\b\b\b\b\b\b\b\b\b\b\b\b\b\b\b\b\b\b\b\b\b\b\b\b\b\b\b\b\b\b\b\b\b\b\b\b\b\b\b\b\b\b\b\b\b\b\b\b\b\b\b\b\b\b\b\b\r559/600 [==========================>...] - ETA: 0s - loss: 2.0746 - acc: 0.4969",
                "stream": "stdout"
              },
              {
                "output_type": "stream",
                "metadata": {
                  "tags": []
                },
                "text": "\b\b\b\b\b\b\b\b\b\b\b\b\b\b\b\b\b\b\b\b\b\b\b\b\b\b\b\b\b\b\b\b\b\b\b\b\b\b\b\b\b\b\b\b\b\b\b\b\b\b\b\b\b\b\b\b\b\b\b\b\b\b\b\b\b\b\b\b\b\b\b\b\b\b\b\b\b\b\b\r593/600 [============================>.] - ETA: 0s - loss: 2.0722 - acc: 0.4989",
                "stream": "stdout"
              },
              {
                "output_type": "stream",
                "metadata": {
                  "tags": []
                },
                "text": "\b\b\b\b\b\b\b\b\b\b\b\b\b\b\b\b\b\b\b\b\b\b\b\b\b\b\b\b\b\b\b\b\b\b\b\b\b\b\b\b\b\b\b\b\b\b\b\b\b\b\b\b\b\b\b\b\b\b\b\b\b\b\b\b\b\b\b\b\b\b\b\b\b\b\b\b\b\b\b\r600/600 [==============================] - 1s 2ms/step - loss: 2.0716 - acc: 0.4991 - val_loss: 2.0232 - val_acc: 0.5370\n",
                "stream": "stdout"
              },
              {
                "output_type": "stream",
                "metadata": {
                  "tags": []
                },
                "text": "Epoch 3/30\n\r  1/600 [..............................] - ETA: 0s - loss: 2.0216 - acc: 0.4500",
                "stream": "stdout"
              },
              {
                "output_type": "stream",
                "metadata": {
                  "tags": []
                },
                "text": "\b\b\b\b\b\b\b\b\b\b\b\b\b\b\b\b\b\b\b\b\b\b\b\b\b\b\b\b\b\b\b\b\b\b\b\b\b\b\b\b\b\b\b\b\b\b\b\b\b\b\b\b\b\b\b\b\b\b\b\b\b\b\b\b\b\b\b\b\b\b\b\b\b\b\b\b\b\b\b\r 31/600 [>.............................] - ETA: 0s - loss: 2.0258 - acc: 0.5390",
                "stream": "stdout"
              },
              {
                "output_type": "stream",
                "metadata": {
                  "tags": []
                },
                "text": "\b\b\b\b\b\b\b\b\b\b\b\b\b\b\b\b\b\b\b\b\b\b\b\b\b\b\b\b\b\b\b\b\b\b\b\b\b\b\b\b\b\b\b\b\b\b\b\b\b\b\b\b\b\b\b\b\b\b\b\b\b\b\b\b\b\b\b\b\b\b\b\b\b\b\b\b\b\b\b\r 63/600 [==>...........................] - ETA: 0s - loss: 2.0270 - acc: 0.5338",
                "stream": "stdout"
              },
              {
                "output_type": "stream",
                "metadata": {
                  "tags": []
                },
                "text": "\b\b\b\b\b\b\b\b\b\b\b\b\b\b\b\b\b\b\b\b\b\b\b\b\b\b\b\b\b\b\b\b\b\b\b\b\b\b\b\b\b\b\b\b\b\b\b\b\b\b\b\b\b\b\b\b\b\b\b\b\b\b\b\b\b\b\b\b\b\b\b\b\b\b\b\b\b\b\b\r 97/600 [===>..........................] - ETA: 0s - loss: 2.0198 - acc: 0.5430",
                "stream": "stdout"
              },
              {
                "output_type": "stream",
                "metadata": {
                  "tags": []
                },
                "text": "\b\b\b\b\b\b\b\b\b\b\b\b\b\b\b\b\b\b\b\b\b\b\b\b\b\b\b\b\b\b\b\b\b\b\b\b\b\b\b\b\b\b\b\b\b\b\b\b\b\b\b\b\b\b\b\b\b\b\b\b\b\b\b\b\b\b\b\b\b\b\b\b\b\b\b\b\b\b\b\r133/600 [=====>........................] - ETA: 0s - loss: 2.0164 - acc: 0.5445",
                "stream": "stdout"
              },
              {
                "output_type": "stream",
                "metadata": {
                  "tags": []
                },
                "text": "\b\b\b\b\b\b\b\b\b\b\b\b\b\b\b\b\b\b\b\b\b\b\b\b\b\b\b\b\b\b\b\b\b\b\b\b\b\b\b\b\b\b\b\b\b\b\b\b\b\b\b\b\b\b\b\b\b\b\b\b\b\b\b\b\b\b\b\b\b\b\b\b\b\b\b\b\b\b\b\r166/600 [=======>......................] - ETA: 0s - loss: 2.0139 - acc: 0.5436",
                "stream": "stdout"
              },
              {
                "output_type": "stream",
                "metadata": {
                  "tags": []
                },
                "text": "\b\b\b\b\b\b\b\b\b\b\b\b\b\b\b\b\b\b\b\b\b\b\b\b\b\b\b\b\b\b\b\b\b\b\b\b\b\b\b\b\b\b\b\b\b\b\b\b\b\b\b\b\b\b\b\b\b\b\b\b\b\b\b\b\b\b\b\b\b\b\b\b\b\b\b\b\b\b\b\r196/600 [========>.....................] - ETA: 0s - loss: 2.0112 - acc: 0.5436",
                "stream": "stdout"
              },
              {
                "output_type": "stream",
                "metadata": {
                  "tags": []
                },
                "text": "\b\b\b\b\b\b\b\b\b\b\b\b\b\b\b\b\b\b\b\b\b\b\b\b\b\b\b\b\b\b\b\b\b\b\b\b\b\b\b\b\b\b\b\b\b\b\b\b\b\b\b\b\b\b\b\b\b\b\b\b\b\b\b\b\b\b\b\b\b\b\b\b\b\b\b\b\b\b\b\r226/600 [==========>...................] - ETA: 0s - loss: 2.0092 - acc: 0.5438",
                "stream": "stdout"
              },
              {
                "output_type": "stream",
                "metadata": {
                  "tags": []
                },
                "text": "\b\b\b\b\b\b\b\b\b\b\b\b\b\b\b\b\b\b\b\b\b\b\b\b\b\b\b\b\b\b\b\b\b\b\b\b\b\b\b\b\b\b\b\b\b\b\b\b\b\b\b\b\b\b\b\b\b\b\b\b\b\b\b\b\b\b\b\b\b\b\b\b\b\b\b\b\b\b\b\r260/600 [============>.................] - ETA: 0s - loss: 2.0070 - acc: 0.5418",
                "stream": "stdout"
              },
              {
                "output_type": "stream",
                "metadata": {
                  "tags": []
                },
                "text": "\b\b\b\b\b\b\b\b\b\b\b\b\b\b\b\b\b\b\b\b\b\b\b\b\b\b\b\b\b\b\b\b\b\b\b\b\b\b\b\b\b\b\b\b\b\b\b\b\b\b\b\b\b\b\b\b\b\b\b\b\b\b\b\b\b\b\b\b\b\b\b\b\b\b\b\b\b\b\b\r293/600 [=============>................] - ETA: 0s - loss: 2.0037 - acc: 0.5442",
                "stream": "stdout"
              },
              {
                "output_type": "stream",
                "metadata": {
                  "tags": []
                },
                "text": "\b\b\b\b\b\b\b\b\b\b\b\b\b\b\b\b\b\b\b\b\b\b\b\b\b\b\b\b\b\b\b\b\b\b\b\b\b\b\b\b\b\b\b\b\b\b\b\b\b\b\b\b\b\b\b\b\b\b\b\b\b\b\b\b\b\b\b\b\b\b\b\b\b\b\b\b\b\b\b\r327/600 [===============>..............] - ETA: 0s - loss: 2.0007 - acc: 0.5434",
                "stream": "stdout"
              },
              {
                "output_type": "stream",
                "metadata": {
                  "tags": []
                },
                "text": "\b\b\b\b\b\b\b\b\b\b\b\b\b\b\b\b\b\b\b\b\b\b\b\b\b\b\b\b\b\b\b\b\b\b\b\b\b\b\b\b\b\b\b\b\b\b\b\b\b\b\b\b\b\b\b\b\b\b\b\b\b\b\b\b\b\b\b\b\b\b\b\b\b\b\b\b\b\b\b\r360/600 [=================>............] - ETA: 0s - loss: 1.9977 - acc: 0.5447",
                "stream": "stdout"
              },
              {
                "output_type": "stream",
                "metadata": {
                  "tags": []
                },
                "text": "\b\b\b\b\b\b\b\b\b\b\b\b\b\b\b\b\b\b\b\b\b\b\b\b\b\b\b\b\b\b\b\b\b\b\b\b\b\b\b\b\b\b\b\b\b\b\b\b\b\b\b\b\b\b\b\b\b\b\b\b\b\b\b\b\b\b\b\b\b\b\b\b\b\b\b\b\b\b\b\r392/600 [==================>...........] - ETA: 0s - loss: 1.9953 - acc: 0.5461",
                "stream": "stdout"
              },
              {
                "output_type": "stream",
                "metadata": {
                  "tags": []
                },
                "text": "\b\b\b\b\b\b\b\b\b\b\b\b\b\b\b\b\b\b\b\b\b\b\b\b\b\b\b\b\b\b\b\b\b\b\b\b\b\b\b\b\b\b\b\b\b\b\b\b\b\b\b\b\b\b\b\b\b\b\b\b\b\b\b\b\b\b\b\b\b\b\b\b\b\b\b\b\b\b\b\r427/600 [====================>.........] - ETA: 0s - loss: 1.9927 - acc: 0.5470",
                "stream": "stdout"
              },
              {
                "output_type": "stream",
                "metadata": {
                  "tags": []
                },
                "text": "\b\b\b\b\b\b\b\b\b\b\b\b\b\b\b\b\b\b\b\b\b\b\b\b\b\b\b\b\b\b\b\b\b\b\b\b\b\b\b\b\b\b\b\b\b\b\b\b\b\b\b\b\b\b\b\b\b\b\b\b\b\b\b\b\b\b\b\b\b\b\b\b\b\b\b\b\b\b\b\r463/600 [======================>.......] - ETA: 0s - loss: 1.9901 - acc: 0.5478",
                "stream": "stdout"
              },
              {
                "output_type": "stream",
                "metadata": {
                  "tags": []
                },
                "text": "\b\b\b\b\b\b\b\b\b\b\b\b\b\b\b\b\b\b\b\b\b\b\b\b\b\b\b\b\b\b\b\b\b\b\b\b\b\b\b\b\b\b\b\b\b\b\b\b\b\b\b\b\b\b\b\b\b\b\b\b\b\b\b\b\b\b\b\b\b\b\b\b\b\b\b\b\b\b\b\r496/600 [=======================>......] - ETA: 0s - loss: 1.9879 - acc: 0.5475",
                "stream": "stdout"
              },
              {
                "output_type": "stream",
                "metadata": {
                  "tags": []
                },
                "text": "\b\b\b\b\b\b\b\b\b\b\b\b\b\b\b\b\b\b\b\b\b\b\b\b\b\b\b\b\b\b\b\b\b\b\b\b\b\b\b\b\b\b\b\b\b\b\b\b\b\b\b\b\b\b\b\b\b\b\b\b\b\b\b\b\b\b\b\b\b\b\b\b\b\b\b\b\b\b\b\r531/600 [=========================>....] - ETA: 0s - loss: 1.9850 - acc: 0.5491",
                "stream": "stdout"
              },
              {
                "output_type": "stream",
                "metadata": {
                  "tags": []
                },
                "text": "\b\b\b\b\b\b\b\b\b\b\b\b\b\b\b\b\b\b\b\b\b\b\b\b\b\b\b\b\b\b\b\b\b\b\b\b\b\b\b\b\b\b\b\b\b\b\b\b\b\b\b\b\b\b\b\b\b\b\b\b\b\b\b\b\b\b\b\b\b\b\b\b\b\b\b\b\b\b\b\r567/600 [===========================>..] - ETA: 0s - loss: 1.9826 - acc: 0.5504",
                "stream": "stdout"
              },
              {
                "output_type": "stream",
                "metadata": {
                  "tags": []
                },
                "text": "\b\b\b\b\b\b\b\b\b\b\b\b\b\b\b\b\b\b\b\b\b\b\b\b\b\b\b\b\b\b\b\b\b\b\b\b\b\b\b\b\b\b\b\b\b\b\b\b\b\b\b\b\b\b\b\b\b\b\b\b\b\b\b\b\b\b\b\b\b\b\b\b\b\b\b\b\b\b\b\r600/600 [==============================] - 1s 2ms/step - loss: 1.9804 - acc: 0.5504 - val_loss: 1.9385 - val_acc: 0.5493\n",
                "stream": "stdout"
              },
              {
                "output_type": "stream",
                "metadata": {
                  "tags": []
                },
                "text": "Epoch 4/30\n\r  1/600 [..............................] - ETA: 0s - loss: 1.9011 - acc: 0.6000",
                "stream": "stdout"
              },
              {
                "output_type": "stream",
                "metadata": {
                  "tags": []
                },
                "text": "\b\b\b\b\b\b\b\b\b\b\b\b\b\b\b\b\b\b\b\b\b\b\b\b\b\b\b\b\b\b\b\b\b\b\b\b\b\b\b\b\b\b\b\b\b\b\b\b\b\b\b\b\b\b\b\b\b\b\b\b\b\b\b\b\b\b\b\b\b\b\b\b\b\b\b\b\b\b\b\r 27/600 [>.............................] - ETA: 1s - loss: 1.9378 - acc: 0.5507",
                "stream": "stdout"
              },
              {
                "output_type": "stream",
                "metadata": {
                  "tags": []
                },
                "text": "\b\b\b\b\b\b\b\b\b\b\b\b\b\b\b\b\b\b\b\b\b\b\b\b\b\b\b\b\b\b\b\b\b\b\b\b\b\b\b\b\b\b\b\b\b\b\b\b\b\b\b\b\b\b\b\b\b\b\b\b\b\b\b\b\b\b\b\b\b\b\b\b\b\b\b\b\b\b\b\r 58/600 [=>............................] - ETA: 0s - loss: 1.9361 - acc: 0.5553",
                "stream": "stdout"
              },
              {
                "output_type": "stream",
                "metadata": {
                  "tags": []
                },
                "text": "\b\b\b\b\b\b\b\b\b\b\b\b\b\b\b\b\b\b\b\b\b\b\b\b\b\b\b\b\b\b\b\b\b\b\b\b\b\b\b\b\b\b\b\b\b\b\b\b\b\b\b\b\b\b\b\b\b\b\b\b\b\b\b\b\b\b\b\b\b\b\b\b\b\b\b\b\b\b\b\r 91/600 [===>..........................] - ETA: 0s - loss: 1.9288 - acc: 0.5629",
                "stream": "stdout"
              },
              {
                "output_type": "stream",
                "metadata": {
                  "tags": []
                },
                "text": "\b\b\b\b\b\b\b\b\b\b\b\b\b\b\b\b\b\b\b\b\b\b\b\b\b\b\b\b\b\b\b\b\b\b\b\b\b\b\b\b\b\b\b\b\b\b\b\b\b\b\b\b\b\b\b\b\b\b\b\b\b\b\b\b\b\b\b\b\b\b\b\b\b\b\b\b\b\b\b\r126/600 [=====>........................] - ETA: 0s - loss: 1.9236 - acc: 0.5639",
                "stream": "stdout"
              },
              {
                "output_type": "stream",
                "metadata": {
                  "tags": []
                },
                "text": "\b\b\b\b\b\b\b\b\b\b\b\b\b\b\b\b\b\b\b\b\b\b\b\b\b\b\b\b\b\b\b\b\b\b\b\b\b\b\b\b\b\b\b\b\b\b\b\b\b\b\b\b\b\b\b\b\b\b\b\b\b\b\b\b\b\b\b\b\b\b\b\b\b\b\b\b\b\b\b\r152/600 [======>.......................] - ETA: 0s - loss: 1.9193 - acc: 0.5683",
                "stream": "stdout"
              },
              {
                "output_type": "stream",
                "metadata": {
                  "tags": []
                },
                "text": "\b\b\b\b\b\b\b\b\b\b\b\b\b\b\b\b\b\b\b\b\b\b\b\b\b\b\b\b\b\b\b\b\b\b\b\b\b\b\b\b\b\b\b\b\b\b\b\b\b\b\b\b\b\b\b\b\b\b\b\b\b\b\b\b\b\b\b\b\b\b\b\b\b\b\b\b\b\b\b\r181/600 [========>.....................] - ETA: 0s - loss: 1.9157 - acc: 0.5715",
                "stream": "stdout"
              },
              {
                "output_type": "stream",
                "metadata": {
                  "tags": []
                },
                "text": "\b\b\b\b\b\b\b\b\b\b\b\b\b\b\b\b\b\b\b\b\b\b\b\b\b\b\b\b\b\b\b\b\b\b\b\b\b\b\b\b\b\b\b\b\b\b\b\b\b\b\b\b\b\b\b\b\b\b\b\b\b\b\b\b\b\b\b\b\b\b\b\b\b\b\b\b\b\b\b\r212/600 [=========>....................] - ETA: 0s - loss: 1.9136 - acc: 0.5737",
                "stream": "stdout"
              },
              {
                "output_type": "stream",
                "metadata": {
                  "tags": []
                },
                "text": "\b\b\b\b\b\b\b\b\b\b\b\b\b\b\b\b\b\b\b\b\b\b\b\b\b\b\b\b\b\b\b\b\b\b\b\b\b\b\b\b\b\b\b\b\b\b\b\b\b\b\b\b\b\b\b\b\b\b\b\b\b\b\b\b\b\b\b\b\b\b\b\b\b\b\b\b\b\b\b\r247/600 [===========>..................] - ETA: 0s - loss: 1.9107 - acc: 0.5745",
                "stream": "stdout"
              },
              {
                "output_type": "stream",
                "metadata": {
                  "tags": []
                },
                "text": "\b\b\b\b\b\b\b\b\b\b\b\b\b\b\b\b\b\b\b\b\b\b\b\b\b\b\b\b\b\b\b\b\b\b\b\b\b\b\b\b\b\b\b\b\b\b\b\b\b\b\b\b\b\b\b\b\b\b\b\b\b\b\b\b\b\b\b\b\b\b\b\b\b\b\b\b\b\b\b\r283/600 [=============>................] - ETA: 0s - loss: 1.9088 - acc: 0.5752",
                "stream": "stdout"
              },
              {
                "output_type": "stream",
                "metadata": {
                  "tags": []
                },
                "text": "\b\b\b\b\b\b\b\b\b\b\b\b\b\b\b\b\b\b\b\b\b\b\b\b\b\b\b\b\b\b\b\b\b\b\b\b\b\b\b\b\b\b\b\b\b\b\b\b\b\b\b\b\b\b\b\b\b\b\b\b\b\b\b\b\b\b\b\b\b\b\b\b\b\b\b\b\b\b\b\r316/600 [==============>...............] - ETA: 0s - loss: 1.9069 - acc: 0.5741",
                "stream": "stdout"
              },
              {
                "output_type": "stream",
                "metadata": {
                  "tags": []
                },
                "text": "\b\b\b\b\b\b\b\b\b\b\b\b\b\b\b\b\b\b\b\b\b\b\b\b\b\b\b\b\b\b\b\b\b\b\b\b\b\b\b\b\b\b\b\b\b\b\b\b\b\b\b\b\b\b\b\b\b\b\b\b\b\b\b\b\b\b\b\b\b\b\b\b\b\b\b\b\b\b\b\r349/600 [================>.............] - ETA: 0s - loss: 1.9039 - acc: 0.5753",
                "stream": "stdout"
              },
              {
                "output_type": "stream",
                "metadata": {
                  "tags": []
                },
                "text": "\b\b\b\b\b\b\b\b\b\b\b\b\b\b\b\b\b\b\b\b\b\b\b\b\b\b\b\b\b\b\b\b\b\b\b\b\b\b\b\b\b\b\b\b\b\b\b\b\b\b\b\b\b\b\b\b\b\b\b\b\b\b\b\b\b\b\b\b\b\b\b\b\b\b\b\b\b\b\b\r382/600 [==================>...........] - ETA: 0s - loss: 1.9015 - acc: 0.5762",
                "stream": "stdout"
              },
              {
                "output_type": "stream",
                "metadata": {
                  "tags": []
                },
                "text": "\b\b\b\b\b\b\b\b\b\b\b\b\b\b\b\b\b\b\b\b\b\b\b\b\b\b\b\b\b\b\b\b\b\b\b\b\b\b\b\b\b\b\b\b\b\b\b\b\b\b\b\b\b\b\b\b\b\b\b\b\b\b\b\b\b\b\b\b\b\b\b\b\b\b\b\b\b\b\b\r416/600 [===================>..........] - ETA: 0s - loss: 1.8984 - acc: 0.5769",
                "stream": "stdout"
              },
              {
                "output_type": "stream",
                "metadata": {
                  "tags": []
                },
                "text": "\b\b\b\b\b\b\b\b\b\b\b\b\b\b\b\b\b\b\b\b\b\b\b\b\b\b\b\b\b\b\b\b\b\b\b\b\b\b\b\b\b\b\b\b\b\b\b\b\b\b\b\b\b\b\b\b\b\b\b\b\b\b\b\b\b\b\b\b\b\b\b\b\b\b\b\b\b\b\b\r451/600 [=====================>........] - ETA: 0s - loss: 1.8960 - acc: 0.5766",
                "stream": "stdout"
              },
              {
                "output_type": "stream",
                "metadata": {
                  "tags": []
                },
                "text": "\b\b\b\b\b\b\b\b\b\b\b\b\b\b\b\b\b\b\b\b\b\b\b\b\b\b\b\b\b\b\b\b\b\b\b\b\b\b\b\b\b\b\b\b\b\b\b\b\b\b\b\b\b\b\b\b\b\b\b\b\b\b\b\b\b\b\b\b\b\b\b\b\b\b\b\b\b\b\b\r484/600 [=======================>......] - ETA: 0s - loss: 1.8932 - acc: 0.5782",
                "stream": "stdout"
              },
              {
                "output_type": "stream",
                "metadata": {
                  "tags": []
                },
                "text": "\b\b\b\b\b\b\b\b\b\b\b\b\b\b\b\b\b\b\b\b\b\b\b\b\b\b\b\b\b\b\b\b\b\b\b\b\b\b\b\b\b\b\b\b\b\b\b\b\b\b\b\b\b\b\b\b\b\b\b\b\b\b\b\b\b\b\b\b\b\b\b\b\b\b\b\b\b\b\b\r520/600 [=========================>....] - ETA: 0s - loss: 1.8904 - acc: 0.5789",
                "stream": "stdout"
              },
              {
                "output_type": "stream",
                "metadata": {
                  "tags": []
                },
                "text": "\b\b\b\b\b\b\b\b\b\b\b\b\b\b\b\b\b\b\b\b\b\b\b\b\b\b\b\b\b\b\b\b\b\b\b\b\b\b\b\b\b\b\b\b\b\b\b\b\b\b\b\b\b\b\b\b\b\b\b\b\b\b\b\b\b\b\b\b\b\b\b\b\b\b\b\b\b\b\b\r555/600 [==========================>...] - ETA: 0s - loss: 1.8871 - acc: 0.5800",
                "stream": "stdout"
              },
              {
                "output_type": "stream",
                "metadata": {
                  "tags": []
                },
                "text": "\b\b\b\b\b\b\b\b\b\b\b\b\b\b\b\b\b\b\b\b\b\b\b\b\b\b\b\b\b\b\b\b\b\b\b\b\b\b\b\b\b\b\b\b\b\b\b\b\b\b\b\b\b\b\b\b\b\b\b\b\b\b\b\b\b\b\b\b\b\b\b\b\b\b\b\b\b\b\b\r590/600 [============================>.] - ETA: 0s - loss: 1.8845 - acc: 0.5801",
                "stream": "stdout"
              },
              {
                "output_type": "stream",
                "metadata": {
                  "tags": []
                },
                "text": "\b\b\b\b\b\b\b\b\b\b\b\b\b\b\b\b\b\b\b\b\b\b\b\b\b\b\b\b\b\b\b\b\b\b\b\b\b\b\b\b\b\b\b\b\b\b\b\b\b\b\b\b\b\b\b\b\b\b\b\b\b\b\b\b\b\b\b\b\b\b\b\b\b\b\b\b\b\b\b\r600/600 [==============================] - 1s 2ms/step - loss: 1.8837 - acc: 0.5804 - val_loss: 1.8420 - val_acc: 0.6035\n",
                "stream": "stdout"
              },
              {
                "output_type": "stream",
                "metadata": {
                  "tags": []
                },
                "text": "Epoch 5/30\n\r  1/600 [..............................] - ETA: 0s - loss: 1.8425 - acc: 0.6100",
                "stream": "stdout"
              },
              {
                "output_type": "stream",
                "metadata": {
                  "tags": []
                },
                "text": "\b\b\b\b\b\b\b\b\b\b\b\b\b\b\b\b\b\b\b\b\b\b\b\b\b\b\b\b\b\b\b\b\b\b\b\b\b\b\b\b\b\b\b\b\b\b\b\b\b\b\b\b\b\b\b\b\b\b\b\b\b\b\b\b\b\b\b\b\b\b\b\b\b\b\b\b\b\b\b\r 35/600 [>.............................] - ETA: 0s - loss: 1.8305 - acc: 0.6160",
                "stream": "stdout"
              },
              {
                "output_type": "stream",
                "metadata": {
                  "tags": []
                },
                "text": "\b\b\b\b\b\b\b\b\b\b\b\b\b\b\b\b\b\b\b\b\b\b\b\b\b\b\b\b\b\b\b\b\b\b\b\b\b\b\b\b\b\b\b\b\b\b\b\b\b\b\b\b\b\b\b\b\b\b\b\b\b\b\b\b\b\b\b\b\b\b\b\b\b\b\b\b\b\b\b\r 70/600 [==>...........................] - ETA: 0s - loss: 1.8308 - acc: 0.6094",
                "stream": "stdout"
              },
              {
                "output_type": "stream",
                "metadata": {
                  "tags": []
                },
                "text": "\b\b\b\b\b\b\b\b\b\b\b\b\b\b\b\b\b\b\b\b\b\b\b\b\b\b\b\b\b\b\b\b\b\b\b\b\b\b\b\b\b\b\b\b\b\b\b\b\b\b\b\b\b\b\b\b\b\b\b\b\b\b\b\b\b\b\b\b\b\b\b\b\b\b\b\b\b\b\b\r104/600 [====>.........................] - ETA: 0s - loss: 1.8254 - acc: 0.6118",
                "stream": "stdout"
              },
              {
                "output_type": "stream",
                "metadata": {
                  "tags": []
                },
                "text": "\b\b\b\b\b\b\b\b\b\b\b\b\b\b\b\b\b\b\b\b\b\b\b\b\b\b\b\b\b\b\b\b\b\b\b\b\b\b\b\b\b\b\b\b\b\b\b\b\b\b\b\b\b\b\b\b\b\b\b\b\b\b\b\b\b\b\b\b\b\b\b\b\b\b\b\b\b\b\b\r133/600 [=====>........................] - ETA: 0s - loss: 1.8241 - acc: 0.6124",
                "stream": "stdout"
              },
              {
                "output_type": "stream",
                "metadata": {
                  "tags": []
                },
                "text": "\b\b\b\b\b\b\b\b\b\b\b\b\b\b\b\b\b\b\b\b\b\b\b\b\b\b\b\b\b\b\b\b\b\b\b\b\b\b\b\b\b\b\b\b\b\b\b\b\b\b\b\b\b\b\b\b\b\b\b\b\b\b\b\b\b\b\b\b\b\b\b\b\b\b\b\b\b\b\b\r168/600 [=======>......................] - ETA: 0s - loss: 1.8194 - acc: 0.6173",
                "stream": "stdout"
              },
              {
                "output_type": "stream",
                "metadata": {
                  "tags": []
                },
                "text": "\b\b\b\b\b\b\b\b\b\b\b\b\b\b\b\b\b\b\b\b\b\b\b\b\b\b\b\b\b\b\b\b\b\b\b\b\b\b\b\b\b\b\b\b\b\b\b\b\b\b\b\b\b\b\b\b\b\b\b\b\b\b\b\b\b\b\b\b\b\b\b\b\b\b\b\b\b\b\b\r202/600 [=========>....................] - ETA: 0s - loss: 1.8168 - acc: 0.6166",
                "stream": "stdout"
              },
              {
                "output_type": "stream",
                "metadata": {
                  "tags": []
                },
                "text": "\b\b\b\b\b\b\b\b\b\b\b\b\b\b\b\b\b\b\b\b\b\b\b\b\b\b\b\b\b\b\b\b\b\b\b\b\b\b\b\b\b\b\b\b\b\b\b\b\b\b\b\b\b\b\b\b\b\b\b\b\b\b\b\b\b\b\b\b\b\b\b\b\b\b\b\b\b\b\b\r237/600 [==========>...................] - ETA: 0s - loss: 1.8139 - acc: 0.6148",
                "stream": "stdout"
              },
              {
                "output_type": "stream",
                "metadata": {
                  "tags": []
                },
                "text": "\b\b\b\b\b\b\b\b\b\b\b\b\b\b\b\b\b\b\b\b\b\b\b\b\b\b\b\b\b\b\b\b\b\b\b\b\b\b\b\b\b\b\b\b\b\b\b\b\b\b\b\b\b\b\b\b\b\b\b\b\b\b\b\b\b\b\b\b\b\b\b\b\b\b\b\b\b\b\b\r265/600 [============>.................] - ETA: 0s - loss: 1.8118 - acc: 0.6159",
                "stream": "stdout"
              },
              {
                "output_type": "stream",
                "metadata": {
                  "tags": []
                },
                "text": "\b\b\b\b\b\b\b\b\b\b\b\b\b\b\b\b\b\b\b\b\b\b\b\b\b\b\b\b\b\b\b\b\b\b\b\b\b\b\b\b\b\b\b\b\b\b\b\b\b\b\b\b\b\b\b\b\b\b\b\b\b\b\b\b\b\b\b\b\b\b\b\b\b\b\b\b\b\b\b\r297/600 [=============>................] - ETA: 0s - loss: 1.8089 - acc: 0.6185",
                "stream": "stdout"
              },
              {
                "output_type": "stream",
                "metadata": {
                  "tags": []
                },
                "text": "\b\b\b\b\b\b\b\b\b\b\b\b\b\b\b\b\b\b\b\b\b\b\b\b\b\b\b\b\b\b\b\b\b\b\b\b\b\b\b\b\b\b\b\b\b\b\b\b\b\b\b\b\b\b\b\b\b\b\b\b\b\b\b\b\b\b\b\b\b\b\b\b\b\b\b\b\b\b\b\r328/600 [===============>..............] - ETA: 0s - loss: 1.8073 - acc: 0.6177",
                "stream": "stdout"
              },
              {
                "output_type": "stream",
                "metadata": {
                  "tags": []
                },
                "text": "\b\b\b\b\b\b\b\b\b\b\b\b\b\b\b\b\b\b\b\b\b\b\b\b\b\b\b\b\b\b\b\b\b\b\b\b\b\b\b\b\b\b\b\b\b\b\b\b\b\b\b\b\b\b\b\b\b\b\b\b\b\b\b\b\b\b\b\b\b\b\b\b\b\b\b\b\b\b\b\r363/600 [=================>............] - ETA: 0s - loss: 1.8043 - acc: 0.6187",
                "stream": "stdout"
              },
              {
                "output_type": "stream",
                "metadata": {
                  "tags": []
                },
                "text": "\b\b\b\b\b\b\b\b\b\b\b\b\b\b\b\b\b\b\b\b\b\b\b\b\b\b\b\b\b\b\b\b\b\b\b\b\b\b\b\b\b\b\b\b\b\b\b\b\b\b\b\b\b\b\b\b\b\b\b\b\b\b\b\b\b\b\b\b\b\b\b\b\b\b\b\b\b\b\b\r396/600 [==================>...........] - ETA: 0s - loss: 1.8012 - acc: 0.6199",
                "stream": "stdout"
              },
              {
                "output_type": "stream",
                "metadata": {
                  "tags": []
                },
                "text": "\b\b\b\b\b\b\b\b\b\b\b\b\b\b\b\b\b\b\b\b\b\b\b\b\b\b\b\b\b\b\b\b\b\b\b\b\b\b\b\b\b\b\b\b\b\b\b\b\b\b\b\b\b\b\b\b\b\b\b\b\b\b\b\b\b\b\b\b\b\b\b\b\b\b\b\b\b\b\b\r432/600 [====================>.........] - ETA: 0s - loss: 1.7973 - acc: 0.6203",
                "stream": "stdout"
              },
              {
                "output_type": "stream",
                "metadata": {
                  "tags": []
                },
                "text": "\b\b\b\b\b\b\b\b\b\b\b\b\b\b\b\b\b\b\b\b\b\b\b\b\b\b\b\b\b\b\b\b\b\b\b\b\b\b\b\b\b\b\b\b\b\b\b\b\b\b\b\b\b\b\b\b\b\b\b\b\b\b\b\b\b\b\b\b\b\b\b\b\b\b\b\b\b\b\b\r467/600 [======================>.......] - ETA: 0s - loss: 1.7942 - acc: 0.6201",
                "stream": "stdout"
              },
              {
                "output_type": "stream",
                "metadata": {
                  "tags": []
                },
                "text": "\b\b\b\b\b\b\b\b\b\b\b\b\b\b\b\b\b\b\b\b\b\b\b\b\b\b\b\b\b\b\b\b\b\b\b\b\b\b\b\b\b\b\b\b\b\b\b\b\b\b\b\b\b\b\b\b\b\b\b\b\b\b\b\b\b\b\b\b\b\b\b\b\b\b\b\b\b\b\b\r503/600 [========================>.....] - ETA: 0s - loss: 1.7909 - acc: 0.6205",
                "stream": "stdout"
              },
              {
                "output_type": "stream",
                "metadata": {
                  "tags": []
                },
                "text": "\b\b\b\b\b\b\b\b\b\b\b\b\b\b\b\b\b\b\b\b\b\b\b\b\b\b\b\b\b\b\b\b\b\b\b\b\b\b\b\b\b\b\b\b\b\b\b\b\b\b\b\b\b\b\b\b\b\b\b\b\b\b\b\b\b\b\b\b\b\b\b\b\b\b\b\b\b\b\b\r538/600 [=========================>....] - ETA: 0s - loss: 1.7878 - acc: 0.6207",
                "stream": "stdout"
              },
              {
                "output_type": "stream",
                "metadata": {
                  "tags": []
                },
                "text": "\b\b\b\b\b\b\b\b\b\b\b\b\b\b\b\b\b\b\b\b\b\b\b\b\b\b\b\b\b\b\b\b\b\b\b\b\b\b\b\b\b\b\b\b\b\b\b\b\b\b\b\b\b\b\b\b\b\b\b\b\b\b\b\b\b\b\b\b\b\b\b\b\b\b\b\b\b\b\b\r571/600 [===========================>..] - ETA: 0s - loss: 1.7848 - acc: 0.6204",
                "stream": "stdout"
              },
              {
                "output_type": "stream",
                "metadata": {
                  "tags": []
                },
                "text": "\b\b\b\b\b\b\b\b\b\b\b\b\b\b\b\b\b\b\b\b\b\b\b\b\b\b\b\b\b\b\b\b\b\b\b\b\b\b\b\b\b\b\b\b\b\b\b\b\b\b\b\b\b\b\b\b\b\b\b\b\b\b\b\b\b\b\b\b\b\b\b\b\b\b\b\b\b\b\b\r600/600 [==============================] - 1s 2ms/step - loss: 1.7818 - acc: 0.6206 - val_loss: 1.7255 - val_acc: 0.6064\n",
                "stream": "stdout"
              },
              {
                "output_type": "stream",
                "metadata": {
                  "tags": []
                },
                "text": "Epoch 6/30\n\r  1/600 [..............................] - ETA: 0s - loss: 1.7048 - acc: 0.6700",
                "stream": "stdout"
              },
              {
                "output_type": "stream",
                "metadata": {
                  "tags": []
                },
                "text": "\b\b\b\b\b\b\b\b\b\b\b\b\b\b\b\b\b\b\b\b\b\b\b\b\b\b\b\b\b\b\b\b\b\b\b\b\b\b\b\b\b\b\b\b\b\b\b\b\b\b\b\b\b\b\b\b\b\b\b\b\b\b\b\b\b\b\b\b\b\b\b\b\b\b\b\b\b\b\b\r 35/600 [>.............................] - ETA: 0s - loss: 1.7299 - acc: 0.6243",
                "stream": "stdout"
              },
              {
                "output_type": "stream",
                "metadata": {
                  "tags": []
                },
                "text": "\b\b\b\b\b\b\b\b\b\b\b\b\b\b\b\b\b\b\b\b\b\b\b\b\b\b\b\b\b\b\b\b\b\b\b\b\b\b\b\b\b\b\b\b\b\b\b\b\b\b\b\b\b\b\b\b\b\b\b\b\b\b\b\b\b\b\b\b\b\b\b\b\b\b\b\b\b\b\b\r 71/600 [==>...........................] - ETA: 0s - loss: 1.7225 - acc: 0.6214",
                "stream": "stdout"
              },
              {
                "output_type": "stream",
                "metadata": {
                  "tags": []
                },
                "text": "\b\b\b\b\b\b\b\b\b\b\b\b\b\b\b\b\b\b\b\b\b\b\b\b\b\b\b\b\b\b\b\b\b\b\b\b\b\b\b\b\b\b\b\b\b\b\b\b\b\b\b\b\b\b\b\b\b\b\b\b\b\b\b\b\b\b\b\b\b\b\b\b\b\b\b\b\b\b\b\r105/600 [====>.........................] - ETA: 0s - loss: 1.7170 - acc: 0.6222",
                "stream": "stdout"
              },
              {
                "output_type": "stream",
                "metadata": {
                  "tags": []
                },
                "text": "\b\b\b\b\b\b\b\b\b\b\b\b\b\b\b\b\b\b\b\b\b\b\b\b\b\b\b\b\b\b\b\b\b\b\b\b\b\b\b\b\b\b\b\b\b\b\b\b\b\b\b\b\b\b\b\b\b\b\b\b\b\b\b\b\b\b\b\b\b\b\b\b\b\b\b\b\b\b\b\r140/600 [======>.......................] - ETA: 0s - loss: 1.7158 - acc: 0.6208",
                "stream": "stdout"
              },
              {
                "output_type": "stream",
                "metadata": {
                  "tags": []
                },
                "text": "\b\b\b\b\b\b\b\b\b\b\b\b\b\b\b\b\b\b\b\b\b\b\b\b\b\b\b\b\b\b\b\b\b\b\b\b\b\b\b\b\b\b\b\b\b\b\b\b\b\b\b\b\b\b\b\b\b\b\b\b\b\b\b\b\b\b\b\b\b\b\b\b\b\b\b\b\b\b\b\r175/600 [=======>......................] - ETA: 0s - loss: 1.7140 - acc: 0.6185",
                "stream": "stdout"
              },
              {
                "output_type": "stream",
                "metadata": {
                  "tags": []
                },
                "text": "\b\b\b\b\b\b\b\b\b\b\b\b\b\b\b\b\b\b\b\b\b\b\b\b\b\b\b\b\b\b\b\b\b\b\b\b\b\b\b\b\b\b\b\b\b\b\b\b\b\b\b\b\b\b\b\b\b\b\b\b\b\b\b\b\b\b\b\b\b\b\b\b\b\b\b\b\b\b\b\r210/600 [=========>....................] - ETA: 0s - loss: 1.7108 - acc: 0.6152",
                "stream": "stdout"
              },
              {
                "output_type": "stream",
                "metadata": {
                  "tags": []
                },
                "text": "\b\b\b\b\b\b\b\b\b\b\b\b\b\b\b\b\b\b\b\b\b\b\b\b\b\b\b\b\b\b\b\b\b\b\b\b\b\b\b\b\b\b\b\b\b\b\b\b\b\b\b\b\b\b\b\b\b\b\b\b\b\b\b\b\b\b\b\b\b\b\b\b\b\b\b\b\b\b\b\r243/600 [===========>..................] - ETA: 0s - loss: 1.7082 - acc: 0.6162",
                "stream": "stdout"
              },
              {
                "output_type": "stream",
                "metadata": {
                  "tags": []
                },
                "text": "\b\b\b\b\b\b\b\b\b\b\b\b\b\b\b\b\b\b\b\b\b\b\b\b\b\b\b\b\b\b\b\b\b\b\b\b\b\b\b\b\b\b\b\b\b\b\b\b\b\b\b\b\b\b\b\b\b\b\b\b\b\b\b\b\b\b\b\b\b\b\b\b\b\b\b\b\b\b\b\r280/600 [=============>................] - ETA: 0s - loss: 1.7039 - acc: 0.6174",
                "stream": "stdout"
              },
              {
                "output_type": "stream",
                "metadata": {
                  "tags": []
                },
                "text": "\b\b\b\b\b\b\b\b\b\b\b\b\b\b\b\b\b\b\b\b\b\b\b\b\b\b\b\b\b\b\b\b\b\b\b\b\b\b\b\b\b\b\b\b\b\b\b\b\b\b\b\b\b\b\b\b\b\b\b\b\b\b\b\b\b\b\b\b\b\b\b\b\b\b\b\b\b\b\b\r316/600 [==============>...............] - ETA: 0s - loss: 1.7012 - acc: 0.6174",
                "stream": "stdout"
              },
              {
                "output_type": "stream",
                "metadata": {
                  "tags": []
                },
                "text": "\b\b\b\b\b\b\b\b\b\b\b\b\b\b\b\b\b\b\b\b\b\b\b\b\b\b\b\b\b\b\b\b\b\b\b\b\b\b\b\b\b\b\b\b\b\b\b\b\b\b\b\b\b\b\b\b\b\b\b\b\b\b\b\b\b\b\b\b\b\b\b\b\b\b\b\b\b\b\b\r350/600 [================>.............] - ETA: 0s - loss: 1.6981 - acc: 0.6160",
                "stream": "stdout"
              },
              {
                "output_type": "stream",
                "metadata": {
                  "tags": []
                },
                "text": "\b\b\b\b\b\b\b\b\b\b\b\b\b\b\b\b\b\b\b\b\b\b\b\b\b\b\b\b\b\b\b\b\b\b\b\b\b\b\b\b\b\b\b\b\b\b\b\b\b\b\b\b\b\b\b\b\b\b\b\b\b\b\b\b\b\b\b\b\b\b\b\b\b\b\b\b\b\b\b\r383/600 [==================>...........] - ETA: 0s - loss: 1.6955 - acc: 0.6162",
                "stream": "stdout"
              },
              {
                "output_type": "stream",
                "metadata": {
                  "tags": []
                },
                "text": "\b\b\b\b\b\b\b\b\b\b\b\b\b\b\b\b\b\b\b\b\b\b\b\b\b\b\b\b\b\b\b\b\b\b\b\b\b\b\b\b\b\b\b\b\b\b\b\b\b\b\b\b\b\b\b\b\b\b\b\b\b\b\b\b\b\b\b\b\b\b\b\b\b\b\b\b\b\b\b\r419/600 [===================>..........] - ETA: 0s - loss: 1.6922 - acc: 0.6155",
                "stream": "stdout"
              },
              {
                "output_type": "stream",
                "metadata": {
                  "tags": []
                },
                "text": "\b\b\b\b\b\b\b\b\b\b\b\b\b\b\b\b\b\b\b\b\b\b\b\b\b\b\b\b\b\b\b\b\b\b\b\b\b\b\b\b\b\b\b\b\b\b\b\b\b\b\b\b\b\b\b\b\b\b\b\b\b\b\b\b\b\b\b\b\b\b\b\b\b\b\b\b\b\b\b\r454/600 [=====================>........] - ETA: 0s - loss: 1.6894 - acc: 0.6148",
                "stream": "stdout"
              },
              {
                "output_type": "stream",
                "metadata": {
                  "tags": []
                },
                "text": "\b\b\b\b\b\b\b\b\b\b\b\b\b\b\b\b\b\b\b\b\b\b\b\b\b\b\b\b\b\b\b\b\b\b\b\b\b\b\b\b\b\b\b\b\b\b\b\b\b\b\b\b\b\b\b\b\b\b\b\b\b\b\b\b\b\b\b\b\b\b\b\b\b\b\b\b\b\b\b\r487/600 [=======================>......] - ETA: 0s - loss: 1.6865 - acc: 0.6152",
                "stream": "stdout"
              },
              {
                "output_type": "stream",
                "metadata": {
                  "tags": []
                },
                "text": "\b\b\b\b\b\b\b\b\b\b\b\b\b\b\b\b\b\b\b\b\b\b\b\b\b\b\b\b\b\b\b\b\b\b\b\b\b\b\b\b\b\b\b\b\b\b\b\b\b\b\b\b\b\b\b\b\b\b\b\b\b\b\b\b\b\b\b\b\b\b\b\b\b\b\b\b\b\b\b\r523/600 [=========================>....] - ETA: 0s - loss: 1.6833 - acc: 0.6146",
                "stream": "stdout"
              },
              {
                "output_type": "stream",
                "metadata": {
                  "tags": []
                },
                "text": "\b\b\b\b\b\b\b\b\b\b\b\b\b\b\b\b\b\b\b\b\b\b\b\b\b\b\b\b\b\b\b\b\b\b\b\b\b\b\b\b\b\b\b\b\b\b\b\b\b\b\b\b\b\b\b\b\b\b\b\b\b\b\b\b\b\b\b\b\b\b\b\b\b\b\b\b\b\b\b\r558/600 [==========================>...] - ETA: 0s - loss: 1.6806 - acc: 0.6140",
                "stream": "stdout"
              },
              {
                "output_type": "stream",
                "metadata": {
                  "tags": []
                },
                "text": "\b\b\b\b\b\b\b\b\b\b\b\b\b\b\b\b\b\b\b\b\b\b\b\b\b\b\b\b\b\b\b\b\b\b\b\b\b\b\b\b\b\b\b\b\b\b\b\b\b\b\b\b\b\b\b\b\b\b\b\b\b\b\b\b\b\b\b\b\b\b\b\b\b\b\b\b\b\b\b\r593/600 [============================>.] - ETA: 0s - loss: 1.6775 - acc: 0.6152",
                "stream": "stdout"
              },
              {
                "output_type": "stream",
                "metadata": {
                  "tags": []
                },
                "text": "\b\b\b\b\b\b\b\b\b\b\b\b\b\b\b\b\b\b\b\b\b\b\b\b\b\b\b\b\b\b\b\b\b\b\b\b\b\b\b\b\b\b\b\b\b\b\b\b\b\b\b\b\b\b\b\b\b\b\b\b\b\b\b\b\b\b\b\b\b\b\b\b\b\b\b\b\b\b\b\r600/600 [==============================] - 1s 2ms/step - loss: 1.6767 - acc: 0.6155 - val_loss: 1.6194 - val_acc: 0.6239\n",
                "stream": "stdout"
              },
              {
                "output_type": "stream",
                "metadata": {
                  "tags": []
                },
                "text": "Epoch 7/30\n\r  1/600 [..............................] - ETA: 0s - loss: 1.6174 - acc: 0.6400",
                "stream": "stdout"
              },
              {
                "output_type": "stream",
                "metadata": {
                  "tags": []
                },
                "text": "\b\b\b\b\b\b\b\b\b\b\b\b\b\b\b\b\b\b\b\b\b\b\b\b\b\b\b\b\b\b\b\b\b\b\b\b\b\b\b\b\b\b\b\b\b\b\b\b\b\b\b\b\b\b\b\b\b\b\b\b\b\b\b\b\b\b\b\b\b\b\b\b\b\b\b\b\b\b\b\r 34/600 [>.............................] - ETA: 0s - loss: 1.6232 - acc: 0.6232",
                "stream": "stdout"
              },
              {
                "output_type": "stream",
                "metadata": {
                  "tags": []
                },
                "text": "\b\b\b\b\b\b\b\b\b\b\b\b\b\b\b\b\b\b\b\b\b\b\b\b\b\b\b\b\b\b\b\b\b\b\b\b\b\b\b\b\b\b\b\b\b\b\b\b\b\b\b\b\b\b\b\b\b\b\b\b\b\b\b\b\b\b\b\b\b\b\b\b\b\b\b\b\b\b\b\r 63/600 [==>...........................] - ETA: 0s - loss: 1.6181 - acc: 0.6265",
                "stream": "stdout"
              },
              {
                "output_type": "stream",
                "metadata": {
                  "tags": []
                },
                "text": "\b\b\b\b\b\b\b\b\b\b\b\b\b\b\b\b\b\b\b\b\b\b\b\b\b\b\b\b\b\b\b\b\b\b\b\b\b\b\b\b\b\b\b\b\b\b\b\b\b\b\b\b\b\b\b\b\b\b\b\b\b\b\b\b\b\b\b\b\b\b\b\b\b\b\b\b\b\b\b\r 95/600 [===>..........................] - ETA: 0s - loss: 1.6188 - acc: 0.6168",
                "stream": "stdout"
              },
              {
                "output_type": "stream",
                "metadata": {
                  "tags": []
                },
                "text": "\b\b\b\b\b\b\b\b\b\b\b\b\b\b\b\b\b\b\b\b\b\b\b\b\b\b\b\b\b\b\b\b\b\b\b\b\b\b\b\b\b\b\b\b\b\b\b\b\b\b\b\b\b\b\b\b\b\b\b\b\b\b\b\b\b\b\b\b\b\b\b\b\b\b\b\b\b\b\b\r126/600 [=====>........................] - ETA: 0s - loss: 1.6152 - acc: 0.6187",
                "stream": "stdout"
              },
              {
                "output_type": "stream",
                "metadata": {
                  "tags": []
                },
                "text": "\b\b\b\b\b\b\b\b\b\b\b\b\b\b\b\b\b\b\b\b\b\b\b\b\b\b\b\b\b\b\b\b\b\b\b\b\b\b\b\b\b\b\b\b\b\b\b\b\b\b\b\b\b\b\b\b\b\b\b\b\b\b\b\b\b\b\b\b\b\b\b\b\b\b\b\b\b\b\b\r162/600 [=======>......................] - ETA: 0s - loss: 1.6117 - acc: 0.6228",
                "stream": "stdout"
              },
              {
                "output_type": "stream",
                "metadata": {
                  "tags": []
                },
                "text": "\b\b\b\b\b\b\b\b\b\b\b\b\b\b\b\b\b\b\b\b\b\b\b\b\b\b\b\b\b\b\b\b\b\b\b\b\b\b\b\b\b\b\b\b\b\b\b\b\b\b\b\b\b\b\b\b\b\b\b\b\b\b\b\b\b\b\b\b\b\b\b\b\b\b\b\b\b\b\b\r194/600 [========>.....................] - ETA: 0s - loss: 1.6100 - acc: 0.6241",
                "stream": "stdout"
              },
              {
                "output_type": "stream",
                "metadata": {
                  "tags": []
                },
                "text": "\b\b\b\b\b\b\b\b\b\b\b\b\b\b\b\b\b\b\b\b\b\b\b\b\b\b\b\b\b\b\b\b\b\b\b\b\b\b\b\b\b\b\b\b\b\b\b\b\b\b\b\b\b\b\b\b\b\b\b\b\b\b\b\b\b\b\b\b\b\b\b\b\b\b\b\b\b\b\b\r224/600 [==========>...................] - ETA: 0s - loss: 1.6072 - acc: 0.6233",
                "stream": "stdout"
              },
              {
                "output_type": "stream",
                "metadata": {
                  "tags": []
                },
                "text": "\b\b\b\b\b\b\b\b\b\b\b\b\b\b\b\b\b\b\b\b\b\b\b\b\b\b\b\b\b\b\b\b\b\b\b\b\b\b\b\b\b\b\b\b\b\b\b\b\b\b\b\b\b\b\b\b\b\b\b\b\b\b\b\b\b\b\b\b\b\b\b\b\b\b\b\b\b\b\b\r258/600 [===========>..................] - ETA: 0s - loss: 1.6035 - acc: 0.6234",
                "stream": "stdout"
              },
              {
                "output_type": "stream",
                "metadata": {
                  "tags": []
                },
                "text": "\b\b\b\b\b\b\b\b\b\b\b\b\b\b\b\b\b\b\b\b\b\b\b\b\b\b\b\b\b\b\b\b\b\b\b\b\b\b\b\b\b\b\b\b\b\b\b\b\b\b\b\b\b\b\b\b\b\b\b\b\b\b\b\b\b\b\b\b\b\b\b\b\b\b\b\b\b\b\b\r290/600 [=============>................] - ETA: 0s - loss: 1.6014 - acc: 0.6216",
                "stream": "stdout"
              },
              {
                "output_type": "stream",
                "metadata": {
                  "tags": []
                },
                "text": "\b\b\b\b\b\b\b\b\b\b\b\b\b\b\b\b\b\b\b\b\b\b\b\b\b\b\b\b\b\b\b\b\b\b\b\b\b\b\b\b\b\b\b\b\b\b\b\b\b\b\b\b\b\b\b\b\b\b\b\b\b\b\b\b\b\b\b\b\b\b\b\b\b\b\b\b\b\b\b\r323/600 [===============>..............] - ETA: 0s - loss: 1.5987 - acc: 0.6211",
                "stream": "stdout"
              },
              {
                "output_type": "stream",
                "metadata": {
                  "tags": []
                },
                "text": "\b\b\b\b\b\b\b\b\b\b\b\b\b\b\b\b\b\b\b\b\b\b\b\b\b\b\b\b\b\b\b\b\b\b\b\b\b\b\b\b\b\b\b\b\b\b\b\b\b\b\b\b\b\b\b\b\b\b\b\b\b\b\b\b\b\b\b\b\b\b\b\b\b\b\b\b\b\b\b\r354/600 [================>.............] - ETA: 0s - loss: 1.5956 - acc: 0.6221",
                "stream": "stdout"
              },
              {
                "output_type": "stream",
                "metadata": {
                  "tags": []
                },
                "text": "\b\b\b\b\b\b\b\b\b\b\b\b\b\b\b\b\b\b\b\b\b\b\b\b\b\b\b\b\b\b\b\b\b\b\b\b\b\b\b\b\b\b\b\b\b\b\b\b\b\b\b\b\b\b\b\b\b\b\b\b\b\b\b\b\b\b\b\b\b\b\b\b\b\b\b\b\b\b\b\r391/600 [==================>...........] - ETA: 0s - loss: 1.5923 - acc: 0.6191",
                "stream": "stdout"
              },
              {
                "output_type": "stream",
                "metadata": {
                  "tags": []
                },
                "text": "\b\b\b\b\b\b\b\b\b\b\b\b\b\b\b\b\b\b\b\b\b\b\b\b\b\b\b\b\b\b\b\b\b\b\b\b\b\b\b\b\b\b\b\b\b\b\b\b\b\b\b\b\b\b\b\b\b\b\b\b\b\b\b\b\b\b\b\b\b\b\b\b\b\b\b\b\b\b\b\r428/600 [====================>.........] - ETA: 0s - loss: 1.5899 - acc: 0.6176",
                "stream": "stdout"
              },
              {
                "output_type": "stream",
                "metadata": {
                  "tags": []
                },
                "text": "\b\b\b\b\b\b\b\b\b\b\b\b\b\b\b\b\b\b\b\b\b\b\b\b\b\b\b\b\b\b\b\b\b\b\b\b\b\b\b\b\b\b\b\b\b\b\b\b\b\b\b\b\b\b\b\b\b\b\b\b\b\b\b\b\b\b\b\b\b\b\b\b\b\b\b\b\b\b\b\r465/600 [======================>.......] - ETA: 0s - loss: 1.5874 - acc: 0.6176",
                "stream": "stdout"
              },
              {
                "output_type": "stream",
                "metadata": {
                  "tags": []
                },
                "text": "\b\b\b\b\b\b\b\b\b\b\b\b\b\b\b\b\b\b\b\b\b\b\b\b\b\b\b\b\b\b\b\b\b\b\b\b\b\b\b\b\b\b\b\b\b\b\b\b\b\b\b\b\b\b\b\b\b\b\b\b\b\b\b\b\b\b\b\b\b\b\b\b\b\b\b\b\b\b\b\r499/600 [=======================>......] - ETA: 0s - loss: 1.5854 - acc: 0.6185",
                "stream": "stdout"
              },
              {
                "output_type": "stream",
                "metadata": {
                  "tags": []
                },
                "text": "\b\b\b\b\b\b\b\b\b\b\b\b\b\b\b\b\b\b\b\b\b\b\b\b\b\b\b\b\b\b\b\b\b\b\b\b\b\b\b\b\b\b\b\b\b\b\b\b\b\b\b\b\b\b\b\b\b\b\b\b\b\b\b\b\b\b\b\b\b\b\b\b\b\b\b\b\b\b\b\r536/600 [=========================>....] - ETA: 0s - loss: 1.5827 - acc: 0.6188",
                "stream": "stdout"
              },
              {
                "output_type": "stream",
                "metadata": {
                  "tags": []
                },
                "text": "\b\b\b\b\b\b\b\b\b\b\b\b\b\b\b\b\b\b\b\b\b\b\b\b\b\b\b\b\b\b\b\b\b\b\b\b\b\b\b\b\b\b\b\b\b\b\b\b\b\b\b\b\b\b\b\b\b\b\b\b\b\b\b\b\b\b\b\b\b\b\b\b\b\b\b\b\b\b\b\r573/600 [===========================>..] - ETA: 0s - loss: 1.5796 - acc: 0.6191",
                "stream": "stdout"
              },
              {
                "output_type": "stream",
                "metadata": {
                  "tags": []
                },
                "text": "\b\b\b\b\b\b\b\b\b\b\b\b\b\b\b\b\b\b\b\b\b\b\b\b\b\b\b\b\b\b\b\b\b\b\b\b\b\b\b\b\b\b\b\b\b\b\b\b\b\b\b\b\b\b\b\b\b\b\b\b\b\b\b\b\b\b\b\b\b\b\b\b\b\b\b\b\b\b\b\r600/600 [==============================] - 1s 2ms/step - loss: 1.5776 - acc: 0.6194 - val_loss: 1.5337 - val_acc: 0.6312\n",
                "stream": "stdout"
              },
              {
                "output_type": "stream",
                "metadata": {
                  "tags": []
                },
                "text": "Epoch 8/30\n\r  1/600 [..............................] - ETA: 0s - loss: 1.5389 - acc: 0.6400",
                "stream": "stdout"
              },
              {
                "output_type": "stream",
                "metadata": {
                  "tags": []
                },
                "text": "\b\b\b\b\b\b\b\b\b\b\b\b\b\b\b\b\b\b\b\b\b\b\b\b\b\b\b\b\b\b\b\b\b\b\b\b\b\b\b\b\b\b\b\b\b\b\b\b\b\b\b\b\b\b\b\b\b\b\b\b\b\b\b\b\b\b\b\b\b\b\b\b\b\b\b\b\b\b\b\r 35/600 [>.............................] - ETA: 0s - loss: 1.5156 - acc: 0.6509",
                "stream": "stdout"
              },
              {
                "output_type": "stream",
                "metadata": {
                  "tags": []
                },
                "text": "\b\b\b\b\b\b\b\b\b\b\b\b\b\b\b\b\b\b\b\b\b\b\b\b\b\b\b\b\b\b\b\b\b\b\b\b\b\b\b\b\b\b\b\b\b\b\b\b\b\b\b\b\b\b\b\b\b\b\b\b\b\b\b\b\b\b\b\b\b\b\b\b\b\b\b\b\b\b\b\r 70/600 [==>...........................] - ETA: 0s - loss: 1.5243 - acc: 0.6406",
                "stream": "stdout"
              },
              {
                "output_type": "stream",
                "metadata": {
                  "tags": []
                },
                "text": "\b\b\b\b\b\b\b\b\b\b\b\b\b\b\b\b\b\b\b\b\b\b\b\b\b\b\b\b\b\b\b\b\b\b\b\b\b\b\b\b\b\b\b\b\b\b\b\b\b\b\b\b\b\b\b\b\b\b\b\b\b\b\b\b\b\b\b\b\b\b\b\b\b\b\b\b\b\b\b\r103/600 [====>.........................] - ETA: 0s - loss: 1.5221 - acc: 0.6366",
                "stream": "stdout"
              },
              {
                "output_type": "stream",
                "metadata": {
                  "tags": []
                },
                "text": "\b\b\b\b\b\b\b\b\b\b\b\b\b\b\b\b\b\b\b\b\b\b\b\b\b\b\b\b\b\b\b\b\b\b\b\b\b\b\b\b\b\b\b\b\b\b\b\b\b\b\b\b\b\b\b\b\b\b\b\b\b\b\b\b\b\b\b\b\b\b\b\b\b\b\b\b\b\b\b\r134/600 [=====>........................] - ETA: 0s - loss: 1.5200 - acc: 0.6368",
                "stream": "stdout"
              },
              {
                "output_type": "stream",
                "metadata": {
                  "tags": []
                },
                "text": "\b\b\b\b\b\b\b\b\b\b\b\b\b\b\b\b\b\b\b\b\b\b\b\b\b\b\b\b\b\b\b\b\b\b\b\b\b\b\b\b\b\b\b\b\b\b\b\b\b\b\b\b\b\b\b\b\b\b\b\b\b\b\b\b\b\b\b\b\b\b\b\b\b\b\b\b\b\b\b\r168/600 [=======>......................] - ETA: 0s - loss: 1.5143 - acc: 0.6386",
                "stream": "stdout"
              },
              {
                "output_type": "stream",
                "metadata": {
                  "tags": []
                },
                "text": "\b\b\b\b\b\b\b\b\b\b\b\b\b\b\b\b\b\b\b\b\b\b\b\b\b\b\b\b\b\b\b\b\b\b\b\b\b\b\b\b\b\b\b\b\b\b\b\b\b\b\b\b\b\b\b\b\b\b\b\b\b\b\b\b\b\b\b\b\b\b\b\b\b\b\b\b\b\b\b\r202/600 [=========>....................] - ETA: 0s - loss: 1.5134 - acc: 0.6363",
                "stream": "stdout"
              },
              {
                "output_type": "stream",
                "metadata": {
                  "tags": []
                },
                "text": "\b\b\b\b\b\b\b\b\b\b\b\b\b\b\b\b\b\b\b\b\b\b\b\b\b\b\b\b\b\b\b\b\b\b\b\b\b\b\b\b\b\b\b\b\b\b\b\b\b\b\b\b\b\b\b\b\b\b\b\b\b\b\b\b\b\b\b\b\b\b\b\b\b\b\b\b\b\b\b\r237/600 [==========>...................] - ETA: 0s - loss: 1.5113 - acc: 0.6356",
                "stream": "stdout"
              },
              {
                "output_type": "stream",
                "metadata": {
                  "tags": []
                },
                "text": "\b\b\b\b\b\b\b\b\b\b\b\b\b\b\b\b\b\b\b\b\b\b\b\b\b\b\b\b\b\b\b\b\b\b\b\b\b\b\b\b\b\b\b\b\b\b\b\b\b\b\b\b\b\b\b\b\b\b\b\b\b\b\b\b\b\b\b\b\b\b\b\b\b\b\b\b\b\b\b\r271/600 [============>.................] - ETA: 0s - loss: 1.5094 - acc: 0.6333",
                "stream": "stdout"
              },
              {
                "output_type": "stream",
                "metadata": {
                  "tags": []
                },
                "text": "\b\b\b\b\b\b\b\b\b\b\b\b\b\b\b\b\b\b\b\b\b\b\b\b\b\b\b\b\b\b\b\b\b\b\b\b\b\b\b\b\b\b\b\b\b\b\b\b\b\b\b\b\b\b\b\b\b\b\b\b\b\b\b\b\b\b\b\b\b\b\b\b\b\b\b\b\b\b\b\r305/600 [==============>...............] - ETA: 0s - loss: 1.5070 - acc: 0.6349",
                "stream": "stdout"
              },
              {
                "output_type": "stream",
                "metadata": {
                  "tags": []
                },
                "text": "\b\b\b\b\b\b\b\b\b\b\b\b\b\b\b\b\b\b\b\b\b\b\b\b\b\b\b\b\b\b\b\b\b\b\b\b\b\b\b\b\b\b\b\b\b\b\b\b\b\b\b\b\b\b\b\b\b\b\b\b\b\b\b\b\b\b\b\b\b\b\b\b\b\b\b\b\b\b\b\r336/600 [===============>..............] - ETA: 0s - loss: 1.5054 - acc: 0.6343",
                "stream": "stdout"
              },
              {
                "output_type": "stream",
                "metadata": {
                  "tags": []
                },
                "text": "\b\b\b\b\b\b\b\b\b\b\b\b\b\b\b\b\b\b\b\b\b\b\b\b\b\b\b\b\b\b\b\b\b\b\b\b\b\b\b\b\b\b\b\b\b\b\b\b\b\b\b\b\b\b\b\b\b\b\b\b\b\b\b\b\b\b\b\b\b\b\b\b\b\b\b\b\b\b\b\r368/600 [=================>............] - ETA: 0s - loss: 1.5033 - acc: 0.6330",
                "stream": "stdout"
              },
              {
                "output_type": "stream",
                "metadata": {
                  "tags": []
                },
                "text": "\b\b\b\b\b\b\b\b\b\b\b\b\b\b\b\b\b\b\b\b\b\b\b\b\b\b\b\b\b\b\b\b\b\b\b\b\b\b\b\b\b\b\b\b\b\b\b\b\b\b\b\b\b\b\b\b\b\b\b\b\b\b\b\b\b\b\b\b\b\b\b\b\b\b\b\b\b\b\b\r401/600 [===================>..........] - ETA: 0s - loss: 1.5018 - acc: 0.6334",
                "stream": "stdout"
              },
              {
                "output_type": "stream",
                "metadata": {
                  "tags": []
                },
                "text": "\b\b\b\b\b\b\b\b\b\b\b\b\b\b\b\b\b\b\b\b\b\b\b\b\b\b\b\b\b\b\b\b\b\b\b\b\b\b\b\b\b\b\b\b\b\b\b\b\b\b\b\b\b\b\b\b\b\b\b\b\b\b\b\b\b\b\b\b\b\b\b\b\b\b\b\b\b\b\b\r438/600 [====================>.........] - ETA: 0s - loss: 1.4985 - acc: 0.6337",
                "stream": "stdout"
              },
              {
                "output_type": "stream",
                "metadata": {
                  "tags": []
                },
                "text": "\b\b\b\b\b\b\b\b\b\b\b\b\b\b\b\b\b\b\b\b\b\b\b\b\b\b\b\b\b\b\b\b\b\b\b\b\b\b\b\b\b\b\b\b\b\b\b\b\b\b\b\b\b\b\b\b\b\b\b\b\b\b\b\b\b\b\b\b\b\b\b\b\b\b\b\b\b\b\b\r474/600 [======================>.......] - ETA: 0s - loss: 1.4969 - acc: 0.6326",
                "stream": "stdout"
              },
              {
                "output_type": "stream",
                "metadata": {
                  "tags": []
                },
                "text": "\b\b\b\b\b\b\b\b\b\b\b\b\b\b\b\b\b\b\b\b\b\b\b\b\b\b\b\b\b\b\b\b\b\b\b\b\b\b\b\b\b\b\b\b\b\b\b\b\b\b\b\b\b\b\b\b\b\b\b\b\b\b\b\b\b\b\b\b\b\b\b\b\b\b\b\b\b\b\b\r509/600 [========================>.....] - ETA: 0s - loss: 1.4942 - acc: 0.6321",
                "stream": "stdout"
              },
              {
                "output_type": "stream",
                "metadata": {
                  "tags": []
                },
                "text": "\b\b\b\b\b\b\b\b\b\b\b\b\b\b\b\b\b\b\b\b\b\b\b\b\b\b\b\b\b\b\b\b\b\b\b\b\b\b\b\b\b\b\b\b\b\b\b\b\b\b\b\b\b\b\b\b\b\b\b\b\b\b\b\b\b\b\b\b\b\b\b\b\b\b\b\b\b\b\b\r544/600 [==========================>...] - ETA: 0s - loss: 1.4910 - acc: 0.6318",
                "stream": "stdout"
              },
              {
                "output_type": "stream",
                "metadata": {
                  "tags": []
                },
                "text": "\b\b\b\b\b\b\b\b\b\b\b\b\b\b\b\b\b\b\b\b\b\b\b\b\b\b\b\b\b\b\b\b\b\b\b\b\b\b\b\b\b\b\b\b\b\b\b\b\b\b\b\b\b\b\b\b\b\b\b\b\b\b\b\b\b\b\b\b\b\b\b\b\b\b\b\b\b\b\b\r580/600 [============================>.] - ETA: 0s - loss: 1.4889 - acc: 0.6309",
                "stream": "stdout"
              },
              {
                "output_type": "stream",
                "metadata": {
                  "tags": []
                },
                "text": "\b\b\b\b\b\b\b\b\b\b\b\b\b\b\b\b\b\b\b\b\b\b\b\b\b\b\b\b\b\b\b\b\b\b\b\b\b\b\b\b\b\b\b\b\b\b\b\b\b\b\b\b\b\b\b\b\b\b\b\b\b\b\b\b\b\b\b\b\b\b\b\b\b\b\b\b\b\b\b\r600/600 [==============================] - 1s 2ms/step - loss: 1.4872 - acc: 0.6309 - val_loss: 1.4470 - val_acc: 0.6066\n",
                "stream": "stdout"
              },
              {
                "output_type": "stream",
                "metadata": {
                  "tags": []
                },
                "text": "Epoch 9/30\n\r  1/600 [..............................] - ETA: 0s - loss: 1.5003 - acc: 0.5300",
                "stream": "stdout"
              },
              {
                "output_type": "stream",
                "metadata": {
                  "tags": []
                },
                "text": "\b\b\b\b\b\b\b\b\b\b\b\b\b\b\b\b\b\b\b\b\b\b\b\b\b\b\b\b\b\b\b\b\b\b\b\b\b\b\b\b\b\b\b\b\b\b\b\b\b\b\b\b\b\b\b\b\b\b\b\b\b\b\b\b\b\b\b\b\b\b\b\b\b\b\b\b\b\b\b\r 36/600 [>.............................] - ETA: 0s - loss: 1.4470 - acc: 0.6272",
                "stream": "stdout"
              },
              {
                "output_type": "stream",
                "metadata": {
                  "tags": []
                },
                "text": "\b\b\b\b\b\b\b\b\b\b\b\b\b\b\b\b\b\b\b\b\b\b\b\b\b\b\b\b\b\b\b\b\b\b\b\b\b\b\b\b\b\b\b\b\b\b\b\b\b\b\b\b\b\b\b\b\b\b\b\b\b\b\b\b\b\b\b\b\b\b\b\b\b\b\b\b\b\b\b\r 72/600 [==>...........................] - ETA: 0s - loss: 1.4410 - acc: 0.6275",
                "stream": "stdout"
              },
              {
                "output_type": "stream",
                "metadata": {
                  "tags": []
                },
                "text": "\b\b\b\b\b\b\b\b\b\b\b\b\b\b\b\b\b\b\b\b\b\b\b\b\b\b\b\b\b\b\b\b\b\b\b\b\b\b\b\b\b\b\b\b\b\b\b\b\b\b\b\b\b\b\b\b\b\b\b\b\b\b\b\b\b\b\b\b\b\b\b\b\b\b\b\b\b\b\b\r106/600 [====>.........................] - ETA: 0s - loss: 1.4336 - acc: 0.6307",
                "stream": "stdout"
              },
              {
                "output_type": "stream",
                "metadata": {
                  "tags": []
                },
                "text": "\b\b\b\b\b\b\b\b\b\b\b\b\b\b\b\b\b\b\b\b\b\b\b\b\b\b\b\b\b\b\b\b\b\b\b\b\b\b\b\b\b\b\b\b\b\b\b\b\b\b\b\b\b\b\b\b\b\b\b\b\b\b\b\b\b\b\b\b\b\b\b\b\b\b\b\b\b\b\b\r143/600 [======>.......................] - ETA: 0s - loss: 1.4339 - acc: 0.6308",
                "stream": "stdout"
              },
              {
                "output_type": "stream",
                "metadata": {
                  "tags": []
                },
                "text": "\b\b\b\b\b\b\b\b\b\b\b\b\b\b\b\b\b\b\b\b\b\b\b\b\b\b\b\b\b\b\b\b\b\b\b\b\b\b\b\b\b\b\b\b\b\b\b\b\b\b\b\b\b\b\b\b\b\b\b\b\b\b\b\b\b\b\b\b\b\b\b\b\b\b\b\b\b\b\b\r180/600 [========>.....................] - ETA: 0s - loss: 1.4315 - acc: 0.6316",
                "stream": "stdout"
              },
              {
                "output_type": "stream",
                "metadata": {
                  "tags": []
                },
                "text": "\b\b\b\b\b\b\b\b\b\b\b\b\b\b\b\b\b\b\b\b\b\b\b\b\b\b\b\b\b\b\b\b\b\b\b\b\b\b\b\b\b\b\b\b\b\b\b\b\b\b\b\b\b\b\b\b\b\b\b\b\b\b\b\b\b\b\b\b\b\b\b\b\b\b\b\b\b\b\b\r217/600 [=========>....................] - ETA: 0s - loss: 1.4286 - acc: 0.6309",
                "stream": "stdout"
              },
              {
                "output_type": "stream",
                "metadata": {
                  "tags": []
                },
                "text": "\b\b\b\b\b\b\b\b\b\b\b\b\b\b\b\b\b\b\b\b\b\b\b\b\b\b\b\b\b\b\b\b\b\b\b\b\b\b\b\b\b\b\b\b\b\b\b\b\b\b\b\b\b\b\b\b\b\b\b\b\b\b\b\b\b\b\b\b\b\b\b\b\b\b\b\b\b\b\b\r253/600 [===========>..................] - ETA: 0s - loss: 1.4265 - acc: 0.6298",
                "stream": "stdout"
              },
              {
                "output_type": "stream",
                "metadata": {
                  "tags": []
                },
                "text": "\b\b\b\b\b\b\b\b\b\b\b\b\b\b\b\b\b\b\b\b\b\b\b\b\b\b\b\b\b\b\b\b\b\b\b\b\b\b\b\b\b\b\b\b\b\b\b\b\b\b\b\b\b\b\b\b\b\b\b\b\b\b\b\b\b\b\b\b\b\b\b\b\b\b\b\b\b\b\b\r288/600 [=============>................] - ETA: 0s - loss: 1.4242 - acc: 0.6302",
                "stream": "stdout"
              },
              {
                "output_type": "stream",
                "metadata": {
                  "tags": []
                },
                "text": "\b\b\b\b\b\b\b\b\b\b\b\b\b\b\b\b\b\b\b\b\b\b\b\b\b\b\b\b\b\b\b\b\b\b\b\b\b\b\b\b\b\b\b\b\b\b\b\b\b\b\b\b\b\b\b\b\b\b\b\b\b\b\b\b\b\b\b\b\b\b\b\b\b\b\b\b\b\b\b\r325/600 [===============>..............] - ETA: 0s - loss: 1.4226 - acc: 0.6297",
                "stream": "stdout"
              },
              {
                "output_type": "stream",
                "metadata": {
                  "tags": []
                },
                "text": "\b\b\b\b\b\b\b\b\b\b\b\b\b\b\b\b\b\b\b\b\b\b\b\b\b\b\b\b\b\b\b\b\b\b\b\b\b\b\b\b\b\b\b\b\b\b\b\b\b\b\b\b\b\b\b\b\b\b\b\b\b\b\b\b\b\b\b\b\b\b\b\b\b\b\b\b\b\b\b\r361/600 [=================>............] - ETA: 0s - loss: 1.4207 - acc: 0.6321",
                "stream": "stdout"
              },
              {
                "output_type": "stream",
                "metadata": {
                  "tags": []
                },
                "text": "\b\b\b\b\b\b\b\b\b\b\b\b\b\b\b\b\b\b\b\b\b\b\b\b\b\b\b\b\b\b\b\b\b\b\b\b\b\b\b\b\b\b\b\b\b\b\b\b\b\b\b\b\b\b\b\b\b\b\b\b\b\b\b\b\b\b\b\b\b\b\b\b\b\b\b\b\b\b\b\r398/600 [==================>...........] - ETA: 0s - loss: 1.4194 - acc: 0.6361",
                "stream": "stdout"
              },
              {
                "output_type": "stream",
                "metadata": {
                  "tags": []
                },
                "text": "\b\b\b\b\b\b\b\b\b\b\b\b\b\b\b\b\b\b\b\b\b\b\b\b\b\b\b\b\b\b\b\b\b\b\b\b\b\b\b\b\b\b\b\b\b\b\b\b\b\b\b\b\b\b\b\b\b\b\b\b\b\b\b\b\b\b\b\b\b\b\b\b\b\b\b\b\b\b\b\r431/600 [====================>.........] - ETA: 0s - loss: 1.4195 - acc: 0.6387",
                "stream": "stdout"
              },
              {
                "output_type": "stream",
                "metadata": {
                  "tags": []
                },
                "text": "\b\b\b\b\b\b\b\b\b\b\b\b\b\b\b\b\b\b\b\b\b\b\b\b\b\b\b\b\b\b\b\b\b\b\b\b\b\b\b\b\b\b\b\b\b\b\b\b\b\b\b\b\b\b\b\b\b\b\b\b\b\b\b\b\b\b\b\b\b\b\b\b\b\b\b\b\b\b\b\r468/600 [======================>.......] - ETA: 0s - loss: 1.4167 - acc: 0.6413",
                "stream": "stdout"
              },
              {
                "output_type": "stream",
                "metadata": {
                  "tags": []
                },
                "text": "\b\b\b\b\b\b\b\b\b\b\b\b\b\b\b\b\b\b\b\b\b\b\b\b\b\b\b\b\b\b\b\b\b\b\b\b\b\b\b\b\b\b\b\b\b\b\b\b\b\b\b\b\b\b\b\b\b\b\b\b\b\b\b\b\b\b\b\b\b\b\b\b\b\b\b\b\b\b\b\r505/600 [========================>.....] - ETA: 0s - loss: 1.4146 - acc: 0.6429",
                "stream": "stdout"
              },
              {
                "output_type": "stream",
                "metadata": {
                  "tags": []
                },
                "text": "\b\b\b\b\b\b\b\b\b\b\b\b\b\b\b\b\b\b\b\b\b\b\b\b\b\b\b\b\b\b\b\b\b\b\b\b\b\b\b\b\b\b\b\b\b\b\b\b\b\b\b\b\b\b\b\b\b\b\b\b\b\b\b\b\b\b\b\b\b\b\b\b\b\b\b\b\b\b\b\r541/600 [==========================>...] - ETA: 0s - loss: 1.4111 - acc: 0.6457",
                "stream": "stdout"
              },
              {
                "output_type": "stream",
                "metadata": {
                  "tags": []
                },
                "text": "\b\b\b\b\b\b\b\b\b\b\b\b\b\b\b\b\b\b\b\b\b\b\b\b\b\b\b\b\b\b\b\b\b\b\b\b\b\b\b\b\b\b\b\b\b\b\b\b\b\b\b\b\b\b\b\b\b\b\b\b\b\b\b\b\b\b\b\b\b\b\b\b\b\b\b\b\b\b\b\r575/600 [===========================>..] - ETA: 0s - loss: 1.4095 - acc: 0.6474",
                "stream": "stdout"
              },
              {
                "output_type": "stream",
                "metadata": {
                  "tags": []
                },
                "text": "\b\b\b\b\b\b\b\b\b\b\b\b\b\b\b\b\b\b\b\b\b\b\b\b\b\b\b\b\b\b\b\b\b\b\b\b\b\b\b\b\b\b\b\b\b\b\b\b\b\b\b\b\b\b\b\b\b\b\b\b\b\b\b\b\b\b\b\b\b\b\b\b\b\b\b\b\b\b\b\r600/600 [==============================] - 1s 2ms/step - loss: 1.4089 - acc: 0.6486 - val_loss: 1.3678 - val_acc: 0.6860\n",
                "stream": "stdout"
              },
              {
                "output_type": "stream",
                "metadata": {
                  "tags": []
                },
                "text": "Epoch 10/30\n\r  1/600 [..............................] - ETA: 0s - loss: 1.3980 - acc: 0.6900",
                "stream": "stdout"
              },
              {
                "output_type": "stream",
                "metadata": {
                  "tags": []
                },
                "text": "\b\b\b\b\b\b\b\b\b\b\b\b\b\b\b\b\b\b\b\b\b\b\b\b\b\b\b\b\b\b\b\b\b\b\b\b\b\b\b\b\b\b\b\b\b\b\b\b\b\b\b\b\b\b\b\b\b\b\b\b\b\b\b\b\b\b\b\b\b\b\b\b\b\b\b\b\b\b\b\r 34/600 [>.............................] - ETA: 0s - loss: 1.3571 - acc: 0.6894",
                "stream": "stdout"
              },
              {
                "output_type": "stream",
                "metadata": {
                  "tags": []
                },
                "text": "\b\b\b\b\b\b\b\b\b\b\b\b\b\b\b\b\b\b\b\b\b\b\b\b\b\b\b\b\b\b\b\b\b\b\b\b\b\b\b\b\b\b\b\b\b\b\b\b\b\b\b\b\b\b\b\b\b\b\b\b\b\b\b\b\b\b\b\b\b\b\b\b\b\b\b\b\b\b\b\r 66/600 [==>...........................] - ETA: 0s - loss: 1.3649 - acc: 0.6761",
                "stream": "stdout"
              },
              {
                "output_type": "stream",
                "metadata": {
                  "tags": []
                },
                "text": "\b\b\b\b\b\b\b\b\b\b\b\b\b\b\b\b\b\b\b\b\b\b\b\b\b\b\b\b\b\b\b\b\b\b\b\b\b\b\b\b\b\b\b\b\b\b\b\b\b\b\b\b\b\b\b\b\b\b\b\b\b\b\b\b\b\b\b\b\b\b\b\b\b\b\b\b\b\b\b\r 98/600 [===>..........................] - ETA: 0s - loss: 1.3686 - acc: 0.6728",
                "stream": "stdout"
              },
              {
                "output_type": "stream",
                "metadata": {
                  "tags": []
                },
                "text": "\b\b\b\b\b\b\b\b\b\b\b\b\b\b\b\b\b\b\b\b\b\b\b\b\b\b\b\b\b\b\b\b\b\b\b\b\b\b\b\b\b\b\b\b\b\b\b\b\b\b\b\b\b\b\b\b\b\b\b\b\b\b\b\b\b\b\b\b\b\b\b\b\b\b\b\b\b\b\b\r120/600 [=====>........................] - ETA: 0s - loss: 1.3665 - acc: 0.6730",
                "stream": "stdout"
              },
              {
                "output_type": "stream",
                "metadata": {
                  "tags": []
                },
                "text": "\b\b\b\b\b\b\b\b\b\b\b\b\b\b\b\b\b\b\b\b\b\b\b\b\b\b\b\b\b\b\b\b\b\b\b\b\b\b\b\b\b\b\b\b\b\b\b\b\b\b\b\b\b\b\b\b\b\b\b\b\b\b\b\b\b\b\b\b\b\b\b\b\b\b\b\b\b\b\b\r154/600 [======>.......................] - ETA: 0s - loss: 1.3649 - acc: 0.6723",
                "stream": "stdout"
              },
              {
                "output_type": "stream",
                "metadata": {
                  "tags": []
                },
                "text": "\b\b\b\b\b\b\b\b\b\b\b\b\b\b\b\b\b\b\b\b\b\b\b\b\b\b\b\b\b\b\b\b\b\b\b\b\b\b\b\b\b\b\b\b\b\b\b\b\b\b\b\b\b\b\b\b\b\b\b\b\b\b\b\b\b\b\b\b\b\b\b\b\b\b\b\b\b\b\b\r186/600 [========>.....................] - ETA: 0s - loss: 1.3618 - acc: 0.6747",
                "stream": "stdout"
              },
              {
                "output_type": "stream",
                "metadata": {
                  "tags": []
                },
                "text": "\b\b\b\b\b\b\b\b\b\b\b\b\b\b\b\b\b\b\b\b\b\b\b\b\b\b\b\b\b\b\b\b\b\b\b\b\b\b\b\b\b\b\b\b\b\b\b\b\b\b\b\b\b\b\b\b\b\b\b\b\b\b\b\b\b\b\b\b\b\b\b\b\b\b\b\b\b\b\b\r220/600 [==========>...................] - ETA: 0s - loss: 1.3593 - acc: 0.6773",
                "stream": "stdout"
              },
              {
                "output_type": "stream",
                "metadata": {
                  "tags": []
                },
                "text": "\b\b\b\b\b\b\b\b\b\b\b\b\b\b\b\b\b\b\b\b\b\b\b\b\b\b\b\b\b\b\b\b\b\b\b\b\b\b\b\b\b\b\b\b\b\b\b\b\b\b\b\b\b\b\b\b\b\b\b\b\b\b\b\b\b\b\b\b\b\b\b\b\b\b\b\b\b\b\b\r254/600 [===========>..................] - ETA: 0s - loss: 1.3563 - acc: 0.6804",
                "stream": "stdout"
              },
              {
                "output_type": "stream",
                "metadata": {
                  "tags": []
                },
                "text": "\b\b\b\b\b\b\b\b\b\b\b\b\b\b\b\b\b\b\b\b\b\b\b\b\b\b\b\b\b\b\b\b\b\b\b\b\b\b\b\b\b\b\b\b\b\b\b\b\b\b\b\b\b\b\b\b\b\b\b\b\b\b\b\b\b\b\b\b\b\b\b\b\b\b\b\b\b\b\b\r289/600 [=============>................] - ETA: 0s - loss: 1.3570 - acc: 0.6788",
                "stream": "stdout"
              },
              {
                "output_type": "stream",
                "metadata": {
                  "tags": []
                },
                "text": "\b\b\b\b\b\b\b\b\b\b\b\b\b\b\b\b\b\b\b\b\b\b\b\b\b\b\b\b\b\b\b\b\b\b\b\b\b\b\b\b\b\b\b\b\b\b\b\b\b\b\b\b\b\b\b\b\b\b\b\b\b\b\b\b\b\b\b\b\b\b\b\b\b\b\b\b\b\b\b\r324/600 [===============>..............] - ETA: 0s - loss: 1.3573 - acc: 0.6775",
                "stream": "stdout"
              },
              {
                "output_type": "stream",
                "metadata": {
                  "tags": []
                },
                "text": "\b\b\b\b\b\b\b\b\b\b\b\b\b\b\b\b\b\b\b\b\b\b\b\b\b\b\b\b\b\b\b\b\b\b\b\b\b\b\b\b\b\b\b\b\b\b\b\b\b\b\b\b\b\b\b\b\b\b\b\b\b\b\b\b\b\b\b\b\b\b\b\b\b\b\b\b\b\b\b\r361/600 [=================>............] - ETA: 0s - loss: 1.3546 - acc: 0.6782",
                "stream": "stdout"
              },
              {
                "output_type": "stream",
                "metadata": {
                  "tags": []
                },
                "text": "\b\b\b\b\b\b\b\b\b\b\b\b\b\b\b\b\b\b\b\b\b\b\b\b\b\b\b\b\b\b\b\b\b\b\b\b\b\b\b\b\b\b\b\b\b\b\b\b\b\b\b\b\b\b\b\b\b\b\b\b\b\b\b\b\b\b\b\b\b\b\b\b\b\b\b\b\b\b\b\r395/600 [==================>...........] - ETA: 0s - loss: 1.3520 - acc: 0.6796",
                "stream": "stdout"
              },
              {
                "output_type": "stream",
                "metadata": {
                  "tags": []
                },
                "text": "\b\b\b\b\b\b\b\b\b\b\b\b\b\b\b\b\b\b\b\b\b\b\b\b\b\b\b\b\b\b\b\b\b\b\b\b\b\b\b\b\b\b\b\b\b\b\b\b\b\b\b\b\b\b\b\b\b\b\b\b\b\b\b\b\b\b\b\b\b\b\b\b\b\b\b\b\b\b\b\r432/600 [====================>.........] - ETA: 0s - loss: 1.3503 - acc: 0.6796",
                "stream": "stdout"
              },
              {
                "output_type": "stream",
                "metadata": {
                  "tags": []
                },
                "text": "\b\b\b\b\b\b\b\b\b\b\b\b\b\b\b\b\b\b\b\b\b\b\b\b\b\b\b\b\b\b\b\b\b\b\b\b\b\b\b\b\b\b\b\b\b\b\b\b\b\b\b\b\b\b\b\b\b\b\b\b\b\b\b\b\b\b\b\b\b\b\b\b\b\b\b\b\b\b\b\r469/600 [======================>.......] - ETA: 0s - loss: 1.3478 - acc: 0.6802",
                "stream": "stdout"
              },
              {
                "output_type": "stream",
                "metadata": {
                  "tags": []
                },
                "text": "\b\b\b\b\b\b\b\b\b\b\b\b\b\b\b\b\b\b\b\b\b\b\b\b\b\b\b\b\b\b\b\b\b\b\b\b\b\b\b\b\b\b\b\b\b\b\b\b\b\b\b\b\b\b\b\b\b\b\b\b\b\b\b\b\b\b\b\b\b\b\b\b\b\b\b\b\b\b\b\r506/600 [========================>.....] - ETA: 0s - loss: 1.3450 - acc: 0.6805",
                "stream": "stdout"
              },
              {
                "output_type": "stream",
                "metadata": {
                  "tags": []
                },
                "text": "\b\b\b\b\b\b\b\b\b\b\b\b\b\b\b\b\b\b\b\b\b\b\b\b\b\b\b\b\b\b\b\b\b\b\b\b\b\b\b\b\b\b\b\b\b\b\b\b\b\b\b\b\b\b\b\b\b\b\b\b\b\b\b\b\b\b\b\b\b\b\b\b\b\b\b\b\b\b\b\r539/600 [=========================>....] - ETA: 0s - loss: 1.3418 - acc: 0.6810",
                "stream": "stdout"
              },
              {
                "output_type": "stream",
                "metadata": {
                  "tags": []
                },
                "text": "\b\b\b\b\b\b\b\b\b\b\b\b\b\b\b\b\b\b\b\b\b\b\b\b\b\b\b\b\b\b\b\b\b\b\b\b\b\b\b\b\b\b\b\b\b\b\b\b\b\b\b\b\b\b\b\b\b\b\b\b\b\b\b\b\b\b\b\b\b\b\b\b\b\b\b\b\b\b\b\r573/600 [===========================>..] - ETA: 0s - loss: 1.3401 - acc: 0.6814",
                "stream": "stdout"
              },
              {
                "output_type": "stream",
                "metadata": {
                  "tags": []
                },
                "text": "\b\b\b\b\b\b\b\b\b\b\b\b\b\b\b\b\b\b\b\b\b\b\b\b\b\b\b\b\b\b\b\b\b\b\b\b\b\b\b\b\b\b\b\b\b\b\b\b\b\b\b\b\b\b\b\b\b\b\b\b\b\b\b\b\b\b\b\b\b\b\b\b\b\b\b\b\b\b\b\r600/600 [==============================] - 1s 2ms/step - loss: 1.3402 - acc: 0.6806 - val_loss: 1.3334 - val_acc: 0.6634\n",
                "stream": "stdout"
              },
              {
                "output_type": "stream",
                "metadata": {
                  "tags": []
                },
                "text": "Epoch 11/30\n\r  1/600 [..............................] - ETA: 0s - loss: 1.3054 - acc: 0.6100",
                "stream": "stdout"
              },
              {
                "output_type": "stream",
                "metadata": {
                  "tags": []
                },
                "text": "\b\b\b\b\b\b\b\b\b\b\b\b\b\b\b\b\b\b\b\b\b\b\b\b\b\b\b\b\b\b\b\b\b\b\b\b\b\b\b\b\b\b\b\b\b\b\b\b\b\b\b\b\b\b\b\b\b\b\b\b\b\b\b\b\b\b\b\b\b\b\b\b\b\b\b\b\b\b\b\r 35/600 [>.............................] - ETA: 0s - loss: 1.2966 - acc: 0.6831",
                "stream": "stdout"
              },
              {
                "output_type": "stream",
                "metadata": {
                  "tags": []
                },
                "text": "\b\b\b\b\b\b\b\b\b\b\b\b\b\b\b\b\b\b\b\b\b\b\b\b\b\b\b\b\b\b\b\b\b\b\b\b\b\b\b\b\b\b\b\b\b\b\b\b\b\b\b\b\b\b\b\b\b\b\b\b\b\b\b\b\b\b\b\b\b\b\b\b\b\b\b\b\b\b\b\r 69/600 [==>...........................] - ETA: 0s - loss: 1.3005 - acc: 0.6787",
                "stream": "stdout"
              },
              {
                "output_type": "stream",
                "metadata": {
                  "tags": []
                },
                "text": "\b\b\b\b\b\b\b\b\b\b\b\b\b\b\b\b\b\b\b\b\b\b\b\b\b\b\b\b\b\b\b\b\b\b\b\b\b\b\b\b\b\b\b\b\b\b\b\b\b\b\b\b\b\b\b\b\b\b\b\b\b\b\b\b\b\b\b\b\b\b\b\b\b\b\b\b\b\b\b\r106/600 [====>.........................] - ETA: 0s - loss: 1.3053 - acc: 0.6748",
                "stream": "stdout"
              },
              {
                "output_type": "stream",
                "metadata": {
                  "tags": []
                },
                "text": "\b\b\b\b\b\b\b\b\b\b\b\b\b\b\b\b\b\b\b\b\b\b\b\b\b\b\b\b\b\b\b\b\b\b\b\b\b\b\b\b\b\b\b\b\b\b\b\b\b\b\b\b\b\b\b\b\b\b\b\b\b\b\b\b\b\b\b\b\b\b\b\b\b\b\b\b\b\b\b\r142/600 [======>.......................] - ETA: 0s - loss: 1.3085 - acc: 0.6747",
                "stream": "stdout"
              },
              {
                "output_type": "stream",
                "metadata": {
                  "tags": []
                },
                "text": "\b\b\b\b\b\b\b\b\b\b\b\b\b\b\b\b\b\b\b\b\b\b\b\b\b\b\b\b\b\b\b\b\b\b\b\b\b\b\b\b\b\b\b\b\b\b\b\b\b\b\b\b\b\b\b\b\b\b\b\b\b\b\b\b\b\b\b\b\b\b\b\b\b\b\b\b\b\b\b\r165/600 [=======>......................] - ETA: 0s - loss: 1.3063 - acc: 0.6769",
                "stream": "stdout"
              },
              {
                "output_type": "stream",
                "metadata": {
                  "tags": []
                },
                "text": "\b\b\b\b\b\b\b\b\b\b\b\b\b\b\b\b\b\b\b\b\b\b\b\b\b\b\b\b\b\b\b\b\b\b\b\b\b\b\b\b\b\b\b\b\b\b\b\b\b\b\b\b\b\b\b\b\b\b\b\b\b\b\b\b\b\b\b\b\b\b\b\b\b\b\b\b\b\b\b\r199/600 [========>.....................] - ETA: 0s - loss: 1.3024 - acc: 0.6787",
                "stream": "stdout"
              },
              {
                "output_type": "stream",
                "metadata": {
                  "tags": []
                },
                "text": "\b\b\b\b\b\b\b\b\b\b\b\b\b\b\b\b\b\b\b\b\b\b\b\b\b\b\b\b\b\b\b\b\b\b\b\b\b\b\b\b\b\b\b\b\b\b\b\b\b\b\b\b\b\b\b\b\b\b\b\b\b\b\b\b\b\b\b\b\b\b\b\b\b\b\b\b\b\b\b\r235/600 [==========>...................] - ETA: 0s - loss: 1.2995 - acc: 0.6810",
                "stream": "stdout"
              },
              {
                "output_type": "stream",
                "metadata": {
                  "tags": []
                },
                "text": "\b\b\b\b\b\b\b\b\b\b\b\b\b\b\b\b\b\b\b\b\b\b\b\b\b\b\b\b\b\b\b\b\b\b\b\b\b\b\b\b\b\b\b\b\b\b\b\b\b\b\b\b\b\b\b\b\b\b\b\b\b\b\b\b\b\b\b\b\b\b\b\b\b\b\b\b\b\b\b\r272/600 [============>.................] - ETA: 0s - loss: 1.2992 - acc: 0.6823",
                "stream": "stdout"
              },
              {
                "output_type": "stream",
                "metadata": {
                  "tags": []
                },
                "text": "\b\b\b\b\b\b\b\b\b\b\b\b\b\b\b\b\b\b\b\b\b\b\b\b\b\b\b\b\b\b\b\b\b\b\b\b\b\b\b\b\b\b\b\b\b\b\b\b\b\b\b\b\b\b\b\b\b\b\b\b\b\b\b\b\b\b\b\b\b\b\b\b\b\b\b\b\b\b\b\r307/600 [==============>...............] - ETA: 0s - loss: 1.2989 - acc: 0.6818",
                "stream": "stdout"
              },
              {
                "output_type": "stream",
                "metadata": {
                  "tags": []
                },
                "text": "\b\b\b\b\b\b\b\b\b\b\b\b\b\b\b\b\b\b\b\b\b\b\b\b\b\b\b\b\b\b\b\b\b\b\b\b\b\b\b\b\b\b\b\b\b\b\b\b\b\b\b\b\b\b\b\b\b\b\b\b\b\b\b\b\b\b\b\b\b\b\b\b\b\b\b\b\b\b\b\r342/600 [================>.............] - ETA: 0s - loss: 1.2970 - acc: 0.6824",
                "stream": "stdout"
              },
              {
                "output_type": "stream",
                "metadata": {
                  "tags": []
                },
                "text": "\b\b\b\b\b\b\b\b\b\b\b\b\b\b\b\b\b\b\b\b\b\b\b\b\b\b\b\b\b\b\b\b\b\b\b\b\b\b\b\b\b\b\b\b\b\b\b\b\b\b\b\b\b\b\b\b\b\b\b\b\b\b\b\b\b\b\b\b\b\b\b\b\b\b\b\b\b\b\b\r379/600 [=================>............] - ETA: 0s - loss: 1.2946 - acc: 0.6826",
                "stream": "stdout"
              },
              {
                "output_type": "stream",
                "metadata": {
                  "tags": []
                },
                "text": "\b\b\b\b\b\b\b\b\b\b\b\b\b\b\b\b\b\b\b\b\b\b\b\b\b\b\b\b\b\b\b\b\b\b\b\b\b\b\b\b\b\b\b\b\b\b\b\b\b\b\b\b\b\b\b\b\b\b\b\b\b\b\b\b\b\b\b\b\b\b\b\b\b\b\b\b\b\b\b\r414/600 [===================>..........] - ETA: 0s - loss: 1.2936 - acc: 0.6816",
                "stream": "stdout"
              },
              {
                "output_type": "stream",
                "metadata": {
                  "tags": []
                },
                "text": "\b\b\b\b\b\b\b\b\b\b\b\b\b\b\b\b\b\b\b\b\b\b\b\b\b\b\b\b\b\b\b\b\b\b\b\b\b\b\b\b\b\b\b\b\b\b\b\b\b\b\b\b\b\b\b\b\b\b\b\b\b\b\b\b\b\b\b\b\b\b\b\b\b\b\b\b\b\b\b\r450/600 [=====================>........] - ETA: 0s - loss: 1.2896 - acc: 0.6835",
                "stream": "stdout"
              },
              {
                "output_type": "stream",
                "metadata": {
                  "tags": []
                },
                "text": "\b\b\b\b\b\b\b\b\b\b\b\b\b\b\b\b\b\b\b\b\b\b\b\b\b\b\b\b\b\b\b\b\b\b\b\b\b\b\b\b\b\b\b\b\b\b\b\b\b\b\b\b\b\b\b\b\b\b\b\b\b\b\b\b\b\b\b\b\b\b\b\b\b\b\b\b\b\b\b\r481/600 [=======================>......] - ETA: 0s - loss: 1.2881 - acc: 0.6844",
                "stream": "stdout"
              },
              {
                "output_type": "stream",
                "metadata": {
                  "tags": []
                },
                "text": "\b\b\b\b\b\b\b\b\b\b\b\b\b\b\b\b\b\b\b\b\b\b\b\b\b\b\b\b\b\b\b\b\b\b\b\b\b\b\b\b\b\b\b\b\b\b\b\b\b\b\b\b\b\b\b\b\b\b\b\b\b\b\b\b\b\b\b\b\b\b\b\b\b\b\b\b\b\b\b\r516/600 [========================>.....] - ETA: 0s - loss: 1.2868 - acc: 0.6850",
                "stream": "stdout"
              },
              {
                "output_type": "stream",
                "metadata": {
                  "tags": []
                },
                "text": "\b\b\b\b\b\b\b\b\b\b\b\b\b\b\b\b\b\b\b\b\b\b\b\b\b\b\b\b\b\b\b\b\b\b\b\b\b\b\b\b\b\b\b\b\b\b\b\b\b\b\b\b\b\b\b\b\b\b\b\b\b\b\b\b\b\b\b\b\b\b\b\b\b\b\b\b\b\b\b\r552/600 [==========================>...] - ETA: 0s - loss: 1.2860 - acc: 0.6859",
                "stream": "stdout"
              },
              {
                "output_type": "stream",
                "metadata": {
                  "tags": []
                },
                "text": "\b\b\b\b\b\b\b\b\b\b\b\b\b\b\b\b\b\b\b\b\b\b\b\b\b\b\b\b\b\b\b\b\b\b\b\b\b\b\b\b\b\b\b\b\b\b\b\b\b\b\b\b\b\b\b\b\b\b\b\b\b\b\b\b\b\b\b\b\b\b\b\b\b\b\b\b\b\b\b\r587/600 [============================>.] - ETA: 0s - loss: 1.2844 - acc: 0.6863",
                "stream": "stdout"
              },
              {
                "output_type": "stream",
                "metadata": {
                  "tags": []
                },
                "text": "\b\b\b\b\b\b\b\b\b\b\b\b\b\b\b\b\b\b\b\b\b\b\b\b\b\b\b\b\b\b\b\b\b\b\b\b\b\b\b\b\b\b\b\b\b\b\b\b\b\b\b\b\b\b\b\b\b\b\b\b\b\b\b\b\b\b\b\b\b\b\b\b\b\b\b\b\b\b\b\r600/600 [==============================] - 1s 2ms/step - loss: 1.2837 - acc: 0.6869 - val_loss: 1.2727 - val_acc: 0.7090\n",
                "stream": "stdout"
              },
              {
                "output_type": "stream",
                "metadata": {
                  "tags": []
                },
                "text": "Epoch 12/30\n\r  1/600 [..............................] - ETA: 0s - loss: 1.1826 - acc: 0.8100",
                "stream": "stdout"
              },
              {
                "output_type": "stream",
                "metadata": {
                  "tags": []
                },
                "text": "\b\b\b\b\b\b\b\b\b\b\b\b\b\b\b\b\b\b\b\b\b\b\b\b\b\b\b\b\b\b\b\b\b\b\b\b\b\b\b\b\b\b\b\b\b\b\b\b\b\b\b\b\b\b\b\b\b\b\b\b\b\b\b\b\b\b\b\b\b\b\b\b\b\b\b\b\b\b\b\r 34/600 [>.............................] - ETA: 0s - loss: 1.2630 - acc: 0.6968",
                "stream": "stdout"
              },
              {
                "output_type": "stream",
                "metadata": {
                  "tags": []
                },
                "text": "\b\b\b\b\b\b\b\b\b\b\b\b\b\b\b\b\b\b\b\b\b\b\b\b\b\b\b\b\b\b\b\b\b\b\b\b\b\b\b\b\b\b\b\b\b\b\b\b\b\b\b\b\b\b\b\b\b\b\b\b\b\b\b\b\b\b\b\b\b\b\b\b\b\b\b\b\b\b\b\r 66/600 [==>...........................] - ETA: 0s - loss: 1.2594 - acc: 0.6974",
                "stream": "stdout"
              },
              {
                "output_type": "stream",
                "metadata": {
                  "tags": []
                },
                "text": "\b\b\b\b\b\b\b\b\b\b\b\b\b\b\b\b\b\b\b\b\b\b\b\b\b\b\b\b\b\b\b\b\b\b\b\b\b\b\b\b\b\b\b\b\b\b\b\b\b\b\b\b\b\b\b\b\b\b\b\b\b\b\b\b\b\b\b\b\b\b\b\b\b\b\b\b\b\b\b\r103/600 [====>.........................] - ETA: 0s - loss: 1.2516 - acc: 0.6992",
                "stream": "stdout"
              },
              {
                "output_type": "stream",
                "metadata": {
                  "tags": []
                },
                "text": "\b\b\b\b\b\b\b\b\b\b\b\b\b\b\b\b\b\b\b\b\b\b\b\b\b\b\b\b\b\b\b\b\b\b\b\b\b\b\b\b\b\b\b\b\b\b\b\b\b\b\b\b\b\b\b\b\b\b\b\b\b\b\b\b\b\b\b\b\b\b\b\b\b\b\b\b\b\b\b\r138/600 [=====>........................] - ETA: 0s - loss: 1.2537 - acc: 0.6959",
                "stream": "stdout"
              },
              {
                "output_type": "stream",
                "metadata": {
                  "tags": []
                },
                "text": "\b\b\b\b\b\b\b\b\b\b\b\b\b\b\b\b\b\b\b\b\b\b\b\b\b\b\b\b\b\b\b\b\b\b\b\b\b\b\b\b\b\b\b\b\b\b\b\b\b\b\b\b\b\b\b\b\b\b\b\b\b\b\b\b\b\b\b\b\b\b\b\b\b\b\b\b\b\b\b\r174/600 [=======>......................] - ETA: 0s - loss: 1.2494 - acc: 0.6980",
                "stream": "stdout"
              },
              {
                "output_type": "stream",
                "metadata": {
                  "tags": []
                },
                "text": "\b\b\b\b\b\b\b\b\b\b\b\b\b\b\b\b\b\b\b\b\b\b\b\b\b\b\b\b\b\b\b\b\b\b\b\b\b\b\b\b\b\b\b\b\b\b\b\b\b\b\b\b\b\b\b\b\b\b\b\b\b\b\b\b\b\b\b\b\b\b\b\b\b\b\b\b\b\b\b\r209/600 [=========>....................] - ETA: 0s - loss: 1.2486 - acc: 0.6992",
                "stream": "stdout"
              },
              {
                "output_type": "stream",
                "metadata": {
                  "tags": []
                },
                "text": "\b\b\b\b\b\b\b\b\b\b\b\b\b\b\b\b\b\b\b\b\b\b\b\b\b\b\b\b\b\b\b\b\b\b\b\b\b\b\b\b\b\b\b\b\b\b\b\b\b\b\b\b\b\b\b\b\b\b\b\b\b\b\b\b\b\b\b\b\b\b\b\b\b\b\b\b\b\b\b\r246/600 [===========>..................] - ETA: 0s - loss: 1.2473 - acc: 0.7007",
                "stream": "stdout"
              },
              {
                "output_type": "stream",
                "metadata": {
                  "tags": []
                },
                "text": "\b\b\b\b\b\b\b\b\b\b\b\b\b\b\b\b\b\b\b\b\b\b\b\b\b\b\b\b\b\b\b\b\b\b\b\b\b\b\b\b\b\b\b\b\b\b\b\b\b\b\b\b\b\b\b\b\b\b\b\b\b\b\b\b\b\b\b\b\b\b\b\b\b\b\b\b\b\b\b\r280/600 [=============>................] - ETA: 0s - loss: 1.2451 - acc: 0.7019",
                "stream": "stdout"
              },
              {
                "output_type": "stream",
                "metadata": {
                  "tags": []
                },
                "text": "\b\b\b\b\b\b\b\b\b\b\b\b\b\b\b\b\b\b\b\b\b\b\b\b\b\b\b\b\b\b\b\b\b\b\b\b\b\b\b\b\b\b\b\b\b\b\b\b\b\b\b\b\b\b\b\b\b\b\b\b\b\b\b\b\b\b\b\b\b\b\b\b\b\b\b\b\b\b\b\r317/600 [==============>...............] - ETA: 0s - loss: 1.2423 - acc: 0.7020",
                "stream": "stdout"
              },
              {
                "output_type": "stream",
                "metadata": {
                  "tags": []
                },
                "text": "\b\b\b\b\b\b\b\b\b\b\b\b\b\b\b\b\b\b\b\b\b\b\b\b\b\b\b\b\b\b\b\b\b\b\b\b\b\b\b\b\b\b\b\b\b\b\b\b\b\b\b\b\b\b\b\b\b\b\b\b\b\b\b\b\b\b\b\b\b\b\b\b\b\b\b\b\b\b\b\r352/600 [================>.............] - ETA: 0s - loss: 1.2406 - acc: 0.7022",
                "stream": "stdout"
              },
              {
                "output_type": "stream",
                "metadata": {
                  "tags": []
                },
                "text": "\b\b\b\b\b\b\b\b\b\b\b\b\b\b\b\b\b\b\b\b\b\b\b\b\b\b\b\b\b\b\b\b\b\b\b\b\b\b\b\b\b\b\b\b\b\b\b\b\b\b\b\b\b\b\b\b\b\b\b\b\b\b\b\b\b\b\b\b\b\b\b\b\b\b\b\b\b\b\b\r387/600 [==================>...........] - ETA: 0s - loss: 1.2402 - acc: 0.7019",
                "stream": "stdout"
              },
              {
                "output_type": "stream",
                "metadata": {
                  "tags": []
                },
                "text": "\b\b\b\b\b\b\b\b\b\b\b\b\b\b\b\b\b\b\b\b\b\b\b\b\b\b\b\b\b\b\b\b\b\b\b\b\b\b\b\b\b\b\b\b\b\b\b\b\b\b\b\b\b\b\b\b\b\b\b\b\b\b\b\b\b\b\b\b\b\b\b\b\b\b\b\b\b\b\b\r420/600 [====================>.........] - ETA: 0s - loss: 1.2409 - acc: 0.7004",
                "stream": "stdout"
              },
              {
                "output_type": "stream",
                "metadata": {
                  "tags": []
                },
                "text": "\b\b\b\b\b\b\b\b\b\b\b\b\b\b\b\b\b\b\b\b\b\b\b\b\b\b\b\b\b\b\b\b\b\b\b\b\b\b\b\b\b\b\b\b\b\b\b\b\b\b\b\b\b\b\b\b\b\b\b\b\b\b\b\b\b\b\b\b\b\b\b\b\b\b\b\b\b\b\b\r454/600 [=====================>........] - ETA: 0s - loss: 1.2420 - acc: 0.6995",
                "stream": "stdout"
              },
              {
                "output_type": "stream",
                "metadata": {
                  "tags": []
                },
                "text": "\b\b\b\b\b\b\b\b\b\b\b\b\b\b\b\b\b\b\b\b\b\b\b\b\b\b\b\b\b\b\b\b\b\b\b\b\b\b\b\b\b\b\b\b\b\b\b\b\b\b\b\b\b\b\b\b\b\b\b\b\b\b\b\b\b\b\b\b\b\b\b\b\b\b\b\b\b\b\b\r485/600 [=======================>......] - ETA: 0s - loss: 1.2415 - acc: 0.6998",
                "stream": "stdout"
              },
              {
                "output_type": "stream",
                "metadata": {
                  "tags": []
                },
                "text": "\b\b\b\b\b\b\b\b\b\b\b\b\b\b\b\b\b\b\b\b\b\b\b\b\b\b\b\b\b\b\b\b\b\b\b\b\b\b\b\b\b\b\b\b\b\b\b\b\b\b\b\b\b\b\b\b\b\b\b\b\b\b\b\b\b\b\b\b\b\b\b\b\b\b\b\b\b\b\b\r517/600 [========================>.....] - ETA: 0s - loss: 1.2389 - acc: 0.7005",
                "stream": "stdout"
              },
              {
                "output_type": "stream",
                "metadata": {
                  "tags": []
                },
                "text": "\b\b\b\b\b\b\b\b\b\b\b\b\b\b\b\b\b\b\b\b\b\b\b\b\b\b\b\b\b\b\b\b\b\b\b\b\b\b\b\b\b\b\b\b\b\b\b\b\b\b\b\b\b\b\b\b\b\b\b\b\b\b\b\b\b\b\b\b\b\b\b\b\b\b\b\b\b\b\b\r543/600 [==========================>...] - ETA: 0s - loss: 1.2374 - acc: 0.7008",
                "stream": "stdout"
              },
              {
                "output_type": "stream",
                "metadata": {
                  "tags": []
                },
                "text": "\b\b\b\b\b\b\b\b\b\b\b\b\b\b\b\b\b\b\b\b\b\b\b\b\b\b\b\b\b\b\b\b\b\b\b\b\b\b\b\b\b\b\b\b\b\b\b\b\b\b\b\b\b\b\b\b\b\b\b\b\b\b\b\b\b\b\b\b\b\b\b\b\b\b\b\b\b\b\b\r572/600 [===========================>..] - ETA: 0s - loss: 1.2357 - acc: 0.7013",
                "stream": "stdout"
              },
              {
                "output_type": "stream",
                "metadata": {
                  "tags": []
                },
                "text": "\b\b\b\b\b\b\b\b\b\b\b\b\b\b\b\b\b\b\b\b\b\b\b\b\b\b\b\b\b\b\b\b\b\b\b\b\b\b\b\b\b\b\b\b\b\b\b\b\b\b\b\b\b\b\b\b\b\b\b\b\b\b\b\b\b\b\b\b\b\b\b\b\b\b\b\b\b\b\b\r600/600 [==============================] - 1s 2ms/step - loss: 1.2326 - acc: 0.7017 - val_loss: 1.1969 - val_acc: 0.7060\n",
                "stream": "stdout"
              },
              {
                "output_type": "stream",
                "metadata": {
                  "tags": []
                },
                "text": "Epoch 13/30\n\r  1/600 [..............................] - ETA: 0s - loss: 1.1562 - acc: 0.7000",
                "stream": "stdout"
              },
              {
                "output_type": "stream",
                "metadata": {
                  "tags": []
                },
                "text": "\b\b\b\b\b\b\b\b\b\b\b\b\b\b\b\b\b\b\b\b\b\b\b\b\b\b\b\b\b\b\b\b\b\b\b\b\b\b\b\b\b\b\b\b\b\b\b\b\b\b\b\b\b\b\b\b\b\b\b\b\b\b\b\b\b\b\b\b\b\b\b\b\b\b\b\b\b\b\b\r 32/600 [>.............................] - ETA: 0s - loss: 1.1981 - acc: 0.6984",
                "stream": "stdout"
              },
              {
                "output_type": "stream",
                "metadata": {
                  "tags": []
                },
                "text": "\b\b\b\b\b\b\b\b\b\b\b\b\b\b\b\b\b\b\b\b\b\b\b\b\b\b\b\b\b\b\b\b\b\b\b\b\b\b\b\b\b\b\b\b\b\b\b\b\b\b\b\b\b\b\b\b\b\b\b\b\b\b\b\b\b\b\b\b\b\b\b\b\b\b\b\b\b\b\b\r 67/600 [==>...........................] - ETA: 0s - loss: 1.1977 - acc: 0.6869",
                "stream": "stdout"
              },
              {
                "output_type": "stream",
                "metadata": {
                  "tags": []
                },
                "text": "\b\b\b\b\b\b\b\b\b\b\b\b\b\b\b\b\b\b\b\b\b\b\b\b\b\b\b\b\b\b\b\b\b\b\b\b\b\b\b\b\b\b\b\b\b\b\b\b\b\b\b\b\b\b\b\b\b\b\b\b\b\b\b\b\b\b\b\b\b\b\b\b\b\b\b\b\b\b\b\r 99/600 [===>..........................] - ETA: 0s - loss: 1.2013 - acc: 0.6874",
                "stream": "stdout"
              },
              {
                "output_type": "stream",
                "metadata": {
                  "tags": []
                },
                "text": "\b\b\b\b\b\b\b\b\b\b\b\b\b\b\b\b\b\b\b\b\b\b\b\b\b\b\b\b\b\b\b\b\b\b\b\b\b\b\b\b\b\b\b\b\b\b\b\b\b\b\b\b\b\b\b\b\b\b\b\b\b\b\b\b\b\b\b\b\b\b\b\b\b\b\b\b\b\b\b\r136/600 [=====>........................] - ETA: 0s - loss: 1.1973 - acc: 0.6935",
                "stream": "stdout"
              },
              {
                "output_type": "stream",
                "metadata": {
                  "tags": []
                },
                "text": "\b\b\b\b\b\b\b\b\b\b\b\b\b\b\b\b\b\b\b\b\b\b\b\b\b\b\b\b\b\b\b\b\b\b\b\b\b\b\b\b\b\b\b\b\b\b\b\b\b\b\b\b\b\b\b\b\b\b\b\b\b\b\b\b\b\b\b\b\b\b\b\b\b\b\b\b\b\b\b\r172/600 [=======>......................] - ETA: 0s - loss: 1.1985 - acc: 0.6920",
                "stream": "stdout"
              },
              {
                "output_type": "stream",
                "metadata": {
                  "tags": []
                },
                "text": "\b\b\b\b\b\b\b\b\b\b\b\b\b\b\b\b\b\b\b\b\b\b\b\b\b\b\b\b\b\b\b\b\b\b\b\b\b\b\b\b\b\b\b\b\b\b\b\b\b\b\b\b\b\b\b\b\b\b\b\b\b\b\b\b\b\b\b\b\b\b\b\b\b\b\b\b\b\b\b\r208/600 [=========>....................] - ETA: 0s - loss: 1.2018 - acc: 0.6913",
                "stream": "stdout"
              },
              {
                "output_type": "stream",
                "metadata": {
                  "tags": []
                },
                "text": "\b\b\b\b\b\b\b\b\b\b\b\b\b\b\b\b\b\b\b\b\b\b\b\b\b\b\b\b\b\b\b\b\b\b\b\b\b\b\b\b\b\b\b\b\b\b\b\b\b\b\b\b\b\b\b\b\b\b\b\b\b\b\b\b\b\b\b\b\b\b\b\b\b\b\b\b\b\b\b\r242/600 [===========>..................] - ETA: 0s - loss: 1.1974 - acc: 0.6952",
                "stream": "stdout"
              },
              {
                "output_type": "stream",
                "metadata": {
                  "tags": []
                },
                "text": "\b\b\b\b\b\b\b\b\b\b\b\b\b\b\b\b\b\b\b\b\b\b\b\b\b\b\b\b\b\b\b\b\b\b\b\b\b\b\b\b\b\b\b\b\b\b\b\b\b\b\b\b\b\b\b\b\b\b\b\b\b\b\b\b\b\b\b\b\b\b\b\b\b\b\b\b\b\b\b\r279/600 [============>.................] - ETA: 0s - loss: 1.1972 - acc: 0.6946",
                "stream": "stdout"
              },
              {
                "output_type": "stream",
                "metadata": {
                  "tags": []
                },
                "text": "\b\b\b\b\b\b\b\b\b\b\b\b\b\b\b\b\b\b\b\b\b\b\b\b\b\b\b\b\b\b\b\b\b\b\b\b\b\b\b\b\b\b\b\b\b\b\b\b\b\b\b\b\b\b\b\b\b\b\b\b\b\b\b\b\b\b\b\b\b\b\b\b\b\b\b\b\b\b\b\r316/600 [==============>...............] - ETA: 0s - loss: 1.1955 - acc: 0.6958",
                "stream": "stdout"
              },
              {
                "output_type": "stream",
                "metadata": {
                  "tags": []
                },
                "text": "\b\b\b\b\b\b\b\b\b\b\b\b\b\b\b\b\b\b\b\b\b\b\b\b\b\b\b\b\b\b\b\b\b\b\b\b\b\b\b\b\b\b\b\b\b\b\b\b\b\b\b\b\b\b\b\b\b\b\b\b\b\b\b\b\b\b\b\b\b\b\b\b\b\b\b\b\b\b\b\r352/600 [================>.............] - ETA: 0s - loss: 1.1954 - acc: 0.6982",
                "stream": "stdout"
              },
              {
                "output_type": "stream",
                "metadata": {
                  "tags": []
                },
                "text": "\b\b\b\b\b\b\b\b\b\b\b\b\b\b\b\b\b\b\b\b\b\b\b\b\b\b\b\b\b\b\b\b\b\b\b\b\b\b\b\b\b\b\b\b\b\b\b\b\b\b\b\b\b\b\b\b\b\b\b\b\b\b\b\b\b\b\b\b\b\b\b\b\b\b\b\b\b\b\b\r384/600 [==================>...........] - ETA: 0s - loss: 1.1964 - acc: 0.6976",
                "stream": "stdout"
              },
              {
                "output_type": "stream",
                "metadata": {
                  "tags": []
                },
                "text": "\b\b\b\b\b\b\b\b\b\b\b\b\b\b\b\b\b\b\b\b\b\b\b\b\b\b\b\b\b\b\b\b\b\b\b\b\b\b\b\b\b\b\b\b\b\b\b\b\b\b\b\b\b\b\b\b\b\b\b\b\b\b\b\b\b\b\b\b\b\b\b\b\b\b\b\b\b\b\b\r421/600 [====================>.........] - ETA: 0s - loss: 1.1955 - acc: 0.6974",
                "stream": "stdout"
              },
              {
                "output_type": "stream",
                "metadata": {
                  "tags": []
                },
                "text": "\b\b\b\b\b\b\b\b\b\b\b\b\b\b\b\b\b\b\b\b\b\b\b\b\b\b\b\b\b\b\b\b\b\b\b\b\b\b\b\b\b\b\b\b\b\b\b\b\b\b\b\b\b\b\b\b\b\b\b\b\b\b\b\b\b\b\b\b\b\b\b\b\b\b\b\b\b\b\b\r458/600 [=====================>........] - ETA: 0s - loss: 1.1958 - acc: 0.6961",
                "stream": "stdout"
              },
              {
                "output_type": "stream",
                "metadata": {
                  "tags": []
                },
                "text": "\b\b\b\b\b\b\b\b\b\b\b\b\b\b\b\b\b\b\b\b\b\b\b\b\b\b\b\b\b\b\b\b\b\b\b\b\b\b\b\b\b\b\b\b\b\b\b\b\b\b\b\b\b\b\b\b\b\b\b\b\b\b\b\b\b\b\b\b\b\b\b\b\b\b\b\b\b\b\b\r495/600 [=======================>......] - ETA: 0s - loss: 1.1951 - acc: 0.6955",
                "stream": "stdout"
              },
              {
                "output_type": "stream",
                "metadata": {
                  "tags": []
                },
                "text": "\b\b\b\b\b\b\b\b\b\b\b\b\b\b\b\b\b\b\b\b\b\b\b\b\b\b\b\b\b\b\b\b\b\b\b\b\b\b\b\b\b\b\b\b\b\b\b\b\b\b\b\b\b\b\b\b\b\b\b\b\b\b\b\b\b\b\b\b\b\b\b\b\b\b\b\b\b\b\b\r532/600 [=========================>....] - ETA: 0s - loss: 1.1942 - acc: 0.6957",
                "stream": "stdout"
              },
              {
                "output_type": "stream",
                "metadata": {
                  "tags": []
                },
                "text": "\b\b\b\b\b\b\b\b\b\b\b\b\b\b\b\b\b\b\b\b\b\b\b\b\b\b\b\b\b\b\b\b\b\b\b\b\b\b\b\b\b\b\b\b\b\b\b\b\b\b\b\b\b\b\b\b\b\b\b\b\b\b\b\b\b\b\b\b\b\b\b\b\b\b\b\b\b\b\b\r563/600 [===========================>..] - ETA: 0s - loss: 1.1934 - acc: 0.6960",
                "stream": "stdout"
              },
              {
                "output_type": "stream",
                "metadata": {
                  "tags": []
                },
                "text": "\b\b\b\b\b\b\b\b\b\b\b\b\b\b\b\b\b\b\b\b\b\b\b\b\b\b\b\b\b\b\b\b\b\b\b\b\b\b\b\b\b\b\b\b\b\b\b\b\b\b\b\b\b\b\b\b\b\b\b\b\b\b\b\b\b\b\b\b\b\b\b\b\b\b\b\b\b\b\b\r594/600 [============================>.] - ETA: 0s - loss: 1.1914 - acc: 0.6962",
                "stream": "stdout"
              },
              {
                "output_type": "stream",
                "metadata": {
                  "tags": []
                },
                "text": "\b\b\b\b\b\b\b\b\b\b\b\b\b\b\b\b\b\b\b\b\b\b\b\b\b\b\b\b\b\b\b\b\b\b\b\b\b\b\b\b\b\b\b\b\b\b\b\b\b\b\b\b\b\b\b\b\b\b\b\b\b\b\b\b\b\b\b\b\b\b\b\b\b\b\b\b\b\b\b\r600/600 [==============================] - 1s 2ms/step - loss: 1.1910 - acc: 0.6960 - val_loss: 1.1608 - val_acc: 0.7089\n",
                "stream": "stdout"
              },
              {
                "output_type": "stream",
                "metadata": {
                  "tags": []
                },
                "text": "Epoch 14/30\n\r  1/600 [..............................] - ETA: 0s - loss: 1.2281 - acc: 0.6300",
                "stream": "stdout"
              },
              {
                "output_type": "stream",
                "metadata": {
                  "tags": []
                },
                "text": "\b\b\b\b\b\b\b\b\b\b\b\b\b\b\b\b\b\b\b\b\b\b\b\b\b\b\b\b\b\b\b\b\b\b\b\b\b\b\b\b\b\b\b\b\b\b\b\b\b\b\b\b\b\b\b\b\b\b\b\b\b\b\b\b\b\b\b\b\b\b\b\b\b\b\b\b\b\b\b\r 29/600 [>.............................] - ETA: 1s - loss: 1.1703 - acc: 0.7059",
                "stream": "stdout"
              },
              {
                "output_type": "stream",
                "metadata": {
                  "tags": []
                },
                "text": "\b\b\b\b\b\b\b\b\b\b\b\b\b\b\b\b\b\b\b\b\b\b\b\b\b\b\b\b\b\b\b\b\b\b\b\b\b\b\b\b\b\b\b\b\b\b\b\b\b\b\b\b\b\b\b\b\b\b\b\b\b\b\b\b\b\b\b\b\b\b\b\b\b\b\b\b\b\b\b\r 62/600 [==>...........................] - ETA: 0s - loss: 1.1697 - acc: 0.6915",
                "stream": "stdout"
              },
              {
                "output_type": "stream",
                "metadata": {
                  "tags": []
                },
                "text": "\b\b\b\b\b\b\b\b\b\b\b\b\b\b\b\b\b\b\b\b\b\b\b\b\b\b\b\b\b\b\b\b\b\b\b\b\b\b\b\b\b\b\b\b\b\b\b\b\b\b\b\b\b\b\b\b\b\b\b\b\b\b\b\b\b\b\b\b\b\b\b\b\b\b\b\b\b\b\b\r 95/600 [===>..........................] - ETA: 0s - loss: 1.1652 - acc: 0.6920",
                "stream": "stdout"
              },
              {
                "output_type": "stream",
                "metadata": {
                  "tags": []
                },
                "text": "\b\b\b\b\b\b\b\b\b\b\b\b\b\b\b\b\b\b\b\b\b\b\b\b\b\b\b\b\b\b\b\b\b\b\b\b\b\b\b\b\b\b\b\b\b\b\b\b\b\b\b\b\b\b\b\b\b\b\b\b\b\b\b\b\b\b\b\b\b\b\b\b\b\b\b\b\b\b\b\r130/600 [=====>........................] - ETA: 0s - loss: 1.1687 - acc: 0.6882",
                "stream": "stdout"
              },
              {
                "output_type": "stream",
                "metadata": {
                  "tags": []
                },
                "text": "\b\b\b\b\b\b\b\b\b\b\b\b\b\b\b\b\b\b\b\b\b\b\b\b\b\b\b\b\b\b\b\b\b\b\b\b\b\b\b\b\b\b\b\b\b\b\b\b\b\b\b\b\b\b\b\b\b\b\b\b\b\b\b\b\b\b\b\b\b\b\b\b\b\b\b\b\b\b\b\r162/600 [=======>......................] - ETA: 0s - loss: 1.1655 - acc: 0.6938",
                "stream": "stdout"
              },
              {
                "output_type": "stream",
                "metadata": {
                  "tags": []
                },
                "text": "\b\b\b\b\b\b\b\b\b\b\b\b\b\b\b\b\b\b\b\b\b\b\b\b\b\b\b\b\b\b\b\b\b\b\b\b\b\b\b\b\b\b\b\b\b\b\b\b\b\b\b\b\b\b\b\b\b\b\b\b\b\b\b\b\b\b\b\b\b\b\b\b\b\b\b\b\b\b\b\r192/600 [========>.....................] - ETA: 0s - loss: 1.1655 - acc: 0.6949",
                "stream": "stdout"
              },
              {
                "output_type": "stream",
                "metadata": {
                  "tags": []
                },
                "text": "\b\b\b\b\b\b\b\b\b\b\b\b\b\b\b\b\b\b\b\b\b\b\b\b\b\b\b\b\b\b\b\b\b\b\b\b\b\b\b\b\b\b\b\b\b\b\b\b\b\b\b\b\b\b\b\b\b\b\b\b\b\b\b\b\b\b\b\b\b\b\b\b\b\b\b\b\b\b\b\r227/600 [==========>...................] - ETA: 0s - loss: 1.1625 - acc: 0.6962",
                "stream": "stdout"
              },
              {
                "output_type": "stream",
                "metadata": {
                  "tags": []
                },
                "text": "\b\b\b\b\b\b\b\b\b\b\b\b\b\b\b\b\b\b\b\b\b\b\b\b\b\b\b\b\b\b\b\b\b\b\b\b\b\b\b\b\b\b\b\b\b\b\b\b\b\b\b\b\b\b\b\b\b\b\b\b\b\b\b\b\b\b\b\b\b\b\b\b\b\b\b\b\b\b\b\r264/600 [============>.................] - ETA: 0s - loss: 1.1609 - acc: 0.6947",
                "stream": "stdout"
              },
              {
                "output_type": "stream",
                "metadata": {
                  "tags": []
                },
                "text": "\b\b\b\b\b\b\b\b\b\b\b\b\b\b\b\b\b\b\b\b\b\b\b\b\b\b\b\b\b\b\b\b\b\b\b\b\b\b\b\b\b\b\b\b\b\b\b\b\b\b\b\b\b\b\b\b\b\b\b\b\b\b\b\b\b\b\b\b\b\b\b\b\b\b\b\b\b\b\b\r299/600 [=============>................] - ETA: 0s - loss: 1.1629 - acc: 0.6919",
                "stream": "stdout"
              },
              {
                "output_type": "stream",
                "metadata": {
                  "tags": []
                },
                "text": "\b\b\b\b\b\b\b\b\b\b\b\b\b\b\b\b\b\b\b\b\b\b\b\b\b\b\b\b\b\b\b\b\b\b\b\b\b\b\b\b\b\b\b\b\b\b\b\b\b\b\b\b\b\b\b\b\b\b\b\b\b\b\b\b\b\b\b\b\b\b\b\b\b\b\b\b\b\b\b\r333/600 [===============>..............] - ETA: 0s - loss: 1.1635 - acc: 0.6908",
                "stream": "stdout"
              },
              {
                "output_type": "stream",
                "metadata": {
                  "tags": []
                },
                "text": "\b\b\b\b\b\b\b\b\b\b\b\b\b\b\b\b\b\b\b\b\b\b\b\b\b\b\b\b\b\b\b\b\b\b\b\b\b\b\b\b\b\b\b\b\b\b\b\b\b\b\b\b\b\b\b\b\b\b\b\b\b\b\b\b\b\b\b\b\b\b\b\b\b\b\b\b\b\b\b\r368/600 [=================>............] - ETA: 0s - loss: 1.1594 - acc: 0.6939",
                "stream": "stdout"
              },
              {
                "output_type": "stream",
                "metadata": {
                  "tags": []
                },
                "text": "\b\b\b\b\b\b\b\b\b\b\b\b\b\b\b\b\b\b\b\b\b\b\b\b\b\b\b\b\b\b\b\b\b\b\b\b\b\b\b\b\b\b\b\b\b\b\b\b\b\b\b\b\b\b\b\b\b\b\b\b\b\b\b\b\b\b\b\b\b\b\b\b\b\b\b\b\b\b\b\r404/600 [===================>..........] - ETA: 0s - loss: 1.1579 - acc: 0.6940",
                "stream": "stdout"
              },
              {
                "output_type": "stream",
                "metadata": {
                  "tags": []
                },
                "text": "\b\b\b\b\b\b\b\b\b\b\b\b\b\b\b\b\b\b\b\b\b\b\b\b\b\b\b\b\b\b\b\b\b\b\b\b\b\b\b\b\b\b\b\b\b\b\b\b\b\b\b\b\b\b\b\b\b\b\b\b\b\b\b\b\b\b\b\b\b\b\b\b\b\b\b\b\b\b\b\r441/600 [=====================>........] - ETA: 0s - loss: 1.1567 - acc: 0.6939",
                "stream": "stdout"
              },
              {
                "output_type": "stream",
                "metadata": {
                  "tags": []
                },
                "text": "\b\b\b\b\b\b\b\b\b\b\b\b\b\b\b\b\b\b\b\b\b\b\b\b\b\b\b\b\b\b\b\b\b\b\b\b\b\b\b\b\b\b\b\b\b\b\b\b\b\b\b\b\b\b\b\b\b\b\b\b\b\b\b\b\b\b\b\b\b\b\b\b\b\b\b\b\b\b\b\r477/600 [======================>.......] - ETA: 0s - loss: 1.1555 - acc: 0.6941",
                "stream": "stdout"
              },
              {
                "output_type": "stream",
                "metadata": {
                  "tags": []
                },
                "text": "\b\b\b\b\b\b\b\b\b\b\b\b\b\b\b\b\b\b\b\b\b\b\b\b\b\b\b\b\b\b\b\b\b\b\b\b\b\b\b\b\b\b\b\b\b\b\b\b\b\b\b\b\b\b\b\b\b\b\b\b\b\b\b\b\b\b\b\b\b\b\b\b\b\b\b\b\b\b\b\r507/600 [========================>.....] - ETA: 0s - loss: 1.1543 - acc: 0.6943",
                "stream": "stdout"
              },
              {
                "output_type": "stream",
                "metadata": {
                  "tags": []
                },
                "text": "\b\b\b\b\b\b\b\b\b\b\b\b\b\b\b\b\b\b\b\b\b\b\b\b\b\b\b\b\b\b\b\b\b\b\b\b\b\b\b\b\b\b\b\b\b\b\b\b\b\b\b\b\b\b\b\b\b\b\b\b\b\b\b\b\b\b\b\b\b\b\b\b\b\b\b\b\b\b\b\r540/600 [==========================>...] - ETA: 0s - loss: 1.1526 - acc: 0.6949",
                "stream": "stdout"
              },
              {
                "output_type": "stream",
                "metadata": {
                  "tags": []
                },
                "text": "\b\b\b\b\b\b\b\b\b\b\b\b\b\b\b\b\b\b\b\b\b\b\b\b\b\b\b\b\b\b\b\b\b\b\b\b\b\b\b\b\b\b\b\b\b\b\b\b\b\b\b\b\b\b\b\b\b\b\b\b\b\b\b\b\b\b\b\b\b\b\b\b\b\b\b\b\b\b\b\r574/600 [===========================>..] - ETA: 0s - loss: 1.1523 - acc: 0.6955",
                "stream": "stdout"
              },
              {
                "output_type": "stream",
                "metadata": {
                  "tags": []
                },
                "text": "\b\b\b\b\b\b\b\b\b\b\b\b\b\b\b\b\b\b\b\b\b\b\b\b\b\b\b\b\b\b\b\b\b\b\b\b\b\b\b\b\b\b\b\b\b\b\b\b\b\b\b\b\b\b\b\b\b\b\b\b\b\b\b\b\b\b\b\b\b\b\b\b\b\b\b\b\b\b\b\r600/600 [==============================] - 1s 2ms/step - loss: 1.1525 - acc: 0.6945 - val_loss: 1.1523 - val_acc: 0.6912\n",
                "stream": "stdout"
              },
              {
                "output_type": "stream",
                "metadata": {
                  "tags": []
                },
                "text": "Epoch 15/30\n\r  1/600 [..............................] - ETA: 0s - loss: 1.1127 - acc: 0.7000",
                "stream": "stdout"
              },
              {
                "output_type": "stream",
                "metadata": {
                  "tags": []
                },
                "text": "\b\b\b\b\b\b\b\b\b\b\b\b\b\b\b\b\b\b\b\b\b\b\b\b\b\b\b\b\b\b\b\b\b\b\b\b\b\b\b\b\b\b\b\b\b\b\b\b\b\b\b\b\b\b\b\b\b\b\b\b\b\b\b\b\b\b\b\b\b\b\b\b\b\b\b\b\b\b\b\r 31/600 [>.............................] - ETA: 0s - loss: 1.1453 - acc: 0.7035",
                "stream": "stdout"
              },
              {
                "output_type": "stream",
                "metadata": {
                  "tags": []
                },
                "text": "\b\b\b\b\b\b\b\b\b\b\b\b\b\b\b\b\b\b\b\b\b\b\b\b\b\b\b\b\b\b\b\b\b\b\b\b\b\b\b\b\b\b\b\b\b\b\b\b\b\b\b\b\b\b\b\b\b\b\b\b\b\b\b\b\b\b\b\b\b\b\b\b\b\b\b\b\b\b\b\r 61/600 [==>...........................] - ETA: 0s - loss: 1.1390 - acc: 0.7146",
                "stream": "stdout"
              },
              {
                "output_type": "stream",
                "metadata": {
                  "tags": []
                },
                "text": "\b\b\b\b\b\b\b\b\b\b\b\b\b\b\b\b\b\b\b\b\b\b\b\b\b\b\b\b\b\b\b\b\b\b\b\b\b\b\b\b\b\b\b\b\b\b\b\b\b\b\b\b\b\b\b\b\b\b\b\b\b\b\b\b\b\b\b\b\b\b\b\b\b\b\b\b\b\b\b\r 94/600 [===>..........................] - ETA: 0s - loss: 1.1408 - acc: 0.7116",
                "stream": "stdout"
              },
              {
                "output_type": "stream",
                "metadata": {
                  "tags": []
                },
                "text": "\b\b\b\b\b\b\b\b\b\b\b\b\b\b\b\b\b\b\b\b\b\b\b\b\b\b\b\b\b\b\b\b\b\b\b\b\b\b\b\b\b\b\b\b\b\b\b\b\b\b\b\b\b\b\b\b\b\b\b\b\b\b\b\b\b\b\b\b\b\b\b\b\b\b\b\b\b\b\b\r127/600 [=====>........................] - ETA: 0s - loss: 1.1367 - acc: 0.7140",
                "stream": "stdout"
              },
              {
                "output_type": "stream",
                "metadata": {
                  "tags": []
                },
                "text": "\b\b\b\b\b\b\b\b\b\b\b\b\b\b\b\b\b\b\b\b\b\b\b\b\b\b\b\b\b\b\b\b\b\b\b\b\b\b\b\b\b\b\b\b\b\b\b\b\b\b\b\b\b\b\b\b\b\b\b\b\b\b\b\b\b\b\b\b\b\b\b\b\b\b\b\b\b\b\b\r159/600 [======>.......................] - ETA: 0s - loss: 1.1374 - acc: 0.7139",
                "stream": "stdout"
              },
              {
                "output_type": "stream",
                "metadata": {
                  "tags": []
                },
                "text": "\b\b\b\b\b\b\b\b\b\b\b\b\b\b\b\b\b\b\b\b\b\b\b\b\b\b\b\b\b\b\b\b\b\b\b\b\b\b\b\b\b\b\b\b\b\b\b\b\b\b\b\b\b\b\b\b\b\b\b\b\b\b\b\b\b\b\b\b\b\b\b\b\b\b\b\b\b\b\b\r194/600 [========>.....................] - ETA: 0s - loss: 1.1365 - acc: 0.7135",
                "stream": "stdout"
              },
              {
                "output_type": "stream",
                "metadata": {
                  "tags": []
                },
                "text": "\b\b\b\b\b\b\b\b\b\b\b\b\b\b\b\b\b\b\b\b\b\b\b\b\b\b\b\b\b\b\b\b\b\b\b\b\b\b\b\b\b\b\b\b\b\b\b\b\b\b\b\b\b\b\b\b\b\b\b\b\b\b\b\b\b\b\b\b\b\b\b\b\b\b\b\b\b\b\b\r228/600 [==========>...................] - ETA: 0s - loss: 1.1345 - acc: 0.7141",
                "stream": "stdout"
              },
              {
                "output_type": "stream",
                "metadata": {
                  "tags": []
                },
                "text": "\b\b\b\b\b\b\b\b\b\b\b\b\b\b\b\b\b\b\b\b\b\b\b\b\b\b\b\b\b\b\b\b\b\b\b\b\b\b\b\b\b\b\b\b\b\b\b\b\b\b\b\b\b\b\b\b\b\b\b\b\b\b\b\b\b\b\b\b\b\b\b\b\b\b\b\b\b\b\b\r263/600 [============>.................] - ETA: 0s - loss: 1.1327 - acc: 0.7161",
                "stream": "stdout"
              },
              {
                "output_type": "stream",
                "metadata": {
                  "tags": []
                },
                "text": "\b\b\b\b\b\b\b\b\b\b\b\b\b\b\b\b\b\b\b\b\b\b\b\b\b\b\b\b\b\b\b\b\b\b\b\b\b\b\b\b\b\b\b\b\b\b\b\b\b\b\b\b\b\b\b\b\b\b\b\b\b\b\b\b\b\b\b\b\b\b\b\b\b\b\b\b\b\b\b\r298/600 [=============>................] - ETA: 0s - loss: 1.1320 - acc: 0.7174",
                "stream": "stdout"
              },
              {
                "output_type": "stream",
                "metadata": {
                  "tags": []
                },
                "text": "\b\b\b\b\b\b\b\b\b\b\b\b\b\b\b\b\b\b\b\b\b\b\b\b\b\b\b\b\b\b\b\b\b\b\b\b\b\b\b\b\b\b\b\b\b\b\b\b\b\b\b\b\b\b\b\b\b\b\b\b\b\b\b\b\b\b\b\b\b\b\b\b\b\b\b\b\b\b\b\r334/600 [===============>..............] - ETA: 0s - loss: 1.1319 - acc: 0.7172",
                "stream": "stdout"
              },
              {
                "output_type": "stream",
                "metadata": {
                  "tags": []
                },
                "text": "\b\b\b\b\b\b\b\b\b\b\b\b\b\b\b\b\b\b\b\b\b\b\b\b\b\b\b\b\b\b\b\b\b\b\b\b\b\b\b\b\b\b\b\b\b\b\b\b\b\b\b\b\b\b\b\b\b\b\b\b\b\b\b\b\b\b\b\b\b\b\b\b\b\b\b\b\b\b\b\r371/600 [=================>............] - ETA: 0s - loss: 1.1323 - acc: 0.7166",
                "stream": "stdout"
              },
              {
                "output_type": "stream",
                "metadata": {
                  "tags": []
                },
                "text": "\b\b\b\b\b\b\b\b\b\b\b\b\b\b\b\b\b\b\b\b\b\b\b\b\b\b\b\b\b\b\b\b\b\b\b\b\b\b\b\b\b\b\b\b\b\b\b\b\b\b\b\b\b\b\b\b\b\b\b\b\b\b\b\b\b\b\b\b\b\b\b\b\b\b\b\b\b\b\b\r408/600 [===================>..........] - ETA: 0s - loss: 1.1320 - acc: 0.7164",
                "stream": "stdout"
              },
              {
                "output_type": "stream",
                "metadata": {
                  "tags": []
                },
                "text": "\b\b\b\b\b\b\b\b\b\b\b\b\b\b\b\b\b\b\b\b\b\b\b\b\b\b\b\b\b\b\b\b\b\b\b\b\b\b\b\b\b\b\b\b\b\b\b\b\b\b\b\b\b\b\b\b\b\b\b\b\b\b\b\b\b\b\b\b\b\b\b\b\b\b\b\b\b\b\b\r439/600 [====================>.........] - ETA: 0s - loss: 1.1294 - acc: 0.7176",
                "stream": "stdout"
              },
              {
                "output_type": "stream",
                "metadata": {
                  "tags": []
                },
                "text": "\b\b\b\b\b\b\b\b\b\b\b\b\b\b\b\b\b\b\b\b\b\b\b\b\b\b\b\b\b\b\b\b\b\b\b\b\b\b\b\b\b\b\b\b\b\b\b\b\b\b\b\b\b\b\b\b\b\b\b\b\b\b\b\b\b\b\b\b\b\b\b\b\b\b\b\b\b\b\b\r470/600 [======================>.......] - ETA: 0s - loss: 1.1286 - acc: 0.7177",
                "stream": "stdout"
              },
              {
                "output_type": "stream",
                "metadata": {
                  "tags": []
                },
                "text": "\b\b\b\b\b\b\b\b\b\b\b\b\b\b\b\b\b\b\b\b\b\b\b\b\b\b\b\b\b\b\b\b\b\b\b\b\b\b\b\b\b\b\b\b\b\b\b\b\b\b\b\b\b\b\b\b\b\b\b\b\b\b\b\b\b\b\b\b\b\b\b\b\b\b\b\b\b\b\b\r505/600 [========================>.....] - ETA: 0s - loss: 1.1285 - acc: 0.7180",
                "stream": "stdout"
              },
              {
                "output_type": "stream",
                "metadata": {
                  "tags": []
                },
                "text": "\b\b\b\b\b\b\b\b\b\b\b\b\b\b\b\b\b\b\b\b\b\b\b\b\b\b\b\b\b\b\b\b\b\b\b\b\b\b\b\b\b\b\b\b\b\b\b\b\b\b\b\b\b\b\b\b\b\b\b\b\b\b\b\b\b\b\b\b\b\b\b\b\b\b\b\b\b\b\b\r539/600 [=========================>....] - ETA: 0s - loss: 1.1268 - acc: 0.7187",
                "stream": "stdout"
              },
              {
                "output_type": "stream",
                "metadata": {
                  "tags": []
                },
                "text": "\b\b\b\b\b\b\b\b\b\b\b\b\b\b\b\b\b\b\b\b\b\b\b\b\b\b\b\b\b\b\b\b\b\b\b\b\b\b\b\b\b\b\b\b\b\b\b\b\b\b\b\b\b\b\b\b\b\b\b\b\b\b\b\b\b\b\b\b\b\b\b\b\b\b\b\b\b\b\b\r575/600 [===========================>..] - ETA: 0s - loss: 1.1264 - acc: 0.7186",
                "stream": "stdout"
              },
              {
                "output_type": "stream",
                "metadata": {
                  "tags": []
                },
                "text": "\b\b\b\b\b\b\b\b\b\b\b\b\b\b\b\b\b\b\b\b\b\b\b\b\b\b\b\b\b\b\b\b\b\b\b\b\b\b\b\b\b\b\b\b\b\b\b\b\b\b\b\b\b\b\b\b\b\b\b\b\b\b\b\b\b\b\b\b\b\b\b\b\b\b\b\b\b\b\b\r600/600 [==============================] - 1s 2ms/step - loss: 1.1244 - acc: 0.7190 - val_loss: 1.0950 - val_acc: 0.7322\n",
                "stream": "stdout"
              },
              {
                "output_type": "stream",
                "metadata": {
                  "tags": []
                },
                "text": "Epoch 16/30\n\r  1/600 [..............................] - ETA: 0s - loss: 1.1639 - acc: 0.7200",
                "stream": "stdout"
              },
              {
                "output_type": "stream",
                "metadata": {
                  "tags": []
                },
                "text": "\b\b\b\b\b\b\b\b\b\b\b\b\b\b\b\b\b\b\b\b\b\b\b\b\b\b\b\b\b\b\b\b\b\b\b\b\b\b\b\b\b\b\b\b\b\b\b\b\b\b\b\b\b\b\b\b\b\b\b\b\b\b\b\b\b\b\b\b\b\b\b\b\b\b\b\b\b\b\b\r 35/600 [>.............................] - ETA: 0s - loss: 1.1061 - acc: 0.7243",
                "stream": "stdout"
              },
              {
                "output_type": "stream",
                "metadata": {
                  "tags": []
                },
                "text": "\b\b\b\b\b\b\b\b\b\b\b\b\b\b\b\b\b\b\b\b\b\b\b\b\b\b\b\b\b\b\b\b\b\b\b\b\b\b\b\b\b\b\b\b\b\b\b\b\b\b\b\b\b\b\b\b\b\b\b\b\b\b\b\b\b\b\b\b\b\b\b\b\b\b\b\b\b\b\b\r 72/600 [==>...........................] - ETA: 0s - loss: 1.0904 - acc: 0.7289",
                "stream": "stdout"
              },
              {
                "output_type": "stream",
                "metadata": {
                  "tags": []
                },
                "text": "\b\b\b\b\b\b\b\b\b\b\b\b\b\b\b\b\b\b\b\b\b\b\b\b\b\b\b\b\b\b\b\b\b\b\b\b\b\b\b\b\b\b\b\b\b\b\b\b\b\b\b\b\b\b\b\b\b\b\b\b\b\b\b\b\b\b\b\b\b\b\b\b\b\b\b\b\b\b\b\r105/600 [====>.........................] - ETA: 0s - loss: 1.0904 - acc: 0.7285",
                "stream": "stdout"
              },
              {
                "output_type": "stream",
                "metadata": {
                  "tags": []
                },
                "text": "\b\b\b\b\b\b\b\b\b\b\b\b\b\b\b\b\b\b\b\b\b\b\b\b\b\b\b\b\b\b\b\b\b\b\b\b\b\b\b\b\b\b\b\b\b\b\b\b\b\b\b\b\b\b\b\b\b\b\b\b\b\b\b\b\b\b\b\b\b\b\b\b\b\b\b\b\b\b\b\r138/600 [=====>........................] - ETA: 0s - loss: 1.0969 - acc: 0.7265",
                "stream": "stdout"
              },
              {
                "output_type": "stream",
                "metadata": {
                  "tags": []
                },
                "text": "\b\b\b\b\b\b\b\b\b\b\b\b\b\b\b\b\b\b\b\b\b\b\b\b\b\b\b\b\b\b\b\b\b\b\b\b\b\b\b\b\b\b\b\b\b\b\b\b\b\b\b\b\b\b\b\b\b\b\b\b\b\b\b\b\b\b\b\b\b\b\b\b\b\b\b\b\b\b\b\r172/600 [=======>......................] - ETA: 0s - loss: 1.0958 - acc: 0.7284",
                "stream": "stdout"
              },
              {
                "output_type": "stream",
                "metadata": {
                  "tags": []
                },
                "text": "\b\b\b\b\b\b\b\b\b\b\b\b\b\b\b\b\b\b\b\b\b\b\b\b\b\b\b\b\b\b\b\b\b\b\b\b\b\b\b\b\b\b\b\b\b\b\b\b\b\b\b\b\b\b\b\b\b\b\b\b\b\b\b\b\b\b\b\b\b\b\b\b\b\b\b\b\b\b\b\r208/600 [=========>....................] - ETA: 0s - loss: 1.0959 - acc: 0.7267",
                "stream": "stdout"
              },
              {
                "output_type": "stream",
                "metadata": {
                  "tags": []
                },
                "text": "\b\b\b\b\b\b\b\b\b\b\b\b\b\b\b\b\b\b\b\b\b\b\b\b\b\b\b\b\b\b\b\b\b\b\b\b\b\b\b\b\b\b\b\b\b\b\b\b\b\b\b\b\b\b\b\b\b\b\b\b\b\b\b\b\b\b\b\b\b\b\b\b\b\b\b\b\b\b\b\r244/600 [===========>..................] - ETA: 0s - loss: 1.1007 - acc: 0.7237",
                "stream": "stdout"
              },
              {
                "output_type": "stream",
                "metadata": {
                  "tags": []
                },
                "text": "\b\b\b\b\b\b\b\b\b\b\b\b\b\b\b\b\b\b\b\b\b\b\b\b\b\b\b\b\b\b\b\b\b\b\b\b\b\b\b\b\b\b\b\b\b\b\b\b\b\b\b\b\b\b\b\b\b\b\b\b\b\b\b\b\b\b\b\b\b\b\b\b\b\b\b\b\b\b\b\r275/600 [============>.................] - ETA: 0s - loss: 1.1013 - acc: 0.7238",
                "stream": "stdout"
              },
              {
                "output_type": "stream",
                "metadata": {
                  "tags": []
                },
                "text": "\b\b\b\b\b\b\b\b\b\b\b\b\b\b\b\b\b\b\b\b\b\b\b\b\b\b\b\b\b\b\b\b\b\b\b\b\b\b\b\b\b\b\b\b\b\b\b\b\b\b\b\b\b\b\b\b\b\b\b\b\b\b\b\b\b\b\b\b\b\b\b\b\b\b\b\b\b\b\b\r312/600 [==============>...............] - ETA: 0s - loss: 1.0996 - acc: 0.7242",
                "stream": "stdout"
              },
              {
                "output_type": "stream",
                "metadata": {
                  "tags": []
                },
                "text": "\b\b\b\b\b\b\b\b\b\b\b\b\b\b\b\b\b\b\b\b\b\b\b\b\b\b\b\b\b\b\b\b\b\b\b\b\b\b\b\b\b\b\b\b\b\b\b\b\b\b\b\b\b\b\b\b\b\b\b\b\b\b\b\b\b\b\b\b\b\b\b\b\b\b\b\b\b\b\b\r347/600 [================>.............] - ETA: 0s - loss: 1.1012 - acc: 0.7237",
                "stream": "stdout"
              },
              {
                "output_type": "stream",
                "metadata": {
                  "tags": []
                },
                "text": "\b\b\b\b\b\b\b\b\b\b\b\b\b\b\b\b\b\b\b\b\b\b\b\b\b\b\b\b\b\b\b\b\b\b\b\b\b\b\b\b\b\b\b\b\b\b\b\b\b\b\b\b\b\b\b\b\b\b\b\b\b\b\b\b\b\b\b\b\b\b\b\b\b\b\b\b\b\b\b\r380/600 [==================>...........] - ETA: 0s - loss: 1.1022 - acc: 0.7217",
                "stream": "stdout"
              },
              {
                "output_type": "stream",
                "metadata": {
                  "tags": []
                },
                "text": "\b\b\b\b\b\b\b\b\b\b\b\b\b\b\b\b\b\b\b\b\b\b\b\b\b\b\b\b\b\b\b\b\b\b\b\b\b\b\b\b\b\b\b\b\b\b\b\b\b\b\b\b\b\b\b\b\b\b\b\b\b\b\b\b\b\b\b\b\b\b\b\b\b\b\b\b\b\b\b\r413/600 [===================>..........] - ETA: 0s - loss: 1.1003 - acc: 0.7221",
                "stream": "stdout"
              },
              {
                "output_type": "stream",
                "metadata": {
                  "tags": []
                },
                "text": "\b\b\b\b\b\b\b\b\b\b\b\b\b\b\b\b\b\b\b\b\b\b\b\b\b\b\b\b\b\b\b\b\b\b\b\b\b\b\b\b\b\b\b\b\b\b\b\b\b\b\b\b\b\b\b\b\b\b\b\b\b\b\b\b\b\b\b\b\b\b\b\b\b\b\b\b\b\b\b\r445/600 [=====================>........] - ETA: 0s - loss: 1.0999 - acc: 0.7215",
                "stream": "stdout"
              },
              {
                "output_type": "stream",
                "metadata": {
                  "tags": []
                },
                "text": "\b\b\b\b\b\b\b\b\b\b\b\b\b\b\b\b\b\b\b\b\b\b\b\b\b\b\b\b\b\b\b\b\b\b\b\b\b\b\b\b\b\b\b\b\b\b\b\b\b\b\b\b\b\b\b\b\b\b\b\b\b\b\b\b\b\b\b\b\b\b\b\b\b\b\b\b\b\b\b\r480/600 [=======================>......] - ETA: 0s - loss: 1.0992 - acc: 0.7209",
                "stream": "stdout"
              },
              {
                "output_type": "stream",
                "metadata": {
                  "tags": []
                },
                "text": "\b\b\b\b\b\b\b\b\b\b\b\b\b\b\b\b\b\b\b\b\b\b\b\b\b\b\b\b\b\b\b\b\b\b\b\b\b\b\b\b\b\b\b\b\b\b\b\b\b\b\b\b\b\b\b\b\b\b\b\b\b\b\b\b\b\b\b\b\b\b\b\b\b\b\b\b\b\b\b\r513/600 [========================>.....] - ETA: 0s - loss: 1.0983 - acc: 0.7201",
                "stream": "stdout"
              },
              {
                "output_type": "stream",
                "metadata": {
                  "tags": []
                },
                "text": "\b\b\b\b\b\b\b\b\b\b\b\b\b\b\b\b\b\b\b\b\b\b\b\b\b\b\b\b\b\b\b\b\b\b\b\b\b\b\b\b\b\b\b\b\b\b\b\b\b\b\b\b\b\b\b\b\b\b\b\b\b\b\b\b\b\b\b\b\b\b\b\b\b\b\b\b\b\b\b\r543/600 [==========================>...] - ETA: 0s - loss: 1.0988 - acc: 0.7200",
                "stream": "stdout"
              },
              {
                "output_type": "stream",
                "metadata": {
                  "tags": []
                },
                "text": "\b\b\b\b\b\b\b\b\b\b\b\b\b\b\b\b\b\b\b\b\b\b\b\b\b\b\b\b\b\b\b\b\b\b\b\b\b\b\b\b\b\b\b\b\b\b\b\b\b\b\b\b\b\b\b\b\b\b\b\b\b\b\b\b\b\b\b\b\b\b\b\b\b\b\b\b\b\b\b\r576/600 [===========================>..] - ETA: 0s - loss: 1.0978 - acc: 0.7205",
                "stream": "stdout"
              },
              {
                "output_type": "stream",
                "metadata": {
                  "tags": []
                },
                "text": "\b\b\b\b\b\b\b\b\b\b\b\b\b\b\b\b\b\b\b\b\b\b\b\b\b\b\b\b\b\b\b\b\b\b\b\b\b\b\b\b\b\b\b\b\b\b\b\b\b\b\b\b\b\b\b\b\b\b\b\b\b\b\b\b\b\b\b\b\b\b\b\b\b\b\b\b\b\b\b\r600/600 [==============================] - 1s 2ms/step - loss: 1.0968 - acc: 0.7211 - val_loss: 1.0936 - val_acc: 0.7185\n",
                "stream": "stdout"
              },
              {
                "output_type": "stream",
                "metadata": {
                  "tags": []
                },
                "text": "Epoch 17/30\n\r  1/600 [..............................] - ETA: 0s - loss: 1.1523 - acc: 0.7200",
                "stream": "stdout"
              },
              {
                "output_type": "stream",
                "metadata": {
                  "tags": []
                },
                "text": "\b\b\b\b\b\b\b\b\b\b\b\b\b\b\b\b\b\b\b\b\b\b\b\b\b\b\b\b\b\b\b\b\b\b\b\b\b\b\b\b\b\b\b\b\b\b\b\b\b\b\b\b\b\b\b\b\b\b\b\b\b\b\b\b\b\b\b\b\b\b\b\b\b\b\b\b\b\b\b\r 32/600 [>.............................] - ETA: 0s - loss: 1.0842 - acc: 0.7203",
                "stream": "stdout"
              },
              {
                "output_type": "stream",
                "metadata": {
                  "tags": []
                },
                "text": "\b\b\b\b\b\b\b\b\b\b\b\b\b\b\b\b\b\b\b\b\b\b\b\b\b\b\b\b\b\b\b\b\b\b\b\b\b\b\b\b\b\b\b\b\b\b\b\b\b\b\b\b\b\b\b\b\b\b\b\b\b\b\b\b\b\b\b\b\b\b\b\b\b\b\b\b\b\b\b\r 67/600 [==>...........................] - ETA: 0s - loss: 1.0844 - acc: 0.7173",
                "stream": "stdout"
              },
              {
                "output_type": "stream",
                "metadata": {
                  "tags": []
                },
                "text": "\b\b\b\b\b\b\b\b\b\b\b\b\b\b\b\b\b\b\b\b\b\b\b\b\b\b\b\b\b\b\b\b\b\b\b\b\b\b\b\b\b\b\b\b\b\b\b\b\b\b\b\b\b\b\b\b\b\b\b\b\b\b\b\b\b\b\b\b\b\b\b\b\b\b\b\b\b\b\b\r102/600 [====>.........................] - ETA: 0s - loss: 1.0799 - acc: 0.7199",
                "stream": "stdout"
              },
              {
                "output_type": "stream",
                "metadata": {
                  "tags": []
                },
                "text": "\b\b\b\b\b\b\b\b\b\b\b\b\b\b\b\b\b\b\b\b\b\b\b\b\b\b\b\b\b\b\b\b\b\b\b\b\b\b\b\b\b\b\b\b\b\b\b\b\b\b\b\b\b\b\b\b\b\b\b\b\b\b\b\b\b\b\b\b\b\b\b\b\b\b\b\b\b\b\b\r137/600 [=====>........................] - ETA: 0s - loss: 1.0779 - acc: 0.7194",
                "stream": "stdout"
              },
              {
                "output_type": "stream",
                "metadata": {
                  "tags": []
                },
                "text": "\b\b\b\b\b\b\b\b\b\b\b\b\b\b\b\b\b\b\b\b\b\b\b\b\b\b\b\b\b\b\b\b\b\b\b\b\b\b\b\b\b\b\b\b\b\b\b\b\b\b\b\b\b\b\b\b\b\b\b\b\b\b\b\b\b\b\b\b\b\b\b\b\b\b\b\b\b\b\b\r172/600 [=======>......................] - ETA: 0s - loss: 1.0799 - acc: 0.7185",
                "stream": "stdout"
              },
              {
                "output_type": "stream",
                "metadata": {
                  "tags": []
                },
                "text": "\b\b\b\b\b\b\b\b\b\b\b\b\b\b\b\b\b\b\b\b\b\b\b\b\b\b\b\b\b\b\b\b\b\b\b\b\b\b\b\b\b\b\b\b\b\b\b\b\b\b\b\b\b\b\b\b\b\b\b\b\b\b\b\b\b\b\b\b\b\b\b\b\b\b\b\b\b\b\b\r206/600 [=========>....................] - ETA: 0s - loss: 1.0816 - acc: 0.7182",
                "stream": "stdout"
              },
              {
                "output_type": "stream",
                "metadata": {
                  "tags": []
                },
                "text": "\b\b\b\b\b\b\b\b\b\b\b\b\b\b\b\b\b\b\b\b\b\b\b\b\b\b\b\b\b\b\b\b\b\b\b\b\b\b\b\b\b\b\b\b\b\b\b\b\b\b\b\b\b\b\b\b\b\b\b\b\b\b\b\b\b\b\b\b\b\b\b\b\b\b\b\b\b\b\b\r242/600 [===========>..................] - ETA: 0s - loss: 1.0844 - acc: 0.7178",
                "stream": "stdout"
              },
              {
                "output_type": "stream",
                "metadata": {
                  "tags": []
                },
                "text": "\b\b\b\b\b\b\b\b\b\b\b\b\b\b\b\b\b\b\b\b\b\b\b\b\b\b\b\b\b\b\b\b\b\b\b\b\b\b\b\b\b\b\b\b\b\b\b\b\b\b\b\b\b\b\b\b\b\b\b\b\b\b\b\b\b\b\b\b\b\b\b\b\b\b\b\b\b\b\b\r278/600 [============>.................] - ETA: 0s - loss: 1.0790 - acc: 0.7203",
                "stream": "stdout"
              },
              {
                "output_type": "stream",
                "metadata": {
                  "tags": []
                },
                "text": "\b\b\b\b\b\b\b\b\b\b\b\b\b\b\b\b\b\b\b\b\b\b\b\b\b\b\b\b\b\b\b\b\b\b\b\b\b\b\b\b\b\b\b\b\b\b\b\b\b\b\b\b\b\b\b\b\b\b\b\b\b\b\b\b\b\b\b\b\b\b\b\b\b\b\b\b\b\b\b\r313/600 [==============>...............] - ETA: 0s - loss: 1.0780 - acc: 0.7203",
                "stream": "stdout"
              },
              {
                "output_type": "stream",
                "metadata": {
                  "tags": []
                },
                "text": "\b\b\b\b\b\b\b\b\b\b\b\b\b\b\b\b\b\b\b\b\b\b\b\b\b\b\b\b\b\b\b\b\b\b\b\b\b\b\b\b\b\b\b\b\b\b\b\b\b\b\b\b\b\b\b\b\b\b\b\b\b\b\b\b\b\b\b\b\b\b\b\b\b\b\b\b\b\b\b\r347/600 [================>.............] - ETA: 0s - loss: 1.0771 - acc: 0.7215",
                "stream": "stdout"
              },
              {
                "output_type": "stream",
                "metadata": {
                  "tags": []
                },
                "text": "\b\b\b\b\b\b\b\b\b\b\b\b\b\b\b\b\b\b\b\b\b\b\b\b\b\b\b\b\b\b\b\b\b\b\b\b\b\b\b\b\b\b\b\b\b\b\b\b\b\b\b\b\b\b\b\b\b\b\b\b\b\b\b\b\b\b\b\b\b\b\b\b\b\b\b\b\b\b\b\r376/600 [=================>............] - ETA: 0s - loss: 1.0777 - acc: 0.7208",
                "stream": "stdout"
              },
              {
                "output_type": "stream",
                "metadata": {
                  "tags": []
                },
                "text": "\b\b\b\b\b\b\b\b\b\b\b\b\b\b\b\b\b\b\b\b\b\b\b\b\b\b\b\b\b\b\b\b\b\b\b\b\b\b\b\b\b\b\b\b\b\b\b\b\b\b\b\b\b\b\b\b\b\b\b\b\b\b\b\b\b\b\b\b\b\b\b\b\b\b\b\b\b\b\b\r410/600 [===================>..........] - ETA: 0s - loss: 1.0775 - acc: 0.7210",
                "stream": "stdout"
              },
              {
                "output_type": "stream",
                "metadata": {
                  "tags": []
                },
                "text": "\b\b\b\b\b\b\b\b\b\b\b\b\b\b\b\b\b\b\b\b\b\b\b\b\b\b\b\b\b\b\b\b\b\b\b\b\b\b\b\b\b\b\b\b\b\b\b\b\b\b\b\b\b\b\b\b\b\b\b\b\b\b\b\b\b\b\b\b\b\b\b\b\b\b\b\b\b\b\b\r444/600 [=====================>........] - ETA: 0s - loss: 1.0753 - acc: 0.7227",
                "stream": "stdout"
              },
              {
                "output_type": "stream",
                "metadata": {
                  "tags": []
                },
                "text": "\b\b\b\b\b\b\b\b\b\b\b\b\b\b\b\b\b\b\b\b\b\b\b\b\b\b\b\b\b\b\b\b\b\b\b\b\b\b\b\b\b\b\b\b\b\b\b\b\b\b\b\b\b\b\b\b\b\b\b\b\b\b\b\b\b\b\b\b\b\b\b\b\b\b\b\b\b\b\b\r481/600 [=======================>......] - ETA: 0s - loss: 1.0742 - acc: 0.7236",
                "stream": "stdout"
              },
              {
                "output_type": "stream",
                "metadata": {
                  "tags": []
                },
                "text": "\b\b\b\b\b\b\b\b\b\b\b\b\b\b\b\b\b\b\b\b\b\b\b\b\b\b\b\b\b\b\b\b\b\b\b\b\b\b\b\b\b\b\b\b\b\b\b\b\b\b\b\b\b\b\b\b\b\b\b\b\b\b\b\b\b\b\b\b\b\b\b\b\b\b\b\b\b\b\b\r514/600 [========================>.....] - ETA: 0s - loss: 1.0731 - acc: 0.7249",
                "stream": "stdout"
              },
              {
                "output_type": "stream",
                "metadata": {
                  "tags": []
                },
                "text": "\b\b\b\b\b\b\b\b\b\b\b\b\b\b\b\b\b\b\b\b\b\b\b\b\b\b\b\b\b\b\b\b\b\b\b\b\b\b\b\b\b\b\b\b\b\b\b\b\b\b\b\b\b\b\b\b\b\b\b\b\b\b\b\b\b\b\b\b\b\b\b\b\b\b\b\b\b\b\b\r546/600 [==========================>...] - ETA: 0s - loss: 1.0738 - acc: 0.7251",
                "stream": "stdout"
              },
              {
                "output_type": "stream",
                "metadata": {
                  "tags": []
                },
                "text": "\b\b\b\b\b\b\b\b\b\b\b\b\b\b\b\b\b\b\b\b\b\b\b\b\b\b\b\b\b\b\b\b\b\b\b\b\b\b\b\b\b\b\b\b\b\b\b\b\b\b\b\b\b\b\b\b\b\b\b\b\b\b\b\b\b\b\b\b\b\b\b\b\b\b\b\b\b\b\b\r579/600 [===========================>..] - ETA: 0s - loss: 1.0716 - acc: 0.7262",
                "stream": "stdout"
              },
              {
                "output_type": "stream",
                "metadata": {
                  "tags": []
                },
                "text": "\b\b\b\b\b\b\b\b\b\b\b\b\b\b\b\b\b\b\b\b\b\b\b\b\b\b\b\b\b\b\b\b\b\b\b\b\b\b\b\b\b\b\b\b\b\b\b\b\b\b\b\b\b\b\b\b\b\b\b\b\b\b\b\b\b\b\b\b\b\b\b\b\b\b\b\b\b\b\b\r600/600 [==============================] - 1s 2ms/step - loss: 1.0707 - acc: 0.7263 - val_loss: 1.0359 - val_acc: 0.7353\n",
                "stream": "stdout"
              },
              {
                "output_type": "stream",
                "metadata": {
                  "tags": []
                },
                "text": "Epoch 18/30\n\r  1/600 [..............................] - ETA: 0s - loss: 1.0924 - acc: 0.7000",
                "stream": "stdout"
              },
              {
                "output_type": "stream",
                "metadata": {
                  "tags": []
                },
                "text": "\b\b\b\b\b\b\b\b\b\b\b\b\b\b\b\b\b\b\b\b\b\b\b\b\b\b\b\b\b\b\b\b\b\b\b\b\b\b\b\b\b\b\b\b\b\b\b\b\b\b\b\b\b\b\b\b\b\b\b\b\b\b\b\b\b\b\b\b\b\b\b\b\b\b\b\b\b\b\b\r 33/600 [>.............................] - ETA: 0s - loss: 1.0945 - acc: 0.7061",
                "stream": "stdout"
              },
              {
                "output_type": "stream",
                "metadata": {
                  "tags": []
                },
                "text": "\b\b\b\b\b\b\b\b\b\b\b\b\b\b\b\b\b\b\b\b\b\b\b\b\b\b\b\b\b\b\b\b\b\b\b\b\b\b\b\b\b\b\b\b\b\b\b\b\b\b\b\b\b\b\b\b\b\b\b\b\b\b\b\b\b\b\b\b\b\b\b\b\b\b\b\b\b\b\b\r 67/600 [==>...........................] - ETA: 0s - loss: 1.0769 - acc: 0.7155",
                "stream": "stdout"
              },
              {
                "output_type": "stream",
                "metadata": {
                  "tags": []
                },
                "text": "\b\b\b\b\b\b\b\b\b\b\b\b\b\b\b\b\b\b\b\b\b\b\b\b\b\b\b\b\b\b\b\b\b\b\b\b\b\b\b\b\b\b\b\b\b\b\b\b\b\b\b\b\b\b\b\b\b\b\b\b\b\b\b\b\b\b\b\b\b\b\b\b\b\b\b\b\b\b\b\r 99/600 [===>..........................] - ETA: 0s - loss: 1.0772 - acc: 0.7163",
                "stream": "stdout"
              },
              {
                "output_type": "stream",
                "metadata": {
                  "tags": []
                },
                "text": "\b\b\b\b\b\b\b\b\b\b\b\b\b\b\b\b\b\b\b\b\b\b\b\b\b\b\b\b\b\b\b\b\b\b\b\b\b\b\b\b\b\b\b\b\b\b\b\b\b\b\b\b\b\b\b\b\b\b\b\b\b\b\b\b\b\b\b\b\b\b\b\b\b\b\b\b\b\b\b\r132/600 [=====>........................] - ETA: 0s - loss: 1.0652 - acc: 0.7241",
                "stream": "stdout"
              },
              {
                "output_type": "stream",
                "metadata": {
                  "tags": []
                },
                "text": "\b\b\b\b\b\b\b\b\b\b\b\b\b\b\b\b\b\b\b\b\b\b\b\b\b\b\b\b\b\b\b\b\b\b\b\b\b\b\b\b\b\b\b\b\b\b\b\b\b\b\b\b\b\b\b\b\b\b\b\b\b\b\b\b\b\b\b\b\b\b\b\b\b\b\b\b\b\b\b\r166/600 [=======>......................] - ETA: 0s - loss: 1.0596 - acc: 0.7264",
                "stream": "stdout"
              },
              {
                "output_type": "stream",
                "metadata": {
                  "tags": []
                },
                "text": "\b\b\b\b\b\b\b\b\b\b\b\b\b\b\b\b\b\b\b\b\b\b\b\b\b\b\b\b\b\b\b\b\b\b\b\b\b\b\b\b\b\b\b\b\b\b\b\b\b\b\b\b\b\b\b\b\b\b\b\b\b\b\b\b\b\b\b\b\b\b\b\b\b\b\b\b\b\b\b\r201/600 [=========>....................] - ETA: 0s - loss: 1.0570 - acc: 0.7265",
                "stream": "stdout"
              },
              {
                "output_type": "stream",
                "metadata": {
                  "tags": []
                },
                "text": "\b\b\b\b\b\b\b\b\b\b\b\b\b\b\b\b\b\b\b\b\b\b\b\b\b\b\b\b\b\b\b\b\b\b\b\b\b\b\b\b\b\b\b\b\b\b\b\b\b\b\b\b\b\b\b\b\b\b\b\b\b\b\b\b\b\b\b\b\b\b\b\b\b\b\b\b\b\b\b\r234/600 [==========>...................] - ETA: 0s - loss: 1.0555 - acc: 0.7277",
                "stream": "stdout"
              },
              {
                "output_type": "stream",
                "metadata": {
                  "tags": []
                },
                "text": "\b\b\b\b\b\b\b\b\b\b\b\b\b\b\b\b\b\b\b\b\b\b\b\b\b\b\b\b\b\b\b\b\b\b\b\b\b\b\b\b\b\b\b\b\b\b\b\b\b\b\b\b\b\b\b\b\b\b\b\b\b\b\b\b\b\b\b\b\b\b\b\b\b\b\b\b\b\b\b\r268/600 [============>.................] - ETA: 0s - loss: 1.0531 - acc: 0.7303",
                "stream": "stdout"
              },
              {
                "output_type": "stream",
                "metadata": {
                  "tags": []
                },
                "text": "\b\b\b\b\b\b\b\b\b\b\b\b\b\b\b\b\b\b\b\b\b\b\b\b\b\b\b\b\b\b\b\b\b\b\b\b\b\b\b\b\b\b\b\b\b\b\b\b\b\b\b\b\b\b\b\b\b\b\b\b\b\b\b\b\b\b\b\b\b\b\b\b\b\b\b\b\b\b\b\r302/600 [==============>...............] - ETA: 0s - loss: 1.0568 - acc: 0.7300",
                "stream": "stdout"
              },
              {
                "output_type": "stream",
                "metadata": {
                  "tags": []
                },
                "text": "\b\b\b\b\b\b\b\b\b\b\b\b\b\b\b\b\b\b\b\b\b\b\b\b\b\b\b\b\b\b\b\b\b\b\b\b\b\b\b\b\b\b\b\b\b\b\b\b\b\b\b\b\b\b\b\b\b\b\b\b\b\b\b\b\b\b\b\b\b\b\b\b\b\b\b\b\b\b\b\r334/600 [===============>..............] - ETA: 0s - loss: 1.0558 - acc: 0.7302",
                "stream": "stdout"
              },
              {
                "output_type": "stream",
                "metadata": {
                  "tags": []
                },
                "text": "\b\b\b\b\b\b\b\b\b\b\b\b\b\b\b\b\b\b\b\b\b\b\b\b\b\b\b\b\b\b\b\b\b\b\b\b\b\b\b\b\b\b\b\b\b\b\b\b\b\b\b\b\b\b\b\b\b\b\b\b\b\b\b\b\b\b\b\b\b\b\b\b\b\b\b\b\b\b\b\r370/600 [=================>............] - ETA: 0s - loss: 1.0528 - acc: 0.7322",
                "stream": "stdout"
              },
              {
                "output_type": "stream",
                "metadata": {
                  "tags": []
                },
                "text": "\b\b\b\b\b\b\b\b\b\b\b\b\b\b\b\b\b\b\b\b\b\b\b\b\b\b\b\b\b\b\b\b\b\b\b\b\b\b\b\b\b\b\b\b\b\b\b\b\b\b\b\b\b\b\b\b\b\b\b\b\b\b\b\b\b\b\b\b\b\b\b\b\b\b\b\b\b\b\b\r402/600 [===================>..........] - ETA: 0s - loss: 1.0530 - acc: 0.7318",
                "stream": "stdout"
              },
              {
                "output_type": "stream",
                "metadata": {
                  "tags": []
                },
                "text": "\b\b\b\b\b\b\b\b\b\b\b\b\b\b\b\b\b\b\b\b\b\b\b\b\b\b\b\b\b\b\b\b\b\b\b\b\b\b\b\b\b\b\b\b\b\b\b\b\b\b\b\b\b\b\b\b\b\b\b\b\b\b\b\b\b\b\b\b\b\b\b\b\b\b\b\b\b\b\b\r435/600 [====================>.........] - ETA: 0s - loss: 1.0524 - acc: 0.7318",
                "stream": "stdout"
              },
              {
                "output_type": "stream",
                "metadata": {
                  "tags": []
                },
                "text": "\b\b\b\b\b\b\b\b\b\b\b\b\b\b\b\b\b\b\b\b\b\b\b\b\b\b\b\b\b\b\b\b\b\b\b\b\b\b\b\b\b\b\b\b\b\b\b\b\b\b\b\b\b\b\b\b\b\b\b\b\b\b\b\b\b\b\b\b\b\b\b\b\b\b\b\b\b\b\b\r465/600 [======================>.......] - ETA: 0s - loss: 1.0515 - acc: 0.7310",
                "stream": "stdout"
              },
              {
                "output_type": "stream",
                "metadata": {
                  "tags": []
                },
                "text": "\b\b\b\b\b\b\b\b\b\b\b\b\b\b\b\b\b\b\b\b\b\b\b\b\b\b\b\b\b\b\b\b\b\b\b\b\b\b\b\b\b\b\b\b\b\b\b\b\b\b\b\b\b\b\b\b\b\b\b\b\b\b\b\b\b\b\b\b\b\b\b\b\b\b\b\b\b\b\b\r489/600 [=======================>......] - ETA: 0s - loss: 1.0510 - acc: 0.7306",
                "stream": "stdout"
              },
              {
                "output_type": "stream",
                "metadata": {
                  "tags": []
                },
                "text": "\b\b\b\b\b\b\b\b\b\b\b\b\b\b\b\b\b\b\b\b\b\b\b\b\b\b\b\b\b\b\b\b\b\b\b\b\b\b\b\b\b\b\b\b\b\b\b\b\b\b\b\b\b\b\b\b\b\b\b\b\b\b\b\b\b\b\b\b\b\b\b\b\b\b\b\b\b\b\b\r519/600 [========================>.....] - ETA: 0s - loss: 1.0503 - acc: 0.7306",
                "stream": "stdout"
              },
              {
                "output_type": "stream",
                "metadata": {
                  "tags": []
                },
                "text": "\b\b\b\b\b\b\b\b\b\b\b\b\b\b\b\b\b\b\b\b\b\b\b\b\b\b\b\b\b\b\b\b\b\b\b\b\b\b\b\b\b\b\b\b\b\b\b\b\b\b\b\b\b\b\b\b\b\b\b\b\b\b\b\b\b\b\b\b\b\b\b\b\b\b\b\b\b\b\b\r553/600 [==========================>...] - ETA: 0s - loss: 1.0490 - acc: 0.7305",
                "stream": "stdout"
              },
              {
                "output_type": "stream",
                "metadata": {
                  "tags": []
                },
                "text": "\b\b\b\b\b\b\b\b\b\b\b\b\b\b\b\b\b\b\b\b\b\b\b\b\b\b\b\b\b\b\b\b\b\b\b\b\b\b\b\b\b\b\b\b\b\b\b\b\b\b\b\b\b\b\b\b\b\b\b\b\b\b\b\b\b\b\b\b\b\b\b\b\b\b\b\b\b\b\b\r582/600 [============================>.] - ETA: 0s - loss: 1.0496 - acc: 0.7300",
                "stream": "stdout"
              },
              {
                "output_type": "stream",
                "metadata": {
                  "tags": []
                },
                "text": "\b\b\b\b\b\b\b\b\b\b\b\b\b\b\b\b\b\b\b\b\b\b\b\b\b\b\b\b\b\b\b\b\b\b\b\b\b\b\b\b\b\b\b\b\b\b\b\b\b\b\b\b\b\b\b\b\b\b\b\b\b\b\b\b\b\b\b\b\b\b\b\b\b\b\b\b\b\b\b\r600/600 [==============================] - 1s 2ms/step - loss: 1.0492 - acc: 0.7300 - val_loss: 1.0275 - val_acc: 0.7296\n",
                "stream": "stdout"
              },
              {
                "output_type": "stream",
                "metadata": {
                  "tags": []
                },
                "text": "Epoch 19/30\n\r  1/600 [..............................] - ETA: 0s - loss: 1.0278 - acc: 0.7300",
                "stream": "stdout"
              },
              {
                "output_type": "stream",
                "metadata": {
                  "tags": []
                },
                "text": "\b\b\b\b\b\b\b\b\b\b\b\b\b\b\b\b\b\b\b\b\b\b\b\b\b\b\b\b\b\b\b\b\b\b\b\b\b\b\b\b\b\b\b\b\b\b\b\b\b\b\b\b\b\b\b\b\b\b\b\b\b\b\b\b\b\b\b\b\b\b\b\b\b\b\b\b\b\b\b\r 33/600 [>.............................] - ETA: 0s - loss: 1.0617 - acc: 0.7079",
                "stream": "stdout"
              },
              {
                "output_type": "stream",
                "metadata": {
                  "tags": []
                },
                "text": "\b\b\b\b\b\b\b\b\b\b\b\b\b\b\b\b\b\b\b\b\b\b\b\b\b\b\b\b\b\b\b\b\b\b\b\b\b\b\b\b\b\b\b\b\b\b\b\b\b\b\b\b\b\b\b\b\b\b\b\b\b\b\b\b\b\b\b\b\b\b\b\b\b\b\b\b\b\b\b\r 66/600 [==>...........................] - ETA: 0s - loss: 1.0562 - acc: 0.7155",
                "stream": "stdout"
              },
              {
                "output_type": "stream",
                "metadata": {
                  "tags": []
                },
                "text": "\b\b\b\b\b\b\b\b\b\b\b\b\b\b\b\b\b\b\b\b\b\b\b\b\b\b\b\b\b\b\b\b\b\b\b\b\b\b\b\b\b\b\b\b\b\b\b\b\b\b\b\b\b\b\b\b\b\b\b\b\b\b\b\b\b\b\b\b\b\b\b\b\b\b\b\b\b\b\b\r 99/600 [===>..........................] - ETA: 0s - loss: 1.0516 - acc: 0.7133",
                "stream": "stdout"
              },
              {
                "output_type": "stream",
                "metadata": {
                  "tags": []
                },
                "text": "\b\b\b\b\b\b\b\b\b\b\b\b\b\b\b\b\b\b\b\b\b\b\b\b\b\b\b\b\b\b\b\b\b\b\b\b\b\b\b\b\b\b\b\b\b\b\b\b\b\b\b\b\b\b\b\b\b\b\b\b\b\b\b\b\b\b\b\b\b\b\b\b\b\b\b\b\b\b\b\r135/600 [=====>........................] - ETA: 0s - loss: 1.0542 - acc: 0.7121",
                "stream": "stdout"
              },
              {
                "output_type": "stream",
                "metadata": {
                  "tags": []
                },
                "text": "\b\b\b\b\b\b\b\b\b\b\b\b\b\b\b\b\b\b\b\b\b\b\b\b\b\b\b\b\b\b\b\b\b\b\b\b\b\b\b\b\b\b\b\b\b\b\b\b\b\b\b\b\b\b\b\b\b\b\b\b\b\b\b\b\b\b\b\b\b\b\b\b\b\b\b\b\b\b\b\r171/600 [=======>......................] - ETA: 0s - loss: 1.0503 - acc: 0.7127",
                "stream": "stdout"
              },
              {
                "output_type": "stream",
                "metadata": {
                  "tags": []
                },
                "text": "\b\b\b\b\b\b\b\b\b\b\b\b\b\b\b\b\b\b\b\b\b\b\b\b\b\b\b\b\b\b\b\b\b\b\b\b\b\b\b\b\b\b\b\b\b\b\b\b\b\b\b\b\b\b\b\b\b\b\b\b\b\b\b\b\b\b\b\b\b\b\b\b\b\b\b\b\b\b\b\r208/600 [=========>....................] - ETA: 0s - loss: 1.0463 - acc: 0.7163",
                "stream": "stdout"
              },
              {
                "output_type": "stream",
                "metadata": {
                  "tags": []
                },
                "text": "\b\b\b\b\b\b\b\b\b\b\b\b\b\b\b\b\b\b\b\b\b\b\b\b\b\b\b\b\b\b\b\b\b\b\b\b\b\b\b\b\b\b\b\b\b\b\b\b\b\b\b\b\b\b\b\b\b\b\b\b\b\b\b\b\b\b\b\b\b\b\b\b\b\b\b\b\b\b\b\r237/600 [==========>...................] - ETA: 0s - loss: 1.0489 - acc: 0.7155",
                "stream": "stdout"
              },
              {
                "output_type": "stream",
                "metadata": {
                  "tags": []
                },
                "text": "\b\b\b\b\b\b\b\b\b\b\b\b\b\b\b\b\b\b\b\b\b\b\b\b\b\b\b\b\b\b\b\b\b\b\b\b\b\b\b\b\b\b\b\b\b\b\b\b\b\b\b\b\b\b\b\b\b\b\b\b\b\b\b\b\b\b\b\b\b\b\b\b\b\b\b\b\b\b\b\r270/600 [============>.................] - ETA: 0s - loss: 1.0475 - acc: 0.7181",
                "stream": "stdout"
              },
              {
                "output_type": "stream",
                "metadata": {
                  "tags": []
                },
                "text": "\b\b\b\b\b\b\b\b\b\b\b\b\b\b\b\b\b\b\b\b\b\b\b\b\b\b\b\b\b\b\b\b\b\b\b\b\b\b\b\b\b\b\b\b\b\b\b\b\b\b\b\b\b\b\b\b\b\b\b\b\b\b\b\b\b\b\b\b\b\b\b\b\b\b\b\b\b\b\b\r306/600 [==============>...............] - ETA: 0s - loss: 1.0463 - acc: 0.7188",
                "stream": "stdout"
              },
              {
                "output_type": "stream",
                "metadata": {
                  "tags": []
                },
                "text": "\b\b\b\b\b\b\b\b\b\b\b\b\b\b\b\b\b\b\b\b\b\b\b\b\b\b\b\b\b\b\b\b\b\b\b\b\b\b\b\b\b\b\b\b\b\b\b\b\b\b\b\b\b\b\b\b\b\b\b\b\b\b\b\b\b\b\b\b\b\b\b\b\b\b\b\b\b\b\b\r344/600 [================>.............] - ETA: 0s - loss: 1.0442 - acc: 0.7218",
                "stream": "stdout"
              },
              {
                "output_type": "stream",
                "metadata": {
                  "tags": []
                },
                "text": "\b\b\b\b\b\b\b\b\b\b\b\b\b\b\b\b\b\b\b\b\b\b\b\b\b\b\b\b\b\b\b\b\b\b\b\b\b\b\b\b\b\b\b\b\b\b\b\b\b\b\b\b\b\b\b\b\b\b\b\b\b\b\b\b\b\b\b\b\b\b\b\b\b\b\b\b\b\b\b\r381/600 [==================>...........] - ETA: 0s - loss: 1.0441 - acc: 0.7221",
                "stream": "stdout"
              },
              {
                "output_type": "stream",
                "metadata": {
                  "tags": []
                },
                "text": "\b\b\b\b\b\b\b\b\b\b\b\b\b\b\b\b\b\b\b\b\b\b\b\b\b\b\b\b\b\b\b\b\b\b\b\b\b\b\b\b\b\b\b\b\b\b\b\b\b\b\b\b\b\b\b\b\b\b\b\b\b\b\b\b\b\b\b\b\b\b\b\b\b\b\b\b\b\b\b\r415/600 [===================>..........] - ETA: 0s - loss: 1.0428 - acc: 0.7228",
                "stream": "stdout"
              },
              {
                "output_type": "stream",
                "metadata": {
                  "tags": []
                },
                "text": "\b\b\b\b\b\b\b\b\b\b\b\b\b\b\b\b\b\b\b\b\b\b\b\b\b\b\b\b\b\b\b\b\b\b\b\b\b\b\b\b\b\b\b\b\b\b\b\b\b\b\b\b\b\b\b\b\b\b\b\b\b\b\b\b\b\b\b\b\b\b\b\b\b\b\b\b\b\b\b\r446/600 [=====================>........] - ETA: 0s - loss: 1.0405 - acc: 0.7246",
                "stream": "stdout"
              },
              {
                "output_type": "stream",
                "metadata": {
                  "tags": []
                },
                "text": "\b\b\b\b\b\b\b\b\b\b\b\b\b\b\b\b\b\b\b\b\b\b\b\b\b\b\b\b\b\b\b\b\b\b\b\b\b\b\b\b\b\b\b\b\b\b\b\b\b\b\b\b\b\b\b\b\b\b\b\b\b\b\b\b\b\b\b\b\b\b\b\b\b\b\b\b\b\b\b\r481/600 [=======================>......] - ETA: 0s - loss: 1.0393 - acc: 0.7253",
                "stream": "stdout"
              },
              {
                "output_type": "stream",
                "metadata": {
                  "tags": []
                },
                "text": "\b\b\b\b\b\b\b\b\b\b\b\b\b\b\b\b\b\b\b\b\b\b\b\b\b\b\b\b\b\b\b\b\b\b\b\b\b\b\b\b\b\b\b\b\b\b\b\b\b\b\b\b\b\b\b\b\b\b\b\b\b\b\b\b\b\b\b\b\b\b\b\b\b\b\b\b\b\b\b\r516/600 [========================>.....] - ETA: 0s - loss: 1.0371 - acc: 0.7266",
                "stream": "stdout"
              },
              {
                "output_type": "stream",
                "metadata": {
                  "tags": []
                },
                "text": "\b\b\b\b\b\b\b\b\b\b\b\b\b\b\b\b\b\b\b\b\b\b\b\b\b\b\b\b\b\b\b\b\b\b\b\b\b\b\b\b\b\b\b\b\b\b\b\b\b\b\b\b\b\b\b\b\b\b\b\b\b\b\b\b\b\b\b\b\b\b\b\b\b\b\b\b\b\b\b\r553/600 [==========================>...] - ETA: 0s - loss: 1.0343 - acc: 0.7284",
                "stream": "stdout"
              },
              {
                "output_type": "stream",
                "metadata": {
                  "tags": []
                },
                "text": "\b\b\b\b\b\b\b\b\b\b\b\b\b\b\b\b\b\b\b\b\b\b\b\b\b\b\b\b\b\b\b\b\b\b\b\b\b\b\b\b\b\b\b\b\b\b\b\b\b\b\b\b\b\b\b\b\b\b\b\b\b\b\b\b\b\b\b\b\b\b\b\b\b\b\b\b\b\b\b\r584/600 [============================>.] - ETA: 0s - loss: 1.0331 - acc: 0.7291",
                "stream": "stdout"
              },
              {
                "output_type": "stream",
                "metadata": {
                  "tags": []
                },
                "text": "\b\b\b\b\b\b\b\b\b\b\b\b\b\b\b\b\b\b\b\b\b\b\b\b\b\b\b\b\b\b\b\b\b\b\b\b\b\b\b\b\b\b\b\b\b\b\b\b\b\b\b\b\b\b\b\b\b\b\b\b\b\b\b\b\b\b\b\b\b\b\b\b\b\b\b\b\b\b\b\r600/600 [==============================] - 1s 2ms/step - loss: 1.0324 - acc: 0.7293 - val_loss: 0.9923 - val_acc: 0.7558\n",
                "stream": "stdout"
              },
              {
                "output_type": "stream",
                "metadata": {
                  "tags": []
                },
                "text": "Epoch 20/30\n\r  1/600 [..............................] - ETA: 0s - loss: 1.0616 - acc: 0.7000",
                "stream": "stdout"
              },
              {
                "output_type": "stream",
                "metadata": {
                  "tags": []
                },
                "text": "\b\b\b\b\b\b\b\b\b\b\b\b\b\b\b\b\b\b\b\b\b\b\b\b\b\b\b\b\b\b\b\b\b\b\b\b\b\b\b\b\b\b\b\b\b\b\b\b\b\b\b\b\b\b\b\b\b\b\b\b\b\b\b\b\b\b\b\b\b\b\b\b\b\b\b\b\b\b\b\r 34/600 [>.............................] - ETA: 0s - loss: 1.0261 - acc: 0.7221",
                "stream": "stdout"
              },
              {
                "output_type": "stream",
                "metadata": {
                  "tags": []
                },
                "text": "\b\b\b\b\b\b\b\b\b\b\b\b\b\b\b\b\b\b\b\b\b\b\b\b\b\b\b\b\b\b\b\b\b\b\b\b\b\b\b\b\b\b\b\b\b\b\b\b\b\b\b\b\b\b\b\b\b\b\b\b\b\b\b\b\b\b\b\b\b\b\b\b\b\b\b\b\b\b\b\r 60/600 [==>...........................] - ETA: 0s - loss: 1.0191 - acc: 0.7268",
                "stream": "stdout"
              },
              {
                "output_type": "stream",
                "metadata": {
                  "tags": []
                },
                "text": "\b\b\b\b\b\b\b\b\b\b\b\b\b\b\b\b\b\b\b\b\b\b\b\b\b\b\b\b\b\b\b\b\b\b\b\b\b\b\b\b\b\b\b\b\b\b\b\b\b\b\b\b\b\b\b\b\b\b\b\b\b\b\b\b\b\b\b\b\b\b\b\b\b\b\b\b\b\b\b\r 94/600 [===>..........................] - ETA: 0s - loss: 1.0137 - acc: 0.7299",
                "stream": "stdout"
              },
              {
                "output_type": "stream",
                "metadata": {
                  "tags": []
                },
                "text": "\b\b\b\b\b\b\b\b\b\b\b\b\b\b\b\b\b\b\b\b\b\b\b\b\b\b\b\b\b\b\b\b\b\b\b\b\b\b\b\b\b\b\b\b\b\b\b\b\b\b\b\b\b\b\b\b\b\b\b\b\b\b\b\b\b\b\b\b\b\b\b\b\b\b\b\b\b\b\b\r128/600 [=====>........................] - ETA: 0s - loss: 1.0102 - acc: 0.7350",
                "stream": "stdout"
              },
              {
                "output_type": "stream",
                "metadata": {
                  "tags": []
                },
                "text": "\b\b\b\b\b\b\b\b\b\b\b\b\b\b\b\b\b\b\b\b\b\b\b\b\b\b\b\b\b\b\b\b\b\b\b\b\b\b\b\b\b\b\b\b\b\b\b\b\b\b\b\b\b\b\b\b\b\b\b\b\b\b\b\b\b\b\b\b\b\b\b\b\b\b\b\b\b\b\b\r163/600 [=======>......................] - ETA: 0s - loss: 1.0148 - acc: 0.7325",
                "stream": "stdout"
              },
              {
                "output_type": "stream",
                "metadata": {
                  "tags": []
                },
                "text": "\b\b\b\b\b\b\b\b\b\b\b\b\b\b\b\b\b\b\b\b\b\b\b\b\b\b\b\b\b\b\b\b\b\b\b\b\b\b\b\b\b\b\b\b\b\b\b\b\b\b\b\b\b\b\b\b\b\b\b\b\b\b\b\b\b\b\b\b\b\b\b\b\b\b\b\b\b\b\b\r197/600 [========>.....................] - ETA: 0s - loss: 1.0109 - acc: 0.7324",
                "stream": "stdout"
              },
              {
                "output_type": "stream",
                "metadata": {
                  "tags": []
                },
                "text": "\b\b\b\b\b\b\b\b\b\b\b\b\b\b\b\b\b\b\b\b\b\b\b\b\b\b\b\b\b\b\b\b\b\b\b\b\b\b\b\b\b\b\b\b\b\b\b\b\b\b\b\b\b\b\b\b\b\b\b\b\b\b\b\b\b\b\b\b\b\b\b\b\b\b\b\b\b\b\b\r232/600 [==========>...................] - ETA: 0s - loss: 1.0129 - acc: 0.7308",
                "stream": "stdout"
              },
              {
                "output_type": "stream",
                "metadata": {
                  "tags": []
                },
                "text": "\b\b\b\b\b\b\b\b\b\b\b\b\b\b\b\b\b\b\b\b\b\b\b\b\b\b\b\b\b\b\b\b\b\b\b\b\b\b\b\b\b\b\b\b\b\b\b\b\b\b\b\b\b\b\b\b\b\b\b\b\b\b\b\b\b\b\b\b\b\b\b\b\b\b\b\b\b\b\b\r267/600 [============>.................] - ETA: 0s - loss: 1.0194 - acc: 0.7282",
                "stream": "stdout"
              },
              {
                "output_type": "stream",
                "metadata": {
                  "tags": []
                },
                "text": "\b\b\b\b\b\b\b\b\b\b\b\b\b\b\b\b\b\b\b\b\b\b\b\b\b\b\b\b\b\b\b\b\b\b\b\b\b\b\b\b\b\b\b\b\b\b\b\b\b\b\b\b\b\b\b\b\b\b\b\b\b\b\b\b\b\b\b\b\b\b\b\b\b\b\b\b\b\b\b\r300/600 [==============>...............] - ETA: 0s - loss: 1.0200 - acc: 0.7292",
                "stream": "stdout"
              },
              {
                "output_type": "stream",
                "metadata": {
                  "tags": []
                },
                "text": "\b\b\b\b\b\b\b\b\b\b\b\b\b\b\b\b\b\b\b\b\b\b\b\b\b\b\b\b\b\b\b\b\b\b\b\b\b\b\b\b\b\b\b\b\b\b\b\b\b\b\b\b\b\b\b\b\b\b\b\b\b\b\b\b\b\b\b\b\b\b\b\b\b\b\b\b\b\b\b\r331/600 [===============>..............] - ETA: 0s - loss: 1.0203 - acc: 0.7297",
                "stream": "stdout"
              },
              {
                "output_type": "stream",
                "metadata": {
                  "tags": []
                },
                "text": "\b\b\b\b\b\b\b\b\b\b\b\b\b\b\b\b\b\b\b\b\b\b\b\b\b\b\b\b\b\b\b\b\b\b\b\b\b\b\b\b\b\b\b\b\b\b\b\b\b\b\b\b\b\b\b\b\b\b\b\b\b\b\b\b\b\b\b\b\b\b\b\b\b\b\b\b\b\b\b\r362/600 [=================>............] - ETA: 0s - loss: 1.0200 - acc: 0.7295",
                "stream": "stdout"
              },
              {
                "output_type": "stream",
                "metadata": {
                  "tags": []
                },
                "text": "\b\b\b\b\b\b\b\b\b\b\b\b\b\b\b\b\b\b\b\b\b\b\b\b\b\b\b\b\b\b\b\b\b\b\b\b\b\b\b\b\b\b\b\b\b\b\b\b\b\b\b\b\b\b\b\b\b\b\b\b\b\b\b\b\b\b\b\b\b\b\b\b\b\b\b\b\b\b\b\r395/600 [==================>...........] - ETA: 0s - loss: 1.0191 - acc: 0.7312",
                "stream": "stdout"
              },
              {
                "output_type": "stream",
                "metadata": {
                  "tags": []
                },
                "text": "\b\b\b\b\b\b\b\b\b\b\b\b\b\b\b\b\b\b\b\b\b\b\b\b\b\b\b\b\b\b\b\b\b\b\b\b\b\b\b\b\b\b\b\b\b\b\b\b\b\b\b\b\b\b\b\b\b\b\b\b\b\b\b\b\b\b\b\b\b\b\b\b\b\b\b\b\b\b\b\r425/600 [====================>.........] - ETA: 0s - loss: 1.0191 - acc: 0.7314",
                "stream": "stdout"
              },
              {
                "output_type": "stream",
                "metadata": {
                  "tags": []
                },
                "text": "\b\b\b\b\b\b\b\b\b\b\b\b\b\b\b\b\b\b\b\b\b\b\b\b\b\b\b\b\b\b\b\b\b\b\b\b\b\b\b\b\b\b\b\b\b\b\b\b\b\b\b\b\b\b\b\b\b\b\b\b\b\b\b\b\b\b\b\b\b\b\b\b\b\b\b\b\b\b\b\r459/600 [=====================>........] - ETA: 0s - loss: 1.0181 - acc: 0.7323",
                "stream": "stdout"
              },
              {
                "output_type": "stream",
                "metadata": {
                  "tags": []
                },
                "text": "\b\b\b\b\b\b\b\b\b\b\b\b\b\b\b\b\b\b\b\b\b\b\b\b\b\b\b\b\b\b\b\b\b\b\b\b\b\b\b\b\b\b\b\b\b\b\b\b\b\b\b\b\b\b\b\b\b\b\b\b\b\b\b\b\b\b\b\b\b\b\b\b\b\b\b\b\b\b\b\r488/600 [=======================>......] - ETA: 0s - loss: 1.0172 - acc: 0.7322",
                "stream": "stdout"
              },
              {
                "output_type": "stream",
                "metadata": {
                  "tags": []
                },
                "text": "\b\b\b\b\b\b\b\b\b\b\b\b\b\b\b\b\b\b\b\b\b\b\b\b\b\b\b\b\b\b\b\b\b\b\b\b\b\b\b\b\b\b\b\b\b\b\b\b\b\b\b\b\b\b\b\b\b\b\b\b\b\b\b\b\b\b\b\b\b\b\b\b\b\b\b\b\b\b\b\r522/600 [=========================>....] - ETA: 0s - loss: 1.0181 - acc: 0.7312",
                "stream": "stdout"
              },
              {
                "output_type": "stream",
                "metadata": {
                  "tags": []
                },
                "text": "\b\b\b\b\b\b\b\b\b\b\b\b\b\b\b\b\b\b\b\b\b\b\b\b\b\b\b\b\b\b\b\b\b\b\b\b\b\b\b\b\b\b\b\b\b\b\b\b\b\b\b\b\b\b\b\b\b\b\b\b\b\b\b\b\b\b\b\b\b\b\b\b\b\b\b\b\b\b\b\r553/600 [==========================>...] - ETA: 0s - loss: 1.0173 - acc: 0.7312",
                "stream": "stdout"
              },
              {
                "output_type": "stream",
                "metadata": {
                  "tags": []
                },
                "text": "\b\b\b\b\b\b\b\b\b\b\b\b\b\b\b\b\b\b\b\b\b\b\b\b\b\b\b\b\b\b\b\b\b\b\b\b\b\b\b\b\b\b\b\b\b\b\b\b\b\b\b\b\b\b\b\b\b\b\b\b\b\b\b\b\b\b\b\b\b\b\b\b\b\b\b\b\b\b\b\r585/600 [============================>.] - ETA: 0s - loss: 1.0166 - acc: 0.7314",
                "stream": "stdout"
              },
              {
                "output_type": "stream",
                "metadata": {
                  "tags": []
                },
                "text": "\b\b\b\b\b\b\b\b\b\b\b\b\b\b\b\b\b\b\b\b\b\b\b\b\b\b\b\b\b\b\b\b\b\b\b\b\b\b\b\b\b\b\b\b\b\b\b\b\b\b\b\b\b\b\b\b\b\b\b\b\b\b\b\b\b\b\b\b\b\b\b\b\b\b\b\b\b\b\b\r600/600 [==============================] - 1s 2ms/step - loss: 1.0168 - acc: 0.7311 - val_loss: 1.0077 - val_acc: 0.7151\n",
                "stream": "stdout"
              },
              {
                "output_type": "stream",
                "metadata": {
                  "tags": []
                },
                "text": "Epoch 21/30\n\r  1/600 [..............................] - ETA: 0s - loss: 0.9788 - acc: 0.6900",
                "stream": "stdout"
              },
              {
                "output_type": "stream",
                "metadata": {
                  "tags": []
                },
                "text": "\b\b\b\b\b\b\b\b\b\b\b\b\b\b\b\b\b\b\b\b\b\b\b\b\b\b\b\b\b\b\b\b\b\b\b\b\b\b\b\b\b\b\b\b\b\b\b\b\b\b\b\b\b\b\b\b\b\b\b\b\b\b\b\b\b\b\b\b\b\b\b\b\b\b\b\b\b\b\b\r 34/600 [>.............................] - ETA: 0s - loss: 0.9940 - acc: 0.7253",
                "stream": "stdout"
              },
              {
                "output_type": "stream",
                "metadata": {
                  "tags": []
                },
                "text": "\b\b\b\b\b\b\b\b\b\b\b\b\b\b\b\b\b\b\b\b\b\b\b\b\b\b\b\b\b\b\b\b\b\b\b\b\b\b\b\b\b\b\b\b\b\b\b\b\b\b\b\b\b\b\b\b\b\b\b\b\b\b\b\b\b\b\b\b\b\b\b\b\b\b\b\b\b\b\b\r 68/600 [==>...........................] - ETA: 0s - loss: 0.9994 - acc: 0.7304",
                "stream": "stdout"
              },
              {
                "output_type": "stream",
                "metadata": {
                  "tags": []
                },
                "text": "\b\b\b\b\b\b\b\b\b\b\b\b\b\b\b\b\b\b\b\b\b\b\b\b\b\b\b\b\b\b\b\b\b\b\b\b\b\b\b\b\b\b\b\b\b\b\b\b\b\b\b\b\b\b\b\b\b\b\b\b\b\b\b\b\b\b\b\b\b\b\b\b\b\b\b\b\b\b\b\r103/600 [====>.........................] - ETA: 0s - loss: 1.0011 - acc: 0.7384",
                "stream": "stdout"
              },
              {
                "output_type": "stream",
                "metadata": {
                  "tags": []
                },
                "text": "\b\b\b\b\b\b\b\b\b\b\b\b\b\b\b\b\b\b\b\b\b\b\b\b\b\b\b\b\b\b\b\b\b\b\b\b\b\b\b\b\b\b\b\b\b\b\b\b\b\b\b\b\b\b\b\b\b\b\b\b\b\b\b\b\b\b\b\b\b\b\b\b\b\b\b\b\b\b\b\r138/600 [=====>........................] - ETA: 0s - loss: 1.0044 - acc: 0.7396",
                "stream": "stdout"
              },
              {
                "output_type": "stream",
                "metadata": {
                  "tags": []
                },
                "text": "\b\b\b\b\b\b\b\b\b\b\b\b\b\b\b\b\b\b\b\b\b\b\b\b\b\b\b\b\b\b\b\b\b\b\b\b\b\b\b\b\b\b\b\b\b\b\b\b\b\b\b\b\b\b\b\b\b\b\b\b\b\b\b\b\b\b\b\b\b\b\b\b\b\b\b\b\b\b\b\r171/600 [=======>......................] - ETA: 0s - loss: 1.0061 - acc: 0.7396",
                "stream": "stdout"
              },
              {
                "output_type": "stream",
                "metadata": {
                  "tags": []
                },
                "text": "\b\b\b\b\b\b\b\b\b\b\b\b\b\b\b\b\b\b\b\b\b\b\b\b\b\b\b\b\b\b\b\b\b\b\b\b\b\b\b\b\b\b\b\b\b\b\b\b\b\b\b\b\b\b\b\b\b\b\b\b\b\b\b\b\b\b\b\b\b\b\b\b\b\b\b\b\b\b\b\r208/600 [=========>....................] - ETA: 0s - loss: 1.0047 - acc: 0.7418",
                "stream": "stdout"
              },
              {
                "output_type": "stream",
                "metadata": {
                  "tags": []
                },
                "text": "\b\b\b\b\b\b\b\b\b\b\b\b\b\b\b\b\b\b\b\b\b\b\b\b\b\b\b\b\b\b\b\b\b\b\b\b\b\b\b\b\b\b\b\b\b\b\b\b\b\b\b\b\b\b\b\b\b\b\b\b\b\b\b\b\b\b\b\b\b\b\b\b\b\b\b\b\b\b\b\r245/600 [===========>..................] - ETA: 0s - loss: 1.0026 - acc: 0.7420",
                "stream": "stdout"
              },
              {
                "output_type": "stream",
                "metadata": {
                  "tags": []
                },
                "text": "\b\b\b\b\b\b\b\b\b\b\b\b\b\b\b\b\b\b\b\b\b\b\b\b\b\b\b\b\b\b\b\b\b\b\b\b\b\b\b\b\b\b\b\b\b\b\b\b\b\b\b\b\b\b\b\b\b\b\b\b\b\b\b\b\b\b\b\b\b\b\b\b\b\b\b\b\b\b\b\r277/600 [============>.................] - ETA: 0s - loss: 1.0010 - acc: 0.7423",
                "stream": "stdout"
              },
              {
                "output_type": "stream",
                "metadata": {
                  "tags": []
                },
                "text": "\b\b\b\b\b\b\b\b\b\b\b\b\b\b\b\b\b\b\b\b\b\b\b\b\b\b\b\b\b\b\b\b\b\b\b\b\b\b\b\b\b\b\b\b\b\b\b\b\b\b\b\b\b\b\b\b\b\b\b\b\b\b\b\b\b\b\b\b\b\b\b\b\b\b\b\b\b\b\b\r312/600 [==============>...............] - ETA: 0s - loss: 1.0009 - acc: 0.7414",
                "stream": "stdout"
              },
              {
                "output_type": "stream",
                "metadata": {
                  "tags": []
                },
                "text": "\b\b\b\b\b\b\b\b\b\b\b\b\b\b\b\b\b\b\b\b\b\b\b\b\b\b\b\b\b\b\b\b\b\b\b\b\b\b\b\b\b\b\b\b\b\b\b\b\b\b\b\b\b\b\b\b\b\b\b\b\b\b\b\b\b\b\b\b\b\b\b\b\b\b\b\b\b\b\b\r349/600 [================>.............] - ETA: 0s - loss: 1.0014 - acc: 0.7400",
                "stream": "stdout"
              },
              {
                "output_type": "stream",
                "metadata": {
                  "tags": []
                },
                "text": "\b\b\b\b\b\b\b\b\b\b\b\b\b\b\b\b\b\b\b\b\b\b\b\b\b\b\b\b\b\b\b\b\b\b\b\b\b\b\b\b\b\b\b\b\b\b\b\b\b\b\b\b\b\b\b\b\b\b\b\b\b\b\b\b\b\b\b\b\b\b\b\b\b\b\b\b\b\b\b\r386/600 [==================>...........] - ETA: 0s - loss: 1.0009 - acc: 0.7398",
                "stream": "stdout"
              },
              {
                "output_type": "stream",
                "metadata": {
                  "tags": []
                },
                "text": "\b\b\b\b\b\b\b\b\b\b\b\b\b\b\b\b\b\b\b\b\b\b\b\b\b\b\b\b\b\b\b\b\b\b\b\b\b\b\b\b\b\b\b\b\b\b\b\b\b\b\b\b\b\b\b\b\b\b\b\b\b\b\b\b\b\b\b\b\b\b\b\b\b\b\b\b\b\b\b\r416/600 [===================>..........] - ETA: 0s - loss: 1.0006 - acc: 0.7395",
                "stream": "stdout"
              },
              {
                "output_type": "stream",
                "metadata": {
                  "tags": []
                },
                "text": "\b\b\b\b\b\b\b\b\b\b\b\b\b\b\b\b\b\b\b\b\b\b\b\b\b\b\b\b\b\b\b\b\b\b\b\b\b\b\b\b\b\b\b\b\b\b\b\b\b\b\b\b\b\b\b\b\b\b\b\b\b\b\b\b\b\b\b\b\b\b\b\b\b\b\b\b\b\b\b\r447/600 [=====================>........] - ETA: 0s - loss: 0.9981 - acc: 0.7400",
                "stream": "stdout"
              },
              {
                "output_type": "stream",
                "metadata": {
                  "tags": []
                },
                "text": "\b\b\b\b\b\b\b\b\b\b\b\b\b\b\b\b\b\b\b\b\b\b\b\b\b\b\b\b\b\b\b\b\b\b\b\b\b\b\b\b\b\b\b\b\b\b\b\b\b\b\b\b\b\b\b\b\b\b\b\b\b\b\b\b\b\b\b\b\b\b\b\b\b\b\b\b\b\b\b\r483/600 [=======================>......] - ETA: 0s - loss: 0.9976 - acc: 0.7400",
                "stream": "stdout"
              },
              {
                "output_type": "stream",
                "metadata": {
                  "tags": []
                },
                "text": "\b\b\b\b\b\b\b\b\b\b\b\b\b\b\b\b\b\b\b\b\b\b\b\b\b\b\b\b\b\b\b\b\b\b\b\b\b\b\b\b\b\b\b\b\b\b\b\b\b\b\b\b\b\b\b\b\b\b\b\b\b\b\b\b\b\b\b\b\b\b\b\b\b\b\b\b\b\b\b\r519/600 [========================>.....] - ETA: 0s - loss: 0.9977 - acc: 0.7381",
                "stream": "stdout"
              },
              {
                "output_type": "stream",
                "metadata": {
                  "tags": []
                },
                "text": "\b\b\b\b\b\b\b\b\b\b\b\b\b\b\b\b\b\b\b\b\b\b\b\b\b\b\b\b\b\b\b\b\b\b\b\b\b\b\b\b\b\b\b\b\b\b\b\b\b\b\b\b\b\b\b\b\b\b\b\b\b\b\b\b\b\b\b\b\b\b\b\b\b\b\b\b\b\b\b\r552/600 [==========================>...] - ETA: 0s - loss: 0.9960 - acc: 0.7374",
                "stream": "stdout"
              },
              {
                "output_type": "stream",
                "metadata": {
                  "tags": []
                },
                "text": "\b\b\b\b\b\b\b\b\b\b\b\b\b\b\b\b\b\b\b\b\b\b\b\b\b\b\b\b\b\b\b\b\b\b\b\b\b\b\b\b\b\b\b\b\b\b\b\b\b\b\b\b\b\b\b\b\b\b\b\b\b\b\b\b\b\b\b\b\b\b\b\b\b\b\b\b\b\b\b\r582/600 [============================>.] - ETA: 0s - loss: 0.9972 - acc: 0.7368",
                "stream": "stdout"
              },
              {
                "output_type": "stream",
                "metadata": {
                  "tags": []
                },
                "text": "\b\b\b\b\b\b\b\b\b\b\b\b\b\b\b\b\b\b\b\b\b\b\b\b\b\b\b\b\b\b\b\b\b\b\b\b\b\b\b\b\b\b\b\b\b\b\b\b\b\b\b\b\b\b\b\b\b\b\b\b\b\b\b\b\b\b\b\b\b\b\b\b\b\b\b\b\b\b\b\r600/600 [==============================] - 1s 2ms/step - loss: 0.9970 - acc: 0.7363 - val_loss: 1.0340 - val_acc: 0.6968\n",
                "stream": "stdout"
              },
              {
                "output_type": "stream",
                "metadata": {
                  "tags": []
                },
                "text": "Epoch 22/30\n\r  1/600 [..............................] - ETA: 0s - loss: 1.0564 - acc: 0.6600",
                "stream": "stdout"
              },
              {
                "output_type": "stream",
                "metadata": {
                  "tags": []
                },
                "text": "\b\b\b\b\b\b\b\b\b\b\b\b\b\b\b\b\b\b\b\b\b\b\b\b\b\b\b\b\b\b\b\b\b\b\b\b\b\b\b\b\b\b\b\b\b\b\b\b\b\b\b\b\b\b\b\b\b\b\b\b\b\b\b\b\b\b\b\b\b\b\b\b\b\b\b\b\b\b\b\r 34/600 [>.............................] - ETA: 0s - loss: 1.0402 - acc: 0.6841",
                "stream": "stdout"
              },
              {
                "output_type": "stream",
                "metadata": {
                  "tags": []
                },
                "text": "\b\b\b\b\b\b\b\b\b\b\b\b\b\b\b\b\b\b\b\b\b\b\b\b\b\b\b\b\b\b\b\b\b\b\b\b\b\b\b\b\b\b\b\b\b\b\b\b\b\b\b\b\b\b\b\b\b\b\b\b\b\b\b\b\b\b\b\b\b\b\b\b\b\b\b\b\b\b\b\r 67/600 [==>...........................] - ETA: 0s - loss: 1.0166 - acc: 0.7042",
                "stream": "stdout"
              },
              {
                "output_type": "stream",
                "metadata": {
                  "tags": []
                },
                "text": "\b\b\b\b\b\b\b\b\b\b\b\b\b\b\b\b\b\b\b\b\b\b\b\b\b\b\b\b\b\b\b\b\b\b\b\b\b\b\b\b\b\b\b\b\b\b\b\b\b\b\b\b\b\b\b\b\b\b\b\b\b\b\b\b\b\b\b\b\b\b\b\b\b\b\b\b\b\b\b\r102/600 [====>.........................] - ETA: 0s - loss: 1.0053 - acc: 0.7181",
                "stream": "stdout"
              },
              {
                "output_type": "stream",
                "metadata": {
                  "tags": []
                },
                "text": "\b\b\b\b\b\b\b\b\b\b\b\b\b\b\b\b\b\b\b\b\b\b\b\b\b\b\b\b\b\b\b\b\b\b\b\b\b\b\b\b\b\b\b\b\b\b\b\b\b\b\b\b\b\b\b\b\b\b\b\b\b\b\b\b\b\b\b\b\b\b\b\b\b\b\b\b\b\b\b\r137/600 [=====>........................] - ETA: 0s - loss: 0.9979 - acc: 0.7241",
                "stream": "stdout"
              },
              {
                "output_type": "stream",
                "metadata": {
                  "tags": []
                },
                "text": "\b\b\b\b\b\b\b\b\b\b\b\b\b\b\b\b\b\b\b\b\b\b\b\b\b\b\b\b\b\b\b\b\b\b\b\b\b\b\b\b\b\b\b\b\b\b\b\b\b\b\b\b\b\b\b\b\b\b\b\b\b\b\b\b\b\b\b\b\b\b\b\b\b\b\b\b\b\b\b\r174/600 [=======>......................] - ETA: 0s - loss: 0.9937 - acc: 0.7292",
                "stream": "stdout"
              },
              {
                "output_type": "stream",
                "metadata": {
                  "tags": []
                },
                "text": "\b\b\b\b\b\b\b\b\b\b\b\b\b\b\b\b\b\b\b\b\b\b\b\b\b\b\b\b\b\b\b\b\b\b\b\b\b\b\b\b\b\b\b\b\b\b\b\b\b\b\b\b\b\b\b\b\b\b\b\b\b\b\b\b\b\b\b\b\b\b\b\b\b\b\b\b\b\b\b\r206/600 [=========>....................] - ETA: 0s - loss: 0.9916 - acc: 0.7291",
                "stream": "stdout"
              },
              {
                "output_type": "stream",
                "metadata": {
                  "tags": []
                },
                "text": "\b\b\b\b\b\b\b\b\b\b\b\b\b\b\b\b\b\b\b\b\b\b\b\b\b\b\b\b\b\b\b\b\b\b\b\b\b\b\b\b\b\b\b\b\b\b\b\b\b\b\b\b\b\b\b\b\b\b\b\b\b\b\b\b\b\b\b\b\b\b\b\b\b\b\b\b\b\b\b\r242/600 [===========>..................] - ETA: 0s - loss: 0.9918 - acc: 0.7259",
                "stream": "stdout"
              },
              {
                "output_type": "stream",
                "metadata": {
                  "tags": []
                },
                "text": "\b\b\b\b\b\b\b\b\b\b\b\b\b\b\b\b\b\b\b\b\b\b\b\b\b\b\b\b\b\b\b\b\b\b\b\b\b\b\b\b\b\b\b\b\b\b\b\b\b\b\b\b\b\b\b\b\b\b\b\b\b\b\b\b\b\b\b\b\b\b\b\b\b\b\b\b\b\b\b\r279/600 [============>.................] - ETA: 0s - loss: 0.9883 - acc: 0.7273",
                "stream": "stdout"
              },
              {
                "output_type": "stream",
                "metadata": {
                  "tags": []
                },
                "text": "\b\b\b\b\b\b\b\b\b\b\b\b\b\b\b\b\b\b\b\b\b\b\b\b\b\b\b\b\b\b\b\b\b\b\b\b\b\b\b\b\b\b\b\b\b\b\b\b\b\b\b\b\b\b\b\b\b\b\b\b\b\b\b\b\b\b\b\b\b\b\b\b\b\b\b\b\b\b\b\r316/600 [==============>...............] - ETA: 0s - loss: 0.9901 - acc: 0.7243",
                "stream": "stdout"
              },
              {
                "output_type": "stream",
                "metadata": {
                  "tags": []
                },
                "text": "\b\b\b\b\b\b\b\b\b\b\b\b\b\b\b\b\b\b\b\b\b\b\b\b\b\b\b\b\b\b\b\b\b\b\b\b\b\b\b\b\b\b\b\b\b\b\b\b\b\b\b\b\b\b\b\b\b\b\b\b\b\b\b\b\b\b\b\b\b\b\b\b\b\b\b\b\b\b\b\r350/600 [================>.............] - ETA: 0s - loss: 0.9885 - acc: 0.7245",
                "stream": "stdout"
              },
              {
                "output_type": "stream",
                "metadata": {
                  "tags": []
                },
                "text": "\b\b\b\b\b\b\b\b\b\b\b\b\b\b\b\b\b\b\b\b\b\b\b\b\b\b\b\b\b\b\b\b\b\b\b\b\b\b\b\b\b\b\b\b\b\b\b\b\b\b\b\b\b\b\b\b\b\b\b\b\b\b\b\b\b\b\b\b\b\b\b\b\b\b\b\b\b\b\b\r386/600 [==================>...........] - ETA: 0s - loss: 0.9891 - acc: 0.7242",
                "stream": "stdout"
              },
              {
                "output_type": "stream",
                "metadata": {
                  "tags": []
                },
                "text": "\b\b\b\b\b\b\b\b\b\b\b\b\b\b\b\b\b\b\b\b\b\b\b\b\b\b\b\b\b\b\b\b\b\b\b\b\b\b\b\b\b\b\b\b\b\b\b\b\b\b\b\b\b\b\b\b\b\b\b\b\b\b\b\b\b\b\b\b\b\b\b\b\b\b\b\b\b\b\b\r419/600 [===================>..........] - ETA: 0s - loss: 0.9886 - acc: 0.7243",
                "stream": "stdout"
              },
              {
                "output_type": "stream",
                "metadata": {
                  "tags": []
                },
                "text": "\b\b\b\b\b\b\b\b\b\b\b\b\b\b\b\b\b\b\b\b\b\b\b\b\b\b\b\b\b\b\b\b\b\b\b\b\b\b\b\b\b\b\b\b\b\b\b\b\b\b\b\b\b\b\b\b\b\b\b\b\b\b\b\b\b\b\b\b\b\b\b\b\b\b\b\b\b\b\b\r453/600 [=====================>........] - ETA: 0s - loss: 0.9872 - acc: 0.7261",
                "stream": "stdout"
              },
              {
                "output_type": "stream",
                "metadata": {
                  "tags": []
                },
                "text": "\b\b\b\b\b\b\b\b\b\b\b\b\b\b\b\b\b\b\b\b\b\b\b\b\b\b\b\b\b\b\b\b\b\b\b\b\b\b\b\b\b\b\b\b\b\b\b\b\b\b\b\b\b\b\b\b\b\b\b\b\b\b\b\b\b\b\b\b\b\b\b\b\b\b\b\b\b\b\b\r486/600 [=======================>......] - ETA: 0s - loss: 0.9853 - acc: 0.7283",
                "stream": "stdout"
              },
              {
                "output_type": "stream",
                "metadata": {
                  "tags": []
                },
                "text": "\b\b\b\b\b\b\b\b\b\b\b\b\b\b\b\b\b\b\b\b\b\b\b\b\b\b\b\b\b\b\b\b\b\b\b\b\b\b\b\b\b\b\b\b\b\b\b\b\b\b\b\b\b\b\b\b\b\b\b\b\b\b\b\b\b\b\b\b\b\b\b\b\b\b\b\b\b\b\b\r522/600 [=========================>....] - ETA: 0s - loss: 0.9863 - acc: 0.7279",
                "stream": "stdout"
              },
              {
                "output_type": "stream",
                "metadata": {
                  "tags": []
                },
                "text": "\b\b\b\b\b\b\b\b\b\b\b\b\b\b\b\b\b\b\b\b\b\b\b\b\b\b\b\b\b\b\b\b\b\b\b\b\b\b\b\b\b\b\b\b\b\b\b\b\b\b\b\b\b\b\b\b\b\b\b\b\b\b\b\b\b\b\b\b\b\b\b\b\b\b\b\b\b\b\b\r552/600 [==========================>...] - ETA: 0s - loss: 0.9861 - acc: 0.7285",
                "stream": "stdout"
              },
              {
                "output_type": "stream",
                "metadata": {
                  "tags": []
                },
                "text": "\b\b\b\b\b\b\b\b\b\b\b\b\b\b\b\b\b\b\b\b\b\b\b\b\b\b\b\b\b\b\b\b\b\b\b\b\b\b\b\b\b\b\b\b\b\b\b\b\b\b\b\b\b\b\b\b\b\b\b\b\b\b\b\b\b\b\b\b\b\b\b\b\b\b\b\b\b\b\b\r583/600 [============================>.] - ETA: 0s - loss: 0.9854 - acc: 0.7290",
                "stream": "stdout"
              },
              {
                "output_type": "stream",
                "metadata": {
                  "tags": []
                },
                "text": "\b\b\b\b\b\b\b\b\b\b\b\b\b\b\b\b\b\b\b\b\b\b\b\b\b\b\b\b\b\b\b\b\b\b\b\b\b\b\b\b\b\b\b\b\b\b\b\b\b\b\b\b\b\b\b\b\b\b\b\b\b\b\b\b\b\b\b\b\b\b\b\b\b\b\b\b\b\b\b\r600/600 [==============================] - 1s 2ms/step - loss: 0.9856 - acc: 0.7288 - val_loss: 0.9908 - val_acc: 0.7205\n",
                "stream": "stdout"
              },
              {
                "output_type": "stream",
                "metadata": {
                  "tags": []
                },
                "text": "Epoch 23/30\n\r  1/600 [..............................] - ETA: 0s - loss: 0.9777 - acc: 0.7200",
                "stream": "stdout"
              },
              {
                "output_type": "stream",
                "metadata": {
                  "tags": []
                },
                "text": "\b\b\b\b\b\b\b\b\b\b\b\b\b\b\b\b\b\b\b\b\b\b\b\b\b\b\b\b\b\b\b\b\b\b\b\b\b\b\b\b\b\b\b\b\b\b\b\b\b\b\b\b\b\b\b\b\b\b\b\b\b\b\b\b\b\b\b\b\b\b\b\b\b\b\b\b\b\b\b\r 33/600 [>.............................] - ETA: 0s - loss: 0.9704 - acc: 0.7318",
                "stream": "stdout"
              },
              {
                "output_type": "stream",
                "metadata": {
                  "tags": []
                },
                "text": "\b\b\b\b\b\b\b\b\b\b\b\b\b\b\b\b\b\b\b\b\b\b\b\b\b\b\b\b\b\b\b\b\b\b\b\b\b\b\b\b\b\b\b\b\b\b\b\b\b\b\b\b\b\b\b\b\b\b\b\b\b\b\b\b\b\b\b\b\b\b\b\b\b\b\b\b\b\b\b\r 67/600 [==>...........................] - ETA: 0s - loss: 0.9716 - acc: 0.7321",
                "stream": "stdout"
              },
              {
                "output_type": "stream",
                "metadata": {
                  "tags": []
                },
                "text": "\b\b\b\b\b\b\b\b\b\b\b\b\b\b\b\b\b\b\b\b\b\b\b\b\b\b\b\b\b\b\b\b\b\b\b\b\b\b\b\b\b\b\b\b\b\b\b\b\b\b\b\b\b\b\b\b\b\b\b\b\b\b\b\b\b\b\b\b\b\b\b\b\b\b\b\b\b\b\b\r103/600 [====>.........................] - ETA: 0s - loss: 0.9691 - acc: 0.7375",
                "stream": "stdout"
              },
              {
                "output_type": "stream",
                "metadata": {
                  "tags": []
                },
                "text": "\b\b\b\b\b\b\b\b\b\b\b\b\b\b\b\b\b\b\b\b\b\b\b\b\b\b\b\b\b\b\b\b\b\b\b\b\b\b\b\b\b\b\b\b\b\b\b\b\b\b\b\b\b\b\b\b\b\b\b\b\b\b\b\b\b\b\b\b\b\b\b\b\b\b\b\b\b\b\b\r133/600 [=====>........................] - ETA: 0s - loss: 0.9707 - acc: 0.7366",
                "stream": "stdout"
              },
              {
                "output_type": "stream",
                "metadata": {
                  "tags": []
                },
                "text": "\b\b\b\b\b\b\b\b\b\b\b\b\b\b\b\b\b\b\b\b\b\b\b\b\b\b\b\b\b\b\b\b\b\b\b\b\b\b\b\b\b\b\b\b\b\b\b\b\b\b\b\b\b\b\b\b\b\b\b\b\b\b\b\b\b\b\b\b\b\b\b\b\b\b\b\b\b\b\b\r168/600 [=======>......................] - ETA: 0s - loss: 0.9722 - acc: 0.7377",
                "stream": "stdout"
              },
              {
                "output_type": "stream",
                "metadata": {
                  "tags": []
                },
                "text": "\b\b\b\b\b\b\b\b\b\b\b\b\b\b\b\b\b\b\b\b\b\b\b\b\b\b\b\b\b\b\b\b\b\b\b\b\b\b\b\b\b\b\b\b\b\b\b\b\b\b\b\b\b\b\b\b\b\b\b\b\b\b\b\b\b\b\b\b\b\b\b\b\b\b\b\b\b\b\b\r202/600 [=========>....................] - ETA: 0s - loss: 0.9732 - acc: 0.7392",
                "stream": "stdout"
              },
              {
                "output_type": "stream",
                "metadata": {
                  "tags": []
                },
                "text": "\b\b\b\b\b\b\b\b\b\b\b\b\b\b\b\b\b\b\b\b\b\b\b\b\b\b\b\b\b\b\b\b\b\b\b\b\b\b\b\b\b\b\b\b\b\b\b\b\b\b\b\b\b\b\b\b\b\b\b\b\b\b\b\b\b\b\b\b\b\b\b\b\b\b\b\b\b\b\b\r239/600 [==========>...................] - ETA: 0s - loss: 0.9732 - acc: 0.7380",
                "stream": "stdout"
              },
              {
                "output_type": "stream",
                "metadata": {
                  "tags": []
                },
                "text": "\b\b\b\b\b\b\b\b\b\b\b\b\b\b\b\b\b\b\b\b\b\b\b\b\b\b\b\b\b\b\b\b\b\b\b\b\b\b\b\b\b\b\b\b\b\b\b\b\b\b\b\b\b\b\b\b\b\b\b\b\b\b\b\b\b\b\b\b\b\b\b\b\b\b\b\b\b\b\b\r274/600 [============>.................] - ETA: 0s - loss: 0.9728 - acc: 0.7371",
                "stream": "stdout"
              },
              {
                "output_type": "stream",
                "metadata": {
                  "tags": []
                },
                "text": "\b\b\b\b\b\b\b\b\b\b\b\b\b\b\b\b\b\b\b\b\b\b\b\b\b\b\b\b\b\b\b\b\b\b\b\b\b\b\b\b\b\b\b\b\b\b\b\b\b\b\b\b\b\b\b\b\b\b\b\b\b\b\b\b\b\b\b\b\b\b\b\b\b\b\b\b\b\b\b\r311/600 [==============>...............] - ETA: 0s - loss: 0.9704 - acc: 0.7388",
                "stream": "stdout"
              },
              {
                "output_type": "stream",
                "metadata": {
                  "tags": []
                },
                "text": "\b\b\b\b\b\b\b\b\b\b\b\b\b\b\b\b\b\b\b\b\b\b\b\b\b\b\b\b\b\b\b\b\b\b\b\b\b\b\b\b\b\b\b\b\b\b\b\b\b\b\b\b\b\b\b\b\b\b\b\b\b\b\b\b\b\b\b\b\b\b\b\b\b\b\b\b\b\b\b\r345/600 [================>.............] - ETA: 0s - loss: 0.9675 - acc: 0.7397",
                "stream": "stdout"
              },
              {
                "output_type": "stream",
                "metadata": {
                  "tags": []
                },
                "text": "\b\b\b\b\b\b\b\b\b\b\b\b\b\b\b\b\b\b\b\b\b\b\b\b\b\b\b\b\b\b\b\b\b\b\b\b\b\b\b\b\b\b\b\b\b\b\b\b\b\b\b\b\b\b\b\b\b\b\b\b\b\b\b\b\b\b\b\b\b\b\b\b\b\b\b\b\b\b\b\r376/600 [=================>............] - ETA: 0s - loss: 0.9680 - acc: 0.7385",
                "stream": "stdout"
              },
              {
                "output_type": "stream",
                "metadata": {
                  "tags": []
                },
                "text": "\b\b\b\b\b\b\b\b\b\b\b\b\b\b\b\b\b\b\b\b\b\b\b\b\b\b\b\b\b\b\b\b\b\b\b\b\b\b\b\b\b\b\b\b\b\b\b\b\b\b\b\b\b\b\b\b\b\b\b\b\b\b\b\b\b\b\b\b\b\b\b\b\b\b\b\b\b\b\b\r408/600 [===================>..........] - ETA: 0s - loss: 0.9700 - acc: 0.7383",
                "stream": "stdout"
              },
              {
                "output_type": "stream",
                "metadata": {
                  "tags": []
                },
                "text": "\b\b\b\b\b\b\b\b\b\b\b\b\b\b\b\b\b\b\b\b\b\b\b\b\b\b\b\b\b\b\b\b\b\b\b\b\b\b\b\b\b\b\b\b\b\b\b\b\b\b\b\b\b\b\b\b\b\b\b\b\b\b\b\b\b\b\b\b\b\b\b\b\b\b\b\b\b\b\b\r445/600 [=====================>........] - ETA: 0s - loss: 0.9718 - acc: 0.7386",
                "stream": "stdout"
              },
              {
                "output_type": "stream",
                "metadata": {
                  "tags": []
                },
                "text": "\b\b\b\b\b\b\b\b\b\b\b\b\b\b\b\b\b\b\b\b\b\b\b\b\b\b\b\b\b\b\b\b\b\b\b\b\b\b\b\b\b\b\b\b\b\b\b\b\b\b\b\b\b\b\b\b\b\b\b\b\b\b\b\b\b\b\b\b\b\b\b\b\b\b\b\b\b\b\b\r480/600 [=======================>......] - ETA: 0s - loss: 0.9736 - acc: 0.7400",
                "stream": "stdout"
              },
              {
                "output_type": "stream",
                "metadata": {
                  "tags": []
                },
                "text": "\b\b\b\b\b\b\b\b\b\b\b\b\b\b\b\b\b\b\b\b\b\b\b\b\b\b\b\b\b\b\b\b\b\b\b\b\b\b\b\b\b\b\b\b\b\b\b\b\b\b\b\b\b\b\b\b\b\b\b\b\b\b\b\b\b\b\b\b\b\b\b\b\b\b\b\b\b\b\b\r517/600 [========================>.....] - ETA: 0s - loss: 0.9716 - acc: 0.7418",
                "stream": "stdout"
              },
              {
                "output_type": "stream",
                "metadata": {
                  "tags": []
                },
                "text": "\b\b\b\b\b\b\b\b\b\b\b\b\b\b\b\b\b\b\b\b\b\b\b\b\b\b\b\b\b\b\b\b\b\b\b\b\b\b\b\b\b\b\b\b\b\b\b\b\b\b\b\b\b\b\b\b\b\b\b\b\b\b\b\b\b\b\b\b\b\b\b\b\b\b\b\b\b\b\b\r545/600 [==========================>...] - ETA: 0s - loss: 0.9717 - acc: 0.7419",
                "stream": "stdout"
              },
              {
                "output_type": "stream",
                "metadata": {
                  "tags": []
                },
                "text": "\b\b\b\b\b\b\b\b\b\b\b\b\b\b\b\b\b\b\b\b\b\b\b\b\b\b\b\b\b\b\b\b\b\b\b\b\b\b\b\b\b\b\b\b\b\b\b\b\b\b\b\b\b\b\b\b\b\b\b\b\b\b\b\b\b\b\b\b\b\b\b\b\b\b\b\b\b\b\b\r583/600 [============================>.] - ETA: 0s - loss: 0.9698 - acc: 0.7426",
                "stream": "stdout"
              },
              {
                "output_type": "stream",
                "metadata": {
                  "tags": []
                },
                "text": "\b\b\b\b\b\b\b\b\b\b\b\b\b\b\b\b\b\b\b\b\b\b\b\b\b\b\b\b\b\b\b\b\b\b\b\b\b\b\b\b\b\b\b\b\b\b\b\b\b\b\b\b\b\b\b\b\b\b\b\b\b\b\b\b\b\b\b\b\b\b\b\b\b\b\b\b\b\b\b\r600/600 [==============================] - 1s 2ms/step - loss: 0.9697 - acc: 0.7423 - val_loss: 0.9384 - val_acc: 0.7542\n",
                "stream": "stdout"
              },
              {
                "output_type": "stream",
                "metadata": {
                  "tags": []
                },
                "text": "Epoch 24/30\n\r  1/600 [..............................] - ETA: 0s - loss: 0.9025 - acc: 0.7800",
                "stream": "stdout"
              },
              {
                "output_type": "stream",
                "metadata": {
                  "tags": []
                },
                "text": "\b\b\b\b\b\b\b\b\b\b\b\b\b\b\b\b\b\b\b\b\b\b\b\b\b\b\b\b\b\b\b\b\b\b\b\b\b\b\b\b\b\b\b\b\b\b\b\b\b\b\b\b\b\b\b\b\b\b\b\b\b\b\b\b\b\b\b\b\b\b\b\b\b\b\b\b\b\b\b\r 35/600 [>.............................] - ETA: 0s - loss: 0.9513 - acc: 0.7569",
                "stream": "stdout"
              },
              {
                "output_type": "stream",
                "metadata": {
                  "tags": []
                },
                "text": "\b\b\b\b\b\b\b\b\b\b\b\b\b\b\b\b\b\b\b\b\b\b\b\b\b\b\b\b\b\b\b\b\b\b\b\b\b\b\b\b\b\b\b\b\b\b\b\b\b\b\b\b\b\b\b\b\b\b\b\b\b\b\b\b\b\b\b\b\b\b\b\b\b\b\b\b\b\b\b\r 70/600 [==>...........................] - ETA: 0s - loss: 0.9543 - acc: 0.7531",
                "stream": "stdout"
              },
              {
                "output_type": "stream",
                "metadata": {
                  "tags": []
                },
                "text": "\b\b\b\b\b\b\b\b\b\b\b\b\b\b\b\b\b\b\b\b\b\b\b\b\b\b\b\b\b\b\b\b\b\b\b\b\b\b\b\b\b\b\b\b\b\b\b\b\b\b\b\b\b\b\b\b\b\b\b\b\b\b\b\b\b\b\b\b\b\b\b\b\b\b\b\b\b\b\b\r105/600 [====>.........................] - ETA: 0s - loss: 0.9513 - acc: 0.7548",
                "stream": "stdout"
              },
              {
                "output_type": "stream",
                "metadata": {
                  "tags": []
                },
                "text": "\b\b\b\b\b\b\b\b\b\b\b\b\b\b\b\b\b\b\b\b\b\b\b\b\b\b\b\b\b\b\b\b\b\b\b\b\b\b\b\b\b\b\b\b\b\b\b\b\b\b\b\b\b\b\b\b\b\b\b\b\b\b\b\b\b\b\b\b\b\b\b\b\b\b\b\b\b\b\b\r139/600 [=====>........................] - ETA: 0s - loss: 0.9487 - acc: 0.7586",
                "stream": "stdout"
              },
              {
                "output_type": "stream",
                "metadata": {
                  "tags": []
                },
                "text": "\b\b\b\b\b\b\b\b\b\b\b\b\b\b\b\b\b\b\b\b\b\b\b\b\b\b\b\b\b\b\b\b\b\b\b\b\b\b\b\b\b\b\b\b\b\b\b\b\b\b\b\b\b\b\b\b\b\b\b\b\b\b\b\b\b\b\b\b\b\b\b\b\b\b\b\b\b\b\b\r173/600 [=======>......................] - ETA: 0s - loss: 0.9583 - acc: 0.7548",
                "stream": "stdout"
              },
              {
                "output_type": "stream",
                "metadata": {
                  "tags": []
                },
                "text": "\b\b\b\b\b\b\b\b\b\b\b\b\b\b\b\b\b\b\b\b\b\b\b\b\b\b\b\b\b\b\b\b\b\b\b\b\b\b\b\b\b\b\b\b\b\b\b\b\b\b\b\b\b\b\b\b\b\b\b\b\b\b\b\b\b\b\b\b\b\b\b\b\b\b\b\b\b\b\b\r208/600 [=========>....................] - ETA: 0s - loss: 0.9618 - acc: 0.7551",
                "stream": "stdout"
              },
              {
                "output_type": "stream",
                "metadata": {
                  "tags": []
                },
                "text": "\b\b\b\b\b\b\b\b\b\b\b\b\b\b\b\b\b\b\b\b\b\b\b\b\b\b\b\b\b\b\b\b\b\b\b\b\b\b\b\b\b\b\b\b\b\b\b\b\b\b\b\b\b\b\b\b\b\b\b\b\b\b\b\b\b\b\b\b\b\b\b\b\b\b\b\b\b\b\b\r244/600 [===========>..................] - ETA: 0s - loss: 0.9650 - acc: 0.7539",
                "stream": "stdout"
              },
              {
                "output_type": "stream",
                "metadata": {
                  "tags": []
                },
                "text": "\b\b\b\b\b\b\b\b\b\b\b\b\b\b\b\b\b\b\b\b\b\b\b\b\b\b\b\b\b\b\b\b\b\b\b\b\b\b\b\b\b\b\b\b\b\b\b\b\b\b\b\b\b\b\b\b\b\b\b\b\b\b\b\b\b\b\b\b\b\b\b\b\b\b\b\b\b\b\b\r280/600 [=============>................] - ETA: 0s - loss: 0.9632 - acc: 0.7547",
                "stream": "stdout"
              },
              {
                "output_type": "stream",
                "metadata": {
                  "tags": []
                },
                "text": "\b\b\b\b\b\b\b\b\b\b\b\b\b\b\b\b\b\b\b\b\b\b\b\b\b\b\b\b\b\b\b\b\b\b\b\b\b\b\b\b\b\b\b\b\b\b\b\b\b\b\b\b\b\b\b\b\b\b\b\b\b\b\b\b\b\b\b\b\b\b\b\b\b\b\b\b\b\b\b\r310/600 [==============>...............] - ETA: 0s - loss: 0.9614 - acc: 0.7547",
                "stream": "stdout"
              },
              {
                "output_type": "stream",
                "metadata": {
                  "tags": []
                },
                "text": "\b\b\b\b\b\b\b\b\b\b\b\b\b\b\b\b\b\b\b\b\b\b\b\b\b\b\b\b\b\b\b\b\b\b\b\b\b\b\b\b\b\b\b\b\b\b\b\b\b\b\b\b\b\b\b\b\b\b\b\b\b\b\b\b\b\b\b\b\b\b\b\b\b\b\b\b\b\b\b\r344/600 [================>.............] - ETA: 0s - loss: 0.9620 - acc: 0.7524",
                "stream": "stdout"
              },
              {
                "output_type": "stream",
                "metadata": {
                  "tags": []
                },
                "text": "\b\b\b\b\b\b\b\b\b\b\b\b\b\b\b\b\b\b\b\b\b\b\b\b\b\b\b\b\b\b\b\b\b\b\b\b\b\b\b\b\b\b\b\b\b\b\b\b\b\b\b\b\b\b\b\b\b\b\b\b\b\b\b\b\b\b\b\b\b\b\b\b\b\b\b\b\b\b\b\r375/600 [=================>............] - ETA: 0s - loss: 0.9621 - acc: 0.7523",
                "stream": "stdout"
              },
              {
                "output_type": "stream",
                "metadata": {
                  "tags": []
                },
                "text": "\b\b\b\b\b\b\b\b\b\b\b\b\b\b\b\b\b\b\b\b\b\b\b\b\b\b\b\b\b\b\b\b\b\b\b\b\b\b\b\b\b\b\b\b\b\b\b\b\b\b\b\b\b\b\b\b\b\b\b\b\b\b\b\b\b\b\b\b\b\b\b\b\b\b\b\b\b\b\b\r409/600 [===================>..........] - ETA: 0s - loss: 0.9594 - acc: 0.7539",
                "stream": "stdout"
              },
              {
                "output_type": "stream",
                "metadata": {
                  "tags": []
                },
                "text": "\b\b\b\b\b\b\b\b\b\b\b\b\b\b\b\b\b\b\b\b\b\b\b\b\b\b\b\b\b\b\b\b\b\b\b\b\b\b\b\b\b\b\b\b\b\b\b\b\b\b\b\b\b\b\b\b\b\b\b\b\b\b\b\b\b\b\b\b\b\b\b\b\b\b\b\b\b\b\b\r443/600 [=====================>........] - ETA: 0s - loss: 0.9588 - acc: 0.7533",
                "stream": "stdout"
              },
              {
                "output_type": "stream",
                "metadata": {
                  "tags": []
                },
                "text": "\b\b\b\b\b\b\b\b\b\b\b\b\b\b\b\b\b\b\b\b\b\b\b\b\b\b\b\b\b\b\b\b\b\b\b\b\b\b\b\b\b\b\b\b\b\b\b\b\b\b\b\b\b\b\b\b\b\b\b\b\b\b\b\b\b\b\b\b\b\b\b\b\b\b\b\b\b\b\b\r477/600 [======================>.......] - ETA: 0s - loss: 0.9603 - acc: 0.7523",
                "stream": "stdout"
              },
              {
                "output_type": "stream",
                "metadata": {
                  "tags": []
                },
                "text": "\b\b\b\b\b\b\b\b\b\b\b\b\b\b\b\b\b\b\b\b\b\b\b\b\b\b\b\b\b\b\b\b\b\b\b\b\b\b\b\b\b\b\b\b\b\b\b\b\b\b\b\b\b\b\b\b\b\b\b\b\b\b\b\b\b\b\b\b\b\b\b\b\b\b\b\b\b\b\b\r513/600 [========================>.....] - ETA: 0s - loss: 0.9647 - acc: 0.7493",
                "stream": "stdout"
              },
              {
                "output_type": "stream",
                "metadata": {
                  "tags": []
                },
                "text": "\b\b\b\b\b\b\b\b\b\b\b\b\b\b\b\b\b\b\b\b\b\b\b\b\b\b\b\b\b\b\b\b\b\b\b\b\b\b\b\b\b\b\b\b\b\b\b\b\b\b\b\b\b\b\b\b\b\b\b\b\b\b\b\b\b\b\b\b\b\b\b\b\b\b\b\b\b\b\b\r543/600 [==========================>...] - ETA: 0s - loss: 0.9644 - acc: 0.7485",
                "stream": "stdout"
              },
              {
                "output_type": "stream",
                "metadata": {
                  "tags": []
                },
                "text": "\b\b\b\b\b\b\b\b\b\b\b\b\b\b\b\b\b\b\b\b\b\b\b\b\b\b\b\b\b\b\b\b\b\b\b\b\b\b\b\b\b\b\b\b\b\b\b\b\b\b\b\b\b\b\b\b\b\b\b\b\b\b\b\b\b\b\b\b\b\b\b\b\b\b\b\b\b\b\b\r576/600 [===========================>..] - ETA: 0s - loss: 0.9638 - acc: 0.7487",
                "stream": "stdout"
              },
              {
                "output_type": "stream",
                "metadata": {
                  "tags": []
                },
                "text": "\b\b\b\b\b\b\b\b\b\b\b\b\b\b\b\b\b\b\b\b\b\b\b\b\b\b\b\b\b\b\b\b\b\b\b\b\b\b\b\b\b\b\b\b\b\b\b\b\b\b\b\b\b\b\b\b\b\b\b\b\b\b\b\b\b\b\b\b\b\b\b\b\b\b\b\b\b\b\b\r600/600 [==============================] - 1s 2ms/step - loss: 0.9623 - acc: 0.7488 - val_loss: 0.9713 - val_acc: 0.7333\n",
                "stream": "stdout"
              },
              {
                "output_type": "stream",
                "metadata": {
                  "tags": []
                },
                "text": "Epoch 25/30\n",
                "stream": "stdout"
              },
              {
                "output_type": "stream",
                "metadata": {
                  "tags": []
                },
                "text": "\r  1/600 [..............................] - ETA: 0s - loss: 1.0151 - acc: 0.7200",
                "stream": "stdout"
              },
              {
                "output_type": "stream",
                "metadata": {
                  "tags": []
                },
                "text": "\b\b\b\b\b\b\b\b\b\b\b\b\b\b\b\b\b\b\b\b\b\b\b\b\b\b\b\b\b\b\b\b\b\b\b\b\b\b\b\b\b\b\b\b\b\b\b\b\b\b\b\b\b\b\b\b\b\b\b\b\b\b\b\b\b\b\b\b\b\b\b\b\b\b\b\b\b\b\b\r 36/600 [>.............................] - ETA: 0s - loss: 0.9448 - acc: 0.7658",
                "stream": "stdout"
              },
              {
                "output_type": "stream",
                "metadata": {
                  "tags": []
                },
                "text": "\b\b\b\b\b\b\b\b\b\b\b\b\b\b\b\b\b\b\b\b\b\b\b\b\b\b\b\b\b\b\b\b\b\b\b\b\b\b\b\b\b\b\b\b\b\b\b\b\b\b\b\b\b\b\b\b\b\b\b\b\b\b\b\b\b\b\b\b\b\b\b\b\b\b\b\b\b\b\b\r 72/600 [==>...........................] - ETA: 0s - loss: 0.9484 - acc: 0.7589",
                "stream": "stdout"
              },
              {
                "output_type": "stream",
                "metadata": {
                  "tags": []
                },
                "text": "\b\b\b\b\b\b\b\b\b\b\b\b\b\b\b\b\b\b\b\b\b\b\b\b\b\b\b\b\b\b\b\b\b\b\b\b\b\b\b\b\b\b\b\b\b\b\b\b\b\b\b\b\b\b\b\b\b\b\b\b\b\b\b\b\b\b\b\b\b\b\b\b\b\b\b\b\b\b\b\r108/600 [====>.........................] - ETA: 0s - loss: 0.9561 - acc: 0.7581",
                "stream": "stdout"
              },
              {
                "output_type": "stream",
                "metadata": {
                  "tags": []
                },
                "text": "\b\b\b\b\b\b\b\b\b\b\b\b\b\b\b\b\b\b\b\b\b\b\b\b\b\b\b\b\b\b\b\b\b\b\b\b\b\b\b\b\b\b\b\b\b\b\b\b\b\b\b\b\b\b\b\b\b\b\b\b\b\b\b\b\b\b\b\b\b\b\b\b\b\b\b\b\b\b\b\r145/600 [======>.......................] - ETA: 0s - loss: 0.9626 - acc: 0.7583",
                "stream": "stdout"
              },
              {
                "output_type": "stream",
                "metadata": {
                  "tags": []
                },
                "text": "\b\b\b\b\b\b\b\b\b\b\b\b\b\b\b\b\b\b\b\b\b\b\b\b\b\b\b\b\b\b\b\b\b\b\b\b\b\b\b\b\b\b\b\b\b\b\b\b\b\b\b\b\b\b\b\b\b\b\b\b\b\b\b\b\b\b\b\b\b\b\b\b\b\b\b\b\b\b\b\r183/600 [========>.....................] - ETA: 0s - loss: 0.9620 - acc: 0.7541",
                "stream": "stdout"
              },
              {
                "output_type": "stream",
                "metadata": {
                  "tags": []
                },
                "text": "\b\b\b\b\b\b\b\b\b\b\b\b\b\b\b\b\b\b\b\b\b\b\b\b\b\b\b\b\b\b\b\b\b\b\b\b\b\b\b\b\b\b\b\b\b\b\b\b\b\b\b\b\b\b\b\b\b\b\b\b\b\b\b\b\b\b\b\b\b\b\b\b\b\b\b\b\b\b\b\r218/600 [=========>....................] - ETA: 0s - loss: 0.9605 - acc: 0.7506",
                "stream": "stdout"
              },
              {
                "output_type": "stream",
                "metadata": {
                  "tags": []
                },
                "text": "\b\b\b\b\b\b\b\b\b\b\b\b\b\b\b\b\b\b\b\b\b\b\b\b\b\b\b\b\b\b\b\b\b\b\b\b\b\b\b\b\b\b\b\b\b\b\b\b\b\b\b\b\b\b\b\b\b\b\b\b\b\b\b\b\b\b\b\b\b\b\b\b\b\b\b\b\b\b\b\r254/600 [===========>..................] - ETA: 0s - loss: 0.9627 - acc: 0.7481",
                "stream": "stdout"
              },
              {
                "output_type": "stream",
                "metadata": {
                  "tags": []
                },
                "text": "\b\b\b\b\b\b\b\b\b\b\b\b\b\b\b\b\b\b\b\b\b\b\b\b\b\b\b\b\b\b\b\b\b\b\b\b\b\b\b\b\b\b\b\b\b\b\b\b\b\b\b\b\b\b\b\b\b\b\b\b\b\b\b\b\b\b\b\b\b\b\b\b\b\b\b\b\b\b\b\r291/600 [=============>................] - ETA: 0s - loss: 0.9616 - acc: 0.7467",
                "stream": "stdout"
              },
              {
                "output_type": "stream",
                "metadata": {
                  "tags": []
                },
                "text": "\b\b\b\b\b\b\b\b\b\b\b\b\b\b\b\b\b\b\b\b\b\b\b\b\b\b\b\b\b\b\b\b\b\b\b\b\b\b\b\b\b\b\b\b\b\b\b\b\b\b\b\b\b\b\b\b\b\b\b\b\b\b\b\b\b\b\b\b\b\b\b\b\b\b\b\b\b\b\b\r328/600 [===============>..............] - ETA: 0s - loss: 0.9610 - acc: 0.7455",
                "stream": "stdout"
              },
              {
                "output_type": "stream",
                "metadata": {
                  "tags": []
                },
                "text": "\b\b\b\b\b\b\b\b\b\b\b\b\b\b\b\b\b\b\b\b\b\b\b\b\b\b\b\b\b\b\b\b\b\b\b\b\b\b\b\b\b\b\b\b\b\b\b\b\b\b\b\b\b\b\b\b\b\b\b\b\b\b\b\b\b\b\b\b\b\b\b\b\b\b\b\b\b\b\b\r361/600 [=================>............] - ETA: 0s - loss: 0.9593 - acc: 0.7461",
                "stream": "stdout"
              },
              {
                "output_type": "stream",
                "metadata": {
                  "tags": []
                },
                "text": "\b\b\b\b\b\b\b\b\b\b\b\b\b\b\b\b\b\b\b\b\b\b\b\b\b\b\b\b\b\b\b\b\b\b\b\b\b\b\b\b\b\b\b\b\b\b\b\b\b\b\b\b\b\b\b\b\b\b\b\b\b\b\b\b\b\b\b\b\b\b\b\b\b\b\b\b\b\b\b\r392/600 [==================>...........] - ETA: 0s - loss: 0.9597 - acc: 0.7455",
                "stream": "stdout"
              },
              {
                "output_type": "stream",
                "metadata": {
                  "tags": []
                },
                "text": "\b\b\b\b\b\b\b\b\b\b\b\b\b\b\b\b\b\b\b\b\b\b\b\b\b\b\b\b\b\b\b\b\b\b\b\b\b\b\b\b\b\b\b\b\b\b\b\b\b\b\b\b\b\b\b\b\b\b\b\b\b\b\b\b\b\b\b\b\b\b\b\b\b\b\b\b\b\b\b\r428/600 [====================>.........] - ETA: 0s - loss: 0.9590 - acc: 0.7457",
                "stream": "stdout"
              },
              {
                "output_type": "stream",
                "metadata": {
                  "tags": []
                },
                "text": "\b\b\b\b\b\b\b\b\b\b\b\b\b\b\b\b\b\b\b\b\b\b\b\b\b\b\b\b\b\b\b\b\b\b\b\b\b\b\b\b\b\b\b\b\b\b\b\b\b\b\b\b\b\b\b\b\b\b\b\b\b\b\b\b\b\b\b\b\b\b\b\b\b\b\b\b\b\b\b\r464/600 [======================>.......] - ETA: 0s - loss: 0.9598 - acc: 0.7453",
                "stream": "stdout"
              },
              {
                "output_type": "stream",
                "metadata": {
                  "tags": []
                },
                "text": "\b\b\b\b\b\b\b\b\b\b\b\b\b\b\b\b\b\b\b\b\b\b\b\b\b\b\b\b\b\b\b\b\b\b\b\b\b\b\b\b\b\b\b\b\b\b\b\b\b\b\b\b\b\b\b\b\b\b\b\b\b\b\b\b\b\b\b\b\b\b\b\b\b\b\b\b\b\b\b\r497/600 [=======================>......] - ETA: 0s - loss: 0.9597 - acc: 0.7453",
                "stream": "stdout"
              },
              {
                "output_type": "stream",
                "metadata": {
                  "tags": []
                },
                "text": "\b\b\b\b\b\b\b\b\b\b\b\b\b\b\b\b\b\b\b\b\b\b\b\b\b\b\b\b\b\b\b\b\b\b\b\b\b\b\b\b\b\b\b\b\b\b\b\b\b\b\b\b\b\b\b\b\b\b\b\b\b\b\b\b\b\b\b\b\b\b\b\b\b\b\b\b\b\b\b\r532/600 [=========================>....] - ETA: 0s - loss: 0.9599 - acc: 0.7443",
                "stream": "stdout"
              },
              {
                "output_type": "stream",
                "metadata": {
                  "tags": []
                },
                "text": "\b\b\b\b\b\b\b\b\b\b\b\b\b\b\b\b\b\b\b\b\b\b\b\b\b\b\b\b\b\b\b\b\b\b\b\b\b\b\b\b\b\b\b\b\b\b\b\b\b\b\b\b\b\b\b\b\b\b\b\b\b\b\b\b\b\b\b\b\b\b\b\b\b\b\b\b\b\b\b\r561/600 [===========================>..] - ETA: 0s - loss: 0.9596 - acc: 0.7444",
                "stream": "stdout"
              },
              {
                "output_type": "stream",
                "metadata": {
                  "tags": []
                },
                "text": "\b\b\b\b\b\b\b\b\b\b\b\b\b\b\b\b\b\b\b\b\b\b\b\b\b\b\b\b\b\b\b\b\b\b\b\b\b\b\b\b\b\b\b\b\b\b\b\b\b\b\b\b\b\b\b\b\b\b\b\b\b\b\b\b\b\b\b\b\b\b\b\b\b\b\b\b\b\b\b\r596/600 [============================>.] - ETA: 0s - loss: 0.9589 - acc: 0.7445",
                "stream": "stdout"
              },
              {
                "output_type": "stream",
                "metadata": {
                  "tags": []
                },
                "text": "\b\b\b\b\b\b\b\b\b\b\b\b\b\b\b\b\b\b\b\b\b\b\b\b\b\b\b\b\b\b\b\b\b\b\b\b\b\b\b\b\b\b\b\b\b\b\b\b\b\b\b\b\b\b\b\b\b\b\b\b\b\b\b\b\b\b\b\b\b\b\b\b\b\b\b\b\b\b\b\r600/600 [==============================] - 1s 2ms/step - loss: 0.9586 - acc: 0.7446 - val_loss: 0.9468 - val_acc: 0.7528\n",
                "stream": "stdout"
              },
              {
                "output_type": "stream",
                "metadata": {
                  "tags": []
                },
                "text": "Epoch 26/30\n\r  1/600 [..............................] - ETA: 0s - loss: 1.0205 - acc: 0.7100",
                "stream": "stdout"
              },
              {
                "output_type": "stream",
                "metadata": {
                  "tags": []
                },
                "text": "\b\b\b\b\b\b\b\b\b\b\b\b\b\b\b\b\b\b\b\b\b\b\b\b\b\b\b\b\b\b\b\b\b\b\b\b\b\b\b\b\b\b\b\b\b\b\b\b\b\b\b\b\b\b\b\b\b\b\b\b\b\b\b\b\b\b\b\b\b\b\b\b\b\b\b\b\b\b\b\r 36/600 [>.............................] - ETA: 0s - loss: 0.9382 - acc: 0.7608",
                "stream": "stdout"
              },
              {
                "output_type": "stream",
                "metadata": {
                  "tags": []
                },
                "text": "\b\b\b\b\b\b\b\b\b\b\b\b\b\b\b\b\b\b\b\b\b\b\b\b\b\b\b\b\b\b\b\b\b\b\b\b\b\b\b\b\b\b\b\b\b\b\b\b\b\b\b\b\b\b\b\b\b\b\b\b\b\b\b\b\b\b\b\b\b\b\b\b\b\b\b\b\b\b\b\r 72/600 [==>...........................] - ETA: 0s - loss: 0.9293 - acc: 0.7614",
                "stream": "stdout"
              },
              {
                "output_type": "stream",
                "metadata": {
                  "tags": []
                },
                "text": "\b\b\b\b\b\b\b\b\b\b\b\b\b\b\b\b\b\b\b\b\b\b\b\b\b\b\b\b\b\b\b\b\b\b\b\b\b\b\b\b\b\b\b\b\b\b\b\b\b\b\b\b\b\b\b\b\b\b\b\b\b\b\b\b\b\b\b\b\b\b\b\b\b\b\b\b\b\b\b\r105/600 [====>.........................] - ETA: 0s - loss: 0.9342 - acc: 0.7586",
                "stream": "stdout"
              },
              {
                "output_type": "stream",
                "metadata": {
                  "tags": []
                },
                "text": "\b\b\b\b\b\b\b\b\b\b\b\b\b\b\b\b\b\b\b\b\b\b\b\b\b\b\b\b\b\b\b\b\b\b\b\b\b\b\b\b\b\b\b\b\b\b\b\b\b\b\b\b\b\b\b\b\b\b\b\b\b\b\b\b\b\b\b\b\b\b\b\b\b\b\b\b\b\b\b",
                "stream": "stdout"
              },
              {
                "output_type": "stream",
                "metadata": {
                  "tags": []
                },
                "text": "\r138/600 [=====>........................] - ETA: 0s - loss: 0.9336 - acc: 0.7564",
                "stream": "stdout"
              },
              {
                "output_type": "stream",
                "metadata": {
                  "tags": []
                },
                "text": "\b\b\b\b\b\b\b\b\b\b\b\b\b\b\b\b\b\b\b\b\b\b\b\b\b\b\b\b\b\b\b\b\b\b\b\b\b\b\b\b\b\b\b\b\b\b\b\b\b\b\b\b\b\b\b\b\b\b\b\b\b\b\b\b\b\b\b\b\b\b\b\b\b\b\b\b\b\b\b\r171/600 [=======>......................] - ETA: 0s - loss: 0.9310 - acc: 0.7520",
                "stream": "stdout"
              },
              {
                "output_type": "stream",
                "metadata": {
                  "tags": []
                },
                "text": "\b\b\b\b\b\b\b\b\b\b\b\b\b\b\b\b\b\b\b\b\b\b\b\b\b\b\b\b\b\b\b\b\b\b\b\b\b\b\b\b\b\b\b\b\b\b\b\b\b\b\b\b\b\b\b\b\b\b\b\b\b\b\b\b\b\b\b\b\b\b\b\b\b\b\b\b\b\b\b\r206/600 [=========>....................] - ETA: 0s - loss: 0.9361 - acc: 0.7479",
                "stream": "stdout"
              },
              {
                "output_type": "stream",
                "metadata": {
                  "tags": []
                },
                "text": "\b\b\b\b\b\b\b\b\b\b\b\b\b\b\b\b\b\b\b\b\b\b\b\b\b\b\b\b\b\b\b\b\b\b\b\b\b\b\b\b\b\b\b\b\b\b\b\b\b\b\b\b\b\b\b\b\b\b\b\b\b\b\b\b\b\b\b\b\b\b\b\b\b\b\b\b\b\b\b\r241/600 [===========>..................] - ETA: 0s - loss: 0.9331 - acc: 0.7502",
                "stream": "stdout"
              },
              {
                "output_type": "stream",
                "metadata": {
                  "tags": []
                },
                "text": "\b\b\b\b\b\b\b\b\b\b\b\b\b\b\b\b\b\b\b\b\b\b\b\b\b\b\b\b\b\b\b\b\b\b\b\b\b\b\b\b\b\b\b\b\b\b\b\b\b\b\b\b\b\b\b\b\b\b\b\b\b\b\b\b\b\b\b\b\b\b\b\b\b\b\b\b\b\b\b\r275/600 [============>.................] - ETA: 0s - loss: 0.9322 - acc: 0.7508",
                "stream": "stdout"
              },
              {
                "output_type": "stream",
                "metadata": {
                  "tags": []
                },
                "text": "\b\b\b\b\b\b\b\b\b\b\b\b\b\b\b\b\b\b\b\b\b\b\b\b\b\b\b\b\b\b\b\b\b\b\b\b\b\b\b\b\b\b\b\b\b\b\b\b\b\b\b\b\b\b\b\b\b\b\b\b\b\b\b\b\b\b\b\b\b\b\b\b\b\b\b\b\b\b\b\r312/600 [==============>...............] - ETA: 0s - loss: 0.9366 - acc: 0.7478",
                "stream": "stdout"
              },
              {
                "output_type": "stream",
                "metadata": {
                  "tags": []
                },
                "text": "\b\b\b\b\b\b\b\b\b\b\b\b\b\b\b\b\b\b\b\b\b\b\b\b\b\b\b\b\b\b\b\b\b\b\b\b\b\b\b\b\b\b\b\b\b\b\b\b\b\b\b\b\b\b\b\b\b\b\b\b\b\b\b\b\b\b\b\b\b\b\b\b\b\b\b\b\b\b\b\r349/600 [================>.............] - ETA: 0s - loss: 0.9443 - acc: 0.7421",
                "stream": "stdout"
              },
              {
                "output_type": "stream",
                "metadata": {
                  "tags": []
                },
                "text": "\b\b\b\b\b\b\b\b\b\b\b\b\b\b\b\b\b\b\b\b\b\b\b\b\b\b\b\b\b\b\b\b\b\b\b\b\b\b\b\b\b\b\b\b\b\b\b\b\b\b\b\b\b\b\b\b\b\b\b\b\b\b\b\b\b\b\b\b\b\b\b\b\b\b\b\b\b\b\b\r381/600 [==================>...........] - ETA: 0s - loss: 0.9472 - acc: 0.7399",
                "stream": "stdout"
              },
              {
                "output_type": "stream",
                "metadata": {
                  "tags": []
                },
                "text": "\b\b\b\b\b\b\b\b\b\b\b\b\b\b\b\b\b\b\b\b\b\b\b\b\b\b\b\b\b\b\b\b\b\b\b\b\b\b\b\b\b\b\b\b\b\b\b\b\b\b\b\b\b\b\b\b\b\b\b\b\b\b\b\b\b\b\b\b\b\b\b\b\b\b\b\b\b\b\b\r414/600 [===================>..........] - ETA: 0s - loss: 0.9451 - acc: 0.7419",
                "stream": "stdout"
              },
              {
                "output_type": "stream",
                "metadata": {
                  "tags": []
                },
                "text": "\b\b\b\b\b\b\b\b\b\b\b\b\b\b\b\b\b\b\b\b\b\b\b\b\b\b\b\b\b\b\b\b\b\b\b\b\b\b\b\b\b\b\b\b\b\b\b\b\b\b\b\b\b\b\b\b\b\b\b\b\b\b\b\b\b\b\b\b\b\b\b\b\b\b\b\b\b\b\b\r446/600 [=====================>........] - ETA: 0s - loss: 0.9444 - acc: 0.7432",
                "stream": "stdout"
              },
              {
                "output_type": "stream",
                "metadata": {
                  "tags": []
                },
                "text": "\b\b\b\b\b\b\b\b\b\b\b\b\b\b\b\b\b\b\b\b\b\b\b\b\b\b\b\b\b\b\b\b\b\b\b\b\b\b\b\b\b\b\b\b\b\b\b\b\b\b\b\b\b\b\b\b\b\b\b\b\b\b\b\b\b\b\b\b\b\b\b\b\b\b\b\b\b\b\b\r480/600 [=======================>......] - ETA: 0s - loss: 0.9461 - acc: 0.7413",
                "stream": "stdout"
              },
              {
                "output_type": "stream",
                "metadata": {
                  "tags": []
                },
                "text": "\b\b\b\b\b\b\b\b\b\b\b\b\b\b\b\b\b\b\b\b\b\b\b\b\b\b\b\b\b\b\b\b\b\b\b\b\b\b\b\b\b\b\b\b\b\b\b\b\b\b\b\b\b\b\b\b\b\b\b\b\b\b\b\b\b\b\b\b\b\b\b\b\b\b\b\b\b\b\b\r516/600 [========================>.....] - ETA: 0s - loss: 0.9496 - acc: 0.7384",
                "stream": "stdout"
              },
              {
                "output_type": "stream",
                "metadata": {
                  "tags": []
                },
                "text": "\b\b\b\b\b\b\b\b\b\b\b\b\b\b\b\b\b\b\b\b\b\b\b\b\b\b\b\b\b\b\b\b\b\b\b\b\b\b\b\b\b\b\b\b\b\b\b\b\b\b\b\b\b\b\b\b\b\b\b\b\b\b\b\b\b\b\b\b\b\b\b\b\b\b\b\b\b\b\b\r546/600 [==========================>...] - ETA: 0s - loss: 0.9495 - acc: 0.7386",
                "stream": "stdout"
              },
              {
                "output_type": "stream",
                "metadata": {
                  "tags": []
                },
                "text": "\b\b\b\b\b\b\b\b\b\b\b\b\b\b\b\b\b\b\b\b\b\b\b\b\b\b\b\b\b\b\b\b\b\b\b\b\b\b\b\b\b\b\b\b\b\b\b\b\b\b\b\b\b\b\b\b\b\b\b\b\b\b\b\b\b\b\b\b\b\b\b\b\b\b\b\b\b\b\b\r578/600 [===========================>..] - ETA: 0s - loss: 0.9478 - acc: 0.7394",
                "stream": "stdout"
              },
              {
                "output_type": "stream",
                "metadata": {
                  "tags": []
                },
                "text": "\b\b\b\b\b\b\b\b\b\b\b\b\b\b\b\b\b\b\b\b\b\b\b\b\b\b\b\b\b\b\b\b\b\b\b\b\b\b\b\b\b\b\b\b\b\b\b\b\b\b\b\b\b\b\b\b\b\b\b\b\b\b\b\b\b\b\b\b\b\b\b\b\b\b\b\b\b\b\b\r600/600 [==============================] - 1s 2ms/step - loss: 0.9477 - acc: 0.7400 - val_loss: 0.9234 - val_acc: 0.7613\n",
                "stream": "stdout"
              },
              {
                "output_type": "stream",
                "metadata": {
                  "tags": []
                },
                "text": "Epoch 27/30\n\r  1/600 [..............................] - ETA: 0s - loss: 0.8749 - acc: 0.7600",
                "stream": "stdout"
              },
              {
                "output_type": "stream",
                "metadata": {
                  "tags": []
                },
                "text": "\b\b\b\b\b\b\b\b\b\b\b\b\b\b\b\b\b\b\b\b\b\b\b\b\b\b\b\b\b\b\b\b\b\b\b\b\b\b\b\b\b\b\b\b\b\b\b\b\b\b\b\b\b\b\b\b\b\b\b\b\b\b\b\b\b\b\b\b\b\b\b\b\b\b\b\b\b\b\b\r 32/600 [>.............................] - ETA: 0s - loss: 0.9915 - acc: 0.7419",
                "stream": "stdout"
              },
              {
                "output_type": "stream",
                "metadata": {
                  "tags": []
                },
                "text": "\b\b\b\b\b\b\b\b\b\b\b\b\b\b\b\b\b\b\b\b\b\b\b\b\b\b\b\b\b\b\b\b\b\b\b\b\b\b\b\b\b\b\b\b\b\b\b\b\b\b\b\b\b\b\b\b\b\b\b\b\b\b\b\b\b\b\b\b\b\b\b\b\b\b\b\b\b\b\b\r 66/600 [==>...........................] - ETA: 0s - loss: 0.9741 - acc: 0.7471",
                "stream": "stdout"
              },
              {
                "output_type": "stream",
                "metadata": {
                  "tags": []
                },
                "text": "\b\b\b\b\b\b\b\b\b\b\b\b\b\b\b\b\b\b\b\b\b\b\b\b\b\b\b\b\b\b\b\b\b\b\b\b\b\b\b\b\b\b\b\b\b\b\b\b\b\b\b\b\b\b\b\b\b\b\b\b\b\b\b\b\b\b\b\b\b\b\b\b\b\b\b\b\b\b\b\r 99/600 [===>..........................] - ETA: 0s - loss: 0.9632 - acc: 0.7510",
                "stream": "stdout"
              },
              {
                "output_type": "stream",
                "metadata": {
                  "tags": []
                },
                "text": "\b\b\b\b\b\b\b\b\b\b\b\b\b\b\b\b\b\b\b\b\b\b\b\b\b\b\b\b\b\b\b\b\b\b\b\b\b\b\b\b\b\b\b\b\b\b\b\b\b\b\b\b\b\b\b\b\b\b\b\b\b\b\b\b\b\b\b\b\b\b\b\b\b\b\b\b\b\b\b\r130/600 [=====>........................] - ETA: 0s - loss: 0.9649 - acc: 0.7502",
                "stream": "stdout"
              },
              {
                "output_type": "stream",
                "metadata": {
                  "tags": []
                },
                "text": "\b\b\b\b\b\b\b\b\b\b\b\b\b\b\b\b\b\b\b\b\b\b\b\b\b\b\b\b\b\b\b\b\b\b\b\b\b\b\b\b\b\b\b\b\b\b\b\b\b\b\b\b\b\b\b\b\b\b\b\b\b\b\b\b\b\b\b\b\b\b\b\b\b\b\b\b\b\b\b\r160/600 [=======>......................] - ETA: 0s - loss: 0.9637 - acc: 0.7483",
                "stream": "stdout"
              },
              {
                "output_type": "stream",
                "metadata": {
                  "tags": []
                },
                "text": "\b\b\b\b\b\b\b\b\b\b\b\b\b\b\b\b\b\b\b\b\b\b\b\b\b\b\b\b\b\b\b\b\b\b\b\b\b\b\b\b\b\b\b\b\b\b\b\b\b\b\b\b\b\b\b\b\b\b\b\b\b\b\b\b\b\b\b\b\b\b\b\b\b\b\b\b\b\b\b\r194/600 [========>.....................] - ETA: 0s - loss: 0.9597 - acc: 0.7481",
                "stream": "stdout"
              },
              {
                "output_type": "stream",
                "metadata": {
                  "tags": []
                },
                "text": "\b\b\b\b\b\b\b\b\b\b\b\b\b\b\b\b\b\b\b\b\b\b\b\b\b\b\b\b\b\b\b\b\b\b\b\b\b\b\b\b\b\b\b\b\b\b\b\b\b\b\b\b\b\b\b\b\b\b\b\b\b\b\b\b\b\b\b\b\b\b\b\b\b\b\b\b\b\b\b\r229/600 [==========>...................] - ETA: 0s - loss: 0.9585 - acc: 0.7462",
                "stream": "stdout"
              },
              {
                "output_type": "stream",
                "metadata": {
                  "tags": []
                },
                "text": "\b\b\b\b\b\b\b\b\b\b\b\b\b\b\b\b\b\b\b\b\b\b\b\b\b\b\b\b\b\b\b\b\b\b\b\b\b\b\b\b\b\b\b\b\b\b\b\b\b\b\b\b\b\b\b\b\b\b\b\b\b\b\b\b\b\b\b\b\b\b\b\b\b\b\b\b\b\b\b\r263/600 [============>.................] - ETA: 0s - loss: 0.9548 - acc: 0.7473",
                "stream": "stdout"
              },
              {
                "output_type": "stream",
                "metadata": {
                  "tags": []
                },
                "text": "\b\b\b\b\b\b\b\b\b\b\b\b\b\b\b\b\b\b\b\b\b\b\b\b\b\b\b\b\b\b\b\b\b\b\b\b\b\b\b\b\b\b\b\b\b\b\b\b\b\b\b\b\b\b\b\b\b\b\b\b\b\b\b\b\b\b\b\b\b\b\b\b\b\b\b\b\b\b\b\r296/600 [=============>................] - ETA: 0s - loss: 0.9509 - acc: 0.7486",
                "stream": "stdout"
              },
              {
                "output_type": "stream",
                "metadata": {
                  "tags": []
                },
                "text": "\b\b\b\b\b\b\b\b\b\b\b\b\b\b\b\b\b\b\b\b\b\b\b\b\b\b\b\b\b\b\b\b\b\b\b\b\b\b\b\b\b\b\b\b\b\b\b\b\b\b\b\b\b\b\b\b\b\b\b\b\b\b\b\b\b\b\b\b\b\b\b\b\b\b\b\b\b\b\b\r327/600 [===============>..............] - ETA: 0s - loss: 0.9465 - acc: 0.7496",
                "stream": "stdout"
              },
              {
                "output_type": "stream",
                "metadata": {
                  "tags": []
                },
                "text": "\b\b\b\b\b\b\b\b\b\b\b\b\b\b\b\b\b\b\b\b\b\b\b\b\b\b\b\b\b\b\b\b\b\b\b\b\b\b\b\b\b\b\b\b\b\b\b\b\b\b\b\b\b\b\b\b\b\b\b\b\b\b\b\b\b\b\b\b\b\b\b\b\b\b\b\b\b\b\b\r358/600 [================>.............] - ETA: 0s - loss: 0.9452 - acc: 0.7492",
                "stream": "stdout"
              },
              {
                "output_type": "stream",
                "metadata": {
                  "tags": []
                },
                "text": "\b\b\b\b\b\b\b\b\b\b\b\b\b\b\b\b\b\b\b\b\b\b\b\b\b\b\b\b\b\b\b\b\b\b\b\b\b\b\b\b\b\b\b\b\b\b\b\b\b\b\b\b\b\b\b\b\b\b\b\b\b\b\b\b\b\b\b\b\b\b\b\b\b\b\b\b\b\b\b\r391/600 [==================>...........] - ETA: 0s - loss: 0.9434 - acc: 0.7491",
                "stream": "stdout"
              },
              {
                "output_type": "stream",
                "metadata": {
                  "tags": []
                },
                "text": "\b\b\b\b\b\b\b\b\b\b\b\b\b\b\b\b\b\b\b\b\b\b\b\b\b\b\b\b\b\b\b\b\b\b\b\b\b\b\b\b\b\b\b\b\b\b\b\b\b\b\b\b\b\b\b\b\b\b\b\b\b\b\b\b\b\b\b\b\b\b\b\b\b\b\b\b\b\b\b\r426/600 [====================>.........] - ETA: 0s - loss: 0.9433 - acc: 0.7491",
                "stream": "stdout"
              },
              {
                "output_type": "stream",
                "metadata": {
                  "tags": []
                },
                "text": "\b\b\b\b\b\b\b\b\b\b\b\b\b\b\b\b\b\b\b\b\b\b\b\b\b\b\b\b\b\b\b\b\b\b\b\b\b\b\b\b\b\b\b\b\b\b\b\b\b\b\b\b\b\b\b\b\b\b\b\b\b\b\b\b\b\b\b\b\b\b\b\b\b\b\b\b\b\b\b\r461/600 [======================>.......] - ETA: 0s - loss: 0.9398 - acc: 0.7503",
                "stream": "stdout"
              },
              {
                "output_type": "stream",
                "metadata": {
                  "tags": []
                },
                "text": "\b\b\b\b\b\b\b\b\b\b\b\b\b\b\b\b\b\b\b\b\b\b\b\b\b\b\b\b\b\b\b\b\b\b\b\b\b\b\b\b\b\b\b\b\b\b\b\b\b\b\b\b\b\b\b\b\b\b\b\b\b\b\b\b\b\b\b\b\b\b\b\b\b\b\b\b\b\b\b\r490/600 [=======================>......] - ETA: 0s - loss: 0.9385 - acc: 0.7510",
                "stream": "stdout"
              },
              {
                "output_type": "stream",
                "metadata": {
                  "tags": []
                },
                "text": "\b\b\b\b\b\b\b\b\b\b\b\b\b\b\b\b\b\b\b\b\b\b\b\b\b\b\b\b\b\b\b\b\b\b\b\b\b\b\b\b\b\b\b\b\b\b\b\b\b\b\b\b\b\b\b\b\b\b\b\b\b\b\b\b\b\b\b\b\b\b\b\b\b\b\b\b\b\b\b\r522/600 [=========================>....] - ETA: 0s - loss: 0.9358 - acc: 0.7518",
                "stream": "stdout"
              },
              {
                "output_type": "stream",
                "metadata": {
                  "tags": []
                },
                "text": "\b\b\b\b\b\b\b\b\b\b\b\b\b\b\b\b\b\b\b\b\b\b\b\b\b\b\b\b\b\b\b\b\b\b\b\b\b\b\b\b\b\b\b\b\b\b\b\b\b\b\b\b\b\b\b\b\b\b\b\b\b\b\b\b\b\b\b\b\b\b\b\b\b\b\b\b\b\b\b\r554/600 [==========================>...] - ETA: 0s - loss: 0.9336 - acc: 0.7528",
                "stream": "stdout"
              },
              {
                "output_type": "stream",
                "metadata": {
                  "tags": []
                },
                "text": "\b\b\b\b\b\b\b\b\b\b\b\b\b\b\b\b\b\b\b\b\b\b\b\b\b\b\b\b\b\b\b\b\b\b\b\b\b\b\b\b\b\b\b\b\b\b\b\b\b\b\b\b\b\b\b\b\b\b\b\b\b\b\b\b\b\b\b\b\b\b\b\b\b\b\b\b\b\b\b\r582/600 [============================>.] - ETA: 0s - loss: 0.9317 - acc: 0.7529",
                "stream": "stdout"
              },
              {
                "output_type": "stream",
                "metadata": {
                  "tags": []
                },
                "text": "\b\b\b\b\b\b\b\b\b\b\b\b\b\b\b\b\b\b\b\b\b\b\b\b\b\b\b\b\b\b\b\b\b\b\b\b\b\b\b\b\b\b\b\b\b\b\b\b\b\b\b\b\b\b\b\b\b\b\b\b\b\b\b\b\b\b\b\b\b\b\b\b\b\b\b\b\b\b\b\r600/600 [==============================] - 1s 2ms/step - loss: 0.9320 - acc: 0.7526 - val_loss: 0.9445 - val_acc: 0.7278\n",
                "stream": "stdout"
              },
              {
                "output_type": "stream",
                "metadata": {
                  "tags": []
                },
                "text": "Epoch 28/30\n\r  1/600 [..............................] - ETA: 0s - loss: 0.9535 - acc: 0.6900",
                "stream": "stdout"
              },
              {
                "output_type": "stream",
                "metadata": {
                  "tags": []
                },
                "text": "\b\b\b\b\b\b\b\b\b\b\b\b\b\b\b\b\b\b\b\b\b\b\b\b\b\b\b\b\b\b\b\b\b\b\b\b\b\b\b\b\b\b\b\b\b\b\b\b\b\b\b\b\b\b\b\b\b\b\b\b\b\b\b\b\b\b\b\b\b\b\b\b\b\b\b\b\b\b\b\r 32/600 [>.............................] - ETA: 0s - loss: 0.9387 - acc: 0.7441",
                "stream": "stdout"
              },
              {
                "output_type": "stream",
                "metadata": {
                  "tags": []
                },
                "text": "\b\b\b\b\b\b\b\b\b\b\b\b\b\b\b\b\b\b\b\b\b\b\b\b\b\b\b\b\b\b\b\b\b\b\b\b\b\b\b\b\b\b\b\b\b\b\b\b\b\b\b\b\b\b\b\b\b\b\b\b\b\b\b\b\b\b\b\b\b\b\b\b\b\b\b\b\b\b\b\r 64/600 [==>...........................] - ETA: 0s - loss: 0.9512 - acc: 0.7416",
                "stream": "stdout"
              },
              {
                "output_type": "stream",
                "metadata": {
                  "tags": []
                },
                "text": "\b\b\b\b\b\b\b\b\b\b\b\b\b\b\b\b\b\b\b\b\b\b\b\b\b\b\b\b\b\b\b\b\b\b\b\b\b\b\b\b\b\b\b\b\b\b\b\b\b\b\b\b\b\b\b\b\b\b\b\b\b\b\b\b\b\b\b\b\b\b\b\b\b\b\b\b\b\b\b\r 95/600 [===>..........................] - ETA: 0s - loss: 0.9542 - acc: 0.7429",
                "stream": "stdout"
              },
              {
                "output_type": "stream",
                "metadata": {
                  "tags": []
                },
                "text": "\b\b\b\b\b\b\b\b\b\b\b\b\b\b\b\b\b\b\b\b\b\b\b\b\b\b\b\b\b\b\b\b\b\b\b\b\b\b\b\b\b\b\b\b\b\b\b\b\b\b\b\b\b\b\b\b\b\b\b\b\b\b\b\b\b\b\b\b\b\b\b\b\b\b\b\b\b\b\b\r128/600 [=====>........................] - ETA: 0s - loss: 0.9407 - acc: 0.7486",
                "stream": "stdout"
              },
              {
                "output_type": "stream",
                "metadata": {
                  "tags": []
                },
                "text": "\b\b\b\b\b\b\b\b\b\b\b\b\b\b\b\b\b\b\b\b\b\b\b\b\b\b\b\b\b\b\b\b\b\b\b\b\b\b\b\b\b\b\b\b\b\b\b\b\b\b\b\b\b\b\b\b\b\b\b\b\b\b\b\b\b\b\b\b\b\b\b\b\b\b\b\b\b\b\b\r162/600 [=======>......................] - ETA: 0s - loss: 0.9381 - acc: 0.7520",
                "stream": "stdout"
              },
              {
                "output_type": "stream",
                "metadata": {
                  "tags": []
                },
                "text": "\b\b\b\b\b\b\b\b\b\b\b\b\b\b\b\b\b\b\b\b\b\b\b\b\b\b\b\b\b\b\b\b\b\b\b\b\b\b\b\b\b\b\b\b\b\b\b\b\b\b\b\b\b\b\b\b\b\b\b\b\b\b\b\b\b\b\b\b\b\b\b\b\b\b\b\b\b\b\b\r197/600 [========>.....................] - ETA: 0s - loss: 0.9308 - acc: 0.7554",
                "stream": "stdout"
              },
              {
                "output_type": "stream",
                "metadata": {
                  "tags": []
                },
                "text": "\b\b\b\b\b\b\b\b\b\b\b\b\b\b\b\b\b\b\b\b\b\b\b\b\b\b\b\b\b\b\b\b\b\b\b\b\b\b\b\b\b\b\b\b\b\b\b\b\b\b\b\b\b\b\b\b\b\b\b\b\b\b\b\b\b\b\b\b\b\b\b\b\b\b\b\b\b\b\b\r234/600 [==========>...................] - ETA: 0s - loss: 0.9289 - acc: 0.7567",
                "stream": "stdout"
              },
              {
                "output_type": "stream",
                "metadata": {
                  "tags": []
                },
                "text": "\b\b\b\b\b\b\b\b\b\b\b\b\b\b\b\b\b\b\b\b\b\b\b\b\b\b\b\b\b\b\b\b\b\b\b\b\b\b\b\b\b\b\b\b\b\b\b\b\b\b\b\b\b\b\b\b\b\b\b\b\b\b\b\b\b\b\b\b\b\b\b\b\b\b\b\b\b\b\b\r269/600 [============>.................] - ETA: 0s - loss: 0.9282 - acc: 0.7577",
                "stream": "stdout"
              },
              {
                "output_type": "stream",
                "metadata": {
                  "tags": []
                },
                "text": "\b\b\b\b\b\b\b\b\b\b\b\b\b\b\b\b\b\b\b\b\b\b\b\b\b\b\b\b\b\b\b\b\b\b\b\b\b\b\b\b\b\b\b\b\b\b\b\b\b\b\b\b\b\b\b\b\b\b\b\b\b\b\b\b\b\b\b\b\b\b\b\b\b\b\b\b\b\b\b\r301/600 [==============>...............] - ETA: 0s - loss: 0.9316 - acc: 0.7553",
                "stream": "stdout"
              },
              {
                "output_type": "stream",
                "metadata": {
                  "tags": []
                },
                "text": "\b\b\b\b\b\b\b\b\b\b\b\b\b\b\b\b\b\b\b\b\b\b\b\b\b\b\b\b\b\b\b\b\b\b\b\b\b\b\b\b\b\b\b\b\b\b\b\b\b\b\b\b\b\b\b\b\b\b\b\b\b\b\b\b\b\b\b\b\b\b\b\b\b\b\b\b\b\b\b\r333/600 [===============>..............] - ETA: 0s - loss: 0.9356 - acc: 0.7540",
                "stream": "stdout"
              },
              {
                "output_type": "stream",
                "metadata": {
                  "tags": []
                },
                "text": "\b\b\b\b\b\b\b\b\b\b\b\b\b\b\b\b\b\b\b\b\b\b\b\b\b\b\b\b\b\b\b\b\b\b\b\b\b\b\b\b\b\b\b\b\b\b\b\b\b\b\b\b\b\b\b\b\b\b\b\b\b\b\b\b\b\b\b\b\b\b\b\b\b\b\b\b\b\b\b\r367/600 [=================>............] - ETA: 0s - loss: 0.9370 - acc: 0.7515",
                "stream": "stdout"
              },
              {
                "output_type": "stream",
                "metadata": {
                  "tags": []
                },
                "text": "\b\b\b\b\b\b\b\b\b\b\b\b\b\b\b\b\b\b\b\b\b\b\b\b\b\b\b\b\b\b\b\b\b\b\b\b\b\b\b\b\b\b\b\b\b\b\b\b\b\b\b\b\b\b\b\b\b\b\b\b\b\b\b\b\b\b\b\b\b\b\b\b\b\b\b\b\b\b\b\r400/600 [===================>..........] - ETA: 0s - loss: 0.9379 - acc: 0.7512",
                "stream": "stdout"
              },
              {
                "output_type": "stream",
                "metadata": {
                  "tags": []
                },
                "text": "\b\b\b\b\b\b\b\b\b\b\b\b\b\b\b\b\b\b\b\b\b\b\b\b\b\b\b\b\b\b\b\b\b\b\b\b\b\b\b\b\b\b\b\b\b\b\b\b\b\b\b\b\b\b\b\b\b\b\b\b\b\b\b\b\b\b\b\b\b\b\b\b\b\b\b\b\b\b\b\r432/600 [====================>.........] - ETA: 0s - loss: 0.9366 - acc: 0.7498",
                "stream": "stdout"
              },
              {
                "output_type": "stream",
                "metadata": {
                  "tags": []
                },
                "text": "\b\b\b\b\b\b\b\b\b\b\b\b\b\b\b\b\b\b\b\b\b\b\b\b\b\b\b\b\b\b\b\b\b\b\b\b\b\b\b\b\b\b\b\b\b\b\b\b\b\b\b\b\b\b\b\b\b\b\b\b\b\b\b\b\b\b\b\b\b\b\b\b\b\b\b\b\b\b\b\r461/600 [======================>.......] - ETA: 0s - loss: 0.9354 - acc: 0.7500",
                "stream": "stdout"
              },
              {
                "output_type": "stream",
                "metadata": {
                  "tags": []
                },
                "text": "\b\b\b\b\b\b\b\b\b\b\b\b\b\b\b\b\b\b\b\b\b\b\b\b\b\b\b\b\b\b\b\b\b\b\b\b\b\b\b\b\b\b\b\b\b\b\b\b\b\b\b\b\b\b\b\b\b\b\b\b\b\b\b\b\b\b\b\b\b\b\b\b\b\b\b\b\b\b\b\r493/600 [=======================>......] - ETA: 0s - loss: 0.9348 - acc: 0.7492",
                "stream": "stdout"
              },
              {
                "output_type": "stream",
                "metadata": {
                  "tags": []
                },
                "text": "\b\b\b\b\b\b\b\b\b\b\b\b\b\b\b\b\b\b\b\b\b\b\b\b\b\b\b\b\b\b\b\b\b\b\b\b\b\b\b\b\b\b\b\b\b\b\b\b\b\b\b\b\b\b\b\b\b\b\b\b\b\b\b\b\b\b\b\b\b\b\b\b\b\b\b\b\b\b\b\r526/600 [=========================>....] - ETA: 0s - loss: 0.9344 - acc: 0.7485",
                "stream": "stdout"
              },
              {
                "output_type": "stream",
                "metadata": {
                  "tags": []
                },
                "text": "\b\b\b\b\b\b\b\b\b\b\b\b\b\b\b\b\b\b\b\b\b\b\b\b\b\b\b\b\b\b\b\b\b\b\b\b\b\b\b\b\b\b\b\b\b\b\b\b\b\b\b\b\b\b\b\b\b\b\b\b\b\b\b\b\b\b\b\b\b\b\b\b\b\b\b\b\b\b\b\r562/600 [===========================>..] - ETA: 0s - loss: 0.9329 - acc: 0.7477",
                "stream": "stdout"
              },
              {
                "output_type": "stream",
                "metadata": {
                  "tags": []
                },
                "text": "\b\b\b\b\b\b\b\b\b\b\b\b\b\b\b\b\b\b\b\b\b\b\b\b\b\b\b\b\b\b\b\b\b\b\b\b\b\b\b\b\b\b\b\b\b\b\b\b\b\b\b\b\b\b\b\b\b\b\b\b\b\b\b\b\b\b\b\b\b\b\b\b\b\b\b\b\b\b\b\r594/600 [============================>.] - ETA: 0s - loss: 0.9316 - acc: 0.7471",
                "stream": "stdout"
              },
              {
                "output_type": "stream",
                "metadata": {
                  "tags": []
                },
                "text": "\b\b\b\b\b\b\b\b\b\b\b\b\b\b\b\b\b\b\b\b\b\b\b\b\b\b\b\b\b\b\b\b\b\b\b\b\b\b\b\b\b\b\b\b\b\b\b\b\b\b\b\b\b\b\b\b\b\b\b\b\b\b\b\b\b\b\b\b\b\b\b\b\b\b\b\b\b\b\b\r600/600 [==============================] - 1s 2ms/step - loss: 0.9320 - acc: 0.7467 - val_loss: 0.9373 - val_acc: 0.7324\n",
                "stream": "stdout"
              },
              {
                "output_type": "stream",
                "metadata": {
                  "tags": []
                },
                "text": "Epoch 29/30\n\r  1/600 [..............................] - ETA: 0s - loss: 0.9939 - acc: 0.7500",
                "stream": "stdout"
              },
              {
                "output_type": "stream",
                "metadata": {
                  "tags": []
                },
                "text": "\b\b\b\b\b\b\b\b\b\b\b\b\b\b\b\b\b\b\b\b\b\b\b\b\b\b\b\b\b\b\b\b\b\b\b\b\b\b\b\b\b\b\b\b\b\b\b\b\b\b\b\b\b\b\b\b\b\b\b\b\b\b\b\b\b\b\b\b\b\b\b\b\b\b\b\b\b\b\b\r 35/600 [>.............................] - ETA: 0s - loss: 0.9194 - acc: 0.7454",
                "stream": "stdout"
              },
              {
                "output_type": "stream",
                "metadata": {
                  "tags": []
                },
                "text": "\b\b\b\b\b\b\b\b\b\b\b\b\b\b\b\b\b\b\b\b\b\b\b\b\b\b\b\b\b\b\b\b\b\b\b\b\b\b\b\b\b\b\b\b\b\b\b\b\b\b\b\b\b\b\b\b\b\b\b\b\b\b\b\b\b\b\b\b\b\b\b\b\b\b\b\b\b\b\b\r 71/600 [==>...........................] - ETA: 0s - loss: 0.9267 - acc: 0.7362",
                "stream": "stdout"
              },
              {
                "output_type": "stream",
                "metadata": {
                  "tags": []
                },
                "text": "\b\b\b\b\b\b\b\b\b\b\b\b\b\b\b\b\b\b\b\b\b\b\b\b\b\b\b\b\b\b\b\b\b\b\b\b\b\b\b\b\b\b\b\b\b\b\b\b\b\b\b\b\b\b\b\b\b\b\b\b\b\b\b\b\b\b\b\b\b\b\b\b\b\b\b\b\b\b\b\r106/600 [====>.........................] - ETA: 0s - loss: 0.9193 - acc: 0.7393",
                "stream": "stdout"
              },
              {
                "output_type": "stream",
                "metadata": {
                  "tags": []
                },
                "text": "\b\b\b\b\b\b\b\b\b\b\b\b\b\b\b\b\b\b\b\b\b\b\b\b\b\b\b\b\b\b\b\b\b\b\b\b\b\b\b\b\b\b\b\b\b\b\b\b\b\b\b\b\b\b\b\b\b\b\b\b\b\b\b\b\b\b\b\b\b\b\b\b\b\b\b\b\b\b\b\r142/600 [======>.......................] - ETA: 0s - loss: 0.9180 - acc: 0.7400",
                "stream": "stdout"
              },
              {
                "output_type": "stream",
                "metadata": {
                  "tags": []
                },
                "text": "\b\b\b\b\b\b\b\b\b\b\b\b\b\b\b\b\b\b\b\b\b\b\b\b\b\b\b\b\b\b\b\b\b\b\b\b\b\b\b\b\b\b\b\b\b\b\b\b\b\b\b\b\b\b\b\b\b\b\b\b\b\b\b\b\b\b\b\b\b\b\b\b\b\b\b\b\b\b\b\r179/600 [=======>......................] - ETA: 0s - loss: 0.9146 - acc: 0.7439",
                "stream": "stdout"
              },
              {
                "output_type": "stream",
                "metadata": {
                  "tags": []
                },
                "text": "\b\b\b\b\b\b\b\b\b\b\b\b\b\b\b\b\b\b\b\b\b\b\b\b\b\b\b\b\b\b\b\b\b\b\b\b\b\b\b\b\b\b\b\b\b\b\b\b\b\b\b\b\b\b\b\b\b\b\b\b\b\b\b\b\b\b\b\b\b\b\b\b\b\b\b\b\b\b\b\r216/600 [=========>....................] - ETA: 0s - loss: 0.9096 - acc: 0.7472",
                "stream": "stdout"
              },
              {
                "output_type": "stream",
                "metadata": {
                  "tags": []
                },
                "text": "\b\b\b\b\b\b\b\b\b\b\b\b\b\b\b\b\b\b\b\b\b\b\b\b\b\b\b\b\b\b\b\b\b\b\b\b\b\b\b\b\b\b\b\b\b\b\b\b\b\b\b\b\b\b\b\b\b\b\b\b\b\b\b\b\b\b\b\b\b\b\b\b\b\b\b\b\b\b\b\r252/600 [===========>..................] - ETA: 0s - loss: 0.9068 - acc: 0.7497",
                "stream": "stdout"
              },
              {
                "output_type": "stream",
                "metadata": {
                  "tags": []
                },
                "text": "\b\b\b\b\b\b\b\b\b\b\b\b\b\b\b\b\b\b\b\b\b\b\b\b\b\b\b\b\b\b\b\b\b\b\b\b\b\b\b\b\b\b\b\b\b\b\b\b\b\b\b\b\b\b\b\b\b\b\b\b\b\b\b\b\b\b\b\b\b\b\b\b\b\b\b\b\b\b\b\r285/600 [=============>................] - ETA: 0s - loss: 0.9059 - acc: 0.7514",
                "stream": "stdout"
              },
              {
                "output_type": "stream",
                "metadata": {
                  "tags": []
                },
                "text": "\b\b\b\b\b\b\b\b\b\b\b\b\b\b\b\b\b\b\b\b\b\b\b\b\b\b\b\b\b\b\b\b\b\b\b\b\b\b\b\b\b\b\b\b\b\b\b\b\b\b\b\b\b\b\b\b\b\b\b\b\b\b\b\b\b\b\b\b\b\b\b\b\b\b\b\b\b\b\b\r316/600 [==============>...............] - ETA: 0s - loss: 0.9053 - acc: 0.7524",
                "stream": "stdout"
              },
              {
                "output_type": "stream",
                "metadata": {
                  "tags": []
                },
                "text": "\b\b\b\b\b\b\b\b\b\b\b\b\b\b\b\b\b\b\b\b\b\b\b\b\b\b\b\b\b\b\b\b\b\b\b\b\b\b\b\b\b\b\b\b\b\b\b\b\b\b\b\b\b\b\b\b\b\b\b\b\b\b\b\b\b\b\b\b\b\b\b\b\b\b\b\b\b\b\b\r352/600 [================>.............] - ETA: 0s - loss: 0.9076 - acc: 0.7521",
                "stream": "stdout"
              },
              {
                "output_type": "stream",
                "metadata": {
                  "tags": []
                },
                "text": "\b\b\b\b\b\b\b\b\b\b\b\b\b\b\b\b\b\b\b\b\b\b\b\b\b\b\b\b\b\b\b\b\b\b\b\b\b\b\b\b\b\b\b\b\b\b\b\b\b\b\b\b\b\b\b\b\b\b\b\b\b\b\b\b\b\b\b\b\b\b\b\b\b\b\b\b\b\b\b\r388/600 [==================>...........] - ETA: 0s - loss: 0.9094 - acc: 0.7512",
                "stream": "stdout"
              },
              {
                "output_type": "stream",
                "metadata": {
                  "tags": []
                },
                "text": "\b\b\b\b\b\b\b\b\b\b\b\b\b\b\b\b\b\b\b\b\b\b\b\b\b\b\b\b\b\b\b\b\b\b\b\b\b\b\b\b\b\b\b\b\b\b\b\b\b\b\b\b\b\b\b\b\b\b\b\b\b\b\b\b\b\b\b\b\b\b\b\b\b\b\b\b\b\b\b\r425/600 [====================>.........] - ETA: 0s - loss: 0.9087 - acc: 0.7504",
                "stream": "stdout"
              },
              {
                "output_type": "stream",
                "metadata": {
                  "tags": []
                },
                "text": "\b\b\b\b\b\b\b\b\b\b\b\b\b\b\b\b\b\b\b\b\b\b\b\b\b\b\b\b\b\b\b\b\b\b\b\b\b\b\b\b\b\b\b\b\b\b\b\b\b\b\b\b\b\b\b\b\b\b\b\b\b\b\b\b\b\b\b\b\b\b\b\b\b\b\b\b\b\b\b\r460/600 [======================>.......] - ETA: 0s - loss: 0.9090 - acc: 0.7491",
                "stream": "stdout"
              },
              {
                "output_type": "stream",
                "metadata": {
                  "tags": []
                },
                "text": "\b\b\b\b\b\b\b\b\b\b\b\b\b\b\b\b\b\b\b\b\b\b\b\b\b\b\b\b\b\b\b\b\b\b\b\b\b\b\b\b\b\b\b\b\b\b\b\b\b\b\b\b\b\b\b\b\b\b\b\b\b\b\b\b\b\b\b\b\b\b\b\b\b\b\b\b\b\b\b\r495/600 [=======================>......] - ETA: 0s - loss: 0.9097 - acc: 0.7486",
                "stream": "stdout"
              },
              {
                "output_type": "stream",
                "metadata": {
                  "tags": []
                },
                "text": "\b\b\b\b\b\b\b\b\b\b\b\b\b\b\b\b\b\b\b\b\b\b\b\b\b\b\b\b\b\b\b\b\b\b\b\b\b\b\b\b\b\b\b\b\b\b\b\b\b\b\b\b\b\b\b\b\b\b\b\b\b\b\b\b\b\b\b\b\b\b\b\b\b\b\b\b\b\b\b\r524/600 [=========================>....] - ETA: 0s - loss: 0.9091 - acc: 0.7491",
                "stream": "stdout"
              },
              {
                "output_type": "stream",
                "metadata": {
                  "tags": []
                },
                "text": "\b\b\b\b\b\b\b\b\b\b\b\b\b\b\b\b\b\b\b\b\b\b\b\b\b\b\b\b\b\b\b\b\b\b\b\b\b\b\b\b\b\b\b\b\b\b\b\b\b\b\b\b\b\b\b\b\b\b\b\b\b\b\b\b\b\b\b\b\b\b\b\b\b\b\b\b\b\b\b\r560/600 [===========================>..] - ETA: 0s - loss: 0.9091 - acc: 0.7491",
                "stream": "stdout"
              },
              {
                "output_type": "stream",
                "metadata": {
                  "tags": []
                },
                "text": "\b\b\b\b\b\b\b\b\b\b\b\b\b\b\b\b\b\b\b\b\b\b\b\b\b\b\b\b\b\b\b\b\b\b\b\b\b\b\b\b\b\b\b\b\b\b\b\b\b\b\b\b\b\b\b\b\b\b\b\b\b\b\b\b\b\b\b\b\b\b\b\b\b\b\b\b\b\b\b\r596/600 [============================>.] - ETA: 0s - loss: 0.9081 - acc: 0.7493",
                "stream": "stdout"
              },
              {
                "output_type": "stream",
                "metadata": {
                  "tags": []
                },
                "text": "\b\b\b\b\b\b\b\b\b\b\b\b\b\b\b\b\b\b\b\b\b\b\b\b\b\b\b\b\b\b\b\b\b\b\b\b\b\b\b\b\b\b\b\b\b\b\b\b\b\b\b\b\b\b\b\b\b\b\b\b\b\b\b\b\b\b\b\b\b\b\b\b\b\b\b\b\b\b\b\r600/600 [==============================] - 1s 2ms/step - loss: 0.9082 - acc: 0.7495 - val_loss: 0.8799 - val_acc: 0.7569\n",
                "stream": "stdout"
              },
              {
                "output_type": "stream",
                "metadata": {
                  "tags": []
                },
                "text": "Epoch 30/30\n\r  1/600 [..............................] - ETA: 0s - loss: 0.9138 - acc: 0.7300",
                "stream": "stdout"
              },
              {
                "output_type": "stream",
                "metadata": {
                  "tags": []
                },
                "text": "\b\b\b\b\b\b\b\b\b\b\b\b\b\b\b\b\b\b\b\b\b\b\b\b\b\b\b\b\b\b\b\b\b\b\b\b\b\b\b\b\b\b\b\b\b\b\b\b\b\b\b\b\b\b\b\b\b\b\b\b\b\b\b\b\b\b\b\b\b\b\b\b\b\b\b\b\b\b\b\r 31/600 [>.............................] - ETA: 0s - loss: 0.9124 - acc: 0.7345",
                "stream": "stdout"
              },
              {
                "output_type": "stream",
                "metadata": {
                  "tags": []
                },
                "text": "\b\b\b\b\b\b\b\b\b\b\b\b\b\b\b\b\b\b\b\b\b\b\b\b\b\b\b\b\b\b\b\b\b\b\b\b\b\b\b\b\b\b\b\b\b\b\b\b\b\b\b\b\b\b\b\b\b\b\b\b\b\b\b\b\b\b\b\b\b\b\b\b\b\b\b\b\b\b\b\r 65/600 [==>...........................] - ETA: 0s - loss: 0.9076 - acc: 0.7434",
                "stream": "stdout"
              },
              {
                "output_type": "stream",
                "metadata": {
                  "tags": []
                },
                "text": "\b\b\b\b\b\b\b\b\b\b\b\b\b\b\b\b\b\b\b\b\b\b\b\b\b\b\b\b\b\b\b\b\b\b\b\b\b\b\b\b\b\b\b\b\b\b\b\b\b\b\b\b\b\b\b\b\b\b\b\b\b\b\b\b\b\b\b\b\b\b\b\b\b\b\b\b\b\b\b\r100/600 [====>.........................] - ETA: 0s - loss: 0.9064 - acc: 0.7448",
                "stream": "stdout"
              },
              {
                "output_type": "stream",
                "metadata": {
                  "tags": []
                },
                "text": "\b\b\b\b\b\b\b\b\b\b\b\b\b\b\b\b\b\b\b\b\b\b\b\b\b\b\b\b\b\b\b\b\b\b\b\b\b\b\b\b\b\b\b\b\b\b\b\b\b\b\b\b\b\b\b\b\b\b\b\b\b\b\b\b\b\b\b\b\b\b\b\b\b\b\b\b\b\b\b\r135/600 [=====>........................] - ETA: 0s - loss: 0.9103 - acc: 0.7439",
                "stream": "stdout"
              },
              {
                "output_type": "stream",
                "metadata": {
                  "tags": []
                },
                "text": "\b\b\b\b\b\b\b\b\b\b\b\b\b\b\b\b\b\b\b\b\b\b\b\b\b\b\b\b\b\b\b\b\b\b\b\b\b\b\b\b\b\b\b\b\b\b\b\b\b\b\b\b\b\b\b\b\b\b\b\b\b\b\b\b\b\b\b\b\b\b\b\b\b\b\b\b\b\b\b\r167/600 [=======>......................] - ETA: 0s - loss: 0.9032 - acc: 0.7490",
                "stream": "stdout"
              },
              {
                "output_type": "stream",
                "metadata": {
                  "tags": []
                },
                "text": "\b\b\b\b\b\b\b\b\b\b\b\b\b\b\b\b\b\b\b\b\b\b\b\b\b\b\b\b\b\b\b\b\b\b\b\b\b\b\b\b\b\b\b\b\b\b\b\b\b\b\b\b\b\b\b\b\b\b\b\b\b\b\b\b\b\b\b\b\b\b\b\b\b\b\b\b\b\b\b\r201/600 [=========>....................] - ETA: 0s - loss: 0.9008 - acc: 0.7506",
                "stream": "stdout"
              },
              {
                "output_type": "stream",
                "metadata": {
                  "tags": []
                },
                "text": "\b\b\b\b\b\b\b\b\b\b\b\b\b\b\b\b\b\b\b\b\b\b\b\b\b\b\b\b\b\b\b\b\b\b\b\b\b\b\b\b\b\b\b\b\b\b\b\b\b\b\b\b\b\b\b\b\b\b\b\b\b\b\b\b\b\b\b\b\b\b\b\b\b\b\b\b\b\b\b\r236/600 [==========>...................] - ETA: 0s - loss: 0.9014 - acc: 0.7495",
                "stream": "stdout"
              },
              {
                "output_type": "stream",
                "metadata": {
                  "tags": []
                },
                "text": "\b\b\b\b\b\b\b\b\b\b\b\b\b\b\b\b\b\b\b\b\b\b\b\b\b\b\b\b\b\b\b\b\b\b\b\b\b\b\b\b\b\b\b\b\b\b\b\b\b\b\b\b\b\b\b\b\b\b\b\b\b\b\b\b\b\b\b\b\b\b\b\b\b\b\b\b\b\b\b\r271/600 [============>.................] - ETA: 0s - loss: 0.9018 - acc: 0.7496",
                "stream": "stdout"
              },
              {
                "output_type": "stream",
                "metadata": {
                  "tags": []
                },
                "text": "\b\b\b\b\b\b\b\b\b\b\b\b\b\b\b\b\b\b\b\b\b\b\b\b\b\b\b\b\b\b\b\b\b\b\b\b\b\b\b\b\b\b\b\b\b\b\b\b\b\b\b\b\b\b\b\b\b\b\b\b\b\b\b\b\b\b\b\b\b\b\b\b\b\b\b\b\b\b\b\r303/600 [==============>...............] - ETA: 0s - loss: 0.9008 - acc: 0.7501",
                "stream": "stdout"
              },
              {
                "output_type": "stream",
                "metadata": {
                  "tags": []
                },
                "text": "\b\b\b\b\b\b\b\b\b\b\b\b\b\b\b\b\b\b\b\b\b\b\b\b\b\b\b\b\b\b\b\b\b\b\b\b\b\b\b\b\b\b\b\b\b\b\b\b\b\b\b\b\b\b\b\b\b\b\b\b\b\b\b\b\b\b\b\b\b\b\b\b\b\b\b\b\b\b\b\r339/600 [===============>..............] - ETA: 0s - loss: 0.8992 - acc: 0.7515",
                "stream": "stdout"
              },
              {
                "output_type": "stream",
                "metadata": {
                  "tags": []
                },
                "text": "\b\b\b\b\b\b\b\b\b\b\b\b\b\b\b\b\b\b\b\b\b\b\b\b\b\b\b\b\b\b\b\b\b\b\b\b\b\b\b\b\b\b\b\b\b\b\b\b\b\b\b\b\b\b\b\b\b\b\b\b\b\b\b\b\b\b\b\b\b\b\b\b\b\b\b\b\b\b\b\r373/600 [=================>............] - ETA: 0s - loss: 0.9006 - acc: 0.7515",
                "stream": "stdout"
              },
              {
                "output_type": "stream",
                "metadata": {
                  "tags": []
                },
                "text": "\b\b\b\b\b\b\b\b\b\b\b\b\b\b\b\b\b\b\b\b\b\b\b\b\b\b\b\b\b\b\b\b\b\b\b\b\b\b\b\b\b\b\b\b\b\b\b\b\b\b\b\b\b\b\b\b\b\b\b\b\b\b\b\b\b\b\b\b\b\b\b\b\b\b\b\b\b\b\b\r409/600 [===================>..........] - ETA: 0s - loss: 0.9003 - acc: 0.7509",
                "stream": "stdout"
              },
              {
                "output_type": "stream",
                "metadata": {
                  "tags": []
                },
                "text": "\b\b\b\b\b\b\b\b\b\b\b\b\b\b\b\b\b\b\b\b\b\b\b\b\b\b\b\b\b\b\b\b\b\b\b\b\b\b\b\b\b\b\b\b\b\b\b\b\b\b\b\b\b\b\b\b\b\b\b\b\b\b\b\b\b\b\b\b\b\b\b\b\b\b\b\b\b\b\b\r446/600 [=====================>........] - ETA: 0s - loss: 0.9028 - acc: 0.7507",
                "stream": "stdout"
              },
              {
                "output_type": "stream",
                "metadata": {
                  "tags": []
                },
                "text": "\b\b\b\b\b\b\b\b\b\b\b\b\b\b\b\b\b\b\b\b\b\b\b\b\b\b\b\b\b\b\b\b\b\b\b\b\b\b\b\b\b\b\b\b\b\b\b\b\b\b\b\b\b\b\b\b\b\b\b\b\b\b\b\b\b\b\b\b\b\b\b\b\b\b\b\b\b\b\b\r480/600 [=======================>......] - ETA: 0s - loss: 0.9052 - acc: 0.7489",
                "stream": "stdout"
              },
              {
                "output_type": "stream",
                "metadata": {
                  "tags": []
                },
                "text": "\b\b\b\b\b\b\b\b\b\b\b\b\b\b\b\b\b\b\b\b\b\b\b\b\b\b\b\b\b\b\b\b\b\b\b\b\b\b\b\b\b\b\b\b\b\b\b\b\b\b\b\b\b\b\b\b\b\b\b\b\b\b\b\b\b\b\b\b\b\b\b\b\b\b\b\b\b\b\b\r511/600 [========================>.....]",
                "stream": "stdout"
              },
              {
                "output_type": "stream",
                "metadata": {
                  "tags": []
                },
                "text": " - ETA: 0s - loss: 0.9050 - acc: 0.7492",
                "stream": "stdout"
              },
              {
                "output_type": "stream",
                "metadata": {
                  "tags": []
                },
                "text": "\b\b\b\b\b\b\b\b\b\b\b\b\b\b\b\b\b\b\b\b\b\b\b\b\b\b\b\b\b\b\b\b\b\b\b\b\b\b\b\b\b\b\b\b\b\b\b\b\b\b\b\b\b\b\b\b\b\b\b\b\b\b\b\b\b\b\b\b\b\b\b\b\b\b\b\b\b\b\b\r540/600 [==========================>...] - ETA: 0s - loss: 0.9053 - acc: 0.7494",
                "stream": "stdout"
              },
              {
                "output_type": "stream",
                "metadata": {
                  "tags": []
                },
                "text": "\b\b\b\b\b\b\b\b\b\b\b\b\b\b\b\b\b\b\b\b\b\b\b\b\b\b\b\b\b\b\b\b\b\b\b\b\b\b\b\b\b\b\b\b\b\b\b\b\b\b\b\b\b\b\b\b\b\b\b\b\b\b\b\b\b\b\b\b\b\b\b\b\b\b\b\b\b\b\b\r576/600 [===========================>..] - ETA: 0s - loss: 0.9050 - acc: 0.7502",
                "stream": "stdout"
              },
              {
                "output_type": "stream",
                "metadata": {
                  "tags": []
                },
                "text": "\b\b\b\b\b\b\b\b\b\b\b\b\b\b\b\b\b\b\b\b\b\b\b\b\b\b\b\b\b\b\b\b\b\b\b\b\b\b\b\b\b\b\b\b\b\b\b\b\b\b\b\b\b\b\b\b\b\b\b\b\b\b\b\b\b\b\b\b\b\b\b\b\b\b\b\b\b\b\b\r600/600 [==============================] - 1s 2ms/step - loss: 0.9051 - acc: 0.7507 - val_loss: 0.8843 - val_acc: 0.7597\n",
                "stream": "stdout"
              },
              {
                "output_type": "stream",
                "metadata": {
                  "tags": []
                },
                "text": "Accuracy:  0.7597000002861023\n",
                "stream": "stdout"
              },
              {
                "output_type": "display_data",
                "metadata": {
                  "tags": [],
                  "needs_background": "light"
                },
                "image/png": "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\n",
                "text/plain": "<Figure size 432x288 with 1 Axes>"
              },
              {
                "output_type": "display_data",
                "metadata": {
                  "tags": [],
                  "needs_background": "light"
                },
                "image/png": "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\n",
                "text/plain": "<Figure size 432x288 with 1 Axes>"
              }
            ],
            "_view_module": "@jupyter-widgets/output",
            "_model_module_version": "1.0.0",
            "_view_count": null,
            "_view_module_version": "1.0.0",
            "layout": "IPY_MODEL_a6721c3105884f54826fd88d182e0bd4",
            "_model_module": "@jupyter-widgets/output"
          }
        },
        "0d7e2283cf4546be92fc801b81fe16da": {
          "model_module": "@jupyter-widgets/controls",
          "model_name": "SliderStyleModel",
          "state": {
            "_view_name": "StyleView",
            "handle_color": null,
            "_model_name": "SliderStyleModel",
            "description_width": "",
            "_view_module": "@jupyter-widgets/base",
            "_model_module_version": "1.5.0",
            "_view_count": null,
            "_view_module_version": "1.2.0",
            "_model_module": "@jupyter-widgets/controls"
          }
        },
        "77600b51cd0a4274a3f5c623f94a4af5": {
          "model_module": "@jupyter-widgets/base",
          "model_name": "LayoutModel",
          "state": {
            "_view_name": "LayoutView",
            "grid_template_rows": null,
            "right": null,
            "justify_content": null,
            "_view_module": "@jupyter-widgets/base",
            "overflow": null,
            "_model_module_version": "1.2.0",
            "_view_count": null,
            "flex_flow": null,
            "width": null,
            "min_width": null,
            "border": null,
            "align_items": null,
            "bottom": null,
            "_model_module": "@jupyter-widgets/base",
            "top": null,
            "grid_column": null,
            "overflow_y": null,
            "overflow_x": null,
            "grid_auto_flow": null,
            "grid_area": null,
            "grid_template_columns": null,
            "flex": null,
            "_model_name": "LayoutModel",
            "justify_items": null,
            "grid_row": null,
            "max_height": null,
            "align_content": null,
            "visibility": null,
            "align_self": null,
            "height": null,
            "min_height": null,
            "padding": null,
            "grid_auto_rows": null,
            "grid_gap": null,
            "max_width": null,
            "order": null,
            "_view_module_version": "1.2.0",
            "grid_template_areas": null,
            "object_position": null,
            "object_fit": null,
            "grid_auto_columns": null,
            "margin": null,
            "display": null,
            "left": null
          }
        },
        "968e6990d0af49e484e7cb642e6da1c1": {
          "model_module": "@jupyter-widgets/controls",
          "model_name": "DescriptionStyleModel",
          "state": {
            "_view_name": "StyleView",
            "_model_name": "DescriptionStyleModel",
            "description_width": "initial",
            "_view_module": "@jupyter-widgets/base",
            "_model_module_version": "1.5.0",
            "_view_count": null,
            "_view_module_version": "1.2.0",
            "_model_module": "@jupyter-widgets/controls"
          }
        },
        "cd2c481a6b394037b02666344c706007": {
          "model_module": "@jupyter-widgets/base",
          "model_name": "LayoutModel",
          "state": {
            "_view_name": "LayoutView",
            "grid_template_rows": null,
            "right": null,
            "justify_content": null,
            "_view_module": "@jupyter-widgets/base",
            "overflow": null,
            "_model_module_version": "1.2.0",
            "_view_count": null,
            "flex_flow": null,
            "width": null,
            "min_width": null,
            "border": null,
            "align_items": null,
            "bottom": null,
            "_model_module": "@jupyter-widgets/base",
            "top": null,
            "grid_column": null,
            "overflow_y": null,
            "overflow_x": null,
            "grid_auto_flow": null,
            "grid_area": null,
            "grid_template_columns": null,
            "flex": null,
            "_model_name": "LayoutModel",
            "justify_items": null,
            "grid_row": null,
            "max_height": null,
            "align_content": null,
            "visibility": null,
            "align_self": null,
            "height": null,
            "min_height": null,
            "padding": null,
            "grid_auto_rows": null,
            "grid_gap": null,
            "max_width": null,
            "order": null,
            "_view_module_version": "1.2.0",
            "grid_template_areas": null,
            "object_position": null,
            "object_fit": null,
            "grid_auto_columns": null,
            "margin": null,
            "display": null,
            "left": null
          }
        },
        "af87aadccdb4452c88a27be3a28e95c4": {
          "model_module": "@jupyter-widgets/controls",
          "model_name": "DescriptionStyleModel",
          "state": {
            "_view_name": "StyleView",
            "_model_name": "DescriptionStyleModel",
            "description_width": "initial",
            "_view_module": "@jupyter-widgets/base",
            "_model_module_version": "1.5.0",
            "_view_count": null,
            "_view_module_version": "1.2.0",
            "_model_module": "@jupyter-widgets/controls"
          }
        },
        "509dab2595bf4b76bb193e1783055fd6": {
          "model_module": "@jupyter-widgets/base",
          "model_name": "LayoutModel",
          "state": {
            "_view_name": "LayoutView",
            "grid_template_rows": null,
            "right": null,
            "justify_content": null,
            "_view_module": "@jupyter-widgets/base",
            "overflow": null,
            "_model_module_version": "1.2.0",
            "_view_count": null,
            "flex_flow": null,
            "width": null,
            "min_width": null,
            "border": null,
            "align_items": null,
            "bottom": null,
            "_model_module": "@jupyter-widgets/base",
            "top": null,
            "grid_column": null,
            "overflow_y": null,
            "overflow_x": null,
            "grid_auto_flow": null,
            "grid_area": null,
            "grid_template_columns": null,
            "flex": null,
            "_model_name": "LayoutModel",
            "justify_items": null,
            "grid_row": null,
            "max_height": null,
            "align_content": null,
            "visibility": null,
            "align_self": null,
            "height": null,
            "min_height": null,
            "padding": null,
            "grid_auto_rows": null,
            "grid_gap": null,
            "max_width": null,
            "order": null,
            "_view_module_version": "1.2.0",
            "grid_template_areas": null,
            "object_position": null,
            "object_fit": null,
            "grid_auto_columns": null,
            "margin": null,
            "display": null,
            "left": null
          }
        },
        "3b186883583244e0917d6b622fd1c90f": {
          "model_module": "@jupyter-widgets/controls",
          "model_name": "ToggleButtonsStyleModel",
          "state": {
            "_view_name": "StyleView",
            "button_width": "",
            "_model_name": "ToggleButtonsStyleModel",
            "description_width": "initial",
            "_view_module": "@jupyter-widgets/base",
            "_model_module_version": "1.5.0",
            "_view_count": null,
            "font_weight": "",
            "_view_module_version": "1.2.0",
            "_model_module": "@jupyter-widgets/controls"
          }
        },
        "bb0c154e83454e2b8bf1e4067b4bed8a": {
          "model_module": "@jupyter-widgets/base",
          "model_name": "LayoutModel",
          "state": {
            "_view_name": "LayoutView",
            "grid_template_rows": null,
            "right": null,
            "justify_content": null,
            "_view_module": "@jupyter-widgets/base",
            "overflow": null,
            "_model_module_version": "1.2.0",
            "_view_count": null,
            "flex_flow": null,
            "width": null,
            "min_width": null,
            "border": null,
            "align_items": null,
            "bottom": null,
            "_model_module": "@jupyter-widgets/base",
            "top": null,
            "grid_column": null,
            "overflow_y": null,
            "overflow_x": null,
            "grid_auto_flow": null,
            "grid_area": null,
            "grid_template_columns": null,
            "flex": null,
            "_model_name": "LayoutModel",
            "justify_items": null,
            "grid_row": null,
            "max_height": null,
            "align_content": null,
            "visibility": null,
            "align_self": null,
            "height": null,
            "min_height": null,
            "padding": null,
            "grid_auto_rows": null,
            "grid_gap": null,
            "max_width": null,
            "order": null,
            "_view_module_version": "1.2.0",
            "grid_template_areas": null,
            "object_position": null,
            "object_fit": null,
            "grid_auto_columns": null,
            "margin": null,
            "display": null,
            "left": null
          }
        },
        "8fe5626dbdc3409da67f0f06c9819d6b": {
          "model_module": "@jupyter-widgets/controls",
          "model_name": "ToggleButtonsStyleModel",
          "state": {
            "_view_name": "StyleView",
            "button_width": "",
            "_model_name": "ToggleButtonsStyleModel",
            "description_width": "initial",
            "_view_module": "@jupyter-widgets/base",
            "_model_module_version": "1.5.0",
            "_view_count": null,
            "font_weight": "",
            "_view_module_version": "1.2.0",
            "_model_module": "@jupyter-widgets/controls"
          }
        },
        "d7d9a3618ded4ca091a8d86909eff864": {
          "model_module": "@jupyter-widgets/base",
          "model_name": "LayoutModel",
          "state": {
            "_view_name": "LayoutView",
            "grid_template_rows": null,
            "right": null,
            "justify_content": null,
            "_view_module": "@jupyter-widgets/base",
            "overflow": null,
            "_model_module_version": "1.2.0",
            "_view_count": null,
            "flex_flow": null,
            "width": null,
            "min_width": null,
            "border": null,
            "align_items": null,
            "bottom": null,
            "_model_module": "@jupyter-widgets/base",
            "top": null,
            "grid_column": null,
            "overflow_y": null,
            "overflow_x": null,
            "grid_auto_flow": null,
            "grid_area": null,
            "grid_template_columns": null,
            "flex": null,
            "_model_name": "LayoutModel",
            "justify_items": null,
            "grid_row": null,
            "max_height": null,
            "align_content": null,
            "visibility": null,
            "align_self": null,
            "height": null,
            "min_height": null,
            "padding": null,
            "grid_auto_rows": null,
            "grid_gap": null,
            "max_width": null,
            "order": null,
            "_view_module_version": "1.2.0",
            "grid_template_areas": null,
            "object_position": null,
            "object_fit": null,
            "grid_auto_columns": null,
            "margin": null,
            "display": null,
            "left": null
          }
        },
        "1ca9f30e67b942118b34a9dbb85665b7": {
          "model_module": "@jupyter-widgets/controls",
          "model_name": "ToggleButtonsStyleModel",
          "state": {
            "_view_name": "StyleView",
            "button_width": "",
            "_model_name": "ToggleButtonsStyleModel",
            "description_width": "initial",
            "_view_module": "@jupyter-widgets/base",
            "_model_module_version": "1.5.0",
            "_view_count": null,
            "font_weight": "",
            "_view_module_version": "1.2.0",
            "_model_module": "@jupyter-widgets/controls"
          }
        },
        "5f8c341cb1a3486fb24c041a3968de61": {
          "model_module": "@jupyter-widgets/base",
          "model_name": "LayoutModel",
          "state": {
            "_view_name": "LayoutView",
            "grid_template_rows": null,
            "right": null,
            "justify_content": null,
            "_view_module": "@jupyter-widgets/base",
            "overflow": null,
            "_model_module_version": "1.2.0",
            "_view_count": null,
            "flex_flow": null,
            "width": null,
            "min_width": null,
            "border": null,
            "align_items": null,
            "bottom": null,
            "_model_module": "@jupyter-widgets/base",
            "top": null,
            "grid_column": null,
            "overflow_y": null,
            "overflow_x": null,
            "grid_auto_flow": null,
            "grid_area": null,
            "grid_template_columns": null,
            "flex": null,
            "_model_name": "LayoutModel",
            "justify_items": null,
            "grid_row": null,
            "max_height": null,
            "align_content": null,
            "visibility": null,
            "align_self": null,
            "height": null,
            "min_height": null,
            "padding": null,
            "grid_auto_rows": null,
            "grid_gap": null,
            "max_width": null,
            "order": null,
            "_view_module_version": "1.2.0",
            "grid_template_areas": null,
            "object_position": null,
            "object_fit": null,
            "grid_auto_columns": null,
            "margin": null,
            "display": null,
            "left": null
          }
        },
        "a10177589e1c4367aa212d6e007c9fd4": {
          "model_module": "@jupyter-widgets/controls",
          "model_name": "DescriptionStyleModel",
          "state": {
            "_view_name": "StyleView",
            "_model_name": "DescriptionStyleModel",
            "description_width": "initial",
            "_view_module": "@jupyter-widgets/base",
            "_model_module_version": "1.5.0",
            "_view_count": null,
            "_view_module_version": "1.2.0",
            "_model_module": "@jupyter-widgets/controls"
          }
        },
        "8801ea0c948f45c6acc4b6f8bfb36434": {
          "model_module": "@jupyter-widgets/base",
          "model_name": "LayoutModel",
          "state": {
            "_view_name": "LayoutView",
            "grid_template_rows": null,
            "right": null,
            "justify_content": null,
            "_view_module": "@jupyter-widgets/base",
            "overflow": null,
            "_model_module_version": "1.2.0",
            "_view_count": null,
            "flex_flow": null,
            "width": null,
            "min_width": null,
            "border": null,
            "align_items": null,
            "bottom": null,
            "_model_module": "@jupyter-widgets/base",
            "top": null,
            "grid_column": null,
            "overflow_y": null,
            "overflow_x": null,
            "grid_auto_flow": null,
            "grid_area": null,
            "grid_template_columns": null,
            "flex": null,
            "_model_name": "LayoutModel",
            "justify_items": null,
            "grid_row": null,
            "max_height": null,
            "align_content": null,
            "visibility": null,
            "align_self": null,
            "height": null,
            "min_height": null,
            "padding": null,
            "grid_auto_rows": null,
            "grid_gap": null,
            "max_width": null,
            "order": null,
            "_view_module_version": "1.2.0",
            "grid_template_areas": null,
            "object_position": null,
            "object_fit": null,
            "grid_auto_columns": null,
            "margin": null,
            "display": null,
            "left": null
          }
        },
        "994c5cddb1754b6aa1c02dd3efc30a4f": {
          "model_module": "@jupyter-widgets/controls",
          "model_name": "SliderStyleModel",
          "state": {
            "_view_name": "StyleView",
            "handle_color": null,
            "_model_name": "SliderStyleModel",
            "description_width": "initial",
            "_view_module": "@jupyter-widgets/base",
            "_model_module_version": "1.5.0",
            "_view_count": null,
            "_view_module_version": "1.2.0",
            "_model_module": "@jupyter-widgets/controls"
          }
        },
        "9873e4fb5fae464ca588b8846e54279c": {
          "model_module": "@jupyter-widgets/base",
          "model_name": "LayoutModel",
          "state": {
            "_view_name": "LayoutView",
            "grid_template_rows": null,
            "right": null,
            "justify_content": null,
            "_view_module": "@jupyter-widgets/base",
            "overflow": null,
            "_model_module_version": "1.2.0",
            "_view_count": null,
            "flex_flow": null,
            "width": null,
            "min_width": null,
            "border": null,
            "align_items": null,
            "bottom": null,
            "_model_module": "@jupyter-widgets/base",
            "top": null,
            "grid_column": null,
            "overflow_y": null,
            "overflow_x": null,
            "grid_auto_flow": null,
            "grid_area": null,
            "grid_template_columns": null,
            "flex": null,
            "_model_name": "LayoutModel",
            "justify_items": null,
            "grid_row": null,
            "max_height": null,
            "align_content": null,
            "visibility": null,
            "align_self": null,
            "height": null,
            "min_height": null,
            "padding": null,
            "grid_auto_rows": null,
            "grid_gap": null,
            "max_width": null,
            "order": null,
            "_view_module_version": "1.2.0",
            "grid_template_areas": null,
            "object_position": null,
            "object_fit": null,
            "grid_auto_columns": null,
            "margin": null,
            "display": null,
            "left": null
          }
        },
        "d6de61dd792046599cb2e1baf0a189ac": {
          "model_module": "@jupyter-widgets/controls",
          "model_name": "SliderStyleModel",
          "state": {
            "_view_name": "StyleView",
            "handle_color": null,
            "_model_name": "SliderStyleModel",
            "description_width": "initial",
            "_view_module": "@jupyter-widgets/base",
            "_model_module_version": "1.5.0",
            "_view_count": null,
            "_view_module_version": "1.2.0",
            "_model_module": "@jupyter-widgets/controls"
          }
        },
        "3c24ea4d9981468eb06e39dad2e7b489": {
          "model_module": "@jupyter-widgets/base",
          "model_name": "LayoutModel",
          "state": {
            "_view_name": "LayoutView",
            "grid_template_rows": null,
            "right": null,
            "justify_content": null,
            "_view_module": "@jupyter-widgets/base",
            "overflow": null,
            "_model_module_version": "1.2.0",
            "_view_count": null,
            "flex_flow": null,
            "width": null,
            "min_width": null,
            "border": null,
            "align_items": null,
            "bottom": null,
            "_model_module": "@jupyter-widgets/base",
            "top": null,
            "grid_column": null,
            "overflow_y": null,
            "overflow_x": null,
            "grid_auto_flow": null,
            "grid_area": null,
            "grid_template_columns": null,
            "flex": null,
            "_model_name": "LayoutModel",
            "justify_items": null,
            "grid_row": null,
            "max_height": null,
            "align_content": null,
            "visibility": null,
            "align_self": null,
            "height": null,
            "min_height": null,
            "padding": null,
            "grid_auto_rows": null,
            "grid_gap": null,
            "max_width": null,
            "order": null,
            "_view_module_version": "1.2.0",
            "grid_template_areas": null,
            "object_position": null,
            "object_fit": null,
            "grid_auto_columns": null,
            "margin": null,
            "display": null,
            "left": null
          }
        },
        "710af11fc9ff4861803e625854c8d7e3": {
          "model_module": "@jupyter-widgets/controls",
          "model_name": "DescriptionStyleModel",
          "state": {
            "_view_name": "StyleView",
            "_model_name": "DescriptionStyleModel",
            "description_width": "initial",
            "_view_module": "@jupyter-widgets/base",
            "_model_module_version": "1.5.0",
            "_view_count": null,
            "_view_module_version": "1.2.0",
            "_model_module": "@jupyter-widgets/controls"
          }
        },
        "4f8cfd48d63f4f8a88a58f0737039e7d": {
          "model_module": "@jupyter-widgets/base",
          "model_name": "LayoutModel",
          "state": {
            "_view_name": "LayoutView",
            "grid_template_rows": null,
            "right": null,
            "justify_content": null,
            "_view_module": "@jupyter-widgets/base",
            "overflow": null,
            "_model_module_version": "1.2.0",
            "_view_count": null,
            "flex_flow": null,
            "width": null,
            "min_width": null,
            "border": null,
            "align_items": null,
            "bottom": null,
            "_model_module": "@jupyter-widgets/base",
            "top": null,
            "grid_column": null,
            "overflow_y": null,
            "overflow_x": null,
            "grid_auto_flow": null,
            "grid_area": null,
            "grid_template_columns": null,
            "flex": null,
            "_model_name": "LayoutModel",
            "justify_items": null,
            "grid_row": null,
            "max_height": null,
            "align_content": null,
            "visibility": null,
            "align_self": null,
            "height": null,
            "min_height": null,
            "padding": null,
            "grid_auto_rows": null,
            "grid_gap": null,
            "max_width": null,
            "order": null,
            "_view_module_version": "1.2.0",
            "grid_template_areas": null,
            "object_position": null,
            "object_fit": null,
            "grid_auto_columns": null,
            "margin": null,
            "display": null,
            "left": null
          }
        },
        "8bdaf82fd3314604931c0507b0557f45": {
          "model_module": "@jupyter-widgets/controls",
          "model_name": "DescriptionStyleModel",
          "state": {
            "_view_name": "StyleView",
            "_model_name": "DescriptionStyleModel",
            "description_width": "initial",
            "_view_module": "@jupyter-widgets/base",
            "_model_module_version": "1.5.0",
            "_view_count": null,
            "_view_module_version": "1.2.0",
            "_model_module": "@jupyter-widgets/controls"
          }
        },
        "68c115f94bc94c1287c8937a20f90c7f": {
          "model_module": "@jupyter-widgets/base",
          "model_name": "LayoutModel",
          "state": {
            "_view_name": "LayoutView",
            "grid_template_rows": null,
            "right": null,
            "justify_content": null,
            "_view_module": "@jupyter-widgets/base",
            "overflow": null,
            "_model_module_version": "1.2.0",
            "_view_count": null,
            "flex_flow": null,
            "width": null,
            "min_width": null,
            "border": null,
            "align_items": null,
            "bottom": null,
            "_model_module": "@jupyter-widgets/base",
            "top": null,
            "grid_column": null,
            "overflow_y": null,
            "overflow_x": null,
            "grid_auto_flow": null,
            "grid_area": null,
            "grid_template_columns": null,
            "flex": null,
            "_model_name": "LayoutModel",
            "justify_items": null,
            "grid_row": null,
            "max_height": null,
            "align_content": null,
            "visibility": null,
            "align_self": null,
            "height": null,
            "min_height": null,
            "padding": null,
            "grid_auto_rows": null,
            "grid_gap": null,
            "max_width": null,
            "order": null,
            "_view_module_version": "1.2.0",
            "grid_template_areas": null,
            "object_position": null,
            "object_fit": null,
            "grid_auto_columns": null,
            "margin": null,
            "display": null,
            "left": null
          }
        },
        "715bea3d1ccd4134ae34dea76ae47144": {
          "model_module": "@jupyter-widgets/controls",
          "model_name": "DescriptionStyleModel",
          "state": {
            "_view_name": "StyleView",
            "_model_name": "DescriptionStyleModel",
            "description_width": "initial",
            "_view_module": "@jupyter-widgets/base",
            "_model_module_version": "1.5.0",
            "_view_count": null,
            "_view_module_version": "1.2.0",
            "_model_module": "@jupyter-widgets/controls"
          }
        },
        "0704868a106c4566bf4c76d68af393c8": {
          "model_module": "@jupyter-widgets/base",
          "model_name": "LayoutModel",
          "state": {
            "_view_name": "LayoutView",
            "grid_template_rows": null,
            "right": null,
            "justify_content": null,
            "_view_module": "@jupyter-widgets/base",
            "overflow": null,
            "_model_module_version": "1.2.0",
            "_view_count": null,
            "flex_flow": null,
            "width": null,
            "min_width": null,
            "border": null,
            "align_items": null,
            "bottom": null,
            "_model_module": "@jupyter-widgets/base",
            "top": null,
            "grid_column": null,
            "overflow_y": null,
            "overflow_x": null,
            "grid_auto_flow": null,
            "grid_area": null,
            "grid_template_columns": null,
            "flex": null,
            "_model_name": "LayoutModel",
            "justify_items": null,
            "grid_row": null,
            "max_height": null,
            "align_content": null,
            "visibility": null,
            "align_self": null,
            "height": null,
            "min_height": null,
            "padding": null,
            "grid_auto_rows": null,
            "grid_gap": null,
            "max_width": null,
            "order": null,
            "_view_module_version": "1.2.0",
            "grid_template_areas": null,
            "object_position": null,
            "object_fit": null,
            "grid_auto_columns": null,
            "margin": null,
            "display": null,
            "left": null
          }
        },
        "1cc591e613474f5ca6e5a2c1f3374b22": {
          "model_module": "@jupyter-widgets/controls",
          "model_name": "DescriptionStyleModel",
          "state": {
            "_view_name": "StyleView",
            "_model_name": "DescriptionStyleModel",
            "description_width": "initial",
            "_view_module": "@jupyter-widgets/base",
            "_model_module_version": "1.5.0",
            "_view_count": null,
            "_view_module_version": "1.2.0",
            "_model_module": "@jupyter-widgets/controls"
          }
        },
        "13125c890b574465a7345be89642f3c5": {
          "model_module": "@jupyter-widgets/base",
          "model_name": "LayoutModel",
          "state": {
            "_view_name": "LayoutView",
            "grid_template_rows": null,
            "right": null,
            "justify_content": null,
            "_view_module": "@jupyter-widgets/base",
            "overflow": null,
            "_model_module_version": "1.2.0",
            "_view_count": null,
            "flex_flow": null,
            "width": null,
            "min_width": null,
            "border": null,
            "align_items": null,
            "bottom": null,
            "_model_module": "@jupyter-widgets/base",
            "top": null,
            "grid_column": null,
            "overflow_y": null,
            "overflow_x": null,
            "grid_auto_flow": null,
            "grid_area": null,
            "grid_template_columns": null,
            "flex": null,
            "_model_name": "LayoutModel",
            "justify_items": null,
            "grid_row": null,
            "max_height": null,
            "align_content": null,
            "visibility": null,
            "align_self": null,
            "height": null,
            "min_height": null,
            "padding": null,
            "grid_auto_rows": null,
            "grid_gap": null,
            "max_width": null,
            "order": null,
            "_view_module_version": "1.2.0",
            "grid_template_areas": null,
            "object_position": null,
            "object_fit": null,
            "grid_auto_columns": null,
            "margin": null,
            "display": null,
            "left": null
          }
        },
        "79e2885bd7f246258bcb04f84831a38c": {
          "model_module": "@jupyter-widgets/controls",
          "model_name": "ButtonStyleModel",
          "state": {
            "_view_name": "StyleView",
            "_model_name": "ButtonStyleModel",
            "_view_module": "@jupyter-widgets/base",
            "_model_module_version": "1.5.0",
            "_view_count": null,
            "button_color": null,
            "font_weight": "",
            "_view_module_version": "1.2.0",
            "_model_module": "@jupyter-widgets/controls"
          }
        },
        "8571c9c28a6a4e86be6924e65c0d4e62": {
          "model_module": "@jupyter-widgets/base",
          "model_name": "LayoutModel",
          "state": {
            "_view_name": "LayoutView",
            "grid_template_rows": null,
            "right": null,
            "justify_content": null,
            "_view_module": "@jupyter-widgets/base",
            "overflow": null,
            "_model_module_version": "1.2.0",
            "_view_count": null,
            "flex_flow": null,
            "width": null,
            "min_width": null,
            "border": null,
            "align_items": null,
            "bottom": null,
            "_model_module": "@jupyter-widgets/base",
            "top": null,
            "grid_column": null,
            "overflow_y": null,
            "overflow_x": null,
            "grid_auto_flow": null,
            "grid_area": null,
            "grid_template_columns": null,
            "flex": null,
            "_model_name": "LayoutModel",
            "justify_items": null,
            "grid_row": null,
            "max_height": null,
            "align_content": null,
            "visibility": null,
            "align_self": null,
            "height": null,
            "min_height": null,
            "padding": null,
            "grid_auto_rows": null,
            "grid_gap": null,
            "max_width": null,
            "order": null,
            "_view_module_version": "1.2.0",
            "grid_template_areas": null,
            "object_position": null,
            "object_fit": null,
            "grid_auto_columns": null,
            "margin": null,
            "display": null,
            "left": null
          }
        },
        "a6721c3105884f54826fd88d182e0bd4": {
          "model_module": "@jupyter-widgets/base",
          "model_name": "LayoutModel",
          "state": {
            "_view_name": "LayoutView",
            "grid_template_rows": null,
            "right": null,
            "justify_content": null,
            "_view_module": "@jupyter-widgets/base",
            "overflow": null,
            "_model_module_version": "1.2.0",
            "_view_count": null,
            "flex_flow": null,
            "width": null,
            "min_width": null,
            "border": null,
            "align_items": null,
            "bottom": null,
            "_model_module": "@jupyter-widgets/base",
            "top": null,
            "grid_column": null,
            "overflow_y": null,
            "overflow_x": null,
            "grid_auto_flow": null,
            "grid_area": null,
            "grid_template_columns": null,
            "flex": null,
            "_model_name": "LayoutModel",
            "justify_items": null,
            "grid_row": null,
            "max_height": null,
            "align_content": null,
            "visibility": null,
            "align_self": null,
            "height": null,
            "min_height": null,
            "padding": null,
            "grid_auto_rows": null,
            "grid_gap": null,
            "max_width": null,
            "order": null,
            "_view_module_version": "1.2.0",
            "grid_template_areas": null,
            "object_position": null,
            "object_fit": null,
            "grid_auto_columns": null,
            "margin": null,
            "display": null,
            "left": null
          }
        }
      }
    }
  },
  "cells": [
    {
      "cell_type": "markdown",
      "metadata": {
        "id": "PMtkA013AY05"
      },
      "source": [
        "# Import dependencies"
      ]
    },
    {
      "cell_type": "code",
      "metadata": {
        "id": "Se8wl8OMAY06"
      },
      "source": [
        "#import os\n",
        "#os.environ['THEANO_FLAGS'] = \"device=cuda,force_device=True,floatX=float32\"\n",
        "#import theano\n",
        "\n",
        "from keras.models import Sequential\n",
        "from keras.layers import Dense, Activation\n",
        "from keras.callbacks import Callback\n",
        "from keras import regularizers\n",
        "from keras import optimizers\n",
        "\n",
        "from functools import partial\n",
        "\n",
        "%matplotlib inline\n",
        "import matplotlib.pyplot as plt\n",
        "from ipywidgets import *\n",
        "\n",
        "import numpy as np"
      ],
      "execution_count": 9,
      "outputs": []
    },
    {
      "cell_type": "markdown",
      "metadata": {
        "id": "KZnTcTvwAY09"
      },
      "source": [
        "# Import data"
      ]
    },
    {
      "cell_type": "code",
      "metadata": {
        "id": "gU2AFETGAY0-"
      },
      "source": [
        "def one_hot(y):\n",
        "    t = np.zeros((len(y), np.max(y) + 1))\n",
        "    t[np.arange(len(y)), y] = 1\n",
        "    return t"
      ],
      "execution_count": 10,
      "outputs": []
    },
    {
      "cell_type": "code",
      "metadata": {
        "id": "tsayxxS9AY1A",
        "outputId": "31a2bf66-d116-42f1-a69b-81898e3fe666",
        "colab": {
          "base_uri": "https://localhost:8080/",
          "height": 790
        }
      },
      "source": [
        "#PUT HERE DATA FROM https://keras.io/datasets/ \n",
        "\n",
        "from keras.datasets import mnist\n",
        "\n",
        "(x_train, y_train), (x_test, y_test) = mnist.load_data() \n",
        "\n",
        "# flatten data\n",
        "x_train = x_train.reshape((x_train.shape[0], -1))\n",
        "x_test = x_test.reshape((x_test.shape[0], -1))\n",
        "\n",
        "# transform decimal to unitary code\n",
        "y_train = one_hot(y_train)\n",
        "y_test = one_hot(y_test)\n",
        "\n",
        "print(x_train.shape)\n",
        "print(y_train.shape)\n",
        "print(x_train[1])"
      ],
      "execution_count": 11,
      "outputs": [
        {
          "output_type": "stream",
          "text": [
            "(60000, 784)\n",
            "(60000, 10)\n",
            "[  0   0   0   0   0   0   0   0   0   0   0   0   0   0   0   0   0   0\n",
            "   0   0   0   0   0   0   0   0   0   0   0   0   0   0   0   0   0   0\n",
            "   0   0   0   0   0   0   0   0   0   0   0   0   0   0   0   0   0   0\n",
            "   0   0   0   0   0   0   0   0   0   0   0   0   0   0   0   0   0   0\n",
            "   0   0   0   0   0   0   0   0   0   0   0   0   0   0   0   0   0   0\n",
            "   0   0   0   0   0   0   0   0   0   0   0   0   0   0   0   0   0   0\n",
            "   0   0   0   0   0   0   0   0   0   0   0   0   0   0   0   0   0   0\n",
            "   0  51 159 253 159  50   0   0   0   0   0   0   0   0   0   0   0   0\n",
            "   0   0   0   0   0   0   0   0   0   0  48 238 252 252 252 237   0   0\n",
            "   0   0   0   0   0   0   0   0   0   0   0   0   0   0   0   0   0   0\n",
            "   0  54 227 253 252 239 233 252  57   6   0   0   0   0   0   0   0   0\n",
            "   0   0   0   0   0   0   0   0   0  10  60 224 252 253 252 202  84 252\n",
            " 253 122   0   0   0   0   0   0   0   0   0   0   0   0   0   0   0   0\n",
            "   0 163 252 252 252 253 252 252  96 189 253 167   0   0   0   0   0   0\n",
            "   0   0   0   0   0   0   0   0   0   0  51 238 253 253 190 114 253 228\n",
            "  47  79 255 168   0   0   0   0   0   0   0   0   0   0   0   0   0   0\n",
            "   0  48 238 252 252 179  12  75 121  21   0   0 253 243  50   0   0   0\n",
            "   0   0   0   0   0   0   0   0   0   0  38 165 253 233 208  84   0   0\n",
            "   0   0   0   0 253 252 165   0   0   0   0   0   0   0   0   0   0   0\n",
            "   0   7 178 252 240  71  19  28   0   0   0   0   0   0 253 252 195   0\n",
            "   0   0   0   0   0   0   0   0   0   0   0  57 252 252  63   0   0   0\n",
            "   0   0   0   0   0   0 253 252 195   0   0   0   0   0   0   0   0   0\n",
            "   0   0   0 198 253 190   0   0   0   0   0   0   0   0   0   0 255 253\n",
            " 196   0   0   0   0   0   0   0   0   0   0   0  76 246 252 112   0   0\n",
            "   0   0   0   0   0   0   0   0 253 252 148   0   0   0   0   0   0   0\n",
            "   0   0   0   0  85 252 230  25   0   0   0   0   0   0   0   0   7 135\n",
            " 253 186  12   0   0   0   0   0   0   0   0   0   0   0  85 252 223   0\n",
            "   0   0   0   0   0   0   0   7 131 252 225  71   0   0   0   0   0   0\n",
            "   0   0   0   0   0   0  85 252 145   0   0   0   0   0   0   0  48 165\n",
            " 252 173   0   0   0   0   0   0   0   0   0   0   0   0   0   0  86 253\n",
            " 225   0   0   0   0   0   0 114 238 253 162   0   0   0   0   0   0   0\n",
            "   0   0   0   0   0   0   0   0  85 252 249 146  48  29  85 178 225 253\n",
            " 223 167  56   0   0   0   0   0   0   0   0   0   0   0   0   0   0   0\n",
            "  85 252 252 252 229 215 252 252 252 196 130   0   0   0   0   0   0   0\n",
            "   0   0   0   0   0   0   0   0   0   0  28 199 252 252 253 252 252 233\n",
            " 145   0   0   0   0   0   0   0   0   0   0   0   0   0   0   0   0   0\n",
            "   0   0   0  25 128 252 253 252 141  37   0   0   0   0   0   0   0   0\n",
            "   0   0   0   0   0   0   0   0   0   0   0   0   0   0   0   0   0   0\n",
            "   0   0   0   0   0   0   0   0   0   0   0   0   0   0   0   0   0   0\n",
            "   0   0   0   0   0   0   0   0   0   0   0   0   0   0   0   0   0   0\n",
            "   0   0   0   0   0   0   0   0   0   0   0   0   0   0   0   0   0   0\n",
            "   0   0   0   0   0   0   0   0   0   0   0   0   0   0   0   0   0   0\n",
            "   0   0   0   0   0   0   0   0   0   0   0   0   0   0   0   0   0   0\n",
            "   0   0   0   0   0   0   0   0   0   0]\n"
          ],
          "name": "stdout"
        }
      ]
    },
    {
      "cell_type": "markdown",
      "metadata": {
        "id": "dBt8KuM5AY1C"
      },
      "source": [
        "## Experimentation"
      ]
    },
    {
      "cell_type": "markdown",
      "metadata": {
        "id": "1OCq2CeBAY1D"
      },
      "source": [
        "Plot drawing"
      ]
    },
    {
      "cell_type": "code",
      "metadata": {
        "id": "JRKYvD_DAY1D"
      },
      "source": [
        "def plot_accuracy(history):\n",
        "    # Plot training & validation accuracy values\n",
        "    plt.plot(history.history['acc'])\n",
        "    plt.plot(history.history['val_acc'])\n",
        "    plt.title('Model accuracy')\n",
        "    plt.ylabel('Accuracy')\n",
        "    plt.xlabel('Epoch')\n",
        "    plt.legend(['Train', 'Test'], loc='upper left')\n",
        "    plt.show()\n",
        "\n",
        "    # Plot training & validation loss values\n",
        "    plt.plot(history.history['loss'])\n",
        "    plt.plot(history.history['val_loss'])\n",
        "    plt.title('Model loss')\n",
        "    plt.ylabel('Loss')\n",
        "    plt.xlabel('Epoch')\n",
        "    plt.legend(['Train', 'Test'], loc='upper left')\n",
        "    plt.show()"
      ],
      "execution_count": 12,
      "outputs": []
    },
    {
      "cell_type": "markdown",
      "metadata": {
        "id": "0IsH73F2AY1F"
      },
      "source": [
        "Setting parameters"
      ]
    },
    {
      "cell_type": "code",
      "metadata": {
        "scrolled": false,
        "id": "Uqi7PiIeAY1G",
        "outputId": "7907f756-a51a-47ab-c444-ed9c84ba114e",
        "colab": {
          "base_uri": "https://localhost:8080/",
          "height": 1000,
          "referenced_widgets": [
            "6af086ec52eb43048d98c0cb39c5e361",
            "8b553c8c5d3d48e0ac9c21c3731119e8",
            "a6ab05562d564b03a91966b1c21653d6",
            "89fc76122c7b4439aeadf641f436a281",
            "d809caade3a94ae5999661733ea3569d",
            "d43597a9792d43f1a2b9da04dcda0049",
            "d604fb68013441bebbadd4bc3ee6ed01",
            "629f7ddf7d8d411687c7344825222bcc",
            "d104699b3e82459193d7e91004b5d6e3",
            "44347656e6bb4f6f8a429e8d67cc1a79",
            "2dd535ad1c324edabf000737e79f5bc4",
            "95f8058e28e34a0cbdaf6c2b6e947f16",
            "debbb4b1fda24cba9bc852d2bfc0c6b5",
            "71ca4742f8d743d89d707841db4d706f",
            "f30e380edc8141d98dbc3450f4f1f916",
            "ed8bff10a38a4b1ba958ea738780c095",
            "68d3325edd1948b1b4848c713f01fbec",
            "0d7e2283cf4546be92fc801b81fe16da",
            "77600b51cd0a4274a3f5c623f94a4af5",
            "968e6990d0af49e484e7cb642e6da1c1",
            "cd2c481a6b394037b02666344c706007",
            "af87aadccdb4452c88a27be3a28e95c4",
            "509dab2595bf4b76bb193e1783055fd6",
            "3b186883583244e0917d6b622fd1c90f",
            "bb0c154e83454e2b8bf1e4067b4bed8a",
            "8fe5626dbdc3409da67f0f06c9819d6b",
            "d7d9a3618ded4ca091a8d86909eff864",
            "1ca9f30e67b942118b34a9dbb85665b7",
            "5f8c341cb1a3486fb24c041a3968de61",
            "a10177589e1c4367aa212d6e007c9fd4",
            "8801ea0c948f45c6acc4b6f8bfb36434",
            "994c5cddb1754b6aa1c02dd3efc30a4f",
            "9873e4fb5fae464ca588b8846e54279c",
            "d6de61dd792046599cb2e1baf0a189ac",
            "3c24ea4d9981468eb06e39dad2e7b489",
            "710af11fc9ff4861803e625854c8d7e3",
            "4f8cfd48d63f4f8a88a58f0737039e7d",
            "8bdaf82fd3314604931c0507b0557f45",
            "68c115f94bc94c1287c8937a20f90c7f",
            "715bea3d1ccd4134ae34dea76ae47144",
            "0704868a106c4566bf4c76d68af393c8",
            "1cc591e613474f5ca6e5a2c1f3374b22",
            "13125c890b574465a7345be89642f3c5",
            "79e2885bd7f246258bcb04f84831a38c",
            "8571c9c28a6a4e86be6924e65c0d4e62",
            "a6721c3105884f54826fd88d182e0bd4"
          ]
        }
      },
      "source": [
        "style = {'description_width': 'initial'}\n",
        "@interact_manual(\n",
        "    n_layers=IntSlider(min=0, max=4, value=2, description='Layers: '),\n",
        "    layer_size=IntSlider(min=0, max=20, value=6, description='Neurons per layer: ', style=style),\n",
        "    layer1_type=Dropdown(options=['softmax', 'relu', 'tanh', 'sigmoid', 'linear'], value='relu',\n",
        "                          description='Layer 1 activation type: ', style=style),\n",
        "    layer2_type=Dropdown(options=['softmax', 'relu', 'tanh', 'sigmoid', 'linear'], value='relu',\n",
        "                          description='Layer 2 activation type ', style=style),\n",
        "    layer3_type=Dropdown(options=['softmax', 'relu', 'tanh', 'sigmoid', 'linear'], value='relu',\n",
        "                          description='Layer 3 activation type: ', style=style),\n",
        "    layer4_type=Dropdown(options=['softmax', 'relu', 'tanh', 'sigmoid', 'linear'], value='relu',\n",
        "                          description='Layer 4 activation type: ', style=style),\n",
        "    layer_out_type=Dropdown(options=['softmax', 'relu', 'tanh', 'sigmoid', 'linear'], value='sigmoid',\n",
        "                          description='Output layer activation type: ', style=style),\n",
        "    loss_func=Dropdown(options={\n",
        "        'Standard deviation': 'mse', \n",
        "        'Mean absolute deviation': 'mae',\n",
        "        'Binary crossentropy': 'binary_crossentropy',\n",
        "        'Categorical crossentropy': 'categorical_crossentropy'\n",
        "    }, value='categorical_crossentropy', description='Loss function: ', style=style),\n",
        "    batch_size = BoundedIntText(min=0, max=len(x_train), value=100, description='Batch size: ', style=style),\n",
        "    lr=ToggleButtons(options=[\"-0.1\", \"0\", \"0.001\", \"0.01\", \"0.05\", \"0.1\", \"0.5\", \"1\", \"5\"], \n",
        "                               value=\"0.01\", description='Learn rate: ', style=style),\n",
        "    l1=ToggleButtons(options=[\"-0.1\", \"0\", \"0.0001\", \"0.0005\", \"0.001\", \"0.005\", \"0.01\", \"0.05\", \"0.1\"], \n",
        "                               value=\"0.0001\", description='Regularization  L1: ', style=style),\n",
        "    l2=ToggleButtons(options=[\"-0.1\", \"0\", \"0.0001\", \"0.0005\", \"0.001\", \"0.005\", \"0.01\", \"0.05\", \"0.1\"], \n",
        "                               value=\"0.0001\", description='Regularization  L2: ', style=style),\n",
        "    epochs=IntSlider(min=10, max=100, step=10, value=20, description='Epoch count: ', style=style),\n",
        ")\n",
        "def interactive_learning(n_layers, loss_func, batch_size, lr, l1, l2, \n",
        "                         layer_out_type, epochs,\n",
        "                         layer_size,\n",
        "                         layer1_type, layer2_type, layer3_type, layer4_type):\n",
        "    layer_sizes = [layer_size, layer_size, layer_size, layer_size]\n",
        "    layer_types = [layer1_type, layer2_type, layer3_type, layer4_type]\n",
        "    lr = float(lr)\n",
        "    l1 = float(l1)\n",
        "    l2 = float(l2)\n",
        "    \n",
        "    model = Sequential()\n",
        "    \n",
        "    if n_layers == 0:\n",
        "        model.add(Dense(len(y_train[0]), activation=layer_out_type, \n",
        "                        input_shape=x_train[0].shape, kernel_regularizer=regularizers.l1_l2(l1=l1, l2=l2)))\n",
        "    else:\n",
        "        model.add(Dense(layer_sizes[0], activation=layer_types[0], \n",
        "                        input_shape=x_train[0].shape, kernel_regularizer=regularizers.l1_l2(l1=l1, l2=l2)))\n",
        "        for i in range(1, n_layers):\n",
        "            model.add(Dense(layer_sizes[i], activation=layer_types[i],\n",
        "                           kernel_regularizer=regularizers.l1_l2(l1=l1, l2=l2)))\n",
        "        model.add(Dense(len(y_train[0]), activation=layer_out_type, kernel_regularizer=regularizers.l1_l2(l1=l1, l2=l2)))\n",
        "    \n",
        "    model.compile(\n",
        "     optimizer = optimizers.SGD(lr=lr),\n",
        "     loss = loss_func,\n",
        "     metrics = [\"acc\"]\n",
        "    )\n",
        "    \n",
        "    history = model.fit(\n",
        "     x_train, y_train,\n",
        "     epochs=epochs,\n",
        "     batch_size=batch_size,\n",
        "     validation_data=(x_test, y_test),\n",
        "     verbose=1\n",
        "    )\n",
        "    \n",
        "    print('Accuracy: ', history.history['val_acc'][-1])\n",
        "    plot_accuracy(history)\n",
        "    #plot_contour_graph(model)"
      ],
      "execution_count": 13,
      "outputs": [
        {
          "output_type": "display_data",
          "data": {
            "application/vnd.jupyter.widget-view+json": {
              "model_id": "6af086ec52eb43048d98c0cb39c5e361",
              "version_minor": 0,
              "version_major": 2
            },
            "text/plain": [
              "interactive(children=(IntSlider(value=2, description='Layers: ', max=4), Dropdown(description='Loss function: …"
            ]
          },
          "metadata": {
            "tags": []
          }
        }
      ]
    },
    {
      "cell_type": "code",
      "metadata": {
        "id": "yx-kVIh4AY1I",
        "outputId": "5111e1d2-08f1-4d19-8819-9c6508ae69a2",
        "colab": {
          "base_uri": "https://localhost:8080/",
          "height": 1000
        }
      },
      "source": [
        "display(x_train[1])\n"
      ],
      "execution_count": 14,
      "outputs": [
        {
          "output_type": "display_data",
          "data": {
            "text/plain": [
              "array([  0,   0,   0,   0,   0,   0,   0,   0,   0,   0,   0,   0,   0,\n",
              "         0,   0,   0,   0,   0,   0,   0,   0,   0,   0,   0,   0,   0,\n",
              "         0,   0,   0,   0,   0,   0,   0,   0,   0,   0,   0,   0,   0,\n",
              "         0,   0,   0,   0,   0,   0,   0,   0,   0,   0,   0,   0,   0,\n",
              "         0,   0,   0,   0,   0,   0,   0,   0,   0,   0,   0,   0,   0,\n",
              "         0,   0,   0,   0,   0,   0,   0,   0,   0,   0,   0,   0,   0,\n",
              "         0,   0,   0,   0,   0,   0,   0,   0,   0,   0,   0,   0,   0,\n",
              "         0,   0,   0,   0,   0,   0,   0,   0,   0,   0,   0,   0,   0,\n",
              "         0,   0,   0,   0,   0,   0,   0,   0,   0,   0,   0,   0,   0,\n",
              "         0,   0,   0,   0,   0,   0,   0,   0,   0,   0,  51, 159, 253,\n",
              "       159,  50,   0,   0,   0,   0,   0,   0,   0,   0,   0,   0,   0,\n",
              "         0,   0,   0,   0,   0,   0,   0,   0,   0,   0,   0,  48, 238,\n",
              "       252, 252, 252, 237,   0,   0,   0,   0,   0,   0,   0,   0,   0,\n",
              "         0,   0,   0,   0,   0,   0,   0,   0,   0,   0,   0,   0,  54,\n",
              "       227, 253, 252, 239, 233, 252,  57,   6,   0,   0,   0,   0,   0,\n",
              "         0,   0,   0,   0,   0,   0,   0,   0,   0,   0,   0,   0,  10,\n",
              "        60, 224, 252, 253, 252, 202,  84, 252, 253, 122,   0,   0,   0,\n",
              "         0,   0,   0,   0,   0,   0,   0,   0,   0,   0,   0,   0,   0,\n",
              "         0, 163, 252, 252, 252, 253, 252, 252,  96, 189, 253, 167,   0,\n",
              "         0,   0,   0,   0,   0,   0,   0,   0,   0,   0,   0,   0,   0,\n",
              "         0,   0,  51, 238, 253, 253, 190, 114, 253, 228,  47,  79, 255,\n",
              "       168,   0,   0,   0,   0,   0,   0,   0,   0,   0,   0,   0,   0,\n",
              "         0,   0,   0,  48, 238, 252, 252, 179,  12,  75, 121,  21,   0,\n",
              "         0, 253, 243,  50,   0,   0,   0,   0,   0,   0,   0,   0,   0,\n",
              "         0,   0,   0,   0,  38, 165, 253, 233, 208,  84,   0,   0,   0,\n",
              "         0,   0,   0, 253, 252, 165,   0,   0,   0,   0,   0,   0,   0,\n",
              "         0,   0,   0,   0,   0,   7, 178, 252, 240,  71,  19,  28,   0,\n",
              "         0,   0,   0,   0,   0, 253, 252, 195,   0,   0,   0,   0,   0,\n",
              "         0,   0,   0,   0,   0,   0,   0,  57, 252, 252,  63,   0,   0,\n",
              "         0,   0,   0,   0,   0,   0,   0, 253, 252, 195,   0,   0,   0,\n",
              "         0,   0,   0,   0,   0,   0,   0,   0,   0, 198, 253, 190,   0,\n",
              "         0,   0,   0,   0,   0,   0,   0,   0,   0, 255, 253, 196,   0,\n",
              "         0,   0,   0,   0,   0,   0,   0,   0,   0,   0,  76, 246, 252,\n",
              "       112,   0,   0,   0,   0,   0,   0,   0,   0,   0,   0, 253, 252,\n",
              "       148,   0,   0,   0,   0,   0,   0,   0,   0,   0,   0,   0,  85,\n",
              "       252, 230,  25,   0,   0,   0,   0,   0,   0,   0,   0,   7, 135,\n",
              "       253, 186,  12,   0,   0,   0,   0,   0,   0,   0,   0,   0,   0,\n",
              "         0,  85, 252, 223,   0,   0,   0,   0,   0,   0,   0,   0,   7,\n",
              "       131, 252, 225,  71,   0,   0,   0,   0,   0,   0,   0,   0,   0,\n",
              "         0,   0,   0,  85, 252, 145,   0,   0,   0,   0,   0,   0,   0,\n",
              "        48, 165, 252, 173,   0,   0,   0,   0,   0,   0,   0,   0,   0,\n",
              "         0,   0,   0,   0,   0,  86, 253, 225,   0,   0,   0,   0,   0,\n",
              "         0, 114, 238, 253, 162,   0,   0,   0,   0,   0,   0,   0,   0,\n",
              "         0,   0,   0,   0,   0,   0,   0,  85, 252, 249, 146,  48,  29,\n",
              "        85, 178, 225, 253, 223, 167,  56,   0,   0,   0,   0,   0,   0,\n",
              "         0,   0,   0,   0,   0,   0,   0,   0,   0,  85, 252, 252, 252,\n",
              "       229, 215, 252, 252, 252, 196, 130,   0,   0,   0,   0,   0,   0,\n",
              "         0,   0,   0,   0,   0,   0,   0,   0,   0,   0,   0,  28, 199,\n",
              "       252, 252, 253, 252, 252, 233, 145,   0,   0,   0,   0,   0,   0,\n",
              "         0,   0,   0,   0,   0,   0,   0,   0,   0,   0,   0,   0,   0,\n",
              "         0,  25, 128, 252, 253, 252, 141,  37,   0,   0,   0,   0,   0,\n",
              "         0,   0,   0,   0,   0,   0,   0,   0,   0,   0,   0,   0,   0,\n",
              "         0,   0,   0,   0,   0,   0,   0,   0,   0,   0,   0,   0,   0,\n",
              "         0,   0,   0,   0,   0,   0,   0,   0,   0,   0,   0,   0,   0,\n",
              "         0,   0,   0,   0,   0,   0,   0,   0,   0,   0,   0,   0,   0,\n",
              "         0,   0,   0,   0,   0,   0,   0,   0,   0,   0,   0,   0,   0,\n",
              "         0,   0,   0,   0,   0,   0,   0,   0,   0,   0,   0,   0,   0,\n",
              "         0,   0,   0,   0,   0,   0,   0,   0,   0,   0,   0,   0,   0,\n",
              "         0,   0,   0,   0,   0,   0,   0,   0,   0,   0,   0,   0,   0,\n",
              "         0,   0,   0,   0,   0,   0,   0,   0,   0,   0,   0,   0,   0,\n",
              "         0,   0,   0,   0], dtype=uint8)"
            ]
          },
          "metadata": {
            "tags": []
          }
        }
      ]
    },
    {
      "cell_type": "code",
      "metadata": {
        "id": "CKVl_RX2AY1K"
      },
      "source": [
        ""
      ],
      "execution_count": 14,
      "outputs": []
    },
    {
      "cell_type": "code",
      "metadata": {
        "id": "NmrxBB2iAY1M"
      },
      "source": [
        ""
      ],
      "execution_count": 14,
      "outputs": []
    }
  ]
}